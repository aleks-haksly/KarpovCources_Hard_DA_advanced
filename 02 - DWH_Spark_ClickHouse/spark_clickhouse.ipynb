{
  "cells": [
    {
      "cell_type": "markdown",
      "metadata": {
        "id": "view-in-github",
        "colab_type": "text"
      },
      "source": [
        "<a href=\"https://colab.research.google.com/github/aleks-haksly/KarpovCources_Hard_DA_advanced/blob/main/02%20-%20DWH_Spark_ClickHouse/spark_clickhouse.ipynb\" target=\"_parent\"><img src=\"https://colab.research.google.com/assets/colab-badge.svg\" alt=\"Open In Colab\"/></a>"
      ]
    },
    {
      "cell_type": "markdown",
      "id": "0a7fe35e-b88b-4ea6-9fab-7e8fab0834de",
      "metadata": {
        "id": "0a7fe35e-b88b-4ea6-9fab-7e8fab0834de"
      },
      "source": [
        "## Описание задачи ##\n",
        "Поработаем с данными классифайда. Обработаем данные в Spark и настроим поставку данных в ClickHouse через интеграционные таблицы, а затем выполним несколько расчетов, чтобы ответить на вопросы бизнеса.\n",
        "#### Доступные таблицы ###\n",
        "**adverts_data** – данные с характеристиками объявлений:\n",
        "- *execution_date*\tдата, на которую была выгрузка по объявлениям live\n",
        "- *advert_id*\tid объявления\n",
        "- *mark*\tмарка машины\n",
        "- *model*\tмодель машины\n",
        "- *price*\tцена машины\n",
        "- *year*\tгод машины\n",
        "- *fuel*\tтип топлива\n",
        "- *color*\tцвет\n",
        "- *transmission*\tкоробка передач\n",
        "- *body*\tтип кузова авто\n",
        "- *country*\tстрана\n",
        "**live_adverts** – данные с текущими объявлениями:\n",
        "- *execution_date*\tдата, на которую была выгрузка по объявлениям live\n",
        "- *advert_id*\tid объявления\n",
        "- *region*\tрегион объявления\n",
        "- *user_id*\tглобальный ID пользователя (ссылка на user_passports.global_id))\n",
        "- *platform*\tплатформа подачи\n",
        "**user_passports** – данные с характеристиками пользователей:\n",
        "- *global_id*\tглобальный ID пользователя\n",
        "- *user_type_name*\tтип пользователя"
      ]
    },
    {
      "cell_type": "markdown",
      "id": "5fdbfd3b-9cf5-4c64-b5f4-f4d3d516a1e7",
      "metadata": {
        "id": "5fdbfd3b-9cf5-4c64-b5f4-f4d3d516a1e7"
      },
      "source": [
        "### Вычитываем данные из нескольких таблиц S3 parquet и кладем в одну широкую таблицу ###"
      ]
    },
    {
      "cell_type": "code",
      "execution_count": null,
      "id": "54f686c6-d09a-41cd-8588-2c8ae5a1bf7e",
      "metadata": {
        "id": "54f686c6-d09a-41cd-8588-2c8ae5a1bf7e",
        "outputId": "40c41905-938c-4692-b378-5841a44db68e"
      },
      "outputs": [
        {
          "name": "stderr",
          "output_type": "stream",
          "text": [
            "Warning: Ignoring non-Spark config property: fs.s3a.endpoint\n"
          ]
        },
        {
          "name": "stdout",
          "output_type": "stream",
          "text": [
            "24/05/29 10:53:24 WARN NativeCodeLoader: Unable to load native-hadoop library for your platform... using builtin-java classes where applicable\n"
          ]
        },
        {
          "name": "stderr",
          "output_type": "stream",
          "text": [
            "Setting default log level to \"WARN\".\n",
            "To adjust logging level use sc.setLogLevel(newLevel). For SparkR, use setLogLevel(newLevel).\n"
          ]
        }
      ],
      "source": [
        "#Spark connection with S3 options\n",
        "import os\n",
        "import socket\n",
        "import pyspark.sql.functions as F\n",
        "from pyspark.sql import SparkSession\n",
        "\n",
        "# Указываем credentials и параметры для работы с S3\n",
        "aws_access_key = \"key\"\n",
        "aws_secret_key = \"secret_key\"\n",
        "s3_bucket = \"kc-hardda-projects\"\n",
        "s3_endpoint_url = \"https://storage.yandexcloud.net\"\n",
        "\n",
        "# Выберем название своей рабочей директории\n",
        "working_directory = '/aleksey_fomin/'\n",
        "\n",
        "# Укажем данные для настройки кластера Spark и подключения к нему\n",
        "APACHE_MASTER_IP = socket.gethostbyname(\"apache-spark-master-0.apache-spark-headless.apache-spark.svc.cluster.local\")\n",
        "APACHE_MASTER_URL = f\"spark://{APACHE_MASTER_IP}:7077\"\n",
        "POD_IP = os.environ[\"MY_POD_IP\"]\n",
        "SPARK_APP_NAME = f\"spark-{os.environ['HOSTNAME']}\"\n",
        "JARS = \"\"\"/nfs/env/lib/python3.8/site-packages/pyspark/jars/clickhouse-native-jdbc-shaded-2.6.5.jar,\n",
        "/nfs/env/lib/python3.8/site-packages/pyspark/jars/hadoop-aws-3.3.4.jar,\n",
        "/nfs/env/lib/python3.8/site-packages/pyspark/jars/aws-java-sdk-bundle-1.12.433.jar\n",
        "\"\"\"\n",
        "MEM = \"1024m\"\n",
        "CORES = 1\n",
        "# Создадим сессию Spark\n",
        "spark = SparkSession.\\\n",
        "        builder.\\\n",
        "        appName(SPARK_APP_NAME).\\\n",
        "        master(APACHE_MASTER_URL).\\\n",
        "        config(\"spark.executor.memory\", MEM).\\\n",
        "        config(\"spark.jars\", JARS).\\\n",
        "        config(\"spark.executor.cores\", CORES).\\\n",
        "        config(\"spark.driver.host\", POD_IP).\\\n",
        "        config(\"spark.hadoop.fs.s3a.access.key\", aws_access_key). \\\n",
        "        config(\"spark.hadoop.fs.s3a.secret.key\", aws_secret_key). \\\n",
        "        config(\"fs.s3a.endpoint\", \"https://storage.yandexcloud.net\").  \\\n",
        "        config(\"spark.hadoop.fs.s3a.impl\", \"org.apache.hadoop.fs.s3a.S3AFileSystem\"). \\\n",
        "        config(\"spark.hadoop.fs.s3a.path.style.access\", True). \\\n",
        "        config(\"spark.hadoop.fs.s3a.committer.name\", \"directory\"). \\\n",
        "        config(\"spark.hadoop.fs.s3a.aws.credentials.provider\", \"org.apache.hadoop.fs.s3a.SimpleAWSCredentialsProvider\"). \\\n",
        "        getOrCreate()"
      ]
    },
    {
      "cell_type": "code",
      "execution_count": null,
      "id": "76c1aac8-9dae-4703-83fd-0a124b61bac4",
      "metadata": {
        "id": "76c1aac8-9dae-4703-83fd-0a124b61bac4",
        "outputId": "9dbe9afe-7ed2-4e18-b4a0-ecd97df1123f"
      },
      "outputs": [
        {
          "name": "stderr",
          "output_type": "stream",
          "text": [
            "                                                                                \r"
          ]
        }
      ],
      "source": [
        "# Читаем файлы с исходными данными\n",
        "df_adverts_all = spark.read.parquet('s3a://kc-hardda-projects/shared/adverts_data.parquet')\n",
        "df_live_adverts = spark.read.parquet('s3a://kc-hardda-projects/shared/live_adverts.parquet')\n",
        "df_user_passports = spark.read.parquet('s3a://kc-hardda-projects/shared/user_passports.parquet')\n",
        "\n",
        "# Джойним все три таблицы для получения широкой плоской таблицы, с которой будет удобно работать в ClickHouse\n",
        "df_flat = df_live_adverts.join(df_adverts_all, on=['execution_date', 'advert_id'], how='left') \\\n",
        "                   .join(df_user_passports, df_live_adverts['user_id'] == df_user_passports['global_id'], how='left')\n",
        "\n",
        "# Записываем результат в S3\n",
        "df_flat.coalesce(1).write.format(\"parquet\").save(rf\"s3a://{s3_bucket}{working_directory}flat_table.parquet\", mode='overwrite')\n",
        "\n",
        "# Если необходимо сохранить файл локально, это можно сделать так\n",
        "#pandas_df = df_flat.coalesce(1).toPandas()\n",
        "#pandas_df.to_parquet('flat_table.parquet')"
      ]
    },
    {
      "cell_type": "code",
      "execution_count": null,
      "id": "78c88582-a85b-47f9-b864-a64488721720",
      "metadata": {
        "id": "78c88582-a85b-47f9-b864-a64488721720"
      },
      "outputs": [],
      "source": [
        "# Создадим подключение к S3 https://storage.yandexcloud.net и посмотрим, на созданный parquet\n",
        "import boto3\n",
        "from botocore.exceptions import NoCredentialsError\n",
        "# Инициализация клиента S3 с указанием конечной точки\n",
        "s3 = boto3.client('s3',\n",
        "                  aws_access_key_id=aws_access_key,\n",
        "                  aws_secret_access_key=aws_secret_key,\n",
        "                  endpoint_url=s3_endpoint_url)"
      ]
    },
    {
      "cell_type": "code",
      "execution_count": null,
      "id": "15a826b0-f275-46fa-82e9-fd790b9769a1",
      "metadata": {
        "id": "15a826b0-f275-46fa-82e9-fd790b9769a1",
        "outputId": "8dfe751e-0bbb-4517-d201-32c3c2e300e0"
      },
      "outputs": [
        {
          "name": "stdout",
          "output_type": "stream",
          "text": [
            "Objects in bucket 'kc-hardda-projects':\n",
            "- aleksey_fomin/flat_table.parquet/_SUCCESS\n",
            "- aleksey_fomin/flat_table.parquet/part-00000-cee1a3e7-c834-46a0-98c1-a604159fa2f7-c000.snappy.parquet\n"
          ]
        }
      ],
      "source": [
        "response = s3.list_objects_v2(Bucket=s3_bucket, Prefix=r'aleksey_fomin') # Prefix - фильтр по имени, чтоб видеть только с объекты с префиксом\n",
        "\n",
        "# Вывод списка объектов\n",
        "if 'Contents' in response:\n",
        "    print(f\"Objects in bucket '{s3_bucket}':\")\n",
        "    for obj in response['Contents']:\n",
        "        print(f\"- {obj['Key']}\")\n",
        "else:\n",
        "    print(f\"No objects found in bucket '{s3_bucket}'\")"
      ]
    },
    {
      "cell_type": "markdown",
      "id": "538e1b9b-dee6-42db-a577-fe2c9f7f0356",
      "metadata": {
        "id": "538e1b9b-dee6-42db-a577-fe2c9f7f0356"
      },
      "source": [
        "Как видно и вывода выше, parquet успешно создался"
      ]
    },
    {
      "cell_type": "markdown",
      "id": "023af252-f844-46b0-979e-93a5c24b5b81",
      "metadata": {
        "id": "023af252-f844-46b0-979e-93a5c24b5b81"
      },
      "source": [
        "### Подготовка к переносу данных из S3 parquet в ClickHouse ###"
      ]
    },
    {
      "cell_type": "code",
      "execution_count": null,
      "id": "6d608c27-acdd-4de9-a692-02720a00b653",
      "metadata": {
        "id": "6d608c27-acdd-4de9-a692-02720a00b653"
      },
      "outputs": [],
      "source": [
        "# Прочитаем сформированную parquet таблицу\n",
        "parquet_path = rf\"s3a://{s3_bucket}{working_directory}flat_table.parquet/*.parquet\"\n",
        "df_flat = spark.read.parquet(parquet_path)"
      ]
    },
    {
      "cell_type": "code",
      "execution_count": null,
      "id": "072c5bb1-f209-448b-a69b-7f28d17e736a",
      "metadata": {
        "id": "072c5bb1-f209-448b-a69b-7f28d17e736a",
        "outputId": "4a2a7c6d-8638-4ae8-898f-f0c9e4f1f37a"
      },
      "outputs": [
        {
          "name": "stdout",
          "output_type": "stream",
          "text": [
            "root\n",
            " |-- execution_date: timestamp (nullable = true)\n",
            " |-- advert_id: long (nullable = true)\n",
            " |-- region: string (nullable = true)\n",
            " |-- user_id: long (nullable = true)\n",
            " |-- platform: string (nullable = true)\n",
            " |-- mark: string (nullable = true)\n",
            " |-- model: string (nullable = true)\n",
            " |-- price: double (nullable = true)\n",
            " |-- year: double (nullable = true)\n",
            " |-- fuel: string (nullable = true)\n",
            " |-- color: string (nullable = true)\n",
            " |-- transmission: string (nullable = true)\n",
            " |-- body: string (nullable = true)\n",
            " |-- country: string (nullable = true)\n",
            " |-- global_id: long (nullable = true)\n",
            " |-- user_type_name: string (nullable = true)\n",
            "\n"
          ]
        }
      ],
      "source": [
        "# Посмотрим на типы данных полей получившейся parquet таблицы\n",
        "# Эта информация потребуется нам для создания таблицы в ClickHouse\n",
        "df_flat.printSchema()"
      ]
    },
    {
      "cell_type": "code",
      "execution_count": null,
      "id": "227891b5-70d9-41e8-ad7a-387b6350e744",
      "metadata": {
        "id": "227891b5-70d9-41e8-ad7a-387b6350e744",
        "outputId": "ff16d085-be35-4b10-b17e-5e3755b5c67e"
      },
      "outputs": [
        {
          "name": "stderr",
          "output_type": "stream",
          "text": [
            "                                                                                \r"
          ]
        },
        {
          "name": "stdout",
          "output_type": "stream",
          "text": [
            "+-------+--------------------+-------------------+------------------+------------------+--------------------+\n",
            "|summary|           advert_id|            user_id|             price|              year|           global_id|\n",
            "+-------+--------------------+-------------------+------------------+------------------+--------------------+\n",
            "|  count|             2771661|            2771661|           2697258|            273389|             2607516|\n",
            "|   mean|2.3769846407115048E8|1.320025433157832E8|257384.05580148433|2011.0509493798215|1.3199123690995376E8|\n",
            "| stddev| 3.085388897081636E7|  8515217.182871925|1268037.7070819275|10.449449784452002|    8439031.26608308|\n",
            "|    min|           126746009|          123456795|               0.0|            1900.0|           123456795|\n",
            "|    max|           270356294|          151763713|            1.19E8|            2022.0|           151763713|\n",
            "+-------+--------------------+-------------------+------------------+------------------+--------------------+\n",
            "\n"
          ]
        }
      ],
      "source": [
        "# Для числовых полей таблицы посмотрим на min/max значения\n",
        "df_flat.describe([c[0] for c in df_flat.dtypes if c[1] in ['double', 'bigint']]).show()"
      ]
    },
    {
      "cell_type": "code",
      "execution_count": null,
      "id": "a8eb49d1-0731-4c1f-8656-a781b46c6998",
      "metadata": {
        "id": "a8eb49d1-0731-4c1f-8656-a781b46c6998",
        "outputId": "2662b7a8-4a30-4e2e-b3c4-0ca1c52b42c1"
      },
      "outputs": [
        {
          "name": "stderr",
          "output_type": "stream",
          "text": [
            "[Stage 58:=============================>                            (1 + 1) / 2]\r"
          ]
        },
        {
          "name": "stdout",
          "output_type": "stream",
          "text": [
            "+------+--------+----+-----+----+-----+------------+----+-------+--------------+\n",
            "|region|platform|mark|model|fuel|color|transmission|body|country|user_type_name|\n",
            "+------+--------+----+-----+----+-----+------------+----+-------+--------------+\n",
            "|    21|       5|  90|  808|   6|   22|           5|  18|     15|             3|\n",
            "+------+--------+----+-----+----+-----+------------+----+-------+--------------+\n",
            "\n"
          ]
        },
        {
          "name": "stderr",
          "output_type": "stream",
          "text": [
            "                                                                                \r"
          ]
        }
      ],
      "source": [
        "# для текстовых полей посмотрим на число уникальных значений\n",
        "df_flat.agg(*(F.countDistinct(F.col(c)).alias(c) for c in [c[0] for c in df_flat.dtypes if c[1] == 'string'])).show()"
      ]
    },
    {
      "cell_type": "code",
      "execution_count": null,
      "id": "0e3c7ab2-f445-4b56-883d-636080fa34cf",
      "metadata": {
        "id": "0e3c7ab2-f445-4b56-883d-636080fa34cf"
      },
      "outputs": [],
      "source": [
        "# Все, Spark больше не нужен\n",
        "spark.stop()"
      ]
    },
    {
      "cell_type": "markdown",
      "id": "deac07af-388b-4bc5-b5e4-32897e139756",
      "metadata": {
        "id": "deac07af-388b-4bc5-b5e4-32897e139756"
      },
      "source": [
        "### Загружаем данные в ClickHouse и создаем MATERIALIZED VIEW c движком AggregatingMergeTree ###"
      ]
    },
    {
      "cell_type": "code",
      "execution_count": null,
      "id": "c25b5b99-3ce8-4267-9077-ec4f996630f3",
      "metadata": {
        "id": "c25b5b99-3ce8-4267-9077-ec4f996630f3"
      },
      "outputs": [],
      "source": [
        "# Импортируем используемые в работе модули\n",
        "import pandas as pd\n",
        "from clickhouse_driver import Client"
      ]
    },
    {
      "cell_type": "code",
      "execution_count": null,
      "id": "97ca12d3-b8bf-4360-b4d8-1c6276bc4203",
      "metadata": {
        "id": "97ca12d3-b8bf-4360-b4d8-1c6276bc4203"
      },
      "outputs": [],
      "source": [
        "# Реквизиты для подключения к БД\n",
        "user='hardda_student_alekse-fomin'\n",
        "password='5d1e6116e9dec84a1da81532e3b7a8cf7affd7d68b35193d3344862ac45b7c9c'\n",
        "\n",
        "host='clickhouse.lab.karpov.courses'\n",
        "port=9000\n",
        "database_rw='hardda_student_data' # БД с правами чтение и запись"
      ]
    },
    {
      "cell_type": "code",
      "execution_count": null,
      "id": "376af957-d117-4c07-9e83-7406e5335f15",
      "metadata": {
        "id": "376af957-d117-4c07-9e83-7406e5335f15"
      },
      "outputs": [],
      "source": [
        "# Создаем соединение с БД ClickHouse\n",
        "\n",
        "# Соединение c правами на запись\n",
        "client_rw = Client(host=host, port=port, user=user,\n",
        "                password=password, database=database_rw)"
      ]
    },
    {
      "cell_type": "code",
      "execution_count": null,
      "id": "5f63c0ca-f975-405e-a288-e698d66a246d",
      "metadata": {
        "id": "5f63c0ca-f975-405e-a288-e698d66a246d"
      },
      "outputs": [],
      "source": [
        "usr_name = \"aleksey_fomin\"\n",
        "prj_s3_ext = f'prj_s3_ext_{usr_name}' # таблица c помощью которой будем подключаться к S3\n",
        "prj_main = f'prj_main_{usr_name}' # таблица для CH хранения данных из таблицы, подключенной к S3 (см выше)\n",
        "prj_main_agg_view_1 = f'prj_main_{usr_name}_agg_view_1' #view_1 для решения бизнес кейса 1\n",
        "prj_main_agg_view_2 = f'prj_main_{usr_name}_agg_view_2' #view_1 для решения бизнес кейса 2\n",
        "prj_main_agg_view_3 = f'prj_main_{usr_name}_agg_view_3' #view_1 для решения бизнес кейса 3\n"
      ]
    },
    {
      "cell_type": "code",
      "execution_count": null,
      "id": "08280226-9457-4344-8057-6c82c898796e",
      "metadata": {
        "id": "08280226-9457-4344-8057-6c82c898796e",
        "outputId": "510c3a5b-9219-4f11-b415-2bd2df0627c0"
      },
      "outputs": [
        {
          "data": {
            "text/plain": [
              "[]"
            ]
          },
          "execution_count": 78,
          "metadata": {},
          "output_type": "execute_result"
        }
      ],
      "source": [
        "# создаем таблицу-подключение к S3 с учетом собранной информации о типах и диапазонах данных в полях parquet таблицы\n",
        "sql_create = f\"\"\"\n",
        "CREATE TABLE {database_rw}.{prj_s3_ext} (\n",
        "  execution_date Date,\n",
        "  advert_id UInt32,\n",
        "  region LowCardinality(String),\n",
        "  user_id UInt32,\n",
        "  platform LowCardinality(String),\n",
        "  mark LowCardinality(Nullable(String)),\n",
        "  model LowCardinality(Nullable(String)),\n",
        "  price Nullable(Float32),\n",
        "  year Nullable(UInt16),\n",
        "  fuel LowCardinality(Nullable(String)),\n",
        "  color LowCardinality(Nullable(String)),\n",
        "  transmission LowCardinality(Nullable(String)),\n",
        "  body LowCardinality(Nullable(String)),\n",
        "  country LowCardinality(Nullable(String)),\n",
        "  global_id Nullable(UInt32),\n",
        "  user_type_name LowCardinality(Nullable(String))\n",
        ") ENGINE = S3('https://storage.yandexcloud.net/{parquet_path[6:]}', '{aws_access_key}', '{aws_secret_key}', 'Parquet')\n",
        "\"\"\"\n",
        "client_rw.execute(sql_create, with_column_types=False)"
      ]
    },
    {
      "cell_type": "code",
      "execution_count": null,
      "id": "de41b724-8dca-4afe-8f68-e837dbe149c7",
      "metadata": {
        "id": "de41b724-8dca-4afe-8f68-e837dbe149c7",
        "outputId": "b424ca0e-66bb-402e-89d4-a8b04231af4b"
      },
      "outputs": [
        {
          "data": {
            "text/plain": [
              "[]"
            ]
          },
          "execution_count": 79,
          "metadata": {},
          "output_type": "execute_result"
        }
      ],
      "source": [
        "# Создаем таблицу для хранения в CH данных из S3 parquet. Применяем кодеки для сжатия хранимых на диске данных\n",
        "sql_create = f\"\"\"\n",
        "CREATE TABLE {database_rw}.{prj_main} (\n",
        "  execution_date Date codec(DoubleDelta, LZ4),\n",
        "  advert_id UInt32 codec(T64, LZ4),\n",
        "  region LowCardinality(Nullable(String)),\n",
        "  user_id UInt32 codec(T64, LZ4),\n",
        "  platform LowCardinality(Nullable(String)),\n",
        "  mark LowCardinality(Nullable(String)),\n",
        "  model LowCardinality(Nullable(String)),\n",
        "  price Nullable(Float64),\n",
        "  year Nullable(UInt16) CODEC(Delta, LZ4),\n",
        "  fuel LowCardinality(Nullable(String)),\n",
        "  color LowCardinality(Nullable(String)),\n",
        "  transmission LowCardinality(Nullable(String)),\n",
        "  body LowCardinality(Nullable(String)),\n",
        "  country LowCardinality(Nullable(String)),\n",
        "  global_id Nullable(UInt32) codec(T64, LZ4),\n",
        "  user_type_name LowCardinality(Nullable(String))\n",
        ") ENGINE = MergeTree\n",
        "PARTITION BY toYear(execution_date)\n",
        "ORDER BY\n",
        "  (execution_date, user_type_name, platform, region, mark)\n",
        "SETTINGS index_granularity = 8192\n",
        "AS SELECT\n",
        "  execution_date,\n",
        "  advert_id,\n",
        "  region,\n",
        "  user_id,\n",
        "  platform,\n",
        "  mark,\n",
        "  model,\n",
        "  price,\n",
        "  year,\n",
        "  fuel,\n",
        "  color,\n",
        "  transmission,\n",
        "  body,\n",
        "  country,\n",
        "  global_id,\n",
        "  user_type_name\n",
        "FROM\n",
        "{database_rw}.{prj_s3_ext}\n",
        "\"\"\"\n",
        "client_rw.execute(sql_create, with_column_types=False)"
      ]
    },
    {
      "cell_type": "code",
      "execution_count": null,
      "id": "7ea366ca-b626-4540-ae76-f4a6afe2f095",
      "metadata": {
        "id": "7ea366ca-b626-4540-ae76-f4a6afe2f095",
        "outputId": "d54f3170-cf15-4f29-92d2-31c79b8e27b2"
      },
      "outputs": [
        {
          "data": {
            "text/plain": [
              "[]"
            ]
          },
          "execution_count": 80,
          "metadata": {},
          "output_type": "execute_result"
        }
      ],
      "source": [
        "#создаем MATERIALIZED VIEW 1 для хранения аггрегированных данных для быстрого доступа в целях аналитики\n",
        "# Для аггрегирующих функий, вычисление которых требует сохранения промежуточного состояния,\n",
        "# используем суффикс -State и объявление AggregateFunction(), для прочих SimpleAggregateFunction()\n",
        "sql_create = f\"\"\"\n",
        "CREATE MATERIALIZED VIEW\n",
        "{database_rw}.{prj_main_agg_view_1} (\n",
        "  execution_date Date codec(DoubleDelta, LZ4),\n",
        "  platform LowCardinality(Nullable(String)),\n",
        "  user_type_name LowCardinality(Nullable(String)),\n",
        "  min_price SimpleAggregateFunction(min, Nullable(Float64)),\n",
        "  quantile_25_price AggregateFunction(quantile(0.25), Nullable(Float64)),\n",
        "  median_price AggregateFunction(quantile(0.5), Nullable(Float64)),\n",
        "  avg_price AggregateFunction(avg, Nullable(Float64)),\n",
        "  quantile_75_price AggregateFunction(quantile(0.75), Nullable(Float64)),\n",
        "  max_price SimpleAggregateFunction(max, Nullable(Float64))\n",
        ") ENGINE = AggregatingMergeTree\n",
        "  ORDER BY (execution_date, platform, user_type_name) SETTINGS index_granularity = 8192 POPULATE\n",
        "  AS SELECT\n",
        "  execution_date,\n",
        "  platform,\n",
        "  user_type_name,\n",
        "  min(price) as min_price,\n",
        "  quantileState(0.25)(price) as quantile_25_price,\n",
        "  quantileState(0.5)(price) as median_price,\n",
        "  avgState(price) as avg_price,\n",
        "  quantileState(0.75)(price) as quantile_75_price,\n",
        "  max(price) as max_price\n",
        "FROM\n",
        "  {database_rw}.{prj_main}\n",
        "  WHERE price > 0\n",
        "GROUP BY\n",
        "  execution_date,\n",
        "  platform,\n",
        "  user_type_name\n",
        "\"\"\"\n",
        "client_rw.execute(sql_create, with_column_types=False)"
      ]
    },
    {
      "cell_type": "code",
      "execution_count": null,
      "id": "0d1067c3-e9b1-4047-8763-856d02a20c41",
      "metadata": {
        "id": "0d1067c3-e9b1-4047-8763-856d02a20c41",
        "outputId": "5493350e-8587-4a09-fae7-69c592a94c60"
      },
      "outputs": [
        {
          "data": {
            "text/plain": [
              "[]"
            ]
          },
          "execution_count": 82,
          "metadata": {},
          "output_type": "execute_result"
        }
      ],
      "source": [
        "#создаем MATERIALIZED VIEW 2 для хранения аггрегированных данных для быстрого доступа в целях аналитики\n",
        "sql_create = f\"\"\"\n",
        "CREATE MATERIALIZED VIEW\n",
        "{database_rw}.{prj_main_agg_view_2} (\n",
        "  advert_id UInt32 codec(T64, LZ4),\n",
        "  user_id UInt32 codec(T64, LZ4),\n",
        "  mark LowCardinality(Nullable(String)),\n",
        "  model LowCardinality(Nullable(String)),\n",
        "  min_date SimpleAggregateFunction(min, Date),\n",
        "  max_date SimpleAggregateFunction(max, Date),\n",
        "  min_price SimpleAggregateFunction(min, Nullable(Float64)),\n",
        "  max_price SimpleAggregateFunction(max, Nullable(Float64)),\n",
        "  mean_price AggregateFunction(avg, Nullable(Float64))\n",
        ") ENGINE = AggregatingMergeTree\n",
        "  ORDER BY (advert_id, user_id, mark, model) SETTINGS index_granularity = 8192 POPULATE\n",
        "AS SELECT\n",
        "  advert_id,\n",
        "  user_id,\n",
        "  mark,\n",
        "  model,\n",
        "  min(execution_date) as min_date,\n",
        "  max(execution_date) as max_date,\n",
        "  min(price) as min_price,\n",
        "  max(price) as max_price,\n",
        "  avgState(price) as mean_price\n",
        "FROM\n",
        "  {database_rw}.{prj_main}\n",
        "  WHERE price > 0\n",
        "GROUP BY\n",
        "  advert_id,\n",
        "  user_id,\n",
        "  mark,\n",
        "  model\n",
        "\"\"\"\n",
        "client_rw.execute(sql_create, with_column_types=False)"
      ]
    },
    {
      "cell_type": "code",
      "execution_count": null,
      "id": "dccd0ed9-461c-493a-8d35-b590862d014a",
      "metadata": {
        "id": "dccd0ed9-461c-493a-8d35-b590862d014a",
        "outputId": "85ee32c0-aec0-4199-80a3-07a31d4c1804"
      },
      "outputs": [
        {
          "data": {
            "text/plain": [
              "[]"
            ]
          },
          "execution_count": 83,
          "metadata": {},
          "output_type": "execute_result"
        }
      ],
      "source": [
        "#создаем MATERIALIZED VIEW 3 для хранения аггрегированных данных для быстрого доступа в целях аналитики\n",
        "sql_create = f\"\"\"\n",
        "CREATE MATERIALIZED VIEW\n",
        "{database_rw}.{prj_main_agg_view_3} (\n",
        "  user_type_name LowCardinality(Nullable(String)),\n",
        "  mark LowCardinality(Nullable(String)),\n",
        "  advert_id UInt32 codec(T64, LZ4),\n",
        "  min_date SimpleAggregateFunction(min, Date),\n",
        "  max_date SimpleAggregateFunction(max, Date)\n",
        ") ENGINE = AggregatingMergeTree\n",
        "  ORDER BY (user_type_name, mark, advert_id) SETTINGS index_granularity = 8192 POPULATE\n",
        "AS SELECT\n",
        "  user_type_name,\n",
        "  mark,\n",
        "  advert_id,\n",
        "  min(execution_date) as min_date,\n",
        "  max(execution_date) as max_date\n",
        "FROM\n",
        "  {database_rw}.{prj_main}\n",
        "--WHERE price > 0\n",
        "GROUP BY\n",
        "  user_type_name,\n",
        "  mark,\n",
        "  advert_id\n",
        "\"\"\"\n",
        "client_rw.execute(sql_create, with_column_types=False)"
      ]
    },
    {
      "cell_type": "markdown",
      "id": "1c8963fe-0afd-465e-a936-18dd1da1df8b",
      "metadata": {
        "id": "1c8963fe-0afd-465e-a936-18dd1da1df8b"
      },
      "source": [
        "### Отвечаем на вопросы бизнес кейсов ###"
      ]
    },
    {
      "cell_type": "markdown",
      "id": "c339cf33-97cc-468a-a6a0-69624a3b7b1e",
      "metadata": {
        "id": "c339cf33-97cc-468a-a6a0-69624a3b7b1e"
      },
      "source": [
        "#### Кейс 1. Вопрос 1: Правда ли, что цены профессионалов больше, чем цены простых пользователей?\n",
        "Прочитаем данные из MV_1 и получим ответ на данный вопрос с помощью графика"
      ]
    },
    {
      "cell_type": "code",
      "execution_count": null,
      "id": "d3dd0693-c82b-4274-8066-8e0b8dc70245",
      "metadata": {
        "id": "d3dd0693-c82b-4274-8066-8e0b8dc70245"
      },
      "outputs": [],
      "source": [
        "import numpy as np\n",
        "import matplotlib.pyplot as plt\n",
        "import seaborn as sns"
      ]
    },
    {
      "cell_type": "code",
      "execution_count": null,
      "id": "b90ffeae-4e7c-45c0-b222-910fcdb2620e",
      "metadata": {
        "tags": [],
        "id": "b90ffeae-4e7c-45c0-b222-910fcdb2620e",
        "outputId": "54e7c261-506d-4e58-ad51-819a243368b1"
      },
      "outputs": [
        {
          "data": {
            "text/html": [
              "<div>\n",
              "<style scoped>\n",
              "    .dataframe tbody tr th:only-of-type {\n",
              "        vertical-align: middle;\n",
              "    }\n",
              "\n",
              "    .dataframe tbody tr th {\n",
              "        vertical-align: top;\n",
              "    }\n",
              "\n",
              "    .dataframe thead th {\n",
              "        text-align: right;\n",
              "    }\n",
              "</style>\n",
              "<table border=\"1\" class=\"dataframe\">\n",
              "  <thead>\n",
              "    <tr style=\"text-align: right;\">\n",
              "      <th></th>\n",
              "      <th>execution_date</th>\n",
              "      <th>platform</th>\n",
              "      <th>user_type_name</th>\n",
              "      <th>min_price</th>\n",
              "      <th>quantile_25_price</th>\n",
              "      <th>median_price</th>\n",
              "      <th>avg_price</th>\n",
              "      <th>quantile_75_price</th>\n",
              "      <th>max_price</th>\n",
              "    </tr>\n",
              "  </thead>\n",
              "  <tbody>\n",
              "    <tr>\n",
              "      <th>0</th>\n",
              "      <td>2021-07-25</td>\n",
              "      <td>mobile</td>\n",
              "      <td>profi</td>\n",
              "      <td>20.0</td>\n",
              "      <td>1600.0</td>\n",
              "      <td>4000.0</td>\n",
              "      <td>2.199942e+04</td>\n",
              "      <td>10000.0</td>\n",
              "      <td>260000.0</td>\n",
              "    </tr>\n",
              "    <tr>\n",
              "      <th>1</th>\n",
              "      <td>2021-09-12</td>\n",
              "      <td>ios</td>\n",
              "      <td>None</td>\n",
              "      <td>1000.0</td>\n",
              "      <td>1000.0</td>\n",
              "      <td>1000.0</td>\n",
              "      <td>1.000000e+03</td>\n",
              "      <td>1000.0</td>\n",
              "      <td>1000.0</td>\n",
              "    </tr>\n",
              "    <tr>\n",
              "      <th>2</th>\n",
              "      <td>2021-01-24</td>\n",
              "      <td>unknown</td>\n",
              "      <td>profi</td>\n",
              "      <td>114000.0</td>\n",
              "      <td>114000.0</td>\n",
              "      <td>114000.0</td>\n",
              "      <td>1.140000e+05</td>\n",
              "      <td>114000.0</td>\n",
              "      <td>114000.0</td>\n",
              "    </tr>\n",
              "    <tr>\n",
              "      <th>3</th>\n",
              "      <td>2021-06-06</td>\n",
              "      <td>ios</td>\n",
              "      <td>simple_user</td>\n",
              "      <td>114.0</td>\n",
              "      <td>34000.0</td>\n",
              "      <td>640000.0</td>\n",
              "      <td>1.541534e+06</td>\n",
              "      <td>2550000.0</td>\n",
              "      <td>19000000.0</td>\n",
              "    </tr>\n",
              "    <tr>\n",
              "      <th>4</th>\n",
              "      <td>2021-06-06</td>\n",
              "      <td>mobile</td>\n",
              "      <td>simple_user</td>\n",
              "      <td>20.0</td>\n",
              "      <td>2515.0</td>\n",
              "      <td>5010.0</td>\n",
              "      <td>5.010000e+03</td>\n",
              "      <td>7505.0</td>\n",
              "      <td>10000.0</td>\n",
              "    </tr>\n",
              "  </tbody>\n",
              "</table>\n",
              "</div>"
            ],
            "text/plain": [
              "  execution_date platform user_type_name  min_price  quantile_25_price  \\\n",
              "0     2021-07-25   mobile          profi       20.0             1600.0   \n",
              "1     2021-09-12      ios           None     1000.0             1000.0   \n",
              "2     2021-01-24  unknown          profi   114000.0           114000.0   \n",
              "3     2021-06-06      ios    simple_user      114.0            34000.0   \n",
              "4     2021-06-06   mobile    simple_user       20.0             2515.0   \n",
              "\n",
              "   median_price     avg_price  quantile_75_price   max_price  \n",
              "0        4000.0  2.199942e+04            10000.0    260000.0  \n",
              "1        1000.0  1.000000e+03             1000.0      1000.0  \n",
              "2      114000.0  1.140000e+05           114000.0    114000.0  \n",
              "3      640000.0  1.541534e+06          2550000.0  19000000.0  \n",
              "4        5010.0  5.010000e+03             7505.0     10000.0  "
            ]
          },
          "execution_count": 6,
          "metadata": {},
          "output_type": "execute_result"
        }
      ],
      "source": [
        "# Для полуения значений по полям, аггрегрованным -State функиями используем суффикс -Merge\n",
        "sql = f\"\"\"\n",
        "SELECT\n",
        "  execution_date,\n",
        "  platform,\n",
        "  user_type_name,\n",
        "  min(min_price) as min_price,\n",
        "  quantileMerge(0.25)(quantile_25_price) as quantile_25_price,\n",
        "  quantileMerge(0.5)(median_price) as median_price,\n",
        "  avgMerge(avg_price) as avg_price,\n",
        "  quantileMerge(0.75)(quantile_75_price) as quantile_75_price,\n",
        "  max(max_price) as max_price\n",
        "FROM\n",
        "  {database_rw}.{prj_main_agg_view_1}\n",
        "GROUP BY\n",
        "  execution_date,\n",
        "  platform,\n",
        "  user_type_name\n",
        "\"\"\"\n",
        "result, columns = client_rw.execute(sql, with_column_types=True)\n",
        "df = pd.DataFrame(result, columns=[tuple[0] for tuple in columns])\n",
        "df.head()"
      ]
    },
    {
      "cell_type": "code",
      "execution_count": null,
      "id": "20b46d9e-1859-4ac2-9075-f0934fee45fe",
      "metadata": {
        "id": "20b46d9e-1859-4ac2-9075-f0934fee45fe",
        "outputId": "60af5750-c1fa-4336-f783-32e7afb809ec"
      },
      "outputs": [
        {
          "data": {
            "image/png": "[encoded data removed]",
            "text/plain": [
              "<Figure size 1008x288 with 1 Axes>"
            ]
          },
          "metadata": {
            "needs_background": "light"
          },
          "output_type": "display_data"
        }
      ],
      "source": [
        "fig, axes = plt.subplots(figsize=(14, 4))\n",
        "sns.lineplot(data=df.query(\"user_type_name.isin(['profi', 'simple_user'])\"), \\\n",
        "             x = 'execution_date',\\\n",
        "             y = 'avg_price', \\\n",
        "             hue = 'user_type_name', \\\n",
        "             estimator=np.mean).set_title('Profi & simple users median prices');"
      ]
    },
    {
      "cell_type": "markdown",
      "id": "86e543a7-2878-4164-9edb-0aac325df157",
      "metadata": {
        "id": "86e543a7-2878-4164-9edb-0aac325df157"
      },
      "source": [
        "Данный график показывает, что цены у simple users в среднем сильно выше, чем у profi продавцов"
      ]
    },
    {
      "cell_type": "markdown",
      "id": "861017a8-2765-4181-bf6e-08c0dbce2590",
      "metadata": {
        "id": "861017a8-2765-4181-bf6e-08c0dbce2590"
      },
      "source": [
        "#### Кейс 2. Вопрос 2: Определить топ-5 марок, продающихся быстрее всего, и топ-5 марок, продающихся медленнее всего."
      ]
    },
    {
      "cell_type": "code",
      "execution_count": null,
      "id": "6688cd05-334b-4d84-8339-4b73e93ed4f4",
      "metadata": {
        "id": "6688cd05-334b-4d84-8339-4b73e93ed4f4",
        "outputId": "841c0c49-765f-430b-f2df-2613dd97520d"
      },
      "outputs": [
        {
          "data": {
            "text/html": [
              "<div>\n",
              "<style scoped>\n",
              "    .dataframe tbody tr th:only-of-type {\n",
              "        vertical-align: middle;\n",
              "    }\n",
              "\n",
              "    .dataframe tbody tr th {\n",
              "        vertical-align: top;\n",
              "    }\n",
              "\n",
              "    .dataframe thead th {\n",
              "        text-align: right;\n",
              "    }\n",
              "</style>\n",
              "<table border=\"1\" class=\"dataframe\">\n",
              "  <thead>\n",
              "    <tr style=\"text-align: right;\">\n",
              "      <th></th>\n",
              "      <th>advert_id</th>\n",
              "      <th>user_id</th>\n",
              "      <th>mark</th>\n",
              "      <th>model</th>\n",
              "      <th>min_date</th>\n",
              "      <th>max_date</th>\n",
              "      <th>min_price</th>\n",
              "      <th>max_price</th>\n",
              "      <th>mean_price</th>\n",
              "    </tr>\n",
              "  </thead>\n",
              "  <tbody>\n",
              "    <tr>\n",
              "      <th>0</th>\n",
              "      <td>245169368</td>\n",
              "      <td>137326871</td>\n",
              "      <td>None</td>\n",
              "      <td>None</td>\n",
              "      <td>2020-11-16</td>\n",
              "      <td>2021-11-06</td>\n",
              "      <td>5600.0</td>\n",
              "      <td>8400.0</td>\n",
              "      <td>6.867568e+03</td>\n",
              "    </tr>\n",
              "    <tr>\n",
              "      <th>1</th>\n",
              "      <td>269240591</td>\n",
              "      <td>124477249</td>\n",
              "      <td>None</td>\n",
              "      <td>None</td>\n",
              "      <td>2021-10-14</td>\n",
              "      <td>2021-11-08</td>\n",
              "      <td>56000.0</td>\n",
              "      <td>56000.0</td>\n",
              "      <td>5.600000e+04</td>\n",
              "    </tr>\n",
              "    <tr>\n",
              "      <th>2</th>\n",
              "      <td>265449756</td>\n",
              "      <td>146397691</td>\n",
              "      <td>None</td>\n",
              "      <td>None</td>\n",
              "      <td>2021-07-22</td>\n",
              "      <td>2021-11-11</td>\n",
              "      <td>10000.0</td>\n",
              "      <td>10000.0</td>\n",
              "      <td>1.000000e+04</td>\n",
              "    </tr>\n",
              "    <tr>\n",
              "      <th>3</th>\n",
              "      <td>266809179</td>\n",
              "      <td>146082427</td>\n",
              "      <td>None</td>\n",
              "      <td>None</td>\n",
              "      <td>2021-08-21</td>\n",
              "      <td>2021-11-06</td>\n",
              "      <td>4000.0</td>\n",
              "      <td>4000.0</td>\n",
              "      <td>4.000000e+03</td>\n",
              "    </tr>\n",
              "    <tr>\n",
              "      <th>4</th>\n",
              "      <td>269593660</td>\n",
              "      <td>146236259</td>\n",
              "      <td>Mercedes-Benz</td>\n",
              "      <td>G-Класс</td>\n",
              "      <td>2021-10-23</td>\n",
              "      <td>2021-11-06</td>\n",
              "      <td>9300000.0</td>\n",
              "      <td>9300000.0</td>\n",
              "      <td>9.300000e+06</td>\n",
              "    </tr>\n",
              "  </tbody>\n",
              "</table>\n",
              "</div>"
            ],
            "text/plain": [
              "   advert_id    user_id           mark    model    min_date    max_date  \\\n",
              "0  245169368  137326871           None     None  2020-11-16  2021-11-06   \n",
              "1  269240591  124477249           None     None  2021-10-14  2021-11-08   \n",
              "2  265449756  146397691           None     None  2021-07-22  2021-11-11   \n",
              "3  266809179  146082427           None     None  2021-08-21  2021-11-06   \n",
              "4  269593660  146236259  Mercedes-Benz  G-Класс  2021-10-23  2021-11-06   \n",
              "\n",
              "   min_price  max_price    mean_price  \n",
              "0     5600.0     8400.0  6.867568e+03  \n",
              "1    56000.0    56000.0  5.600000e+04  \n",
              "2    10000.0    10000.0  1.000000e+04  \n",
              "3     4000.0     4000.0  4.000000e+03  \n",
              "4  9300000.0  9300000.0  9.300000e+06  "
            ]
          },
          "execution_count": 16,
          "metadata": {},
          "output_type": "execute_result"
        }
      ],
      "source": [
        "sql = f\"\"\"\n",
        "SELECT\n",
        "  advert_id,\n",
        "  user_id,\n",
        "  mark,\n",
        "  model,\n",
        "  min(min_date) as min_date,\n",
        "  max(max_date) as max_date,\n",
        "  min(min_price) as min_price,\n",
        "  max(max_price) as max_price,\n",
        "  avgMerge(mean_price) as mean_price\n",
        "FROM {database_rw}.{prj_main_agg_view_2}\n",
        "GROUP BY\n",
        "  advert_id,\n",
        "  user_id,\n",
        "  mark,\n",
        "  model\n",
        "\"\"\"\n",
        "result, columns = client_rw.execute(sql, with_column_types=True)\n",
        "df = pd.DataFrame(result, columns=[tuple[0] for tuple in columns])\n",
        "df.head()"
      ]
    },
    {
      "cell_type": "code",
      "execution_count": null,
      "id": "7612a380-0719-4d30-badb-19dcb6d5bebd",
      "metadata": {
        "id": "7612a380-0719-4d30-badb-19dcb6d5bebd"
      },
      "outputs": [],
      "source": [
        "# Отфильтруем строки, где mark None\n",
        "df = df.loc[df['mark'].notna()]"
      ]
    },
    {
      "cell_type": "code",
      "execution_count": null,
      "id": "ae160df0-0e4c-4209-a8bd-4c83f1075989",
      "metadata": {
        "id": "ae160df0-0e4c-4209-a8bd-4c83f1075989",
        "outputId": "3432016d-d4c0-4403-c0bd-b74dc4b7e267"
      },
      "outputs": [
        {
          "data": {
            "text/html": [
              "<div>\n",
              "<style scoped>\n",
              "    .dataframe tbody tr th:only-of-type {\n",
              "        vertical-align: middle;\n",
              "    }\n",
              "\n",
              "    .dataframe tbody tr th {\n",
              "        vertical-align: top;\n",
              "    }\n",
              "\n",
              "    .dataframe thead th {\n",
              "        text-align: right;\n",
              "    }\n",
              "</style>\n",
              "<table border=\"1\" class=\"dataframe\">\n",
              "  <thead>\n",
              "    <tr style=\"text-align: right;\">\n",
              "      <th></th>\n",
              "      <th>mark</th>\n",
              "      <th>avg_days_diff</th>\n",
              "    </tr>\n",
              "  </thead>\n",
              "  <tbody>\n",
              "    <tr>\n",
              "      <th>0</th>\n",
              "      <td>Aro</td>\n",
              "      <td>1.000000</td>\n",
              "    </tr>\n",
              "    <tr>\n",
              "      <th>1</th>\n",
              "      <td>SEAT</td>\n",
              "      <td>3.500000</td>\n",
              "    </tr>\n",
              "    <tr>\n",
              "      <th>2</th>\n",
              "      <td>Datsun</td>\n",
              "      <td>7.000000</td>\n",
              "    </tr>\n",
              "    <tr>\n",
              "      <th>3</th>\n",
              "      <td>DongFeng</td>\n",
              "      <td>10.500000</td>\n",
              "    </tr>\n",
              "    <tr>\n",
              "      <th>4</th>\n",
              "      <td>Alfa Romeo</td>\n",
              "      <td>14.000000</td>\n",
              "    </tr>\n",
              "    <tr>\n",
              "      <th>...</th>\n",
              "      <td>...</td>\n",
              "      <td>...</td>\n",
              "    </tr>\n",
              "    <tr>\n",
              "      <th>85</th>\n",
              "      <td>MG</td>\n",
              "      <td>176.750000</td>\n",
              "    </tr>\n",
              "    <tr>\n",
              "      <th>86</th>\n",
              "      <td>Great Wall</td>\n",
              "      <td>183.800000</td>\n",
              "    </tr>\n",
              "    <tr>\n",
              "      <th>87</th>\n",
              "      <td>Rover</td>\n",
              "      <td>195.000000</td>\n",
              "    </tr>\n",
              "    <tr>\n",
              "      <th>88</th>\n",
              "      <td>Scion</td>\n",
              "      <td>213.000000</td>\n",
              "    </tr>\n",
              "    <tr>\n",
              "      <th>89</th>\n",
              "      <td>Ретро-автомобили</td>\n",
              "      <td>214.666667</td>\n",
              "    </tr>\n",
              "  </tbody>\n",
              "</table>\n",
              "<p>90 rows × 2 columns</p>\n",
              "</div>"
            ],
            "text/plain": [
              "                mark  avg_days_diff\n",
              "0                Aro       1.000000\n",
              "1               SEAT       3.500000\n",
              "2             Datsun       7.000000\n",
              "3           DongFeng      10.500000\n",
              "4         Alfa Romeo      14.000000\n",
              "..               ...            ...\n",
              "85                MG     176.750000\n",
              "86        Great Wall     183.800000\n",
              "87             Rover     195.000000\n",
              "88             Scion     213.000000\n",
              "89  Ретро-автомобили     214.666667\n",
              "\n",
              "[90 rows x 2 columns]"
            ]
          },
          "execution_count": 57,
          "metadata": {},
          "output_type": "execute_result"
        }
      ],
      "source": [
        "sql = f\"\"\"\n",
        "SELECT mark, avg(days_diff) as avg_days_diff FROM (\n",
        "SELECT\n",
        "mark, advert_id,\n",
        "(max(max_date) - min(min_date)) days_diff\n",
        "FROM {database_rw}.{prj_main_agg_view_2}\n",
        "WHERE mark is not Null\n",
        "GROUP BY\n",
        "mark, advert_id\n",
        " )\n",
        "GROUP BY mark\n",
        "ORDER BY avg_days_diff\n",
        "\"\"\"\n",
        "result, columns = client_rw.execute(sql, with_column_types=True)\n",
        "pd.DataFrame(result, columns=[tuple[0] for tuple in columns])"
      ]
    },
    {
      "cell_type": "markdown",
      "id": "49fd41fb-7bcf-4d65-907d-c688a512c150",
      "metadata": {
        "id": "49fd41fb-7bcf-4d65-907d-c688a512c150"
      },
      "source": [
        "Ответ:\n",
        "1. Aro, SEAT, Datsun, DongFeng, Alfa Romeo\n",
        "2. Ретро-автомобили, Scion, Rover, Great Wall, MG"
      ]
    },
    {
      "cell_type": "markdown",
      "id": "77ab216e-895a-446e-a3f5-b81177285acc",
      "metadata": {
        "id": "77ab216e-895a-446e-a3f5-b81177285acc"
      },
      "source": [
        "#### Кейс 2. Вопрос 3: Определите, какую долю объявлений от общей базы составляют эти группы (суммарно ТОП-5 марок, продающихся быстрее всего и ТОП-5 марок, продающихся медленнее всего). ####"
      ]
    },
    {
      "cell_type": "code",
      "execution_count": null,
      "id": "06583eec-f8a3-4f6d-b588-025db5367eff",
      "metadata": {
        "id": "06583eec-f8a3-4f6d-b588-025db5367eff",
        "outputId": "abc81cb5-ce31-4b5d-8707-6999c07787c1"
      },
      "outputs": [
        {
          "data": {
            "text/html": [
              "<div>\n",
              "<style scoped>\n",
              "    .dataframe tbody tr th:only-of-type {\n",
              "        vertical-align: middle;\n",
              "    }\n",
              "\n",
              "    .dataframe tbody tr th {\n",
              "        vertical-align: top;\n",
              "    }\n",
              "\n",
              "    .dataframe thead th {\n",
              "        text-align: right;\n",
              "    }\n",
              "</style>\n",
              "<table border=\"1\" class=\"dataframe\">\n",
              "  <thead>\n",
              "    <tr style=\"text-align: right;\">\n",
              "      <th></th>\n",
              "      <th>advert_ratio</th>\n",
              "    </tr>\n",
              "  </thead>\n",
              "  <tbody>\n",
              "    <tr>\n",
              "      <th>0</th>\n",
              "      <td>0.032579</td>\n",
              "    </tr>\n",
              "  </tbody>\n",
              "</table>\n",
              "</div>"
            ],
            "text/plain": [
              "   advert_ratio\n",
              "0      0.032579"
            ]
          },
          "execution_count": 69,
          "metadata": {},
          "output_type": "execute_result"
        }
      ],
      "source": [
        "sql = f\"\"\"\n",
        "WITH first_5_last_5_marks AS (\n",
        "SELECT mark FROM (\n",
        "SELECT\n",
        "  mark,\n",
        "  advert_id,\n",
        "  (max(max_date) - min(min_date)) days_diff\n",
        "FROM {database_rw}.{prj_main_agg_view_2}\n",
        "WHERE mark is not Null\n",
        "GROUP BY\n",
        "  mark,\n",
        "  advert_id )\n",
        "GROUP BY mark\n",
        "ORDER BY avg(days_diff)\n",
        "LIMIT 5\n",
        "UNION ALL\n",
        "SELECT mark FROM (\n",
        "SELECT\n",
        "  mark,\n",
        "  advert_id,\n",
        "  (max(max_date) - min(min_date)) days_diff\n",
        "FROM {database_rw}.{prj_main_agg_view_2}\n",
        "WHERE mark is not Null\n",
        "GROUP BY\n",
        "  mark,\n",
        "  advert_id )\n",
        "GROUP BY mark\n",
        "ORDER BY avg(days_diff) DESC\n",
        "LIMIT 5)\n",
        "\n",
        "SELECT\n",
        "  uniqExactIf(advert_id, (mark in (SELECT mark from first_5_last_5_marks)))/uniqExact(advert_id) * 100 as advert_ratio\n",
        "FROM {database_rw}.{prj_main}\n",
        "\"\"\"\n",
        "result, columns = client_rw.execute(sql, with_column_types=True)\n",
        "pd.DataFrame(result, columns=[tuple[0] for tuple in columns])"
      ]
    },
    {
      "cell_type": "markdown",
      "id": "9cc8a7a1-8084-4fc5-88a7-4d2d4ea0adc6",
      "metadata": {
        "id": "9cc8a7a1-8084-4fc5-88a7-4d2d4ea0adc6"
      },
      "source": [
        "#### Кейс 2. Вопрос 4: Определите, какую долю пользователей от общего количества листеров составляют эти группы (суммарно ТОП-5 марок, продающихся быстрее всего и ТОП-5 марок, продающихся медленнее всего)."
      ]
    },
    {
      "cell_type": "code",
      "execution_count": null,
      "id": "ddccfffd-8e6a-4d64-8319-807d8536435b",
      "metadata": {
        "id": "ddccfffd-8e6a-4d64-8319-807d8536435b",
        "outputId": "c8ce5b72-5be8-4d7c-896b-6799cc6d0709"
      },
      "outputs": [
        {
          "data": {
            "text/html": [
              "<div>\n",
              "<style scoped>\n",
              "    .dataframe tbody tr th:only-of-type {\n",
              "        vertical-align: middle;\n",
              "    }\n",
              "\n",
              "    .dataframe tbody tr th {\n",
              "        vertical-align: top;\n",
              "    }\n",
              "\n",
              "    .dataframe thead th {\n",
              "        text-align: right;\n",
              "    }\n",
              "</style>\n",
              "<table border=\"1\" class=\"dataframe\">\n",
              "  <thead>\n",
              "    <tr style=\"text-align: right;\">\n",
              "      <th></th>\n",
              "      <th>percent</th>\n",
              "    </tr>\n",
              "  </thead>\n",
              "  <tbody>\n",
              "    <tr>\n",
              "      <th>0</th>\n",
              "      <td>0.177406</td>\n",
              "    </tr>\n",
              "  </tbody>\n",
              "</table>\n",
              "</div>"
            ],
            "text/plain": [
              "    percent\n",
              "0  0.177406"
            ]
          },
          "execution_count": 82,
          "metadata": {},
          "output_type": "execute_result"
        }
      ],
      "source": [
        "sql = f\"\"\"\n",
        "WITH first_5_last_5_marks AS (\n",
        "SELECT mark FROM (\n",
        "SELECT\n",
        "  mark,\n",
        "  advert_id,\n",
        "  (max(max_date) - min(min_date)) days_diff\n",
        "FROM {database_rw}.{prj_main_agg_view_2}\n",
        "WHERE mark is not Null\n",
        "GROUP BY\n",
        " mark,\n",
        " advert_id )\n",
        "GROUP BY mark\n",
        "ORDER BY avg(days_diff)\n",
        "LIMIT 5\n",
        "UNION ALL\n",
        "SELECT mark FROM (\n",
        "SELECT\n",
        "  mark,\n",
        "  advert_id,\n",
        "  (max(max_date) - min(min_date)) days_diff\n",
        "FROM {database_rw}.{prj_main_agg_view_2}\n",
        "WHERE mark is not Null\n",
        "GROUP BY\n",
        "  mark,\n",
        "  advert_id )\n",
        "GROUP BY mark\n",
        "ORDER BY avg(days_diff) DESC\n",
        "LIMIT 5)\n",
        "\n",
        "SELECT\n",
        "  uniqIf(user_id, (mark in (SELECT mark from first_5_last_5_marks))) / (uniq(user_id)) * 100 as percent\n",
        "FROM {database_rw}.{prj_main}\n",
        "\"\"\"\n",
        "result, columns = client_rw.execute(sql, with_column_types=True)\n",
        "pd.DataFrame(result, columns=[tuple[0] for tuple in columns])"
      ]
    },
    {
      "cell_type": "markdown",
      "id": "c5a1a512-a2b1-4b1f-ac8b-56a5446610c6",
      "metadata": {
        "id": "c5a1a512-a2b1-4b1f-ac8b-56a5446610c6"
      },
      "source": [
        "#### Кейс 3. Вопрос 5: Как изменилось время ухода объявлений в архив за полгода? ####\n",
        "Cравнить время ухода объявления в архив по когорте объявлений, появившихся в период с 1 декабря 2020 по 1 января 2021 с временем ухода в архив для когорты объявлений, появившихся с 1 июня 2021 по 1 июля 2021."
      ]
    },
    {
      "cell_type": "code",
      "execution_count": null,
      "id": "01f2bdba-740f-4120-b405-92ec05d6c073",
      "metadata": {
        "id": "01f2bdba-740f-4120-b405-92ec05d6c073"
      },
      "outputs": [],
      "source": [
        "# Посчитаем время ухода в архив для всех объявлений и построим график.\n",
        "#Здесь нужно учитывать, что многие объявления все еще активны на последнюю дату и мы увидим \"Ошибку выжившего\" - чем ближе к последней дате, тем \"быстрее\" закрываются объявления\n",
        "sql = f\"\"\"\n",
        "SELECT\n",
        "  min(min_date) as date,\n",
        "  max(max_date) - min(min_date) as days_diff\n",
        "FROM\n",
        "{database_rw}.{prj_main_agg_view_3}\n",
        "GROUP BY\n",
        "  user_type_name,\n",
        "  mark,\n",
        "  advert_id\n",
        "HAVING max(max_date) <  (SELECT max(execution_date) FROM {database_rw}.{prj_main}) --and toYYYYMM(min(min_date)) in [202012, 202106]\n",
        "\"\"\"\n",
        "result, columns = client_rw.execute(sql, with_column_types=True)\n",
        "df = pd.DataFrame(result, columns=[tuple[0] for tuple in columns])"
      ]
    },
    {
      "cell_type": "code",
      "execution_count": null,
      "id": "1feb4d2d-06a1-41aa-aa81-57d65464b403",
      "metadata": {
        "id": "1feb4d2d-06a1-41aa-aa81-57d65464b403"
      },
      "outputs": [],
      "source": [
        "# Посмотрим на процент незакрытых на последнюю дату объявлений в каждом месяце\n",
        "sql = f\"\"\"\n",
        "WITH ads as (SELECT\n",
        "  advert_id,\n",
        "  min(min_date) as date,\n",
        "  max(max_date) as max_date,\n",
        "  toStartOfMonth(date) as cohort\n",
        "FROM\n",
        "{database_rw}.{prj_main_agg_view_3}\n",
        "GROUP BY\n",
        "  user_type_name,\n",
        "  mark,\n",
        "  advert_id)\n",
        "\n",
        "SELECT\n",
        "cohort, round((countIf(max_date = (SELECT max(execution_date) FROM {database_rw}.{prj_main})) / count(advert_id)) * 100, 2) as percent_open\n",
        "FROM ads\n",
        "GROUP BY cohort\n",
        "\"\"\"\n",
        "result, columns = client_rw.execute(sql, with_column_types=True)\n",
        "df1 = pd.DataFrame(result, columns=[tuple[0] for tuple in columns])"
      ]
    },
    {
      "cell_type": "code",
      "execution_count": null,
      "id": "f566465f-8255-4268-898c-c235948e1039",
      "metadata": {
        "id": "f566465f-8255-4268-898c-c235948e1039"
      },
      "outputs": [],
      "source": [
        "# Построим гистограмму, чтобы увидеть распределение длительности жизни объявлений, открытых в декабрьскую и июньскую когорты\n",
        "sql = f\"\"\"\n",
        "SELECT\n",
        "  toStartOfMonth(min(min_date)) as cohort,\n",
        "  max(max_date) - min(min_date) as days_diff\n",
        "FROM\n",
        "{database_rw}.{prj_main_agg_view_3}\n",
        "GROUP BY\n",
        "  user_type_name,\n",
        "  mark,\n",
        "  advert_id\n",
        "HAVING max(max_date) <  (SELECT max(execution_date) FROM {database_rw}.{prj_main}) and toYYYYMM(min(min_date)) in [202012, 202106]\n",
        "\"\"\"\n",
        "result, columns = client_rw.execute(sql, with_column_types=True)\n",
        "df2 = pd.DataFrame(result, columns=[tuple[0] for tuple in columns])"
      ]
    },
    {
      "cell_type": "code",
      "execution_count": null,
      "id": "d6fce013-c2b1-4e5b-891d-c78802c9a8ff",
      "metadata": {
        "id": "d6fce013-c2b1-4e5b-891d-c78802c9a8ff",
        "outputId": "4b5ba8d4-267d-4afd-b668-75504ba94faf"
      },
      "outputs": [
        {
          "data": {
            "image/png": "[encoded data removed]",
            "text/plain": [
              "<Figure size 1440x720 with 2 Axes>"
            ]
          },
          "metadata": {
            "needs_background": "light"
          },
          "output_type": "display_data"
        }
      ],
      "source": [
        "fig, axes = plt.subplots(figsize=(20, 10), nrows = 2)\n",
        "sns.lineplot(data=df, x = 'date', y = 'days_diff', ax = axes[0]).set_title('Среднее количество дней до ухода в архив объявления')\n",
        "sns.barplot(data=df1, x = 'cohort', y = 'percent_open', color = 'grey', ax = axes[1], errwidth=0).set_title('Процент объявлений, не ушедших в архив на последнюю дату в БД по месяцам')\n",
        "axes[1].set(ylim=(0, 100));\n",
        "for i in axes[1].containers:\n",
        "    axes[1].bar_label(i)\n",
        "plt.show()"
      ]
    },
    {
      "cell_type": "code",
      "execution_count": null,
      "id": "444cef86-4d04-4a02-8238-d9431d03da4c",
      "metadata": {
        "id": "444cef86-4d04-4a02-8238-d9431d03da4c",
        "outputId": "00f483c3-8b58-44f3-f351-461dd56f1184"
      },
      "outputs": [
        {
          "data": {
            "image/png": "[encoded data removed]",
            "text/plain": [
              "<Figure size 1440x360 with 1 Axes>"
            ]
          },
          "metadata": {
            "needs_background": "light"
          },
          "output_type": "display_data"
        }
      ],
      "source": [
        "fig, axes = plt.subplots(figsize=(20, 5))\n",
        "sns.histplot(data=df2, x = 'days_diff', hue='cohort', bins = 100, alpha = 0.3).set_title('Распределение времени жизни объявлений из декабрьской и июньской когорт');"
      ]
    },
    {
      "cell_type": "markdown",
      "id": "6bd8806b-fbc7-4ba2-ab31-854e7cae1b3e",
      "metadata": {
        "id": "6bd8806b-fbc7-4ba2-ab31-854e7cae1b3e"
      },
      "source": [
        "Из последнего графика можно сделать вывод, что время ухода объявлений в архив уменьшилось"
      ]
    },
    {
      "cell_type": "markdown",
      "id": "a6a0fddd-2b58-44fe-a0b8-2f818e1ee32b",
      "metadata": {
        "id": "a6a0fddd-2b58-44fe-a0b8-2f818e1ee32b"
      },
      "source": [
        "#### Кейс 3. Вопрос 6: На сколько дней изменилось среднее время ухода в архив в июньской когорте относительно декабрьской когорты? ####"
      ]
    },
    {
      "cell_type": "code",
      "execution_count": null,
      "id": "ea34e329-a2b0-4562-8780-4b7ae9906435",
      "metadata": {
        "id": "ea34e329-a2b0-4562-8780-4b7ae9906435",
        "outputId": "21fee04a-fd69-4149-e4af-a665d8d1c685"
      },
      "outputs": [
        {
          "data": {
            "text/plain": [
              "cohort\n",
              "2020-12-01           NaN\n",
              "2021-06-01   -176.575945\n",
              "Name: days_diff, dtype: float64"
            ]
          },
          "execution_count": 248,
          "metadata": {},
          "output_type": "execute_result"
        }
      ],
      "source": [
        "df2.groupby('cohort')['days_diff'].mean().diff()"
      ]
    },
    {
      "cell_type": "markdown",
      "id": "68d85268-a5c5-4e49-a668-8e5b8960e52e",
      "metadata": {
        "id": "68d85268-a5c5-4e49-a668-8e5b8960e52e"
      },
      "source": [
        "Уменьшилось на 177 дней"
      ]
    },
    {
      "cell_type": "markdown",
      "id": "2004441c-aa1d-4c3c-b8e4-de557793950e",
      "metadata": {
        "id": "2004441c-aa1d-4c3c-b8e4-de557793950e"
      },
      "source": [
        "#### Кейс 3. Вопрос 7: По каким маркам время ухода в архив выросло больше всего между декабрьской и июньской когортами? ####"
      ]
    },
    {
      "cell_type": "code",
      "execution_count": null,
      "id": "2857d002-ba95-40bf-bece-70555c67fd0c",
      "metadata": {
        "id": "2857d002-ba95-40bf-bece-70555c67fd0c"
      },
      "outputs": [],
      "source": [
        "# Воспользуемся оконной функцией lagInFrame и посчитаем разницу в днях между декабрьской и июньской когортами внутри партиции mark\n",
        "sql = f\"\"\"\n",
        "SELECT mark,  cohort_days_diff - avg_days_diff as diff FROM (\n",
        "SELECT\n",
        "  mark,\n",
        "  cohort,\n",
        "  avg(days_diff) as avg_days_diff,\n",
        "  lagInFrame(avg_days_diff) OVER (\n",
        "    PARTITION BY mark\n",
        "    ORDER BY\n",
        "      cohort ROWS BETWEEN 1 PRECEDING\n",
        "      AND 1 FOLLOWING\n",
        "  ) as cohort_days_diff\n",
        "FROM\n",
        "  (\n",
        "    SELECT\n",
        "      mark,\n",
        "      toStartOfMonth(min(min_date)) as cohort,\n",
        "      (max(max_date) - min(min_date)) days_diff\n",
        "    FROM\n",
        "      { database_rw }.{ prj_main_agg_view_2 }\n",
        "    WHERE\n",
        "      mark is not Null\n",
        "    GROUP BY\n",
        "      mark,\n",
        "      advert_id\n",
        "    HAVING\n",
        "      toYYYYMM(min(min_date)) in [202012, 202106]\n",
        "  )\n",
        "GROUP BY\n",
        "  mark,\n",
        "  cohort\n",
        ")\n",
        "WHERE cohort_days_diff > 0\n",
        "ORDER BY\n",
        "  diff\n",
        "\"\"\"\n",
        "result, columns = client_rw.execute(sql, with_column_types=True)\n",
        "df3 = pd.DataFrame(result, columns=[tuple[0] for tuple in columns])"
      ]
    },
    {
      "cell_type": "code",
      "execution_count": null,
      "id": "47cd0bdd-976b-483a-903b-c23f8281df03",
      "metadata": {
        "id": "47cd0bdd-976b-483a-903b-c23f8281df03",
        "outputId": "79825db9-463d-434f-fe71-b20237686869"
      },
      "outputs": [
        {
          "data": {
            "text/html": [
              "<div>\n",
              "<style scoped>\n",
              "    .dataframe tbody tr th:only-of-type {\n",
              "        vertical-align: middle;\n",
              "    }\n",
              "\n",
              "    .dataframe tbody tr th {\n",
              "        vertical-align: top;\n",
              "    }\n",
              "\n",
              "    .dataframe thead th {\n",
              "        text-align: right;\n",
              "    }\n",
              "</style>\n",
              "<table border=\"1\" class=\"dataframe\">\n",
              "  <thead>\n",
              "    <tr style=\"text-align: right;\">\n",
              "      <th></th>\n",
              "      <th>mark</th>\n",
              "      <th>diff</th>\n",
              "    </tr>\n",
              "  </thead>\n",
              "  <tbody>\n",
              "    <tr>\n",
              "      <th>0</th>\n",
              "      <td>Renault</td>\n",
              "      <td>-107.000000</td>\n",
              "    </tr>\n",
              "    <tr>\n",
              "      <th>1</th>\n",
              "      <td>Honda</td>\n",
              "      <td>59.342857</td>\n",
              "    </tr>\n",
              "    <tr>\n",
              "      <th>2</th>\n",
              "      <td>Lexus</td>\n",
              "      <td>100.928571</td>\n",
              "    </tr>\n",
              "    <tr>\n",
              "      <th>3</th>\n",
              "      <td>Subaru</td>\n",
              "      <td>104.000000</td>\n",
              "    </tr>\n",
              "    <tr>\n",
              "      <th>4</th>\n",
              "      <td>Toyota</td>\n",
              "      <td>116.428638</td>\n",
              "    </tr>\n",
              "  </tbody>\n",
              "</table>\n",
              "</div>"
            ],
            "text/plain": [
              "      mark        diff\n",
              "0  Renault -107.000000\n",
              "1    Honda   59.342857\n",
              "2    Lexus  100.928571\n",
              "3   Subaru  104.000000\n",
              "4   Toyota  116.428638"
            ]
          },
          "execution_count": 298,
          "metadata": {},
          "output_type": "execute_result"
        }
      ],
      "source": [
        "df3.head()"
      ]
    },
    {
      "cell_type": "markdown",
      "id": "7696a6d6-b3c1-47ec-9b69-cbb25f83585a",
      "metadata": {
        "id": "7696a6d6-b3c1-47ec-9b69-cbb25f83585a"
      },
      "source": [
        "Время ухода в архив выросло только у Renault"
      ]
    },
    {
      "cell_type": "markdown",
      "id": "56ed541b-64b0-4a11-8fc4-d4e10fed4439",
      "metadata": {
        "id": "56ed541b-64b0-4a11-8fc4-d4e10fed4439"
      },
      "source": [
        "#### Кейс 3. Вопрос 8: У каких пользователей изменение времени продажи выше? ####\n",
        "На этот вопрос нам поможет ответить Boxplot"
      ]
    },
    {
      "cell_type": "code",
      "execution_count": null,
      "id": "fa031524-2a94-4bc4-87b3-c239541a5ae8",
      "metadata": {
        "id": "fa031524-2a94-4bc4-87b3-c239541a5ae8"
      },
      "outputs": [],
      "source": [
        "sql = f\"\"\"\n",
        "SELECT\n",
        "  user_type_name,\n",
        "  toStartOfMonth(min(min_date)) as cohort,\n",
        "  max(max_date) - min(min_date) as days_diff\n",
        "FROM\n",
        "{database_rw}.{prj_main_agg_view_3}\n",
        "GROUP BY\n",
        "  user_type_name,\n",
        "  mark,\n",
        "  advert_id\n",
        "HAVING max(max_date) <  (SELECT max(execution_date) FROM {database_rw}.{prj_main}) and toYYYYMM(min(min_date)) in [202012, 202106]\n",
        "\"\"\"\n",
        "result, columns = client_rw.execute(sql, with_column_types=True)\n",
        "df4 = pd.DataFrame(result, columns=[tuple[0] for tuple in columns])"
      ]
    },
    {
      "cell_type": "code",
      "execution_count": null,
      "id": "b0dd906c-e8fe-4f97-9f04-2faee001084b",
      "metadata": {
        "id": "b0dd906c-e8fe-4f97-9f04-2faee001084b",
        "outputId": "05ca0b20-b63b-415f-9523-1d3ba4f862e7"
      },
      "outputs": [
        {
          "data": {
            "image/png": "[encoded data removed]",
            "text/plain": [
              "<Figure size 720x360 with 2 Axes>"
            ]
          },
          "metadata": {
            "needs_background": "light"
          },
          "output_type": "display_data"
        }
      ],
      "source": [
        "sns.catplot(x='user_type_name',y='days_diff', data=df4, kind='box',col='cohort', showmeans=True);"
      ]
    },
    {
      "cell_type": "markdown",
      "id": "baa8bcc3-103e-424c-8c66-7167c3353366",
      "metadata": {
        "id": "baa8bcc3-103e-424c-8c66-7167c3353366"
      },
      "source": [
        "У категории profi разница между средними значениями в когортах больше, чем у simple user"
      ]
    },
    {
      "cell_type": "code",
      "execution_count": null,
      "id": "10eab76b-5ac1-49fe-89bc-bc5d7f5fdefc",
      "metadata": {
        "id": "10eab76b-5ac1-49fe-89bc-bc5d7f5fdefc"
      },
      "outputs": [],
      "source": []
    }
  ],
  "metadata": {
    "kernelspec": {
      "display_name": "Python 3 (ipykernel)",
      "language": "python",
      "name": "python3"
    },
    "language_info": {
      "codemirror_mode": {
        "name": "ipython",
        "version": 3
      },
      "file_extension": ".py",
      "mimetype": "text/x-python",
      "name": "python",
      "nbconvert_exporter": "python",
      "pygments_lexer": "ipython3",
      "version": "3.8.10"
    },
    "colab": {
      "provenance": [],
      "include_colab_link": true
    }
  },
  "nbformat": 4,
  "nbformat_minor": 5
}