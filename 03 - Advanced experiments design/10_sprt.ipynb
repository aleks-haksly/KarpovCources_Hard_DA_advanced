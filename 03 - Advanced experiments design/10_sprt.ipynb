{
  "nbformat": 4,
  "nbformat_minor": 0,
  "metadata": {
    "colab": {
      "provenance": [],
      "authorship_tag": "ABX9TyOoH1UA4YNicYYhjP/IqtUv",
      "include_colab_link": true
    },
    "kernelspec": {
      "name": "python3",
      "display_name": "Python 3"
    },
    "language_info": {
      "name": "python"
    },
    "widgets": {
      "application/vnd.jupyter.widget-state+json": {
        "6478dd9b8ab84b99a2aaf38d7c4c789a": {
          "model_module": "@jupyter-widgets/controls",
          "model_name": "HBoxModel",
          "model_module_version": "1.5.0",
          "state": {
            "_dom_classes": [],
            "_model_module": "@jupyter-widgets/controls",
            "_model_module_version": "1.5.0",
            "_model_name": "HBoxModel",
            "_view_count": null,
            "_view_module": "@jupyter-widgets/controls",
            "_view_module_version": "1.5.0",
            "_view_name": "HBoxView",
            "box_style": "",
            "children": [
              "IPY_MODEL_69c0698a325a4b7e97b767167cc77e52",
              "IPY_MODEL_6ccfd061a2d84cc2ab7187a7b647dd42",
              "IPY_MODEL_9a3e280afd9a4a38a69056df3e4f028b"
            ],
            "layout": "IPY_MODEL_f78626c2c50c4ab3a64b24d7023f81b9"
          }
        },
        "69c0698a325a4b7e97b767167cc77e52": {
          "model_module": "@jupyter-widgets/controls",
          "model_name": "HTMLModel",
          "model_module_version": "1.5.0",
          "state": {
            "_dom_classes": [],
            "_model_module": "@jupyter-widgets/controls",
            "_model_module_version": "1.5.0",
            "_model_name": "HTMLModel",
            "_view_count": null,
            "_view_module": "@jupyter-widgets/controls",
            "_view_module_version": "1.5.0",
            "_view_name": "HTMLView",
            "description": "",
            "description_tooltip": null,
            "layout": "IPY_MODEL_67d89d9ae29b49eca8e5293ce8fa7ace",
            "placeholder": "​",
            "style": "IPY_MODEL_2990c3bc0dfb405cbd51efcf04ccd53f",
            "value": "100%"
          }
        },
        "6ccfd061a2d84cc2ab7187a7b647dd42": {
          "model_module": "@jupyter-widgets/controls",
          "model_name": "FloatProgressModel",
          "model_module_version": "1.5.0",
          "state": {
            "_dom_classes": [],
            "_model_module": "@jupyter-widgets/controls",
            "_model_module_version": "1.5.0",
            "_model_name": "FloatProgressModel",
            "_view_count": null,
            "_view_module": "@jupyter-widgets/controls",
            "_view_module_version": "1.5.0",
            "_view_name": "ProgressView",
            "bar_style": "success",
            "description": "",
            "description_tooltip": null,
            "layout": "IPY_MODEL_cbdd77fb9e034b07aacead62452858ff",
            "max": 300,
            "min": 0,
            "orientation": "horizontal",
            "style": "IPY_MODEL_e0e7e43d1a764e3c915822c94227f4a7",
            "value": 300
          }
        },
        "9a3e280afd9a4a38a69056df3e4f028b": {
          "model_module": "@jupyter-widgets/controls",
          "model_name": "HTMLModel",
          "model_module_version": "1.5.0",
          "state": {
            "_dom_classes": [],
            "_model_module": "@jupyter-widgets/controls",
            "_model_module_version": "1.5.0",
            "_model_name": "HTMLModel",
            "_view_count": null,
            "_view_module": "@jupyter-widgets/controls",
            "_view_module_version": "1.5.0",
            "_view_name": "HTMLView",
            "description": "",
            "description_tooltip": null,
            "layout": "IPY_MODEL_2fc17ce0b3d94cb59b122248a7de6791",
            "placeholder": "​",
            "style": "IPY_MODEL_bc78eb998ec34507863e2c6e8c4f959b",
            "value": " 300/300 [05:47&lt;00:00,  1.21it/s]"
          }
        },
        "f78626c2c50c4ab3a64b24d7023f81b9": {
          "model_module": "@jupyter-widgets/base",
          "model_name": "LayoutModel",
          "model_module_version": "1.2.0",
          "state": {
            "_model_module": "@jupyter-widgets/base",
            "_model_module_version": "1.2.0",
            "_model_name": "LayoutModel",
            "_view_count": null,
            "_view_module": "@jupyter-widgets/base",
            "_view_module_version": "1.2.0",
            "_view_name": "LayoutView",
            "align_content": null,
            "align_items": null,
            "align_self": null,
            "border": null,
            "bottom": null,
            "display": null,
            "flex": null,
            "flex_flow": null,
            "grid_area": null,
            "grid_auto_columns": null,
            "grid_auto_flow": null,
            "grid_auto_rows": null,
            "grid_column": null,
            "grid_gap": null,
            "grid_row": null,
            "grid_template_areas": null,
            "grid_template_columns": null,
            "grid_template_rows": null,
            "height": null,
            "justify_content": null,
            "justify_items": null,
            "left": null,
            "margin": null,
            "max_height": null,
            "max_width": null,
            "min_height": null,
            "min_width": null,
            "object_fit": null,
            "object_position": null,
            "order": null,
            "overflow": null,
            "overflow_x": null,
            "overflow_y": null,
            "padding": null,
            "right": null,
            "top": null,
            "visibility": null,
            "width": null
          }
        },
        "67d89d9ae29b49eca8e5293ce8fa7ace": {
          "model_module": "@jupyter-widgets/base",
          "model_name": "LayoutModel",
          "model_module_version": "1.2.0",
          "state": {
            "_model_module": "@jupyter-widgets/base",
            "_model_module_version": "1.2.0",
            "_model_name": "LayoutModel",
            "_view_count": null,
            "_view_module": "@jupyter-widgets/base",
            "_view_module_version": "1.2.0",
            "_view_name": "LayoutView",
            "align_content": null,
            "align_items": null,
            "align_self": null,
            "border": null,
            "bottom": null,
            "display": null,
            "flex": null,
            "flex_flow": null,
            "grid_area": null,
            "grid_auto_columns": null,
            "grid_auto_flow": null,
            "grid_auto_rows": null,
            "grid_column": null,
            "grid_gap": null,
            "grid_row": null,
            "grid_template_areas": null,
            "grid_template_columns": null,
            "grid_template_rows": null,
            "height": null,
            "justify_content": null,
            "justify_items": null,
            "left": null,
            "margin": null,
            "max_height": null,
            "max_width": null,
            "min_height": null,
            "min_width": null,
            "object_fit": null,
            "object_position": null,
            "order": null,
            "overflow": null,
            "overflow_x": null,
            "overflow_y": null,
            "padding": null,
            "right": null,
            "top": null,
            "visibility": null,
            "width": null
          }
        },
        "2990c3bc0dfb405cbd51efcf04ccd53f": {
          "model_module": "@jupyter-widgets/controls",
          "model_name": "DescriptionStyleModel",
          "model_module_version": "1.5.0",
          "state": {
            "_model_module": "@jupyter-widgets/controls",
            "_model_module_version": "1.5.0",
            "_model_name": "DescriptionStyleModel",
            "_view_count": null,
            "_view_module": "@jupyter-widgets/base",
            "_view_module_version": "1.2.0",
            "_view_name": "StyleView",
            "description_width": ""
          }
        },
        "cbdd77fb9e034b07aacead62452858ff": {
          "model_module": "@jupyter-widgets/base",
          "model_name": "LayoutModel",
          "model_module_version": "1.2.0",
          "state": {
            "_model_module": "@jupyter-widgets/base",
            "_model_module_version": "1.2.0",
            "_model_name": "LayoutModel",
            "_view_count": null,
            "_view_module": "@jupyter-widgets/base",
            "_view_module_version": "1.2.0",
            "_view_name": "LayoutView",
            "align_content": null,
            "align_items": null,
            "align_self": null,
            "border": null,
            "bottom": null,
            "display": null,
            "flex": null,
            "flex_flow": null,
            "grid_area": null,
            "grid_auto_columns": null,
            "grid_auto_flow": null,
            "grid_auto_rows": null,
            "grid_column": null,
            "grid_gap": null,
            "grid_row": null,
            "grid_template_areas": null,
            "grid_template_columns": null,
            "grid_template_rows": null,
            "height": null,
            "justify_content": null,
            "justify_items": null,
            "left": null,
            "margin": null,
            "max_height": null,
            "max_width": null,
            "min_height": null,
            "min_width": null,
            "object_fit": null,
            "object_position": null,
            "order": null,
            "overflow": null,
            "overflow_x": null,
            "overflow_y": null,
            "padding": null,
            "right": null,
            "top": null,
            "visibility": null,
            "width": null
          }
        },
        "e0e7e43d1a764e3c915822c94227f4a7": {
          "model_module": "@jupyter-widgets/controls",
          "model_name": "ProgressStyleModel",
          "model_module_version": "1.5.0",
          "state": {
            "_model_module": "@jupyter-widgets/controls",
            "_model_module_version": "1.5.0",
            "_model_name": "ProgressStyleModel",
            "_view_count": null,
            "_view_module": "@jupyter-widgets/base",
            "_view_module_version": "1.2.0",
            "_view_name": "StyleView",
            "bar_color": null,
            "description_width": ""
          }
        },
        "2fc17ce0b3d94cb59b122248a7de6791": {
          "model_module": "@jupyter-widgets/base",
          "model_name": "LayoutModel",
          "model_module_version": "1.2.0",
          "state": {
            "_model_module": "@jupyter-widgets/base",
            "_model_module_version": "1.2.0",
            "_model_name": "LayoutModel",
            "_view_count": null,
            "_view_module": "@jupyter-widgets/base",
            "_view_module_version": "1.2.0",
            "_view_name": "LayoutView",
            "align_content": null,
            "align_items": null,
            "align_self": null,
            "border": null,
            "bottom": null,
            "display": null,
            "flex": null,
            "flex_flow": null,
            "grid_area": null,
            "grid_auto_columns": null,
            "grid_auto_flow": null,
            "grid_auto_rows": null,
            "grid_column": null,
            "grid_gap": null,
            "grid_row": null,
            "grid_template_areas": null,
            "grid_template_columns": null,
            "grid_template_rows": null,
            "height": null,
            "justify_content": null,
            "justify_items": null,
            "left": null,
            "margin": null,
            "max_height": null,
            "max_width": null,
            "min_height": null,
            "min_width": null,
            "object_fit": null,
            "object_position": null,
            "order": null,
            "overflow": null,
            "overflow_x": null,
            "overflow_y": null,
            "padding": null,
            "right": null,
            "top": null,
            "visibility": null,
            "width": null
          }
        },
        "bc78eb998ec34507863e2c6e8c4f959b": {
          "model_module": "@jupyter-widgets/controls",
          "model_name": "DescriptionStyleModel",
          "model_module_version": "1.5.0",
          "state": {
            "_model_module": "@jupyter-widgets/controls",
            "_model_module_version": "1.5.0",
            "_model_name": "DescriptionStyleModel",
            "_view_count": null,
            "_view_module": "@jupyter-widgets/base",
            "_view_module_version": "1.2.0",
            "_view_name": "StyleView",
            "description_width": ""
          }
        }
      }
    }
  },
  "cells": [
    {
      "cell_type": "markdown",
      "metadata": {
        "id": "view-in-github",
        "colab_type": "text"
      },
      "source": [
        "<a href=\"https://colab.research.google.com/github/aleks-haksly/KarpovCources_Hard_DA_advanced/blob/main/03%20-%20Advanced%20experiments%20design/10_sprt.ipynb\" target=\"_parent\"><img src=\"https://colab.research.google.com/assets/colab-badge.svg\" alt=\"Open In Colab\"/></a>"
      ]
    },
    {
      "cell_type": "code",
      "execution_count": null,
      "metadata": {
        "id": "5pGR6HrbptQ9"
      },
      "outputs": [],
      "source": [
        "import pandas as pd\n",
        "import numpy as np\n",
        "import matplotlib.pyplot as plt\n",
        "import seaborn as sns\n",
        "from statsmodels.stats.proportion import proportions_ztest, proportion_effectsize, proportion_confint\n",
        "from statsmodels.stats.power import NormalIndPower\n",
        "import math\n",
        "from tqdm.notebook import tqdm"
      ]
    },
    {
      "cell_type": "code",
      "source": [
        "!wget https://raw.githubusercontent.com/aleks-haksly/AB_advanced/main/Part14%20-%20SPRT/Data/SPRT_homework_1.csv -q"
      ],
      "metadata": {
        "id": "kqf0QylY0kYw"
      },
      "execution_count": null,
      "outputs": []
    },
    {
      "cell_type": "code",
      "source": [
        "data = pd.read_csv(\"/content/SPRT_homework_1.csv\")"
      ],
      "metadata": {
        "id": "OZA5Sj4lo_2w"
      },
      "execution_count": null,
      "outputs": []
    },
    {
      "cell_type": "markdown",
      "source": [
        "## Задание 1 ##\n",
        "Проведите базовый z-тест на пропорцию. Тест двусторонний.\n",
        "\n",
        "Введите значение p-value в поле ниже с точностью до трех знаков в десятичной части."
      ],
      "metadata": {
        "id": "kIODtuCSrZaa"
      }
    },
    {
      "cell_type": "code",
      "source": [
        "stat, pval = proportions_ztest([data.cont_conv_A.sum(), data.cont_conv_B.sum()], [data.cont_conv_A.count(), data.cont_conv_B.count()], alternative='two-sided')"
      ],
      "metadata": {
        "id": "4DiC7yNzpYGP"
      },
      "execution_count": null,
      "outputs": []
    },
    {
      "cell_type": "code",
      "source": [
        "round(pval, 3)"
      ],
      "metadata": {
        "id": "4MP0d950pf7Q",
        "outputId": "64eb2fd3-eddd-4bc0-b95a-750b60b42281",
        "colab": {
          "base_uri": "https://localhost:8080/"
        }
      },
      "execution_count": null,
      "outputs": [
        {
          "output_type": "execute_result",
          "data": {
            "text/plain": [
              "0.024"
            ]
          },
          "metadata": {},
          "execution_count": 5
        }
      ]
    },
    {
      "cell_type": "markdown",
      "source": [
        "## Задание 2 (1/2) ##\n",
        "Проведите SPRT.\n",
        "\n",
        "Параметры для проведения теста следующие:\n",
        "\n",
        "alpha = 0.05\n",
        "beta = 0.2\n",
        "относительный mde = 0.05 от средней cont_conv_A в группе А\n",
        "\n",
        "\n",
        "Укажите, какая гипотеза верна по мнению SPRT?\n",
        "На каком размере выборки SPRT останавливается и делает вывод?"
      ],
      "metadata": {
        "id": "FEP9lZ69rrVJ"
      }
    },
    {
      "cell_type": "code",
      "source": [
        "alpha = 0.05\n",
        "beta = 0.2\n",
        "rel_mde = 0.05\n",
        "mde_abs = data.cont_conv_A.mean() * rel_mde\n",
        "mde_abs"
      ],
      "metadata": {
        "id": "Oo-_L34RqnoM",
        "outputId": "f8e2155f-4210-4b72-d85b-4c54120629e2",
        "colab": {
          "base_uri": "https://localhost:8080/"
        }
      },
      "execution_count": null,
      "outputs": [
        {
          "output_type": "execute_result",
          "data": {
            "text/plain": [
              "0.00853090601185436"
            ]
          },
          "metadata": {},
          "execution_count": 9
        }
      ]
    },
    {
      "cell_type": "code",
      "source": [
        "data.head()"
      ],
      "metadata": {
        "id": "2PqM4jicf2VU",
        "outputId": "af717416-6df8-4c91-f68c-719b8785829c",
        "colab": {
          "base_uri": "https://localhost:8080/",
          "height": 206
        }
      },
      "execution_count": null,
      "outputs": [
        {
          "output_type": "execute_result",
          "data": {
            "text/plain": [
              "   cont_conv_A  cont_conv_B\n",
              "0            0            0\n",
              "1            0            0\n",
              "2            1            0\n",
              "3            1            0\n",
              "4            0            0"
            ],
            "text/html": [
              "\n",
              "  <div id=\"df-0c67a43a-e8da-409a-a2a6-746eb5d2f12f\" class=\"colab-df-container\">\n",
              "    <div>\n",
              "<style scoped>\n",
              "    .dataframe tbody tr th:only-of-type {\n",
              "        vertical-align: middle;\n",
              "    }\n",
              "\n",
              "    .dataframe tbody tr th {\n",
              "        vertical-align: top;\n",
              "    }\n",
              "\n",
              "    .dataframe thead th {\n",
              "        text-align: right;\n",
              "    }\n",
              "</style>\n",
              "<table border=\"1\" class=\"dataframe\">\n",
              "  <thead>\n",
              "    <tr style=\"text-align: right;\">\n",
              "      <th></th>\n",
              "      <th>cont_conv_A</th>\n",
              "      <th>cont_conv_B</th>\n",
              "    </tr>\n",
              "  </thead>\n",
              "  <tbody>\n",
              "    <tr>\n",
              "      <th>0</th>\n",
              "      <td>0</td>\n",
              "      <td>0</td>\n",
              "    </tr>\n",
              "    <tr>\n",
              "      <th>1</th>\n",
              "      <td>0</td>\n",
              "      <td>0</td>\n",
              "    </tr>\n",
              "    <tr>\n",
              "      <th>2</th>\n",
              "      <td>1</td>\n",
              "      <td>0</td>\n",
              "    </tr>\n",
              "    <tr>\n",
              "      <th>3</th>\n",
              "      <td>1</td>\n",
              "      <td>0</td>\n",
              "    </tr>\n",
              "    <tr>\n",
              "      <th>4</th>\n",
              "      <td>0</td>\n",
              "      <td>0</td>\n",
              "    </tr>\n",
              "  </tbody>\n",
              "</table>\n",
              "</div>\n",
              "    <div class=\"colab-df-buttons\">\n",
              "\n",
              "  <div class=\"colab-df-container\">\n",
              "    <button class=\"colab-df-convert\" onclick=\"convertToInteractive('df-0c67a43a-e8da-409a-a2a6-746eb5d2f12f')\"\n",
              "            title=\"Convert this dataframe to an interactive table.\"\n",
              "            style=\"display:none;\">\n",
              "\n",
              "  <svg xmlns=\"http://www.w3.org/2000/svg\" height=\"24px\" viewBox=\"0 -960 960 960\">\n",
              "    <path d=\"M120-120v-720h720v720H120Zm60-500h600v-160H180v160Zm220 220h160v-160H400v160Zm0 220h160v-160H400v160ZM180-400h160v-160H180v160Zm440 0h160v-160H620v160ZM180-180h160v-160H180v160Zm440 0h160v-160H620v160Z\"/>\n",
              "  </svg>\n",
              "    </button>\n",
              "\n",
              "  <style>\n",
              "    .colab-df-container {\n",
              "      display:flex;\n",
              "      gap: 12px;\n",
              "    }\n",
              "\n",
              "    .colab-df-convert {\n",
              "      background-color: #E8F0FE;\n",
              "      border: none;\n",
              "      border-radius: 50%;\n",
              "      cursor: pointer;\n",
              "      display: none;\n",
              "      fill: #1967D2;\n",
              "      height: 32px;\n",
              "      padding: 0 0 0 0;\n",
              "      width: 32px;\n",
              "    }\n",
              "\n",
              "    .colab-df-convert:hover {\n",
              "      background-color: #E2EBFA;\n",
              "      box-shadow: 0px 1px 2px rgba(60, 64, 67, 0.3), 0px 1px 3px 1px rgba(60, 64, 67, 0.15);\n",
              "      fill: #174EA6;\n",
              "    }\n",
              "\n",
              "    .colab-df-buttons div {\n",
              "      margin-bottom: 4px;\n",
              "    }\n",
              "\n",
              "    [theme=dark] .colab-df-convert {\n",
              "      background-color: #3B4455;\n",
              "      fill: #D2E3FC;\n",
              "    }\n",
              "\n",
              "    [theme=dark] .colab-df-convert:hover {\n",
              "      background-color: #434B5C;\n",
              "      box-shadow: 0px 1px 3px 1px rgba(0, 0, 0, 0.15);\n",
              "      filter: drop-shadow(0px 1px 2px rgba(0, 0, 0, 0.3));\n",
              "      fill: #FFFFFF;\n",
              "    }\n",
              "  </style>\n",
              "\n",
              "    <script>\n",
              "      const buttonEl =\n",
              "        document.querySelector('#df-0c67a43a-e8da-409a-a2a6-746eb5d2f12f button.colab-df-convert');\n",
              "      buttonEl.style.display =\n",
              "        google.colab.kernel.accessAllowed ? 'block' : 'none';\n",
              "\n",
              "      async function convertToInteractive(key) {\n",
              "        const element = document.querySelector('#df-0c67a43a-e8da-409a-a2a6-746eb5d2f12f');\n",
              "        const dataTable =\n",
              "          await google.colab.kernel.invokeFunction('convertToInteractive',\n",
              "                                                    [key], {});\n",
              "        if (!dataTable) return;\n",
              "\n",
              "        const docLinkHtml = 'Like what you see? Visit the ' +\n",
              "          '<a target=\"_blank\" href=https://colab.research.google.com/notebooks/data_table.ipynb>data table notebook</a>'\n",
              "          + ' to learn more about interactive tables.';\n",
              "        element.innerHTML = '';\n",
              "        dataTable['output_type'] = 'display_data';\n",
              "        await google.colab.output.renderOutput(dataTable, element);\n",
              "        const docLink = document.createElement('div');\n",
              "        docLink.innerHTML = docLinkHtml;\n",
              "        element.appendChild(docLink);\n",
              "      }\n",
              "    </script>\n",
              "  </div>\n",
              "\n",
              "\n",
              "<div id=\"df-5666b651-9c52-4c25-b483-f77d24f896c5\">\n",
              "  <button class=\"colab-df-quickchart\" onclick=\"quickchart('df-5666b651-9c52-4c25-b483-f77d24f896c5')\"\n",
              "            title=\"Suggest charts\"\n",
              "            style=\"display:none;\">\n",
              "\n",
              "<svg xmlns=\"http://www.w3.org/2000/svg\" height=\"24px\"viewBox=\"0 0 24 24\"\n",
              "     width=\"24px\">\n",
              "    <g>\n",
              "        <path d=\"M19 3H5c-1.1 0-2 .9-2 2v14c0 1.1.9 2 2 2h14c1.1 0 2-.9 2-2V5c0-1.1-.9-2-2-2zM9 17H7v-7h2v7zm4 0h-2V7h2v10zm4 0h-2v-4h2v4z\"/>\n",
              "    </g>\n",
              "</svg>\n",
              "  </button>\n",
              "\n",
              "<style>\n",
              "  .colab-df-quickchart {\n",
              "      --bg-color: #E8F0FE;\n",
              "      --fill-color: #1967D2;\n",
              "      --hover-bg-color: #E2EBFA;\n",
              "      --hover-fill-color: #174EA6;\n",
              "      --disabled-fill-color: #AAA;\n",
              "      --disabled-bg-color: #DDD;\n",
              "  }\n",
              "\n",
              "  [theme=dark] .colab-df-quickchart {\n",
              "      --bg-color: #3B4455;\n",
              "      --fill-color: #D2E3FC;\n",
              "      --hover-bg-color: #434B5C;\n",
              "      --hover-fill-color: #FFFFFF;\n",
              "      --disabled-bg-color: #3B4455;\n",
              "      --disabled-fill-color: #666;\n",
              "  }\n",
              "\n",
              "  .colab-df-quickchart {\n",
              "    background-color: var(--bg-color);\n",
              "    border: none;\n",
              "    border-radius: 50%;\n",
              "    cursor: pointer;\n",
              "    display: none;\n",
              "    fill: var(--fill-color);\n",
              "    height: 32px;\n",
              "    padding: 0;\n",
              "    width: 32px;\n",
              "  }\n",
              "\n",
              "  .colab-df-quickchart:hover {\n",
              "    background-color: var(--hover-bg-color);\n",
              "    box-shadow: 0 1px 2px rgba(60, 64, 67, 0.3), 0 1px 3px 1px rgba(60, 64, 67, 0.15);\n",
              "    fill: var(--button-hover-fill-color);\n",
              "  }\n",
              "\n",
              "  .colab-df-quickchart-complete:disabled,\n",
              "  .colab-df-quickchart-complete:disabled:hover {\n",
              "    background-color: var(--disabled-bg-color);\n",
              "    fill: var(--disabled-fill-color);\n",
              "    box-shadow: none;\n",
              "  }\n",
              "\n",
              "  .colab-df-spinner {\n",
              "    border: 2px solid var(--fill-color);\n",
              "    border-color: transparent;\n",
              "    border-bottom-color: var(--fill-color);\n",
              "    animation:\n",
              "      spin 1s steps(1) infinite;\n",
              "  }\n",
              "\n",
              "  @keyframes spin {\n",
              "    0% {\n",
              "      border-color: transparent;\n",
              "      border-bottom-color: var(--fill-color);\n",
              "      border-left-color: var(--fill-color);\n",
              "    }\n",
              "    20% {\n",
              "      border-color: transparent;\n",
              "      border-left-color: var(--fill-color);\n",
              "      border-top-color: var(--fill-color);\n",
              "    }\n",
              "    30% {\n",
              "      border-color: transparent;\n",
              "      border-left-color: var(--fill-color);\n",
              "      border-top-color: var(--fill-color);\n",
              "      border-right-color: var(--fill-color);\n",
              "    }\n",
              "    40% {\n",
              "      border-color: transparent;\n",
              "      border-right-color: var(--fill-color);\n",
              "      border-top-color: var(--fill-color);\n",
              "    }\n",
              "    60% {\n",
              "      border-color: transparent;\n",
              "      border-right-color: var(--fill-color);\n",
              "    }\n",
              "    80% {\n",
              "      border-color: transparent;\n",
              "      border-right-color: var(--fill-color);\n",
              "      border-bottom-color: var(--fill-color);\n",
              "    }\n",
              "    90% {\n",
              "      border-color: transparent;\n",
              "      border-bottom-color: var(--fill-color);\n",
              "    }\n",
              "  }\n",
              "</style>\n",
              "\n",
              "  <script>\n",
              "    async function quickchart(key) {\n",
              "      const quickchartButtonEl =\n",
              "        document.querySelector('#' + key + ' button');\n",
              "      quickchartButtonEl.disabled = true;  // To prevent multiple clicks.\n",
              "      quickchartButtonEl.classList.add('colab-df-spinner');\n",
              "      try {\n",
              "        const charts = await google.colab.kernel.invokeFunction(\n",
              "            'suggestCharts', [key], {});\n",
              "      } catch (error) {\n",
              "        console.error('Error during call to suggestCharts:', error);\n",
              "      }\n",
              "      quickchartButtonEl.classList.remove('colab-df-spinner');\n",
              "      quickchartButtonEl.classList.add('colab-df-quickchart-complete');\n",
              "    }\n",
              "    (() => {\n",
              "      let quickchartButtonEl =\n",
              "        document.querySelector('#df-5666b651-9c52-4c25-b483-f77d24f896c5 button');\n",
              "      quickchartButtonEl.style.display =\n",
              "        google.colab.kernel.accessAllowed ? 'block' : 'none';\n",
              "    })();\n",
              "  </script>\n",
              "</div>\n",
              "\n",
              "    </div>\n",
              "  </div>\n"
            ],
            "application/vnd.google.colaboratory.intrinsic+json": {
              "type": "dataframe",
              "variable_name": "data",
              "summary": "{\n  \"name\": \"data\",\n  \"rows\": 21258,\n  \"fields\": [\n    {\n      \"column\": \"cont_conv_A\",\n      \"properties\": {\n        \"dtype\": \"number\",\n        \"std\": 0,\n        \"min\": 0,\n        \"max\": 1,\n        \"num_unique_values\": 2,\n        \"samples\": [\n          1,\n          0\n        ],\n        \"semantic_type\": \"\",\n        \"description\": \"\"\n      }\n    },\n    {\n      \"column\": \"cont_conv_B\",\n      \"properties\": {\n        \"dtype\": \"number\",\n        \"std\": 0,\n        \"min\": 0,\n        \"max\": 1,\n        \"num_unique_values\": 2,\n        \"samples\": [\n          1,\n          0\n        ],\n        \"semantic_type\": \"\",\n        \"description\": \"\"\n      }\n    }\n  ]\n}"
            }
          },
          "metadata": {},
          "execution_count": 7
        }
      ]
    },
    {
      "cell_type": "code",
      "source": [
        "# создадим функцию проводящую тест на проверку гипотезы о равенстве долей с попощью SPRT\n",
        "def get_decision_list_sprt_binom(values_A, values_B, alpha = 0.05, beta = 0.2, mde = 0.1):\n",
        "    ''' Функция проводящая SPRT анализ для пропорций (долей, конверсий)\n",
        "    values_A - массив значенений коверсии (0, 1) в группе А\n",
        "    values_B - массив значенений коверсии (0, 1) в группе И\n",
        "    alpha - уровень статзначимости, который выдерживает SPRT\n",
        "    beta - уровень ошибки второго рода, который выдерживает SPRT\n",
        "    mde - абсолютная разница между долями в двух группах, MDE проверяемый в SPRT\n",
        "\n",
        "    return\n",
        "    - early_stop_index: индекс на котором SPRT остановился и принял решение.\n",
        "        Если по результатам всех наблюдений SPRT не смог принять решение возвращается len(data)\n",
        "    - inference: какая гипотеза была принята по результатам SPRT\n",
        "    - left_bound_list: массив границ для принятия решения. Длиной early_stop_index\n",
        "    - right_bound_list: массив границ для принятия решения. Длиной early_stop_index\n",
        "    - S_list: массив рассчитываемых значений отражающих изменение динамики разницы долей. Длиной early_stop_index\n",
        "    - cum_diff_list: массив кумулятивной нарастающей разницы между долями в двух группах. Длиной early_stop_index\n",
        "    '''\n",
        "    min_len = int(np.mean([len(values_A), len(values_B)]))\n",
        "    A = math.log(beta/(1 - alpha))\n",
        "    B = math.log((1 - beta)/alpha)\n",
        "    p = (values_A.mean() + values_B.mean())/2 # генеральная доля по двум выборкам\n",
        "\n",
        "    left_bound_list = []\n",
        "    right_bound_list = []\n",
        "    S_list = []\n",
        "    cum_diff_list = []\n",
        "\n",
        "    for i in range(100, min_len):\n",
        "        p0_i = np.mean(values_A[0:i])\n",
        "        p1_i = np.mean(values_B[0:i])\n",
        "\n",
        "        #p = (p0_i + p1_i)/2\n",
        "\n",
        "        disp = p * (1 - p)\n",
        "        diff = p1_i - p0_i\n",
        "        left_bound = 2 * disp * A / mde\n",
        "        right_bound = 2 * disp *  B / mde\n",
        "\n",
        "        S = (i + 1) * (diff - mde/2)\n",
        "\n",
        "        left_bound_list.append(left_bound)\n",
        "        right_bound_list.append(right_bound)\n",
        "        S_list.append(S)\n",
        "        cum_diff_list.append(diff)\n",
        "\n",
        "        if S < left_bound:\n",
        "            return {'early_stop_index':i, 'inference':'Accept H0', 'left_bound_list': left_bound_list, 'right_bound_list': right_bound_list, 'S_list': S_list, 'cum_diff_list':cum_diff_list}\n",
        "        if S > right_bound:\n",
        "            return {'early_stop_index':i, 'inference':'Accept H1', 'left_bound_list': left_bound_list, 'right_bound_list': right_bound_list, 'S_list': S_list, 'cum_diff_list':cum_diff_list}\n",
        "    return {'early_stop_index':i, 'inference':'Continue', 'left_bound_list': left_bound_list, 'right_bound_list': right_bound_list, 'S_list': S_list, 'cum_diff_list':cum_diff_list}"
      ],
      "metadata": {
        "id": "JlJFRtHPf6pB"
      },
      "execution_count": null,
      "outputs": []
    },
    {
      "cell_type": "code",
      "source": [
        "inference_object  = get_decision_list_sprt_binom(data.cont_conv_A, data.cont_conv_B, alpha=alpha, beta=beta, mde=mde_abs)"
      ],
      "metadata": {
        "id": "9JXIMdslgEfn"
      },
      "execution_count": null,
      "outputs": []
    },
    {
      "cell_type": "code",
      "source": [
        "print('Result:', inference_object['inference'])\n",
        "print('На каком наблюдении сделан вывод:', inference_object['early_stop_index'])\n",
        "\n",
        "fig, axes = plt.subplots(2, figsize=(15,12))\n",
        "\n",
        "sns.lineplot(ax=axes[0], x = np.arange(1, len(inference_object['right_bound_list'])+1), y = inference_object['right_bound_list'], ls = '--', label='right bound')\n",
        "sns.lineplot(ax=axes[0], x = np.arange(1, len(inference_object['left_bound_list'])+1), y = inference_object['left_bound_list'], ls = '--', label='left bound')\n",
        "sns.lineplot(ax=axes[0], x = np.arange(1, len(inference_object['S_list'])+1), y = inference_object['S_list'], label='S')\n",
        "axes[0].set_ylabel(ylabel = \"S\")\n",
        "axes[0].text(y = np.quantile(inference_object['S_list'], 0.65), x = len(inference_object['S_list']) * 0.01, s = inference_object['inference'], fontsize = 16)\n",
        "axes[0].legend()\n",
        "\n",
        "sns.lineplot(ax=axes[1], x = np.arange(1, len(inference_object['right_bound_list'])+1), y = inference_object['cum_diff_list'], label='mean cum diff', linewidth=2)\n",
        "axes[1].axhline(mde_abs, ls='--', color='gray', label = 'Expected ABS MDE')\n",
        "axes[1].set_ylabel(ylabel = \"Cumulative mean\")\n",
        "axes[1].legend();"
      ],
      "metadata": {
        "id": "WXWLLHpkgjYI",
        "outputId": "8ed70c9e-d50f-4977-9d14-957ddae8d087",
        "colab": {
          "base_uri": "https://localhost:8080/",
          "height": 1000
        }
      },
      "execution_count": null,
      "outputs": [
        {
          "output_type": "stream",
          "name": "stdout",
          "text": [
            "Result: Accept H1\n",
            "На каком наблюдении сделан вывод: 15314\n"
          ]
        },
        {
          "output_type": "display_data",
          "data": {
            "text/plain": [
              "<Figure size 1500x1200 with 2 Axes>"
            ],
            "image/png": "[encoded data removed]"
          },
          "metadata": {}
        }
      ]
    },
    {
      "cell_type": "markdown",
      "source": [
        "## Задание 3 (1/4) ##\n",
        "Найдите среднее время остановки (размер выборки) SPRT для текущих данных и сравните с Fixed Horizon.\n",
        "\n",
        "В этом степе определим размер выборки, необходимый для Fixed Horizon.\n",
        "\n",
        "Параметры дизайна\n",
        "\n",
        "* относительный MDE = 0.05\n",
        "* альфа = 0.05\n",
        "* бета = 0.2\n",
        "* гипотеза - двусторонняя\n",
        "* пропорция в выборке 50/50\n",
        "* исторические данные - данные по конверсии в группе А"
      ],
      "metadata": {
        "id": "rEaj0sH1jW6I"
      }
    },
    {
      "cell_type": "code",
      "source": [
        "rel_mde = 0.05\n",
        "alpha = 0.05\n",
        "beta =0.2\n",
        "alternative = 'two-sided'\n",
        "ratio = 1"
      ],
      "metadata": {
        "id": "DA8J8e0yhE-Y"
      },
      "execution_count": null,
      "outputs": []
    },
    {
      "cell_type": "code",
      "source": [
        "p1 = data.cont_conv_A.mean()\n",
        "p2 = p1 * (1 + rel_mde)\n",
        "prop_effectsize = proportion_effectsize(p1, p2)"
      ],
      "metadata": {
        "id": "ODfpKUkKlVK9"
      },
      "execution_count": null,
      "outputs": []
    },
    {
      "cell_type": "code",
      "source": [
        "sample_size = NormalIndPower().solve_power(effect_size = prop_effectsize, power = 1- beta, alpha = alpha, ratio = ratio)"
      ],
      "metadata": {
        "id": "HIjDcj9un2pj"
      },
      "execution_count": null,
      "outputs": []
    },
    {
      "cell_type": "code",
      "source": [
        "print(f\"размер выборки, необходимый для Fixed Horizon = {sample_size:.0f}\")"
      ],
      "metadata": {
        "id": "KxJR0ntYlwkT",
        "outputId": "64c79a27-9013-4b99-9f2d-623eb53112dc",
        "colab": {
          "base_uri": "https://localhost:8080/"
        }
      },
      "execution_count": null,
      "outputs": [
        {
          "output_type": "stream",
          "name": "stdout",
          "text": [
            "размер выборки, необходимый для Fixed Horizon = 31121\n"
          ]
        }
      ]
    },
    {
      "cell_type": "markdown",
      "source": [
        "## Задание 3 (2/4) ##\n",
        "\n",
        "В этом степе определим среднее время остановки для АА симуляций\n",
        "\n",
        "## Задание 3 (3/4) ##\n",
        "В этом степе определим среднее время остановки для АБ симуляций\n",
        "\n",
        "Параметры симуляции те же, что и в предыдущем степе.\n",
        "\n",
        "Параметры симуляции\n",
        "\n",
        "* перед запуском указать np.random.seed(2)\n",
        "* кол-во симуляций = 300\n",
        "* для симуляции будем брать исторические данные многократно выборки кодом `np.random.choice(data['cont_conv_A'], size = len(data['cont_conv_A']))`. replace по умолчанию = True\n",
        "*  размер выборок в симуляции = sample size с предыдущего шага\n",
        "для получения требуемого ответа в цикле нужно делать обе симуляции одновременно (АА и АВ)"
      ],
      "metadata": {
        "id": "2-2iULLJpjk0"
      }
    },
    {
      "cell_type": "code",
      "source": [
        "nsim = 300\n",
        "rel_mde = 0.05\n",
        "fixed_horizon_sample_size = 31121\n",
        "abs_effect = data.cont_conv_A.mean() * rel_mde\n"
      ],
      "metadata": {
        "id": "7NhW-2p0mBY0"
      },
      "execution_count": null,
      "outputs": []
    },
    {
      "cell_type": "code",
      "source": [
        "aa_inference = []\n",
        "ab_inference = []\n",
        "np.random.seed(2)\n",
        "for _ in tqdm(range(nsim)):\n",
        "  a1_sample = np.random.choice(data['cont_conv_A'], size = fixed_horizon_sample_size)\n",
        "  a2_sample = np.random.choice(data['cont_conv_A'], size = fixed_horizon_sample_size)\n",
        "  b_sample = np.random.choice(data['cont_conv_B'], size = fixed_horizon_sample_size)\n",
        "  aa_inference.append(get_decision_list_sprt_binom(a1_sample, a2_sample, mde = abs_effect))\n",
        "  ab_inference.append(get_decision_list_sprt_binom(a1_sample, b_sample, mde = abs_effect))"
      ],
      "metadata": {
        "colab": {
          "base_uri": "https://localhost:8080/",
          "height": 49,
          "referenced_widgets": [
            "6478dd9b8ab84b99a2aaf38d7c4c789a",
            "69c0698a325a4b7e97b767167cc77e52",
            "6ccfd061a2d84cc2ab7187a7b647dd42",
            "9a3e280afd9a4a38a69056df3e4f028b",
            "f78626c2c50c4ab3a64b24d7023f81b9",
            "67d89d9ae29b49eca8e5293ce8fa7ace",
            "2990c3bc0dfb405cbd51efcf04ccd53f",
            "cbdd77fb9e034b07aacead62452858ff",
            "e0e7e43d1a764e3c915822c94227f4a7",
            "2fc17ce0b3d94cb59b122248a7de6791",
            "bc78eb998ec34507863e2c6e8c4f959b"
          ]
        },
        "id": "HQUxoObG5FdB",
        "outputId": "8bca25ff-488f-46b3-821a-326639c8b654"
      },
      "execution_count": null,
      "outputs": [
        {
          "output_type": "display_data",
          "data": {
            "text/plain": [
              "  0%|          | 0/300 [00:00<?, ?it/s]"
            ],
            "application/vnd.jupyter.widget-view+json": {
              "version_major": 2,
              "version_minor": 0,
              "model_id": "6478dd9b8ab84b99a2aaf38d7c4c789a"
            }
          },
          "metadata": {}
        }
      ]
    },
    {
      "cell_type": "code",
      "source": [
        "aa_early_stop_indexes = round(np.mean([stop['early_stop_index'] for stop in aa_inference]))\n",
        "ab_early_stop_indexes = round(np.mean([stop['early_stop_index'] for stop in ab_inference]))\n",
        "print(\"среднее время остановки для АА симуляций = \", round(np.mean(aa_early_stop_indexes)))\n",
        "print(\"среднее время остановки для АB симуляций = \", round(np.mean(ab_early_stop_indexes)))"
      ],
      "metadata": {
        "colab": {
          "base_uri": "https://localhost:8080/"
        },
        "id": "zdtT3ieeFCDC",
        "outputId": "0dd2d32c-fd81-4b4f-8178-4bd3e0aaf79d"
      },
      "execution_count": null,
      "outputs": [
        {
          "output_type": "stream",
          "name": "stdout",
          "text": [
            "среднее время остановки для АА симуляций =  10696\n",
            "среднее время остановки для АB симуляций =  14547\n"
          ]
        }
      ]
    },
    {
      "cell_type": "markdown",
      "source": [
        "## Задание 3 (4/4) ##\n",
        "Оцените мощность SPRT методики на наших данных группы А и Б и относительном MDE = 0.05.\n",
        "\n",
        "Параметры симуляции те же.\n",
        "\n",
        "Введите значение в поле ниже с точностью до трех знаков в десятичной части."
      ],
      "metadata": {
        "id": "9nkMKEYEK0FN"
      }
    },
    {
      "cell_type": "code",
      "source": [
        "power = np.mean([1 if stop['inference'] == 'Accept H1' else 0 for stop in ab_inference])"
      ],
      "metadata": {
        "id": "2_9_-gjJI5SE"
      },
      "execution_count": null,
      "outputs": []
    },
    {
      "cell_type": "code",
      "source": [
        "print(f\"Мощность SPRT методики на наших данных группы А и Б = {power:.3f}\")"
      ],
      "metadata": {
        "colab": {
          "base_uri": "https://localhost:8080/"
        },
        "id": "-8QZJ_owKiZO",
        "outputId": "2df570e0-0271-4cf3-f5b3-3bca9baa706d"
      },
      "execution_count": null,
      "outputs": [
        {
          "output_type": "stream",
          "name": "stdout",
          "text": [
            "Мощность SPRT методики на наших данных группы А и Б = 0.737\n"
          ]
        }
      ]
    },
    {
      "cell_type": "code",
      "source": [
        "power_CI_95 = proportion_confint(sum([1 if stop['inference'] == 'Accept H1' else 0 for stop in ab_inference]), len([1 if stop['inference'] == 'Accept H1' else 0 for stop in ab_inference]))\n",
        "print(\"Power 95% CI:\", power_CI_95)"
      ],
      "metadata": {
        "id": "ROB2v88CLjwY",
        "outputId": "be9ffd6c-8180-4b43-f9f9-1ee1478ebde9",
        "colab": {
          "base_uri": "https://localhost:8080/"
        }
      },
      "execution_count": null,
      "outputs": [
        {
          "output_type": "stream",
          "name": "stdout",
          "text": [
            "Power 95% CI: (0.6868269125093385, 0.7865064208239949)\n"
          ]
        }
      ]
    },
    {
      "cell_type": "code",
      "source": [],
      "metadata": {
        "id": "CuHe-mEbLxE5"
      },
      "execution_count": null,
      "outputs": []
    }
  ]
}