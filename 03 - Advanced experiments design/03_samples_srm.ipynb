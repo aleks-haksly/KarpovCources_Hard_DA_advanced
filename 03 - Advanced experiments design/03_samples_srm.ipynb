{
  "nbformat": 4,
  "nbformat_minor": 0,
  "metadata": {
    "colab": {
      "provenance": [],
      "authorship_tag": "ABX9TyPTPvAm9VXmrO9wBPHl3eWI",
      "include_colab_link": true
    },
    "kernelspec": {
      "name": "python3",
      "display_name": "Python 3"
    },
    "language_info": {
      "name": "python"
    }
  },
  "cells": [
    {
      "cell_type": "markdown",
      "metadata": {
        "id": "view-in-github",
        "colab_type": "text"
      },
      "source": [
        "<a href=\"https://colab.research.google.com/github/aleks-haksly/KarpovCources_Hard_DA_advanced/blob/main/03%20-%20Advanced%20experiments%20design/03_samples_srm.ipynb\" target=\"_parent\"><img src=\"https://colab.research.google.com/assets/colab-badge.svg\" alt=\"Open In Colab\"/></a>"
      ]
    },
    {
      "cell_type": "markdown",
      "source": [
        "## Задание 1 ##\n",
        "Разделите пользователей на две группы по размеру выручки:\n",
        "* платящие (revenue > 0) и\n",
        "* неплатящие (revenue = 0).\n",
        "\n",
        "Добавьте эту информацию в новый столбец 'vas'. Найдите среднюю по всему датасету долю платящих.\n",
        "Введите ответ в поле ниже с точностью до ТРЕХ знаков в десятичной части."
      ],
      "metadata": {
        "id": "fHEsc3FpWuwV"
      }
    },
    {
      "cell_type": "code",
      "execution_count": null,
      "metadata": {
        "id": "N3vtClpGM6hS"
      },
      "outputs": [],
      "source": [
        "import pandas as pd\n",
        "import numpy as np\n",
        "data = pd.read_csv('homework_task_2.csv')\n",
        "from statsmodels.stats.proportion import proportions_ztest\n",
        "import scipy.stats as ss"
      ]
    },
    {
      "cell_type": "code",
      "source": [
        "# Проверим качество имебщихся у нас данных\n",
        "data.isna().sum()\n",
        "# Видим, что в данных есть пропуски. В данном случае строки с пропусками необходимо удалить."
      ],
      "metadata": {
        "colab": {
          "base_uri": "https://localhost:8080/"
        },
        "id": "1uq7Y18DckUc",
        "outputId": "b671a59d-784b-4ef5-b7c6-c6ff8f4ee01d"
      },
      "execution_count": null,
      "outputs": [
        {
          "output_type": "execute_result",
          "data": {
            "text/plain": [
              "passport_id               0\n",
              "region                 3470\n",
              "platform               3470\n",
              "user_type_cars_name    6472\n",
              "number_ads                0\n",
              "revenue                   0\n",
              "dtype: int64"
            ]
          },
          "metadata": {},
          "execution_count": 69
        }
      ]
    },
    {
      "cell_type": "code",
      "source": [
        "# Удаляем строки с провусками в любых полях\n",
        "data.dropna(axis=0, how='any', subset=None, inplace=True)\n",
        "# Проверяем, что удаление прошло успешно\n",
        "data.isna().sum()"
      ],
      "metadata": {
        "colab": {
          "base_uri": "https://localhost:8080/"
        },
        "id": "DVsBkJaEgM8y",
        "outputId": "bac1035b-e35f-4687-9755-e79ff99000af"
      },
      "execution_count": null,
      "outputs": [
        {
          "output_type": "execute_result",
          "data": {
            "text/plain": [
              "passport_id            0\n",
              "region                 0\n",
              "platform               0\n",
              "user_type_cars_name    0\n",
              "number_ads             0\n",
              "revenue                0\n",
              "dtype: int64"
            ]
          },
          "metadata": {},
          "execution_count": 70
        }
      ]
    },
    {
      "cell_type": "code",
      "source": [
        "data['vas'] = np.where(data.revenue > 0, 1, 0)\n",
        "print('Доля платаящих пользователей составляет %s' % round(data.vas.mean(), 3))"
      ],
      "metadata": {
        "colab": {
          "base_uri": "https://localhost:8080/"
        },
        "id": "8bidcQeVdM-q",
        "outputId": "593f0316-8751-4cd1-99ef-4ead104a10f0"
      },
      "execution_count": null,
      "outputs": [
        {
          "output_type": "stream",
          "name": "stdout",
          "text": [
            "Доля платаящих пользователей составляет 0.523\n"
          ]
        }
      ]
    },
    {
      "cell_type": "markdown",
      "source": [
        "## Задание 2 (1/4) ##\n",
        "Получите случайную стратифицированную выборку размером ~5% от исходного датасета homework_task_2 (уже очищенного от данных с пропусками). Для формирования выборки используйте параметр frac = 0.05.\n",
        "\n",
        "Необходимо стратифицировать выборку по следующим параметрам ['region', 'platform', 'user_type_cars_name', 'vas'], сохранив соотношения как в исходном датасете. Порядок указания параметров, по которым мы стратифицируем, стоит оставить таким же, как в задании.\n",
        "\n",
        "При формировании стратифицированной выборки используйте np.random.seed(42), чтобы у всех получился одинаковый датасет."
      ],
      "metadata": {
        "id": "YtLw72Z0XAKO"
      }
    },
    {
      "cell_type": "code",
      "source": [
        "# Мой вариант\n",
        "sample_1 = data.groupby(['region', 'platform', 'user_type_cars_name', 'vas'], as_index=False).sample(frac=0.05, replace=False, random_state=42)"
      ],
      "metadata": {
        "id": "JY8JSB9idMBN"
      },
      "execution_count": null,
      "outputs": []
    },
    {
      "cell_type": "code",
      "source": [
        "# Из лекции\n",
        "sample_2 = (data.groupby(['region', 'platform', 'user_type_cars_name', 'vas'], group_keys = False)\n",
        "                    .apply(lambda x: x.sample(frac=0.05, replace=False, random_state=42)))"
      ],
      "metadata": {
        "id": "YuE-UjfZ3agV"
      },
      "execution_count": null,
      "outputs": []
    },
    {
      "cell_type": "markdown",
      "source": [
        "## Задание 2 (2/4) ##\n",
        "Найдите размер полученной выборки."
      ],
      "metadata": {
        "id": "THySsSGOXM0X"
      }
    },
    {
      "cell_type": "code",
      "source": [
        "print(\"размер полученной выборки %s\" % smaple_1.shape[0])"
      ],
      "metadata": {
        "id": "6l7jmpelXW0d",
        "colab": {
          "base_uri": "https://localhost:8080/"
        },
        "outputId": "d9a2493b-d25c-4e3c-de9d-720bd238e39f"
      },
      "execution_count": null,
      "outputs": [
        {
          "output_type": "stream",
          "name": "stdout",
          "text": [
            "размер полученной выборки 6478\n"
          ]
        }
      ]
    },
    {
      "cell_type": "markdown",
      "source": [
        "## Задание 2 (3/4) ##\n",
        "Найдите средний процент платящих пользователей по стратифицированной выборке.\n",
        "\n",
        "Введите ответ в поле ниже с точностью до трех знаков в десятичной части."
      ],
      "metadata": {
        "id": "9xQZ1h75XXEv"
      }
    },
    {
      "cell_type": "code",
      "source": [
        "print(\"средний процент платящих пользователей по стратифицированной выборке составляет {0:.3%}\".format(sample_2.vas.mean(), ))"
      ],
      "metadata": {
        "id": "ZPF9m1EcXZUM",
        "colab": {
          "base_uri": "https://localhost:8080/"
        },
        "outputId": "bafa7c7e-6326-442e-ea52-c63603751eef"
      },
      "execution_count": null,
      "outputs": [
        {
          "output_type": "stream",
          "name": "stdout",
          "text": [
            "средний процент платящих пользователей по стратифицированной выборке составляет 52.207%\n"
          ]
        }
      ]
    },
    {
      "cell_type": "code",
      "source": [
        "round(sample_1.vas.mean()*100, 3)"
      ],
      "metadata": {
        "colab": {
          "base_uri": "https://localhost:8080/"
        },
        "id": "xQnbGJCqxq3S",
        "outputId": "af06340c-29ad-459c-d24d-b99aabed0e33"
      },
      "execution_count": null,
      "outputs": [
        {
          "output_type": "execute_result",
          "data": {
            "text/plain": [
              "52.207"
            ]
          },
          "metadata": {},
          "execution_count": 127
        }
      ]
    },
    {
      "cell_type": "markdown",
      "source": [
        "## Задание 2 (4/4) ##\n",
        "Найдите долю платформы android в стратифицированной выборке.\n",
        "\n",
        "Введите ответ в поле ниже с точностью до трех знаков в десятичной части."
      ],
      "metadata": {
        "id": "d28lxbcuXaGW"
      }
    },
    {
      "cell_type": "code",
      "source": [
        "print(\"доля платформы android в стратифицированной выборке {:.3f}\".format(np.where(sample_1.platform == 'android', 1, 0).mean()))"
      ],
      "metadata": {
        "id": "h6FT-yMkXhmY",
        "colab": {
          "base_uri": "https://localhost:8080/"
        },
        "outputId": "b9fa7c36-6e7a-4773-d81d-91f23b2430c2"
      },
      "execution_count": null,
      "outputs": [
        {
          "output_type": "stream",
          "name": "stdout",
          "text": [
            "доля платформы android в стратифицированной выборке 0.642\n"
          ]
        }
      ]
    },
    {
      "cell_type": "code",
      "source": [
        "sample_1.platform.value_counts(normalize=True)"
      ],
      "metadata": {
        "id": "pq6TxH3EENKe",
        "outputId": "81d3f1eb-405d-46e5-cbb3-357f19d45e06",
        "colab": {
          "base_uri": "https://localhost:8080/"
        }
      },
      "execution_count": null,
      "outputs": [
        {
          "output_type": "execute_result",
          "data": {
            "text/plain": [
              "platform\n",
              "android    0.642482\n",
              "ios        0.337913\n",
              "desktop    0.019296\n",
              "mobile     0.000309\n",
              "Name: proportion, dtype: float64"
            ]
          },
          "metadata": {},
          "execution_count": 139
        }
      ]
    },
    {
      "cell_type": "markdown",
      "source": [
        "## Задание 3 (1/3) ##\n",
        "Проверьте полученную выборку на репрезентативность по нескольким параметрам:\n",
        "\n",
        "* по параметру неплатящих пользователей (выборка['vas'] = 0);\n",
        "\n",
        "* по платформе Андроид (выборка['platform'] = 'android');\n",
        "\n",
        "* по типу профессионального кабинета cars_seller (выборка['user_type_cars_name'] = 'cars_seller').\n",
        "\n",
        "Введите значение p-value через z-тест с точностью до трех знаков в десятичной части для каждого из параметров в этом и следующих степах.\n",
        "\n",
        "p-value для проверки по параметру неплатящих пользователей:"
      ],
      "metadata": {
        "id": "sU_i4wFlXhvy"
      }
    },
    {
      "cell_type": "code",
      "source": [
        "from statsmodels.stats.proportion import proportions_ztest"
      ],
      "metadata": {
        "id": "Ib4clil7WvXX"
      },
      "execution_count": null,
      "outputs": []
    },
    {
      "cell_type": "code",
      "source": [
        "#  число соответствующих требованиям записей в генеральной совокупности\n",
        "#population_ratio = data.query('vas == 0 and platform == \"android\" and user_type_cars_name == \"cars_seller\"')['vas'].count() / data.shape[0]\n",
        "population_count = data.query('vas == 0')['vas'].count()\n",
        "#  число соответствующих требованиям записей в стратифицированной выборке\n",
        "sample_1_count =  sample_1.query('vas == 0')['vas'].count()"
      ],
      "metadata": {
        "id": "_5sIqPGNbnin"
      },
      "execution_count": null,
      "outputs": []
    },
    {
      "cell_type": "code",
      "source": [
        "stat, pval = proportions_ztest(count = [sample_1_count, population_count], nobs = [sample_1.shape[0], data.shape[0]])\n",
        "print(\"p-value для проверки по параметру неплатящих пользователей %s\" % round(pval, 3))"
      ],
      "metadata": {
        "id": "IoGaSbxwd15v",
        "outputId": "625c1312-7666-4836-9a01-28c4391f506f",
        "colab": {
          "base_uri": "https://localhost:8080/"
        }
      },
      "execution_count": null,
      "outputs": [
        {
          "output_type": "stream",
          "name": "stdout",
          "text": [
            "p-value для проверки по параметру неплатящих пользователей 0.928\n"
          ]
        }
      ]
    },
    {
      "cell_type": "markdown",
      "source": [
        "## Задание 3 (2/3) ##\n",
        "p-value для проверки по платформе Андроид:"
      ],
      "metadata": {
        "id": "OigwFyg-XrNy"
      }
    },
    {
      "cell_type": "code",
      "source": [
        "population_count = data.query('platform == \"android\"')['vas'].count()\n",
        "sample_1_count =  sample_1.query('platform == \"android\"')['vas'].count()\n",
        "stat, pval = proportions_ztest(count = [sample_1_count, population_count], nobs = [sample_1.shape[0], data.shape[0]])\n",
        "print(\"p-value для проверки по платформе Андроид: %s\" % round(pval, 3))"
      ],
      "metadata": {
        "id": "yS4US0_0XwFq",
        "outputId": "2e76f7c1-e1dc-4af8-d2a5-dcd53a6e6143",
        "colab": {
          "base_uri": "https://localhost:8080/"
        }
      },
      "execution_count": null,
      "outputs": [
        {
          "output_type": "stream",
          "name": "stdout",
          "text": [
            "p-value для проверки по платформе Андроид: 0.836\n"
          ]
        }
      ]
    },
    {
      "cell_type": "markdown",
      "source": [
        "## Задание 3 (3/3) ##\n",
        "p-value для проверки по типу профессионального кабинета:"
      ],
      "metadata": {
        "id": "W_8E8Ok7XwT4"
      }
    },
    {
      "cell_type": "code",
      "source": [
        "population_count = data.query('user_type_cars_name == \"cars_seller\"')['vas'].count()\n",
        "sample_1_count =  sample_1.query('user_type_cars_name == \"cars_seller\"')['vas'].count()\n",
        "stat, pval = proportions_ztest(count = [sample_1_count, population_count], nobs = [sample_1.shape[0], data.shape[0]])\n",
        "print(\"p-value для проверки по типу профессионального кабинета: %s\" % round(pval, 3))"
      ],
      "metadata": {
        "id": "j5OAPZtBXzIY",
        "outputId": "4fbdf101-7404-403f-c563-83bc73b9ef8e",
        "colab": {
          "base_uri": "https://localhost:8080/"
        }
      },
      "execution_count": null,
      "outputs": [
        {
          "output_type": "stream",
          "name": "stdout",
          "text": [
            "p-value для проверки по типу профессионального кабинета: 0.843\n"
          ]
        }
      ]
    },
    {
      "cell_type": "markdown",
      "source": [
        "## Задание 4 ##\n",
        "Переходим к работе с новым датасетом (homework_task_3.csv, скачать данные можно в первом степе). В предложенном датасете пользователи разбиты на контрольную (А) и тестовую группы (B).\n",
        "\n",
        "Дизайном эксперимента предполагается, что группы представлены в равных пропорциях. Проверьте, присутствует ли в данных нарушение сплитования (SRM) с помощью критерия chi-квадрат.\n",
        "\n",
        "Присутствует ли нарушение SRM согласно chi-квадрат критерию на уровне значимости alpha = 0.05:"
      ],
      "metadata": {
        "id": "IeiR_nmmXzXd"
      }
    },
    {
      "cell_type": "code",
      "source": [
        "# загрузим данные и проверим число наблюдений отнесенных к каждой группе\n",
        "data = pd.read_csv('homework_task_3.csv')\n",
        "data.group.value_counts()\n",
        "# уже заметен сильный дисбаланс, но проверим точно с помощью chi_2"
      ],
      "metadata": {
        "id": "K_nuFhhZX9ld",
        "colab": {
          "base_uri": "https://localhost:8080/"
        },
        "outputId": "f586e8d5-3c59-4d4f-d8a4-0c6fabde2be8"
      },
      "execution_count": null,
      "outputs": [
        {
          "output_type": "execute_result",
          "data": {
            "text/plain": [
              "group\n",
              "['B']    14270\n",
              "['A']    11748\n",
              "Name: count, dtype: int64"
            ]
          },
          "metadata": {},
          "execution_count": 94
        }
      ]
    },
    {
      "cell_type": "code",
      "source": [
        "# текущее число пользователей в тестовой и контрольной группах\n",
        "observed = [data.group.value_counts()[0], data.group.value_counts()[1]]\n",
        "\n",
        "# соотношение между двумя группами (достаточно % для одной из групп)\n",
        "ratio = 0.5\n",
        "\n",
        "# уровень значимости\n",
        "alpha = 0.05"
      ],
      "metadata": {
        "id": "HRkxx5jbk5GH"
      },
      "execution_count": null,
      "outputs": []
    },
    {
      "cell_type": "code",
      "source": [
        "# ожидаемые значения в случае групп в равных пропорциях\n",
        "expected = sum(observed)*np.array([0.5, 1 - ratio])"
      ],
      "metadata": {
        "id": "tszYoZIen12G"
      },
      "execution_count": null,
      "outputs": []
    },
    {
      "cell_type": "code",
      "source": [
        "# вычислим p_value\n",
        "stat, p_value = ss.chisquare(observed, f_exp = expected)"
      ],
      "metadata": {
        "id": "Dg9t6M-5m9DQ"
      },
      "execution_count": null,
      "outputs": []
    },
    {
      "cell_type": "code",
      "source": [
        "# Вывод о Sample Ratio Mismatch (SRM)\n",
        "print(\"SRM не наблюдается, p-value=%s\" % p_value if p_value > alpha else \"наблюдается SRM, p-value=%s\" % p_value)"
      ],
      "metadata": {
        "colab": {
          "base_uri": "https://localhost:8080/"
        },
        "id": "lQLZX-Voph1p",
        "outputId": "a9838dba-3747-471d-b750-5a2b4f088f06"
      },
      "execution_count": null,
      "outputs": [
        {
          "output_type": "stream",
          "name": "stdout",
          "text": [
            "наблюдается SRM, p-value=4.180479887875548e-55\n"
          ]
        }
      ]
    },
    {
      "cell_type": "code",
      "source": [
        "# 'Отклоняем H0 о равенстве числа пользователей в обеих группах. SRM присутствует"
      ],
      "metadata": {
        "id": "y38Cda5KqnA5"
      },
      "execution_count": null,
      "outputs": []
    },
    {
      "cell_type": "markdown",
      "source": [
        "## Задание 5 ##\n",
        "Используя метод SSRM, рассмотренный в лекции, определите, на каком числе пользователей метод позволит сказать о присутствии SRM для датасета из предыдущего задания.\n",
        "\n",
        "Для выполнения задания нужно установить модуль !pip install ssrm-test -q"
      ],
      "metadata": {
        "id": "hBShKcdFX9x6"
      }
    },
    {
      "cell_type": "code",
      "source": [
        "!pip install ssrm-test"
      ],
      "metadata": {
        "colab": {
          "base_uri": "https://localhost:8080/"
        },
        "id": "cAcu8koYtdLq",
        "outputId": "ae65a333-3ed4-4dd1-9b47-5d65cf880cf8"
      },
      "execution_count": null,
      "outputs": [
        {
          "output_type": "stream",
          "name": "stdout",
          "text": [
            "Requirement already satisfied: ssrm-test in /usr/local/lib/python3.10/dist-packages (0.1.5)\n",
            "Requirement already satisfied: numpy<2.0,>=1.16 in /usr/local/lib/python3.10/dist-packages (from ssrm-test) (1.25.2)\n",
            "Requirement already satisfied: scipy<2.0,>=1.3 in /usr/local/lib/python3.10/dist-packages (from ssrm-test) (1.11.4)\n",
            "Requirement already satisfied: toolz<0.11.0,>=0.10.0 in /usr/local/lib/python3.10/dist-packages (from ssrm-test) (0.10.0)\n",
            "Requirement already satisfied: typing<4.0.0,>=3.7.4 in /usr/local/lib/python3.10/dist-packages (from ssrm-test) (3.7.4.3)\n",
            "\u001b[33mWARNING: Running pip as the 'root' user can result in broken permissions and conflicting behaviour with the system package manager, possibly rendering your system unusable.It is recommended to use a virtual environment instead: https://pip.pypa.io/warnings/venv. Use the --root-user-action option if you know what you are doing and want to suppress this warning.\u001b[0m\u001b[33m\n",
            "\u001b[0m"
          ]
        }
      ]
    },
    {
      "cell_type": "code",
      "source": [
        "from ssrm_test import ssrm_test\n",
        "import seaborn as sns"
      ],
      "metadata": {
        "id": "eIyB_taftdyf"
      },
      "execution_count": null,
      "outputs": []
    },
    {
      "cell_type": "code",
      "source": [
        "# приведем разбитие выборки на группы к виду, кторый требует библиотека ssrm_test\n",
        "data = [[1, 0] if value == \"['A']\" else [0, 1] for value in data.group]\n",
        "# ожидаемое соотношение групп\n",
        "p = [0.5, 0.5]"
      ],
      "metadata": {
        "id": "zi7Nuij88hif"
      },
      "execution_count": null,
      "outputs": []
    },
    {
      "cell_type": "code",
      "source": [
        "pvals = ssrm_test.sequential_p_values(data, [0.5, 0.5])"
      ],
      "metadata": {
        "id": "LJDfxCMu-vrZ"
      },
      "execution_count": null,
      "outputs": []
    },
    {
      "cell_type": "code",
      "source": [
        "plot = sns.lineplot(x=range(1, len(pvals)+1), y=pvals)\n",
        "plot.set(xlabel='размер выборки, n', ylabel='p-value', title='Тестировния SRM')\n",
        "plot.axhline(0.05, color='r', linestyle='--')\n",
        "plot.text(22_000, 0.07,'alpha = 0.05', color='r')"
      ],
      "metadata": {
        "colab": {
          "base_uri": "https://localhost:8080/",
          "height": 489
        },
        "id": "3CeNRPRN_7xY",
        "outputId": "3a665450-df1f-4d01-c0cc-fa4c999f2961"
      },
      "execution_count": null,
      "outputs": [
        {
          "output_type": "execute_result",
          "data": {
            "text/plain": [
              "Text(22000, 0.07, 'alpha = 0.05')"
            ]
          },
          "metadata": {},
          "execution_count": 130
        },
        {
          "output_type": "display_data",
          "data": {
            "text/plain": [
              "<Figure size 640x480 with 1 Axes>"
            ],
            "image/png": "[encoded data removed]"
          },
          "metadata": {}
        }
      ]
    },
    {
      "cell_type": "code",
      "source": [
        "print(\"На %s пользователе\" % np.argmax(np.array(pvals) < 0.05))"
      ],
      "metadata": {
        "colab": {
          "base_uri": "https://localhost:8080/"
        },
        "id": "fLUNa4Zk__Hf",
        "outputId": "df3d5bde-e954-411b-a8c1-9edcc90d6a59"
      },
      "execution_count": null,
      "outputs": [
        {
          "output_type": "stream",
          "name": "stdout",
          "text": [
            "На 3023 пользователе\n"
          ]
        }
      ]
    },
    {
      "cell_type": "code",
      "source": [],
      "metadata": {
        "id": "h3zNkQhIDBIy"
      },
      "execution_count": null,
      "outputs": []
    }
  ]
}