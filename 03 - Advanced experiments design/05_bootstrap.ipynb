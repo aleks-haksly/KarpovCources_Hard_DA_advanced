{
  "nbformat": 4,
  "nbformat_minor": 0,
  "metadata": {
    "colab": {
      "provenance": [],
      "authorship_tag": "ABX9TyOZb9IMuQRcpEeVmlwMDMtR",
      "include_colab_link": true
    },
    "kernelspec": {
      "name": "python3",
      "display_name": "Python 3"
    },
    "language_info": {
      "name": "python"
    },
    "widgets": {
      "application/vnd.jupyter.widget-state+json": {
        "473d311eb50248e9b911d972af54abd5": {
          "model_module": "@jupyter-widgets/controls",
          "model_name": "HBoxModel",
          "model_module_version": "1.5.0",
          "state": {
            "_dom_classes": [],
            "_model_module": "@jupyter-widgets/controls",
            "_model_module_version": "1.5.0",
            "_model_name": "HBoxModel",
            "_view_count": null,
            "_view_module": "@jupyter-widgets/controls",
            "_view_module_version": "1.5.0",
            "_view_name": "HBoxView",
            "box_style": "",
            "children": [
              "IPY_MODEL_b2f6153190844e6fbbff0b99c27926e6",
              "IPY_MODEL_5817e4f5a39b44f097dc686a71e8d225",
              "IPY_MODEL_2c1b4fb055ac45cb83eeb76a94a40d8e"
            ],
            "layout": "IPY_MODEL_e0e2e5a6196649d0a19a90d9dbe730d2"
          }
        },
        "b2f6153190844e6fbbff0b99c27926e6": {
          "model_module": "@jupyter-widgets/controls",
          "model_name": "HTMLModel",
          "model_module_version": "1.5.0",
          "state": {
            "_dom_classes": [],
            "_model_module": "@jupyter-widgets/controls",
            "_model_module_version": "1.5.0",
            "_model_name": "HTMLModel",
            "_view_count": null,
            "_view_module": "@jupyter-widgets/controls",
            "_view_module_version": "1.5.0",
            "_view_name": "HTMLView",
            "description": "",
            "description_tooltip": null,
            "layout": "IPY_MODEL_4bacbca2848d4818bf87ce3b23478fbe",
            "placeholder": "​",
            "style": "IPY_MODEL_4df35dc2bf344edb94621585ac33c916",
            "value": "100%"
          }
        },
        "5817e4f5a39b44f097dc686a71e8d225": {
          "model_module": "@jupyter-widgets/controls",
          "model_name": "FloatProgressModel",
          "model_module_version": "1.5.0",
          "state": {
            "_dom_classes": [],
            "_model_module": "@jupyter-widgets/controls",
            "_model_module_version": "1.5.0",
            "_model_name": "FloatProgressModel",
            "_view_count": null,
            "_view_module": "@jupyter-widgets/controls",
            "_view_module_version": "1.5.0",
            "_view_name": "ProgressView",
            "bar_style": "success",
            "description": "",
            "description_tooltip": null,
            "layout": "IPY_MODEL_9387e3aa75f348a882659a553404a586",
            "max": 99,
            "min": 0,
            "orientation": "horizontal",
            "style": "IPY_MODEL_19c7eeca47a748a284b816f9ba1959e0",
            "value": 99
          }
        },
        "2c1b4fb055ac45cb83eeb76a94a40d8e": {
          "model_module": "@jupyter-widgets/controls",
          "model_name": "HTMLModel",
          "model_module_version": "1.5.0",
          "state": {
            "_dom_classes": [],
            "_model_module": "@jupyter-widgets/controls",
            "_model_module_version": "1.5.0",
            "_model_name": "HTMLModel",
            "_view_count": null,
            "_view_module": "@jupyter-widgets/controls",
            "_view_module_version": "1.5.0",
            "_view_name": "HTMLView",
            "description": "",
            "description_tooltip": null,
            "layout": "IPY_MODEL_ed2fbbbe75ea47169615870164d8f23e",
            "placeholder": "​",
            "style": "IPY_MODEL_6ed64e0fe76e455cbda506c50b5f67b0",
            "value": " 99/99 [03:43&lt;00:00,  1.95s/it]"
          }
        },
        "e0e2e5a6196649d0a19a90d9dbe730d2": {
          "model_module": "@jupyter-widgets/base",
          "model_name": "LayoutModel",
          "model_module_version": "1.2.0",
          "state": {
            "_model_module": "@jupyter-widgets/base",
            "_model_module_version": "1.2.0",
            "_model_name": "LayoutModel",
            "_view_count": null,
            "_view_module": "@jupyter-widgets/base",
            "_view_module_version": "1.2.0",
            "_view_name": "LayoutView",
            "align_content": null,
            "align_items": null,
            "align_self": null,
            "border": null,
            "bottom": null,
            "display": null,
            "flex": null,
            "flex_flow": null,
            "grid_area": null,
            "grid_auto_columns": null,
            "grid_auto_flow": null,
            "grid_auto_rows": null,
            "grid_column": null,
            "grid_gap": null,
            "grid_row": null,
            "grid_template_areas": null,
            "grid_template_columns": null,
            "grid_template_rows": null,
            "height": null,
            "justify_content": null,
            "justify_items": null,
            "left": null,
            "margin": null,
            "max_height": null,
            "max_width": null,
            "min_height": null,
            "min_width": null,
            "object_fit": null,
            "object_position": null,
            "order": null,
            "overflow": null,
            "overflow_x": null,
            "overflow_y": null,
            "padding": null,
            "right": null,
            "top": null,
            "visibility": null,
            "width": null
          }
        },
        "4bacbca2848d4818bf87ce3b23478fbe": {
          "model_module": "@jupyter-widgets/base",
          "model_name": "LayoutModel",
          "model_module_version": "1.2.0",
          "state": {
            "_model_module": "@jupyter-widgets/base",
            "_model_module_version": "1.2.0",
            "_model_name": "LayoutModel",
            "_view_count": null,
            "_view_module": "@jupyter-widgets/base",
            "_view_module_version": "1.2.0",
            "_view_name": "LayoutView",
            "align_content": null,
            "align_items": null,
            "align_self": null,
            "border": null,
            "bottom": null,
            "display": null,
            "flex": null,
            "flex_flow": null,
            "grid_area": null,
            "grid_auto_columns": null,
            "grid_auto_flow": null,
            "grid_auto_rows": null,
            "grid_column": null,
            "grid_gap": null,
            "grid_row": null,
            "grid_template_areas": null,
            "grid_template_columns": null,
            "grid_template_rows": null,
            "height": null,
            "justify_content": null,
            "justify_items": null,
            "left": null,
            "margin": null,
            "max_height": null,
            "max_width": null,
            "min_height": null,
            "min_width": null,
            "object_fit": null,
            "object_position": null,
            "order": null,
            "overflow": null,
            "overflow_x": null,
            "overflow_y": null,
            "padding": null,
            "right": null,
            "top": null,
            "visibility": null,
            "width": null
          }
        },
        "4df35dc2bf344edb94621585ac33c916": {
          "model_module": "@jupyter-widgets/controls",
          "model_name": "DescriptionStyleModel",
          "model_module_version": "1.5.0",
          "state": {
            "_model_module": "@jupyter-widgets/controls",
            "_model_module_version": "1.5.0",
            "_model_name": "DescriptionStyleModel",
            "_view_count": null,
            "_view_module": "@jupyter-widgets/base",
            "_view_module_version": "1.2.0",
            "_view_name": "StyleView",
            "description_width": ""
          }
        },
        "9387e3aa75f348a882659a553404a586": {
          "model_module": "@jupyter-widgets/base",
          "model_name": "LayoutModel",
          "model_module_version": "1.2.0",
          "state": {
            "_model_module": "@jupyter-widgets/base",
            "_model_module_version": "1.2.0",
            "_model_name": "LayoutModel",
            "_view_count": null,
            "_view_module": "@jupyter-widgets/base",
            "_view_module_version": "1.2.0",
            "_view_name": "LayoutView",
            "align_content": null,
            "align_items": null,
            "align_self": null,
            "border": null,
            "bottom": null,
            "display": null,
            "flex": null,
            "flex_flow": null,
            "grid_area": null,
            "grid_auto_columns": null,
            "grid_auto_flow": null,
            "grid_auto_rows": null,
            "grid_column": null,
            "grid_gap": null,
            "grid_row": null,
            "grid_template_areas": null,
            "grid_template_columns": null,
            "grid_template_rows": null,
            "height": null,
            "justify_content": null,
            "justify_items": null,
            "left": null,
            "margin": null,
            "max_height": null,
            "max_width": null,
            "min_height": null,
            "min_width": null,
            "object_fit": null,
            "object_position": null,
            "order": null,
            "overflow": null,
            "overflow_x": null,
            "overflow_y": null,
            "padding": null,
            "right": null,
            "top": null,
            "visibility": null,
            "width": null
          }
        },
        "19c7eeca47a748a284b816f9ba1959e0": {
          "model_module": "@jupyter-widgets/controls",
          "model_name": "ProgressStyleModel",
          "model_module_version": "1.5.0",
          "state": {
            "_model_module": "@jupyter-widgets/controls",
            "_model_module_version": "1.5.0",
            "_model_name": "ProgressStyleModel",
            "_view_count": null,
            "_view_module": "@jupyter-widgets/base",
            "_view_module_version": "1.2.0",
            "_view_name": "StyleView",
            "bar_color": null,
            "description_width": ""
          }
        },
        "ed2fbbbe75ea47169615870164d8f23e": {
          "model_module": "@jupyter-widgets/base",
          "model_name": "LayoutModel",
          "model_module_version": "1.2.0",
          "state": {
            "_model_module": "@jupyter-widgets/base",
            "_model_module_version": "1.2.0",
            "_model_name": "LayoutModel",
            "_view_count": null,
            "_view_module": "@jupyter-widgets/base",
            "_view_module_version": "1.2.0",
            "_view_name": "LayoutView",
            "align_content": null,
            "align_items": null,
            "align_self": null,
            "border": null,
            "bottom": null,
            "display": null,
            "flex": null,
            "flex_flow": null,
            "grid_area": null,
            "grid_auto_columns": null,
            "grid_auto_flow": null,
            "grid_auto_rows": null,
            "grid_column": null,
            "grid_gap": null,
            "grid_row": null,
            "grid_template_areas": null,
            "grid_template_columns": null,
            "grid_template_rows": null,
            "height": null,
            "justify_content": null,
            "justify_items": null,
            "left": null,
            "margin": null,
            "max_height": null,
            "max_width": null,
            "min_height": null,
            "min_width": null,
            "object_fit": null,
            "object_position": null,
            "order": null,
            "overflow": null,
            "overflow_x": null,
            "overflow_y": null,
            "padding": null,
            "right": null,
            "top": null,
            "visibility": null,
            "width": null
          }
        },
        "6ed64e0fe76e455cbda506c50b5f67b0": {
          "model_module": "@jupyter-widgets/controls",
          "model_name": "DescriptionStyleModel",
          "model_module_version": "1.5.0",
          "state": {
            "_model_module": "@jupyter-widgets/controls",
            "_model_module_version": "1.5.0",
            "_model_name": "DescriptionStyleModel",
            "_view_count": null,
            "_view_module": "@jupyter-widgets/base",
            "_view_module_version": "1.2.0",
            "_view_name": "StyleView",
            "description_width": ""
          }
        },
        "a4fc7755c22a47c6ae84cf3094db1654": {
          "model_module": "@jupyter-widgets/controls",
          "model_name": "HBoxModel",
          "model_module_version": "1.5.0",
          "state": {
            "_dom_classes": [],
            "_model_module": "@jupyter-widgets/controls",
            "_model_module_version": "1.5.0",
            "_model_name": "HBoxModel",
            "_view_count": null,
            "_view_module": "@jupyter-widgets/controls",
            "_view_module_version": "1.5.0",
            "_view_name": "HBoxView",
            "box_style": "",
            "children": [
              "IPY_MODEL_94dd7ebc917a474face49ca39e8d896e",
              "IPY_MODEL_10e9dce681fa4875a6040a6936ee2504",
              "IPY_MODEL_8c7bbb1cd80a4a588b4c61f4517fbfd3"
            ],
            "layout": "IPY_MODEL_807836e4df29402196e514cdea35e905"
          }
        },
        "94dd7ebc917a474face49ca39e8d896e": {
          "model_module": "@jupyter-widgets/controls",
          "model_name": "HTMLModel",
          "model_module_version": "1.5.0",
          "state": {
            "_dom_classes": [],
            "_model_module": "@jupyter-widgets/controls",
            "_model_module_version": "1.5.0",
            "_model_name": "HTMLModel",
            "_view_count": null,
            "_view_module": "@jupyter-widgets/controls",
            "_view_module_version": "1.5.0",
            "_view_name": "HTMLView",
            "description": "",
            "description_tooltip": null,
            "layout": "IPY_MODEL_8bc050182ae342e5be511605a0145c46",
            "placeholder": "​",
            "style": "IPY_MODEL_f55c4bc06a1e402e90b0004397138f9d",
            "value": "100%"
          }
        },
        "10e9dce681fa4875a6040a6936ee2504": {
          "model_module": "@jupyter-widgets/controls",
          "model_name": "FloatProgressModel",
          "model_module_version": "1.5.0",
          "state": {
            "_dom_classes": [],
            "_model_module": "@jupyter-widgets/controls",
            "_model_module_version": "1.5.0",
            "_model_name": "FloatProgressModel",
            "_view_count": null,
            "_view_module": "@jupyter-widgets/controls",
            "_view_module_version": "1.5.0",
            "_view_name": "ProgressView",
            "bar_style": "success",
            "description": "",
            "description_tooltip": null,
            "layout": "IPY_MODEL_d42e14485de944649d4c405a20494efe",
            "max": 99,
            "min": 0,
            "orientation": "horizontal",
            "style": "IPY_MODEL_6e5ed2cf9d7e4afaa946a9d30fb9b57a",
            "value": 99
          }
        },
        "8c7bbb1cd80a4a588b4c61f4517fbfd3": {
          "model_module": "@jupyter-widgets/controls",
          "model_name": "HTMLModel",
          "model_module_version": "1.5.0",
          "state": {
            "_dom_classes": [],
            "_model_module": "@jupyter-widgets/controls",
            "_model_module_version": "1.5.0",
            "_model_name": "HTMLModel",
            "_view_count": null,
            "_view_module": "@jupyter-widgets/controls",
            "_view_module_version": "1.5.0",
            "_view_name": "HTMLView",
            "description": "",
            "description_tooltip": null,
            "layout": "IPY_MODEL_9d977291239f4aa5b7b15a5e490183f9",
            "placeholder": "​",
            "style": "IPY_MODEL_e804855c4ef3408bb6d032c70a6e75b5",
            "value": " 99/99 [03:05&lt;00:00,  1.68s/it]"
          }
        },
        "807836e4df29402196e514cdea35e905": {
          "model_module": "@jupyter-widgets/base",
          "model_name": "LayoutModel",
          "model_module_version": "1.2.0",
          "state": {
            "_model_module": "@jupyter-widgets/base",
            "_model_module_version": "1.2.0",
            "_model_name": "LayoutModel",
            "_view_count": null,
            "_view_module": "@jupyter-widgets/base",
            "_view_module_version": "1.2.0",
            "_view_name": "LayoutView",
            "align_content": null,
            "align_items": null,
            "align_self": null,
            "border": null,
            "bottom": null,
            "display": null,
            "flex": null,
            "flex_flow": null,
            "grid_area": null,
            "grid_auto_columns": null,
            "grid_auto_flow": null,
            "grid_auto_rows": null,
            "grid_column": null,
            "grid_gap": null,
            "grid_row": null,
            "grid_template_areas": null,
            "grid_template_columns": null,
            "grid_template_rows": null,
            "height": null,
            "justify_content": null,
            "justify_items": null,
            "left": null,
            "margin": null,
            "max_height": null,
            "max_width": null,
            "min_height": null,
            "min_width": null,
            "object_fit": null,
            "object_position": null,
            "order": null,
            "overflow": null,
            "overflow_x": null,
            "overflow_y": null,
            "padding": null,
            "right": null,
            "top": null,
            "visibility": null,
            "width": null
          }
        },
        "8bc050182ae342e5be511605a0145c46": {
          "model_module": "@jupyter-widgets/base",
          "model_name": "LayoutModel",
          "model_module_version": "1.2.0",
          "state": {
            "_model_module": "@jupyter-widgets/base",
            "_model_module_version": "1.2.0",
            "_model_name": "LayoutModel",
            "_view_count": null,
            "_view_module": "@jupyter-widgets/base",
            "_view_module_version": "1.2.0",
            "_view_name": "LayoutView",
            "align_content": null,
            "align_items": null,
            "align_self": null,
            "border": null,
            "bottom": null,
            "display": null,
            "flex": null,
            "flex_flow": null,
            "grid_area": null,
            "grid_auto_columns": null,
            "grid_auto_flow": null,
            "grid_auto_rows": null,
            "grid_column": null,
            "grid_gap": null,
            "grid_row": null,
            "grid_template_areas": null,
            "grid_template_columns": null,
            "grid_template_rows": null,
            "height": null,
            "justify_content": null,
            "justify_items": null,
            "left": null,
            "margin": null,
            "max_height": null,
            "max_width": null,
            "min_height": null,
            "min_width": null,
            "object_fit": null,
            "object_position": null,
            "order": null,
            "overflow": null,
            "overflow_x": null,
            "overflow_y": null,
            "padding": null,
            "right": null,
            "top": null,
            "visibility": null,
            "width": null
          }
        },
        "f55c4bc06a1e402e90b0004397138f9d": {
          "model_module": "@jupyter-widgets/controls",
          "model_name": "DescriptionStyleModel",
          "model_module_version": "1.5.0",
          "state": {
            "_model_module": "@jupyter-widgets/controls",
            "_model_module_version": "1.5.0",
            "_model_name": "DescriptionStyleModel",
            "_view_count": null,
            "_view_module": "@jupyter-widgets/base",
            "_view_module_version": "1.2.0",
            "_view_name": "StyleView",
            "description_width": ""
          }
        },
        "d42e14485de944649d4c405a20494efe": {
          "model_module": "@jupyter-widgets/base",
          "model_name": "LayoutModel",
          "model_module_version": "1.2.0",
          "state": {
            "_model_module": "@jupyter-widgets/base",
            "_model_module_version": "1.2.0",
            "_model_name": "LayoutModel",
            "_view_count": null,
            "_view_module": "@jupyter-widgets/base",
            "_view_module_version": "1.2.0",
            "_view_name": "LayoutView",
            "align_content": null,
            "align_items": null,
            "align_self": null,
            "border": null,
            "bottom": null,
            "display": null,
            "flex": null,
            "flex_flow": null,
            "grid_area": null,
            "grid_auto_columns": null,
            "grid_auto_flow": null,
            "grid_auto_rows": null,
            "grid_column": null,
            "grid_gap": null,
            "grid_row": null,
            "grid_template_areas": null,
            "grid_template_columns": null,
            "grid_template_rows": null,
            "height": null,
            "justify_content": null,
            "justify_items": null,
            "left": null,
            "margin": null,
            "max_height": null,
            "max_width": null,
            "min_height": null,
            "min_width": null,
            "object_fit": null,
            "object_position": null,
            "order": null,
            "overflow": null,
            "overflow_x": null,
            "overflow_y": null,
            "padding": null,
            "right": null,
            "top": null,
            "visibility": null,
            "width": null
          }
        },
        "6e5ed2cf9d7e4afaa946a9d30fb9b57a": {
          "model_module": "@jupyter-widgets/controls",
          "model_name": "ProgressStyleModel",
          "model_module_version": "1.5.0",
          "state": {
            "_model_module": "@jupyter-widgets/controls",
            "_model_module_version": "1.5.0",
            "_model_name": "ProgressStyleModel",
            "_view_count": null,
            "_view_module": "@jupyter-widgets/base",
            "_view_module_version": "1.2.0",
            "_view_name": "StyleView",
            "bar_color": null,
            "description_width": ""
          }
        },
        "9d977291239f4aa5b7b15a5e490183f9": {
          "model_module": "@jupyter-widgets/base",
          "model_name": "LayoutModel",
          "model_module_version": "1.2.0",
          "state": {
            "_model_module": "@jupyter-widgets/base",
            "_model_module_version": "1.2.0",
            "_model_name": "LayoutModel",
            "_view_count": null,
            "_view_module": "@jupyter-widgets/base",
            "_view_module_version": "1.2.0",
            "_view_name": "LayoutView",
            "align_content": null,
            "align_items": null,
            "align_self": null,
            "border": null,
            "bottom": null,
            "display": null,
            "flex": null,
            "flex_flow": null,
            "grid_area": null,
            "grid_auto_columns": null,
            "grid_auto_flow": null,
            "grid_auto_rows": null,
            "grid_column": null,
            "grid_gap": null,
            "grid_row": null,
            "grid_template_areas": null,
            "grid_template_columns": null,
            "grid_template_rows": null,
            "height": null,
            "justify_content": null,
            "justify_items": null,
            "left": null,
            "margin": null,
            "max_height": null,
            "max_width": null,
            "min_height": null,
            "min_width": null,
            "object_fit": null,
            "object_position": null,
            "order": null,
            "overflow": null,
            "overflow_x": null,
            "overflow_y": null,
            "padding": null,
            "right": null,
            "top": null,
            "visibility": null,
            "width": null
          }
        },
        "e804855c4ef3408bb6d032c70a6e75b5": {
          "model_module": "@jupyter-widgets/controls",
          "model_name": "DescriptionStyleModel",
          "model_module_version": "1.5.0",
          "state": {
            "_model_module": "@jupyter-widgets/controls",
            "_model_module_version": "1.5.0",
            "_model_name": "DescriptionStyleModel",
            "_view_count": null,
            "_view_module": "@jupyter-widgets/base",
            "_view_module_version": "1.2.0",
            "_view_name": "StyleView",
            "description_width": ""
          }
        }
      }
    }
  },
  "cells": [
    {
      "cell_type": "markdown",
      "metadata": {
        "id": "view-in-github",
        "colab_type": "text"
      },
      "source": [
        "<a href=\"https://colab.research.google.com/github/aleks-haksly/KarpovCources_Hard_DA_advanced/blob/main/03%20-%20Advanced%20experiments%20design/05_bootstrap.ipynb\" target=\"_parent\"><img src=\"https://colab.research.google.com/assets/colab-badge.svg\" alt=\"Open In Colab\"/></a>"
      ]
    },
    {
      "cell_type": "code",
      "execution_count": null,
      "metadata": {
        "id": "5pGR6HrbptQ9"
      },
      "outputs": [],
      "source": [
        "import pandas as pd\n",
        "import numpy as np\n",
        "from tqdm.notebook import tqdm\n",
        "import matplotlib.pyplot as plt\n",
        "import seaborn as sns"
      ]
    },
    {
      "cell_type": "code",
      "source": [
        "data = pd.read_csv('bootstrap_homework.csv')"
      ],
      "metadata": {
        "id": "1wfrA2PwX351"
      },
      "execution_count": null,
      "outputs": []
    },
    {
      "cell_type": "markdown",
      "source": [
        "## Задание 1. Изучение распределений в группах(1/4) ##\n",
        "Для начала давайте просто взглянем на квантили распределения в обеих группах.\n",
        "\n",
        "Найдите 0.7 квантиль распределения revenue для группы 0."
      ],
      "metadata": {
        "id": "c7MRqrasysGF"
      }
    },
    {
      "cell_type": "code",
      "source": [
        "data.groupby('group').revenue.quantile(0.7)[0]"
      ],
      "metadata": {
        "id": "X1oR3TrJyu8k",
        "outputId": "e1fd84da-4c65-4d79-a427-9a3a0ccfe9b0",
        "colab": {
          "base_uri": "https://localhost:8080/"
        }
      },
      "execution_count": null,
      "outputs": [
        {
          "output_type": "execute_result",
          "data": {
            "text/plain": [
              "960.0"
            ]
          },
          "metadata": {},
          "execution_count": 6
        }
      ]
    },
    {
      "cell_type": "markdown",
      "source": [
        "## Задание 1. Изучение распределений в группах (2/4) ##\n",
        "Найдите 0.7 квантиль распределения revenue для группы 1."
      ],
      "metadata": {
        "id": "XfCj8RuLyvJ-"
      }
    },
    {
      "cell_type": "code",
      "source": [
        "data.groupby('group').revenue.quantile(0.7)[1]"
      ],
      "metadata": {
        "id": "jwXFVkdDyzsa",
        "outputId": "cddb0818-5d18-436b-bb00-895e58ce9512",
        "colab": {
          "base_uri": "https://localhost:8080/"
        }
      },
      "execution_count": null,
      "outputs": [
        {
          "output_type": "execute_result",
          "data": {
            "text/plain": [
              "1128.0"
            ]
          },
          "metadata": {},
          "execution_count": 5
        }
      ]
    },
    {
      "cell_type": "markdown",
      "source": [
        "## Задание 1. Изучение распределений в группах (3/4) ##\n",
        "Также полезно посмотреть, изменились ли меры разброса. Давайте посмотрим межквартильный размах. Межквартильный размах — разница между 1-ым квартилем (0.25) и 3-им квартилем (0.75) распределения.\n",
        "\n",
        "Найдите межквартильный размах для группы 0."
      ],
      "metadata": {
        "id": "tjAJU-dMyz5k"
      }
    },
    {
      "cell_type": "code",
      "source": [
        "data.groupby('group').revenue.agg(lambda x: x.quantile(0.75) - x.quantile(0.25))[0]"
      ],
      "metadata": {
        "id": "ZCB_6E6xy6d2",
        "outputId": "5e90f300-56c4-4597-a791-c0fc82a0fec8",
        "colab": {
          "base_uri": "https://localhost:8080/"
        }
      },
      "execution_count": null,
      "outputs": [
        {
          "output_type": "execute_result",
          "data": {
            "text/plain": [
              "963.0"
            ]
          },
          "metadata": {},
          "execution_count": 7
        }
      ]
    },
    {
      "cell_type": "markdown",
      "source": [
        "## Задание 1. Изучение распределений в группах (4/4) ##\n",
        "Найдите межквартильный размах для группы 1."
      ],
      "metadata": {
        "id": "P09shKRey6tf"
      }
    },
    {
      "cell_type": "code",
      "source": [
        "data.groupby('group').revenue.agg(lambda x: x.quantile(0.75) - x.quantile(0.25))[1]"
      ],
      "metadata": {
        "id": "ZzgZXtszy-qM",
        "outputId": "8263ed84-5659-4ea0-a4b5-668d9669cb3b",
        "colab": {
          "base_uri": "https://localhost:8080/"
        }
      },
      "execution_count": null,
      "outputs": [
        {
          "output_type": "execute_result",
          "data": {
            "text/plain": [
              "1186.0"
            ]
          },
          "metadata": {},
          "execution_count": 8
        }
      ]
    },
    {
      "cell_type": "markdown",
      "source": [
        "## Задание 2. Проверка гипотезы бутстрапом (1/5) ##\n",
        "Для начала давайте проверим с помощью бутстрапа один квантиль распределения.\n",
        "\n",
        "С помощью бутстрапа проверьте гипотезу о равенстве 0.8 квантиля распределений между двумя группами. Альфа = 0.05. Перед стартом первой итерации бутстрапа установите np.random.seed(1). Кол-во итераций бутстрапа = 10000. Отклоняется ли гипотеза H0 о равенстве квантилей распределения?"
      ],
      "metadata": {
        "id": "z3lAuAhpy-4c"
      }
    },
    {
      "cell_type": "code",
      "source": [
        "def ab_bootsrtap(sample_a, sample_b, alpha=0.05, n_iters=10000, quantile=None, test_func=np.mean, seed=None):\n",
        "  # функия вычисляет p-value для заданных выборок при помощи bootstrap\n",
        "  if seed:\n",
        "    np.random.seed(seed)\n",
        "  # из каждой исходной выборки берем n_iters повтроных выборок с повторением\n",
        "  samples_a = np.random.choice(sample_a,  size = (n_iters, len(sample_a)), replace=True)\n",
        "  samples_b = np.random.choice(sample_b,  size = (n_iters, len(sample_b)), replace=True)\n",
        "  # считаем статистику для каждой выборки\n",
        "  # если задан квантиль, то его и считаем\n",
        "  if quantile:\n",
        "    resample_stats_A = np.array([np.quantile(a, quantile) for a in samples_a])\n",
        "    resample_stats_B = np.array([np.quantile(b, quantile) for b in samples_b])\n",
        "    samples_diff = np.quantile(sample_b, quantile) - np.quantile(sample_a, quantile)\n",
        "  # если кваниль не задан, то вычисляем значениея с помощью test_func\n",
        "  else:\n",
        "    resample_stats_A = np.array([test_func(a) for a in samples_a])\n",
        "    resample_stats_B = np.array([test_func(b) for b in samples_b])\n",
        "    samples_diff = test_func(sample_b) - test_func(sample_a)\n",
        "\n",
        "  resampled_diffs = resample_stats_B - resample_stats_A\n",
        "\n",
        "  # вычитаем разницу статистик в первоначальной выборке, чтобы получить resampled_diffs как бы для AA\n",
        "  # (учитываем разницу в исходной выборки и убираем это смещение)\n",
        "  adjusted_resampled_diff = (abs(resampled_diffs - samples_diff))\n",
        "  # проверяем, как часто разница статистик в после компенсации смещения была больше, чем первоначальная\n",
        "  p_value = np.mean(abs(adjusted_resampled_diff) >= abs(samples_diff))\n",
        "  # доверительный интервал\n",
        "  perc_ci = np.quantile(resampled_diffs, [alpha/2, 1-alpha/2])\n",
        "  return {'p_value': p_value, 'conf_int': perc_ci, 'resampled_diffs': resampled_diffs}"
      ],
      "metadata": {
        "id": "jqpdSULBzEDh"
      },
      "execution_count": null,
      "outputs": []
    },
    {
      "cell_type": "code",
      "source": [
        "a = data.query('group == 0').revenue\n",
        "b = data.query('group == 1').revenue\n",
        "seed = 1\n",
        "ab_bootsrtap(a, b, quantile=0.8, seed=1) # разница статистически не значима"
      ],
      "metadata": {
        "colab": {
          "base_uri": "https://localhost:8080/"
        },
        "id": "L4wCgWO7zmj_",
        "outputId": "c6c898ae-4ffb-46dd-e313-2d6f1a69042c"
      },
      "execution_count": null,
      "outputs": [
        {
          "output_type": "execute_result",
          "data": {
            "text/plain": [
              "{'p_value': 0.1804, 'conf_int': array([-15., 120.])}"
            ]
          },
          "metadata": {},
          "execution_count": 37
        }
      ]
    },
    {
      "cell_type": "markdown",
      "source": [],
      "metadata": {
        "id": "Lzd6QWWu5mpv"
      }
    },
    {
      "cell_type": "markdown",
      "source": [
        "## Задание 2. Проверка гипотезы бутстрапом (2/5) ##\n",
        "Укажите полученное с помощью бутстрапа p_value.\n",
        "\n",
        "Введите ответ в поле ниже с точностью до четырех знаков в десятичной части."
      ],
      "metadata": {
        "id": "yMQDUs1pzETG"
      }
    },
    {
      "cell_type": "code",
      "source": [
        "ab_bootsrtap(a, b, quantile=0.8, seed=1)['p_value']"
      ],
      "metadata": {
        "id": "YuKJtPX6zJ5w",
        "colab": {
          "base_uri": "https://localhost:8080/"
        },
        "outputId": "1bbaf7ce-4a82-4e17-9ee3-85cad52c1482"
      },
      "execution_count": null,
      "outputs": [
        {
          "output_type": "execute_result",
          "data": {
            "text/plain": [
              "0.1804"
            ]
          },
          "metadata": {},
          "execution_count": 38
        }
      ]
    },
    {
      "cell_type": "markdown",
      "source": [
        "## Задание 2. Проверка гипотезы бутстрапом (3/5) ##\n",
        "С помощью бутстрапа проверьте гипотезу о равенстве 0.4 квантиля распределениий между двумя группами. Альфа = 0.05. Перед стартом первой иттерации бутстрапа установите np.random.seed(1). Кол-во итераций бутстрапа = 10000. Отклоняется ли гипотеза H0 о равенстве квантилей распределения?"
      ],
      "metadata": {
        "id": "yVPEqLUzzKGF"
      }
    },
    {
      "cell_type": "code",
      "source": [
        "ab_bootsrtap(a, b, quantile=0.4, seed=1)['p_value']\n",
        "# разница статистически значима"
      ],
      "metadata": {
        "id": "U7syHxGtzOdY",
        "colab": {
          "base_uri": "https://localhost:8080/"
        },
        "outputId": "970eed4c-f97b-4455-be20-51ac94cdaba9"
      },
      "execution_count": null,
      "outputs": [
        {
          "output_type": "execute_result",
          "data": {
            "text/plain": [
              "0.0"
            ]
          },
          "metadata": {},
          "execution_count": 39
        }
      ]
    },
    {
      "cell_type": "markdown",
      "source": [
        "## Задание 2. Проверка гипотезы бутстрапом (4/5) ##\n",
        "Укажите среднее разниц квантилей, полученное с помощью бутстрапа на предыдущем степе.\n",
        "\n",
        "Введите ответ в поле ниже с точностью до одного знака в десятичной части."
      ],
      "metadata": {
        "id": "jWSLTEYCzO1N"
      }
    },
    {
      "cell_type": "code",
      "source": [
        "f\"среднее разниц квантилей= {ab_bootsrtap(a, b, quantile=0.4, seed=1)['resampled_diffs'].mean():.1f}\""
      ],
      "metadata": {
        "id": "waqCgOSKzTom",
        "colab": {
          "base_uri": "https://localhost:8080/",
          "height": 35
        },
        "outputId": "909d18c3-f89b-4111-f91c-679fcbb39dd6"
      },
      "execution_count": null,
      "outputs": [
        {
          "output_type": "execute_result",
          "data": {
            "text/plain": [
              "'среднее разниц квантилей= -56.1'"
            ],
            "application/vnd.google.colaboratory.intrinsic+json": {
              "type": "string"
            }
          },
          "metadata": {},
          "execution_count": 42
        }
      ]
    },
    {
      "cell_type": "markdown",
      "source": [
        "## Задание 2. Проверка гипотезы бутстрапом (5/5) ##\n",
        "С помощью бутстрапа проверьте гипотезу о равенстве 0.65 квантиля распределений между двумя группами. Альфа = 0.05. Перед стартом первой итерации бутстрапа установите np.random.seed(1). Кол-во итераций бутстрапа = 10000. Укажите p-value, полученное в этой проверке.\n",
        "\n",
        "Введите ответ в поле ниже с точностью до одного знака в десятичной части."
      ],
      "metadata": {
        "id": "SKwZahvNzT4E"
      }
    },
    {
      "cell_type": "code",
      "source": [
        "ab_bootsrtap(a, b, quantile=0.65, seed=1)['p_value']"
      ],
      "metadata": {
        "id": "AwGRvte3zekB",
        "colab": {
          "base_uri": "https://localhost:8080/"
        },
        "outputId": "f9ee105b-4a51-414c-88ee-4770273b66fb"
      },
      "execution_count": null,
      "outputs": [
        {
          "output_type": "execute_result",
          "data": {
            "text/plain": [
              "0.0"
            ]
          },
          "metadata": {},
          "execution_count": 43
        }
      ]
    },
    {
      "cell_type": "markdown",
      "source": [
        "## Задание 3. Децильный анализ (1/4) ##\n",
        "Разовые проверки квантилей распределения показывают, что эффекты неоднородные, влияние на выборку 1 после изменения цен явно имело фрагментарный и неодинаковый характер. Давайте проведем децильный анализ, т.е. поищем эффекты во всем пространстве децилей распределения.\n",
        "\n",
        "Определите с помощью бутстрапа, с какого перцентиля распределения начинает детектится эффект на revenue.\n",
        "\n",
        "Стартуем симуляции с 0.01 перцентиля.\n",
        "Шаг перебора перцентилей в симуляциях 0.01\n",
        "Перед стартом перебора установите np.random.seed(1)\n",
        "Для каждой итерации перебора используйте следующую конфигурацию бутстрапа:\n",
        "\n",
        "альфа = 0.05\n",
        "кол-во итераций внутри бутстрапа = 2000\n",
        "поправка на множественные сравнения - Бонферонни. Подобно примеру в уроке, нужно делить альфа на кол-во гипотез (перцентилей в переборе)\n",
        "Введите ответ в поле ниже с точностью до двух знаков в десятичной части."
      ],
      "metadata": {
        "id": "2NusFO-Yze1M"
      }
    },
    {
      "cell_type": "code",
      "source": [
        "quantiles = np.arange(start = 0.01, stop = 1, step = 0.01)\n",
        "np.random.seed(1)\n",
        "n_iters = 2000\n",
        "alpha = 0.05 / len(quantiles) # Bonferroni corrected alpha\n",
        "result = dict()\n",
        "for q in tqdm(quantiles):\n",
        "\n",
        "  #result = ab_bootsrtap(a, b, quantile=q, seed=1, n_iters=n_iters)\n",
        "  result[q] = ab_bootsrtap(a, b, quantile=q, seed=1, n_iters=n_iters)"
      ],
      "metadata": {
        "id": "0G3ZRhGIzj8K",
        "colab": {
          "base_uri": "https://localhost:8080/",
          "height": 49,
          "referenced_widgets": [
            "473d311eb50248e9b911d972af54abd5",
            "b2f6153190844e6fbbff0b99c27926e6",
            "5817e4f5a39b44f097dc686a71e8d225",
            "2c1b4fb055ac45cb83eeb76a94a40d8e",
            "e0e2e5a6196649d0a19a90d9dbe730d2",
            "4bacbca2848d4818bf87ce3b23478fbe",
            "4df35dc2bf344edb94621585ac33c916",
            "9387e3aa75f348a882659a553404a586",
            "19c7eeca47a748a284b816f9ba1959e0",
            "ed2fbbbe75ea47169615870164d8f23e",
            "6ed64e0fe76e455cbda506c50b5f67b0"
          ]
        },
        "outputId": "67717d50-ea7a-46b7-f3bf-115c8f3eabba"
      },
      "execution_count": null,
      "outputs": [
        {
          "output_type": "display_data",
          "data": {
            "text/plain": [
              "  0%|          | 0/99 [00:00<?, ?it/s]"
            ],
            "application/vnd.jupyter.widget-view+json": {
              "version_major": 2,
              "version_minor": 0,
              "model_id": "473d311eb50248e9b911d972af54abd5"
            }
          },
          "metadata": {}
        }
      ]
    },
    {
      "cell_type": "code",
      "source": [
        "fig, axes = plt.subplots(nrows=2, ncols=1, figsize=(15, 10))\n",
        "plot0 = sns.lineplot(x=result.keys(), y=[r['p_value'] for r in result.values()], ax=axes[0])\n",
        "plot0.set(xlabel='quantile', ylabel='p-value')\n",
        "plot1 = sns.lineplot(x=result.keys(), y=[r['p_value'] for r in result.values()], ax=axes[1])\n",
        "plot1.set(xlabel='quantile', ylabel='p-value')\n",
        "plot1.hlines(alpha, 0, 1, color='r',linestyle='--')\n",
        "plot1.text(0.05, alpha+0.0001, f'Bonferroni alpha={alpha}')\n",
        "plot1.set_ylim(0, 0.01);"
      ],
      "metadata": {
        "colab": {
          "base_uri": "https://localhost:8080/",
          "height": 850
        },
        "id": "1KoDZ9yrBLDL",
        "outputId": "5f115607-89be-4e8a-f371-c232380616ab"
      },
      "execution_count": null,
      "outputs": [
        {
          "output_type": "display_data",
          "data": {
            "text/plain": [
              "<Figure size 1500x1000 with 2 Axes>"
            ],
            "image/png": "[encoded data removed]"
          },
          "metadata": {}
        }
      ]
    },
    {
      "cell_type": "code",
      "source": [
        "min([str(q) if result[q]['p_value'] < alpha else 'not found' for q in sorted(result.keys())])"
      ],
      "metadata": {
        "id": "MWndGVlnHSdb",
        "outputId": "8b0e6fc8-9560-487c-bcc7-1c23da565269",
        "colab": {
          "base_uri": "https://localhost:8080/",
          "height": 35
        }
      },
      "execution_count": null,
      "outputs": [
        {
          "output_type": "execute_result",
          "data": {
            "text/plain": [
              "'0.01'"
            ],
            "application/vnd.google.colaboratory.intrinsic+json": {
              "type": "string"
            }
          },
          "metadata": {},
          "execution_count": 177
        }
      ]
    },
    {
      "cell_type": "markdown",
      "source": [
        "## Задание 3. Децильный анализ (2/4) ##\n",
        "Какой абсолютный наблюдаемый эффект находит при проверке бутстрапом на этом квантиле из симуляции проведенной выше?\n",
        "\n",
        "Нужно указать среднюю разницу между квантилями по всем иттерациям бутстрапа. Введите ответ в поле ниже с точностью до одного знака в десятичной части."
      ],
      "metadata": {
        "id": "aCSnnwaczkJk"
      }
    },
    {
      "cell_type": "code",
      "source": [
        "q = 0.01\n",
        "result[q]['resampled_diffs'].mean()"
      ],
      "metadata": {
        "id": "wKja3VJvPKdn",
        "outputId": "ecbe6e06-3733-4179-c7e1-c4663f6251c7",
        "colab": {
          "base_uri": "https://localhost:8080/"
        }
      },
      "execution_count": null,
      "outputs": [
        {
          "output_type": "execute_result",
          "data": {
            "text/plain": [
              "-15.001"
            ]
          },
          "metadata": {},
          "execution_count": 178
        }
      ]
    },
    {
      "cell_type": "code",
      "source": [
        "fig, axes = plt.subplots(figsize=(15, 5))\n",
        "plot = sns.lineplot(x=result.keys(), y=[np.mean(r['resampled_diffs']) for r in result.values()])\n",
        "plt.ylim(-300,300)\n",
        "plt.hlines(0, 0, 1, color='r',linestyle='--')\n",
        "plt.title('mean resampled diffs vs quantiles');"
      ],
      "metadata": {
        "id": "ZlK_TKnhzqMI",
        "colab": {
          "base_uri": "https://localhost:8080/",
          "height": 468
        },
        "outputId": "0479e068-2ef7-40bc-f40f-a225aff42bf9"
      },
      "execution_count": null,
      "outputs": [
        {
          "output_type": "display_data",
          "data": {
            "text/plain": [
              "<Figure size 1500x500 with 1 Axes>"
            ],
            "image/png": "[encoded data removed]"
          },
          "metadata": {}
        }
      ]
    },
    {
      "cell_type": "markdown",
      "source": [
        "## Задание 3. Децильный анализ(3/4) ##\n",
        "С какого перцентиля мы первый раз начинаем ловить положительный эффект между квантилями (квантиль группа 1 > квантиля группы 0)\n",
        "\n",
        "Введите ответ в поле ниже с точностью до двух знаков в десятичной части."
      ],
      "metadata": {
        "id": "vWi5GFyRzqgR"
      }
    },
    {
      "cell_type": "code",
      "source": [
        "min([str(q) if np.mean(result[q]['resampled_diffs']) > 0 else 'not found' for q in list(result.keys())])"
      ],
      "metadata": {
        "id": "ZZYEvwsQzvgG",
        "colab": {
          "base_uri": "https://localhost:8080/",
          "height": 35
        },
        "outputId": "27de0454-4291-4320-8be4-79df62ef2fff"
      },
      "execution_count": null,
      "outputs": [
        {
          "output_type": "execute_result",
          "data": {
            "text/plain": [
              "'0.61'"
            ],
            "application/vnd.google.colaboratory.intrinsic+json": {
              "type": "string"
            }
          },
          "metadata": {},
          "execution_count": 181
        }
      ]
    },
    {
      "cell_type": "code",
      "source": [
        "diffs = [np.mean(result[q]['resampled_diffs']) for q in sorted(result.keys())]\n",
        "pvals = [result[q]['p_value'] < alpha for q in sorted(result.keys())]\n",
        "q = 0.01\n",
        "for d, p in zip(diffs, pvals):\n",
        "  if d > 0 and p:\n",
        "    print(f\"Статзначимая положительная разница между group 1 и group 2 начинает проявляться с {q:.2f} квантиля\")\n",
        "    print(f\"Абсолютный наблюдаемый эффект {d:.1f}\")\n",
        "    break\n",
        "  q += 0.01\n"
      ],
      "metadata": {
        "id": "WCaZHtKXRkY-",
        "outputId": "80a88f75-9bf3-47dc-95e9-9891760f723a",
        "colab": {
          "base_uri": "https://localhost:8080/"
        }
      },
      "execution_count": null,
      "outputs": [
        {
          "output_type": "stream",
          "name": "stdout",
          "text": [
            "Статзначимая положительная разница между group 1 и group 2 начинает проявляться с 0.62 квантиля\n",
            "Абсолютный наблюдаемый эффект 98.5\n"
          ]
        }
      ]
    },
    {
      "cell_type": "markdown",
      "source": [
        "## Задание 3. Децильный анализ (4/4) ##\n",
        "Какой абсолютный наблюдаемый эффект находится при проверке бутстрапом на квантиле из симуляции, проведенной в предыдущем задании?\n",
        "\n",
        "Нужно указать среднюю разницу между квантилями по всем итерациям бутстрапа. Введите ответ в поле ниже с точностью до одного знака в десятичной части."
      ],
      "metadata": {
        "id": "5hxPoc5Ezvsj"
      }
    },
    {
      "cell_type": "code",
      "source": [],
      "metadata": {
        "id": "2C9yW-yxzzrG"
      },
      "execution_count": null,
      "outputs": []
    },
    {
      "cell_type": "markdown",
      "source": [
        "Как мы видим бутстрап помогает тестировать более сложные гипотезы, например о квантилях распределения. С его помощью мы может производить поиск по всем децилям распределения. В конкретном кейсе это помогло найти области в которых цена отработала в сторону снижения ARPPU, и что более важно области в которых изменение цен увеличило ARPPU.\n",
        "\n",
        "Скорее всего после этого анализа менеджер захочет менять цены сегментационно, а не всем сразу. Это позволит расти по выручке за счет тех, у кого менее эластичная реакция на рост цен, и не трогать более эластичный спрос."
      ],
      "metadata": {
        "id": "9503p9FVzz4Q"
      }
    },
    {
      "cell_type": "code",
      "source": [
        "# функция, возвращающая resample выборок resample_num раз\n",
        "def get_resampled_data(sample, sample_size, resample_num):\n",
        "    resampled_data = np.random.choice(sample, size = (resample_num, sample_size), replace=True)\n",
        "    return(resampled_data)\n",
        "\n",
        "# функция, которая достает квантили из resample выборок\n",
        "def get_resampled_quantile(resampled_data, q=0.5):\n",
        "    resampled_stats = np.quantile(resampled_data, q=q, axis = 1)\n",
        "    return(resampled_stats)\n",
        "\n",
        "def bootstrap_ab_test(sample_data_A, sample_data_B, stat, resample_num, alpha, q):\n",
        "    '''\n",
        "    sample_data_A - значения в выборке А\n",
        "    sample_data_B - значения в выборке B\n",
        "    stat - можно передать оцениваемую функцию\n",
        "    resample_num - количество итераций извлечения resample выборок в бутстрапе\n",
        "    alpha - уровень значимости при проверке\n",
        "    q - указывается если вы оцениваете определенный квантиль распределения\n",
        "\n",
        "    '''\n",
        "    # получаем бутстрапированные данные\n",
        "    resampled_data_A = get_resampled_data(sample_data_A, len(sample_data_A), resample_num)\n",
        "    resampled_data_B = get_resampled_data(sample_data_B, len(sample_data_B), resample_num)\n",
        "\n",
        "    if q is not None:\n",
        "        resampled_stats_A = get_resampled_quantile(resampled_data_A, q)\n",
        "        resampled_stats_B = get_resampled_quantile(resampled_data_B, q)\n",
        "    else:\n",
        "        resampled_stats_A = get_resampled_stats(resampled_data_A, stat)\n",
        "        resampled_stats_B = get_resampled_stats(resampled_data_B, stat)\n",
        "\n",
        "    # рассчитываем разницу для статистики\n",
        "    resampled_diffs = resampled_stats_B - resampled_stats_A\n",
        "\n",
        "    # рассчитываем перцентильный бутстрап\n",
        "    perc_ci = np.quantile(resampled_diffs, [alpha/2, 1-alpha/2])\n",
        "\n",
        "    if q is not None:\n",
        "        samples_diff = np.quantile(sample_data_B, q) - np.quantile(sample_data_A, q)\n",
        "    else:\n",
        "        samples_diff = stat(sample_data_B) - stat(sample_data_A)\n",
        "\n",
        "    # рассчитываем p-value\n",
        "    adjusted_resampled_diffs = resampled_diffs - samples_diff\n",
        "    false_positive_count = np.sum(np.abs(adjusted_resampled_diffs) >= np.abs(samples_diff))\n",
        "    p_value = false_positive_count / resample_num\n",
        "\n",
        "    # формируем результат\n",
        "    boot_data_object = {'resample_stats_A':resampled_stats_A,\n",
        "                         'resample_stats_B':resampled_stats_B,\n",
        "                         'resampled_diffs': resampled_diffs,\n",
        "                         'conf_int': perc_ci,\n",
        "                         'stat_diffs_std': resampled_diffs.std(),\n",
        "                         'p_value': p_value}\n",
        "    return(boot_data_object)\n",
        "\n",
        "# также сделаем функцию, отрисовывающую результат проверки гипотез через бутстрап\n",
        "def boot_data_plot(boot_data_object, alpha):\n",
        "    fig, axes = plt.subplots(1, 2, figsize = (15,6))\n",
        "\n",
        "    axes[0].set_title('A & B botstraped stats distribution')\n",
        "    sns.kdeplot(ax = axes[0], data = boot_data_object['resample_stats_A'], label = \"resample_stats_A\", color = 'blue')\n",
        "    axes[0].axvline(x = boot_data_object['resample_stats_A'].mean(), linestyle = '--', color = 'blue')\n",
        "    sns.kdeplot(ax = axes[0], data = boot_data_object['resample_stats_B'], label = \"resample_stats_B\", color = 'red')\n",
        "    axes[0].axvline(x = boot_data_object['resample_stats_B'].mean(), linestyle = '--', color = 'red')\n",
        "    axes[0].legend(loc='upper right')\n",
        "\n",
        "    axes[1].set_title('A & B botstraped stats diffs distribution')\n",
        "    sns.kdeplot(ax=axes[1], data = boot_data_object['resampled_diffs'], label = \"resample_stats_diffs\", color = 'black')\n",
        "    axes[1].axvline(x = 0, color = 'red')\n",
        "    axes[1].axvline(x = boot_data_object['resampled_diffs'].mean(), linestyle = '--', color = 'black')\n",
        "    axes[1].vlines(boot_data_object['conf_int'], ymin = 0, ymax= 0.05, linestyle = '-', color = 'black')\n",
        "    axes[1].legend(loc='upper right')\n",
        "\n",
        "    # сделаем часть, которая принтует основные значения и вывод по проверке гипотез\n",
        "    if boot_data_object['p_value'] < alpha:\n",
        "        conclusion = 'H0 rejected!!!'\n",
        "    else:\n",
        "        conclusion = \"H0 doesn't rejected!!!\"\n",
        "\n",
        "    print(conclusion)\n",
        "    print('A sample stat mean =', boot_data_object['resample_stats_A'].mean())\n",
        "    print('B sample stat mean =', boot_data_object['resample_stats_B'].mean())\n",
        "    print('Avg lift =', boot_data_object['resampled_diffs'].mean())\n",
        "    print('p-val =', boot_data_object['p_value'])\n",
        "    print('Diffs ci:', boot_data_object['conf_int'])\n",
        "    print('stats diffs std = ', boot_data_object['stat_diffs_std'])\n"
      ],
      "metadata": {
        "id": "LUlqnRRBYH3B"
      },
      "execution_count": null,
      "outputs": []
    },
    {
      "cell_type": "code",
      "source": [
        "perc_linspace = np.arange(start = 0.01, stop = 1, step = 0.01) # создаем массив квантиле по которым мы будем проверять гипотезу о равенстве квантиля\n",
        "\n",
        "sample_1 = sample_data_B = b\n",
        "sample_data_A = a\n",
        "p_val_list = []\n",
        "diffs_list = []\n",
        "lower_ci_list = []\n",
        "upper_ci_list = []\n",
        "\n",
        "# для каждого определяемого квантиля проверяем гипотезу о равенстве квантилей с помощью бутстрапа\n",
        "np.random.seed(1)\n",
        "for i in tqdm(perc_linspace):\n",
        "    boot_data = bootstrap_ab_test(sample_data_A,\n",
        "                  sample_data_B = sample_1,\n",
        "                  stat = np.mean,\n",
        "                  resample_num = 2000,\n",
        "                  alpha = (0.05/len(perc_linspace)), q = i) # не забываем штрафовать нашу альфа. Пока используем самый простой и страшный Бонферрони\n",
        "    p_val_list.append(boot_data['p_value'])\n",
        "    diffs_list.append(boot_data['resampled_diffs'].mean())\n",
        "    lower_ci_list.append(boot_data['conf_int'][0])\n",
        "    upper_ci_list.append(boot_data['conf_int'][1])\n",
        "p_val_list = np.array(p_val_list)\n",
        "diffs_list = np.array(diffs_list)\n",
        "lower_ci_list = np.array(lower_ci_list)\n",
        "upper_ci_list = np.array(upper_ci_list)\n",
        "\n",
        "plt.figure(figsize=(16,8))\n",
        "sns.lineplot(x = np.round(perc_linspace,2), y = p_val_list, color= 'gray')\n",
        "plt.xlabel(\"Percentiles\")\n",
        "plt.ylabel(\"p-value\")\n",
        "plt.axhline(y = (0.05/len(perc_linspace)), linestyle = '--')\n",
        "target_percentile = perc_linspace[p_val_list <= (0.05/len(perc_linspace))].min()\n",
        "plt.axvline(target_percentile, linestyle = '--', color = 'blue')\n",
        "print('Target percentile = ', perc_linspace[p_val_list <= (0.05/len(perc_linspace))].min())\n"
      ],
      "metadata": {
        "id": "GWGxMNReMKEi",
        "outputId": "58b7fa6e-2c44-4613-c16d-ab317c7866cd",
        "colab": {
          "base_uri": "https://localhost:8080/",
          "height": 745,
          "referenced_widgets": [
            "a4fc7755c22a47c6ae84cf3094db1654",
            "94dd7ebc917a474face49ca39e8d896e",
            "10e9dce681fa4875a6040a6936ee2504",
            "8c7bbb1cd80a4a588b4c61f4517fbfd3",
            "807836e4df29402196e514cdea35e905",
            "8bc050182ae342e5be511605a0145c46",
            "f55c4bc06a1e402e90b0004397138f9d",
            "d42e14485de944649d4c405a20494efe",
            "6e5ed2cf9d7e4afaa946a9d30fb9b57a",
            "9d977291239f4aa5b7b15a5e490183f9",
            "e804855c4ef3408bb6d032c70a6e75b5"
          ]
        }
      },
      "execution_count": null,
      "outputs": [
        {
          "output_type": "display_data",
          "data": {
            "text/plain": [
              "  0%|          | 0/99 [00:00<?, ?it/s]"
            ],
            "application/vnd.jupyter.widget-view+json": {
              "version_major": 2,
              "version_minor": 0,
              "model_id": "a4fc7755c22a47c6ae84cf3094db1654"
            }
          },
          "metadata": {}
        },
        {
          "output_type": "stream",
          "name": "stdout",
          "text": [
            "Target percentile =  0.01\n"
          ]
        },
        {
          "output_type": "display_data",
          "data": {
            "text/plain": [
              "<Figure size 1600x800 with 1 Axes>"
            ],
            "image/png": "[encoded data removed]"
          },
          "metadata": {}
        }
      ]
    },
    {
      "cell_type": "code",
      "source": [
        "diffs_list"
      ],
      "metadata": {
        "id": "vUunhH6sX2t2",
        "outputId": "865b9ec5-6bc4-4a7c-ab6a-6307b78bcdf2",
        "colab": {
          "base_uri": "https://localhost:8080/"
        }
      },
      "execution_count": null,
      "outputs": [
        {
          "output_type": "execute_result",
          "data": {
            "text/plain": [
              "array([ -15.001   ,  -16.      ,  -16.      ,  -16.      ,  -16.      ,\n",
              "        -16.      ,  -24.49334 ,  -20.18152 ,  -18.0075  ,  -18.      ,\n",
              "        -18.      ,  -18.      ,  -18.      ,  -18.      ,  -18.      ,\n",
              "        -18.      ,  -18.824115,  -41.83432 ,  -24.30055 ,  -25.358   ,\n",
              "        -42.927925,  -56.3289  ,  -55.81735 ,  -34.7327  ,  -32.      ,\n",
              "        -33.57279 ,  -37.741715,  -33.03    ,  -33.      ,  -33.      ,\n",
              "        -34.354605,  -45.31462 ,  -38.5137  ,  -35.0333  ,  -35.      ,\n",
              "        -35.      ,  -36.20799 ,  -60.10649 ,  -52.28587 ,  -56.3449  ,\n",
              "        -43.7362  ,  -43.      ,  -43.      ,  -44.0629  ,  -64.4415  ,\n",
              "        -57.7017  ,  -55.02059 ,  -62.75034 ,  -60.82217 ,  -63.92875 ,\n",
              "        -61.6763  ,  -64.26366 , -104.25651 ,  -95.02251 ,  -96.816025,\n",
              "        -75.83866 ,  -77.385425,  -22.68006 ,  -16.110125,  -11.9666  ,\n",
              "         98.39262 ,   97.69185 ,  118.850165,  116.15348 ,  147.779125,\n",
              "        171.12215 ,  160.724075,  167.69694 ,  153.33813 ,  160.584   ,\n",
              "        171.546645,  185.31074 ,  193.768815,  196.89357 ,  210.8295  ,\n",
              "        238.21898 ,  219.821335,  160.1232  ,  118.94883 ,   42.3476  ,\n",
              "          4.556435,  -67.37867 ,  -65.08821 ,  -31.4908  , -106.221675,\n",
              "        -46.61543 ,  -43.86427 ,  -91.6717  , -124.49305 , -285.84505 ,\n",
              "       -186.20986 , -267.15792 , -106.54363 , -204.94193 , -114.29315 ,\n",
              "       -173.80996 ,    9.38166 ,  190.11567 , 2747.99449 ])"
            ]
          },
          "metadata": {},
          "execution_count": 174
        }
      ]
    },
    {
      "cell_type": "code",
      "source": [
        "np.array(diffs)"
      ],
      "metadata": {
        "id": "6yrfFuIiZa_e",
        "outputId": "275a7603-30b1-4014-b27e-270d39a41617",
        "colab": {
          "base_uri": "https://localhost:8080/"
        }
      },
      "execution_count": null,
      "outputs": [
        {
          "output_type": "execute_result",
          "data": {
            "text/plain": [
              "array([ -15.001   ,  -16.      ,  -16.      ,  -16.      ,  -16.      ,\n",
              "        -16.006   ,  -24.64034 ,  -20.2116  ,  -18.012   ,  -18.      ,\n",
              "        -18.      ,  -18.      ,  -18.      ,  -18.      ,  -18.      ,\n",
              "        -18.      ,  -18.83109 ,  -41.80304 ,  -24.2485  ,  -25.288   ,\n",
              "        -43.255925,  -56.2389  ,  -55.7724  ,  -34.6164  ,  -32.      ,\n",
              "        -33.5211  ,  -37.89129 ,  -33.044   ,  -33.      ,  -33.      ,\n",
              "        -34.09285 ,  -45.14036 ,  -38.708005,  -35.0318  ,  -35.      ,\n",
              "        -35.      ,  -35.85095 ,  -60.3562  ,  -51.540045,  -55.9059  ,\n",
              "        -43.6082  ,  -43.      ,  -43.      ,  -43.9916  ,  -63.672625,\n",
              "        -57.31793 ,  -55.21754 ,  -62.64088 ,  -60.23187 ,  -64.04025 ,\n",
              "        -61.322635,  -63.96576 , -104.28056 ,  -94.15988 ,  -96.312325,\n",
              "        -75.61266 ,  -77.135   ,  -22.361   ,  -16.363   ,   -9.944   ,\n",
              "        101.39401 ,   98.46786 ,  119.602585,  115.76416 ,  147.8063  ,\n",
              "        171.29    ,  160.560475,  167.9537  ,  154.03439 ,  160.9609  ,\n",
              "        173.01823 ,  186.29756 ,  194.84061 ,  199.08778 ,  212.564625,\n",
              "        239.04862 ,  221.89516 ,  161.07078 ,  121.40856 ,   43.5255  ,\n",
              "          5.69895 ,  -64.66314 ,  -59.93326 ,  -30.66786 ,  -99.976925,\n",
              "        -45.92579 ,  -41.327805,  -87.56116 , -120.933445, -274.0722  ,\n",
              "       -182.12754 , -249.6657  , -101.86536 , -193.43918 , -108.672075,\n",
              "       -161.37876 ,   15.671215,  181.24432 , 2778.79976 ])"
            ]
          },
          "metadata": {},
          "execution_count": 190
        }
      ]
    },
    {
      "cell_type": "code",
      "source": [
        "len(a)"
      ],
      "metadata": {
        "id": "N3uuxTp4ZkOr",
        "outputId": "eee01d7b-73a1-4e48-d691-284967cc8590",
        "colab": {
          "base_uri": "https://localhost:8080/"
        }
      },
      "execution_count": null,
      "outputs": [
        {
          "output_type": "execute_result",
          "data": {
            "text/plain": [
              "15994"
            ]
          },
          "metadata": {},
          "execution_count": 193
        }
      ]
    },
    {
      "cell_type": "code",
      "source": [
        "len(b)"
      ],
      "metadata": {
        "id": "JlNLbYNkfRD-",
        "outputId": "8e934a7c-9f34-4012-92c4-37187a700a53",
        "colab": {
          "base_uri": "https://localhost:8080/"
        }
      },
      "execution_count": null,
      "outputs": [
        {
          "output_type": "execute_result",
          "data": {
            "text/plain": [
              "16121"
            ]
          },
          "metadata": {},
          "execution_count": 194
        }
      ]
    },
    {
      "cell_type": "code",
      "source": [],
      "metadata": {
        "id": "GfMtF6-yfSWC"
      },
      "execution_count": null,
      "outputs": []
    }
  ]
}