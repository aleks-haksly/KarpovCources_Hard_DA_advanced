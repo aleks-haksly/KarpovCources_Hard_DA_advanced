{
  "nbformat": 4,
  "nbformat_minor": 0,
  "metadata": {
    "colab": {
      "provenance": [],
      "authorship_tag": "ABX9TyOkEnpYHm25S/SwfAqDHhZQ",
      "include_colab_link": true
    },
    "kernelspec": {
      "name": "python3",
      "display_name": "Python 3"
    },
    "language_info": {
      "name": "python"
    }
  },
  "cells": [
    {
      "cell_type": "markdown",
      "metadata": {
        "id": "view-in-github",
        "colab_type": "text"
      },
      "source": [
        "<a href=\"https://colab.research.google.com/github/aleks-haksly/KarpovCources_Hard_DA_advanced/blob/main/03%20-%20Advanced%20experiments%20design/02_mde.ipynb\" target=\"_parent\"><img src=\"https://colab.research.google.com/assets/colab-badge.svg\" alt=\"Open In Colab\"/></a>"
      ]
    },
    {
      "cell_type": "code",
      "execution_count": null,
      "metadata": {
        "colab": {
          "base_uri": "https://localhost:8080/"
        },
        "id": "isFyb98EXQaq",
        "outputId": "157391e1-5810-4e91-8644-95e548abfca6"
      },
      "outputs": [
        {
          "output_type": "stream",
          "name": "stdout",
          "text": [
            "\u001b[?25l     \u001b[90m━━━━━━━━━━━━━━━━━━━━━━━━━━━━━━━━━━━━━━━━\u001b[0m \u001b[32m0.0/935.7 kB\u001b[0m \u001b[31m?\u001b[0m eta \u001b[36m-:--:--\u001b[0m\r\u001b[2K     \u001b[91m━━━━━━━━\u001b[0m\u001b[91m╸\u001b[0m\u001b[90m━━━━━━━━━━━━━━━━━━━━━━━━━━━━━━━\u001b[0m \u001b[32m204.8/935.7 kB\u001b[0m \u001b[31m5.9 MB/s\u001b[0m eta \u001b[36m0:00:01\u001b[0m\r\u001b[2K     \u001b[91m━━━━━━━━━━━━━━━━━━━━━━━━\u001b[0m\u001b[90m╺\u001b[0m\u001b[90m━━━━━━━━━━━━━━━\u001b[0m \u001b[32m563.2/935.7 kB\u001b[0m \u001b[31m8.0 MB/s\u001b[0m eta \u001b[36m0:00:01\u001b[0m\r\u001b[2K     \u001b[91m━━━━━━━━━━━━━━━━━━━━━━━━━━━━━━━━━━━━━━━\u001b[0m\u001b[91m╸\u001b[0m \u001b[32m931.8/935.7 kB\u001b[0m \u001b[31m9.2 MB/s\u001b[0m eta \u001b[36m0:00:01\u001b[0m\r\u001b[2K     \u001b[90m━━━━━━━━━━━━━━━━━━━━━━━━━━━━━━━━━━━━━━━━\u001b[0m \u001b[32m935.7/935.7 kB\u001b[0m \u001b[31m6.6 MB/s\u001b[0m eta \u001b[36m0:00:00\u001b[0m\n",
            "\u001b[?25h"
          ]
        }
      ],
      "source": [
        "# Импортируем используемые в работе модули\n",
        "import pandas as pd\n",
        "!pip install clickhouse-driver --q\n",
        "from clickhouse_driver import Client\n",
        "from google.colab import userdata"
      ]
    },
    {
      "cell_type": "code",
      "source": [
        "# Реквизиты для подключения к БД\n",
        "user=\"hardda_student_alekse-fomin\"\n",
        "password=userdata.get('HA[hardda_student_alekse-fomin]')\n",
        "\n",
        "host='clickhouse.lab.karpov.courses'\n",
        "port=9000\n",
        "database_r='hardda'"
      ],
      "metadata": {
        "id": "ASVtSDMlXifT"
      },
      "execution_count": null,
      "outputs": []
    },
    {
      "cell_type": "code",
      "source": [
        "# Создаем соединение с БД ClickHouse\n",
        "client_r = Client(host=host, port=port, user=user,\n",
        "                password=password, database=database_r)"
      ],
      "metadata": {
        "id": "GQG4tSu3X-j_"
      },
      "execution_count": null,
      "outputs": []
    },
    {
      "cell_type": "markdown",
      "source": [
        "### Задание 1 ###\n",
        "Подготовьте SQL запрос для клиентов, совершивших оплату в Москве в период с 11 по 16 октября 2022 г. за услугу \"premium\"."
      ],
      "metadata": {
        "id": "Zwl7eUbftC_A"
      }
    },
    {
      "cell_type": "code",
      "source": [
        "sql = \"\"\"WITH transactions as (\n",
        "  SELECT\n",
        "    payment_date,\n",
        "    advert_id,\n",
        "    amount,\n",
        "    passport_id\n",
        "  FROM\n",
        "    user_transactions t\n",
        "  WHERE\n",
        "    t.payment_date BETWEEN '2022-10-11'\n",
        "    and '2022-10-16'\n",
        "    AND t.sign = -1\n",
        "    and t.type = 'premium'\n",
        "    and t.amount != 0\n",
        ")\n",
        "\n",
        "SELECT\n",
        "  t.passport_id,\n",
        "  abs(sum(t.amount)) AS revenue\n",
        "FROM\n",
        "  transactions AS t\n",
        "LEFT JOIN\n",
        "  dp_live_adverts AS a ON CAST(a.advert_id, 'UInt32') = t.advert_id AND a.execution_date = t.payment_date\n",
        "WHERE\n",
        "  region = 'Москва'\n",
        "GROUP BY\n",
        "  t.passport_id\n",
        "\"\"\"\n",
        "result, columns = client_r.execute(sql, with_column_types=True)\n",
        "df = pd.DataFrame(result, columns=[tuple[0] for tuple in columns]) #.set_index('payment_date')\n",
        "#df['payment_date'] = pd.to_datetime(df['payment_date'], format=\"yyyy-mm-dd\")\n",
        "#df['tstamp'] = pd.to_datetime(df['tstamp'], format=\"yyyy-mm-dd hh:mm:ss\")"
      ],
      "metadata": {
        "id": "N77phQTUcX73"
      },
      "execution_count": null,
      "outputs": []
    },
    {
      "cell_type": "code",
      "source": [
        "df"
      ],
      "metadata": {
        "colab": {
          "base_uri": "https://localhost:8080/",
          "height": 424
        },
        "id": "XzjKpvlqf6QA",
        "outputId": "1ac92504-faf6-4de1-9eb7-358d237e56a1"
      },
      "execution_count": null,
      "outputs": [
        {
          "output_type": "execute_result",
          "data": {
            "text/plain": [
              "      passport_id  revenue\n",
              "0       140977147      985\n",
              "1       134882393     1105\n",
              "2       139901702     1100\n",
              "3       123673877     1100\n",
              "4       142445756     1100\n",
              "...           ...      ...\n",
              "1048    124592490     1105\n",
              "1049    135976735     1100\n",
              "1050    123466729     1100\n",
              "1051    142277608     1105\n",
              "1052    138350728     2210\n",
              "\n",
              "[1053 rows x 2 columns]"
            ],
            "text/html": [
              "\n",
              "  <div id=\"df-c0b6f6d3-b31a-41e1-84cd-da709949ffde\" class=\"colab-df-container\">\n",
              "    <div>\n",
              "<style scoped>\n",
              "    .dataframe tbody tr th:only-of-type {\n",
              "        vertical-align: middle;\n",
              "    }\n",
              "\n",
              "    .dataframe tbody tr th {\n",
              "        vertical-align: top;\n",
              "    }\n",
              "\n",
              "    .dataframe thead th {\n",
              "        text-align: right;\n",
              "    }\n",
              "</style>\n",
              "<table border=\"1\" class=\"dataframe\">\n",
              "  <thead>\n",
              "    <tr style=\"text-align: right;\">\n",
              "      <th></th>\n",
              "      <th>passport_id</th>\n",
              "      <th>revenue</th>\n",
              "    </tr>\n",
              "  </thead>\n",
              "  <tbody>\n",
              "    <tr>\n",
              "      <th>0</th>\n",
              "      <td>140977147</td>\n",
              "      <td>985</td>\n",
              "    </tr>\n",
              "    <tr>\n",
              "      <th>1</th>\n",
              "      <td>134882393</td>\n",
              "      <td>1105</td>\n",
              "    </tr>\n",
              "    <tr>\n",
              "      <th>2</th>\n",
              "      <td>139901702</td>\n",
              "      <td>1100</td>\n",
              "    </tr>\n",
              "    <tr>\n",
              "      <th>3</th>\n",
              "      <td>123673877</td>\n",
              "      <td>1100</td>\n",
              "    </tr>\n",
              "    <tr>\n",
              "      <th>4</th>\n",
              "      <td>142445756</td>\n",
              "      <td>1100</td>\n",
              "    </tr>\n",
              "    <tr>\n",
              "      <th>...</th>\n",
              "      <td>...</td>\n",
              "      <td>...</td>\n",
              "    </tr>\n",
              "    <tr>\n",
              "      <th>1048</th>\n",
              "      <td>124592490</td>\n",
              "      <td>1105</td>\n",
              "    </tr>\n",
              "    <tr>\n",
              "      <th>1049</th>\n",
              "      <td>135976735</td>\n",
              "      <td>1100</td>\n",
              "    </tr>\n",
              "    <tr>\n",
              "      <th>1050</th>\n",
              "      <td>123466729</td>\n",
              "      <td>1100</td>\n",
              "    </tr>\n",
              "    <tr>\n",
              "      <th>1051</th>\n",
              "      <td>142277608</td>\n",
              "      <td>1105</td>\n",
              "    </tr>\n",
              "    <tr>\n",
              "      <th>1052</th>\n",
              "      <td>138350728</td>\n",
              "      <td>2210</td>\n",
              "    </tr>\n",
              "  </tbody>\n",
              "</table>\n",
              "<p>1053 rows × 2 columns</p>\n",
              "</div>\n",
              "    <div class=\"colab-df-buttons\">\n",
              "\n",
              "  <div class=\"colab-df-container\">\n",
              "    <button class=\"colab-df-convert\" onclick=\"convertToInteractive('df-c0b6f6d3-b31a-41e1-84cd-da709949ffde')\"\n",
              "            title=\"Convert this dataframe to an interactive table.\"\n",
              "            style=\"display:none;\">\n",
              "\n",
              "  <svg xmlns=\"http://www.w3.org/2000/svg\" height=\"24px\" viewBox=\"0 -960 960 960\">\n",
              "    <path d=\"M120-120v-720h720v720H120Zm60-500h600v-160H180v160Zm220 220h160v-160H400v160Zm0 220h160v-160H400v160ZM180-400h160v-160H180v160Zm440 0h160v-160H620v160ZM180-180h160v-160H180v160Zm440 0h160v-160H620v160Z\"/>\n",
              "  </svg>\n",
              "    </button>\n",
              "\n",
              "  <style>\n",
              "    .colab-df-container {\n",
              "      display:flex;\n",
              "      gap: 12px;\n",
              "    }\n",
              "\n",
              "    .colab-df-convert {\n",
              "      background-color: #E8F0FE;\n",
              "      border: none;\n",
              "      border-radius: 50%;\n",
              "      cursor: pointer;\n",
              "      display: none;\n",
              "      fill: #1967D2;\n",
              "      height: 32px;\n",
              "      padding: 0 0 0 0;\n",
              "      width: 32px;\n",
              "    }\n",
              "\n",
              "    .colab-df-convert:hover {\n",
              "      background-color: #E2EBFA;\n",
              "      box-shadow: 0px 1px 2px rgba(60, 64, 67, 0.3), 0px 1px 3px 1px rgba(60, 64, 67, 0.15);\n",
              "      fill: #174EA6;\n",
              "    }\n",
              "\n",
              "    .colab-df-buttons div {\n",
              "      margin-bottom: 4px;\n",
              "    }\n",
              "\n",
              "    [theme=dark] .colab-df-convert {\n",
              "      background-color: #3B4455;\n",
              "      fill: #D2E3FC;\n",
              "    }\n",
              "\n",
              "    [theme=dark] .colab-df-convert:hover {\n",
              "      background-color: #434B5C;\n",
              "      box-shadow: 0px 1px 3px 1px rgba(0, 0, 0, 0.15);\n",
              "      filter: drop-shadow(0px 1px 2px rgba(0, 0, 0, 0.3));\n",
              "      fill: #FFFFFF;\n",
              "    }\n",
              "  </style>\n",
              "\n",
              "    <script>\n",
              "      const buttonEl =\n",
              "        document.querySelector('#df-c0b6f6d3-b31a-41e1-84cd-da709949ffde button.colab-df-convert');\n",
              "      buttonEl.style.display =\n",
              "        google.colab.kernel.accessAllowed ? 'block' : 'none';\n",
              "\n",
              "      async function convertToInteractive(key) {\n",
              "        const element = document.querySelector('#df-c0b6f6d3-b31a-41e1-84cd-da709949ffde');\n",
              "        const dataTable =\n",
              "          await google.colab.kernel.invokeFunction('convertToInteractive',\n",
              "                                                    [key], {});\n",
              "        if (!dataTable) return;\n",
              "\n",
              "        const docLinkHtml = 'Like what you see? Visit the ' +\n",
              "          '<a target=\"_blank\" href=https://colab.research.google.com/notebooks/data_table.ipynb>data table notebook</a>'\n",
              "          + ' to learn more about interactive tables.';\n",
              "        element.innerHTML = '';\n",
              "        dataTable['output_type'] = 'display_data';\n",
              "        await google.colab.output.renderOutput(dataTable, element);\n",
              "        const docLink = document.createElement('div');\n",
              "        docLink.innerHTML = docLinkHtml;\n",
              "        element.appendChild(docLink);\n",
              "      }\n",
              "    </script>\n",
              "  </div>\n",
              "\n",
              "\n",
              "<div id=\"df-f0252c68-8f0e-44b2-b800-1c0a9ca2d622\">\n",
              "  <button class=\"colab-df-quickchart\" onclick=\"quickchart('df-f0252c68-8f0e-44b2-b800-1c0a9ca2d622')\"\n",
              "            title=\"Suggest charts\"\n",
              "            style=\"display:none;\">\n",
              "\n",
              "<svg xmlns=\"http://www.w3.org/2000/svg\" height=\"24px\"viewBox=\"0 0 24 24\"\n",
              "     width=\"24px\">\n",
              "    <g>\n",
              "        <path d=\"M19 3H5c-1.1 0-2 .9-2 2v14c0 1.1.9 2 2 2h14c1.1 0 2-.9 2-2V5c0-1.1-.9-2-2-2zM9 17H7v-7h2v7zm4 0h-2V7h2v10zm4 0h-2v-4h2v4z\"/>\n",
              "    </g>\n",
              "</svg>\n",
              "  </button>\n",
              "\n",
              "<style>\n",
              "  .colab-df-quickchart {\n",
              "      --bg-color: #E8F0FE;\n",
              "      --fill-color: #1967D2;\n",
              "      --hover-bg-color: #E2EBFA;\n",
              "      --hover-fill-color: #174EA6;\n",
              "      --disabled-fill-color: #AAA;\n",
              "      --disabled-bg-color: #DDD;\n",
              "  }\n",
              "\n",
              "  [theme=dark] .colab-df-quickchart {\n",
              "      --bg-color: #3B4455;\n",
              "      --fill-color: #D2E3FC;\n",
              "      --hover-bg-color: #434B5C;\n",
              "      --hover-fill-color: #FFFFFF;\n",
              "      --disabled-bg-color: #3B4455;\n",
              "      --disabled-fill-color: #666;\n",
              "  }\n",
              "\n",
              "  .colab-df-quickchart {\n",
              "    background-color: var(--bg-color);\n",
              "    border: none;\n",
              "    border-radius: 50%;\n",
              "    cursor: pointer;\n",
              "    display: none;\n",
              "    fill: var(--fill-color);\n",
              "    height: 32px;\n",
              "    padding: 0;\n",
              "    width: 32px;\n",
              "  }\n",
              "\n",
              "  .colab-df-quickchart:hover {\n",
              "    background-color: var(--hover-bg-color);\n",
              "    box-shadow: 0 1px 2px rgba(60, 64, 67, 0.3), 0 1px 3px 1px rgba(60, 64, 67, 0.15);\n",
              "    fill: var(--button-hover-fill-color);\n",
              "  }\n",
              "\n",
              "  .colab-df-quickchart-complete:disabled,\n",
              "  .colab-df-quickchart-complete:disabled:hover {\n",
              "    background-color: var(--disabled-bg-color);\n",
              "    fill: var(--disabled-fill-color);\n",
              "    box-shadow: none;\n",
              "  }\n",
              "\n",
              "  .colab-df-spinner {\n",
              "    border: 2px solid var(--fill-color);\n",
              "    border-color: transparent;\n",
              "    border-bottom-color: var(--fill-color);\n",
              "    animation:\n",
              "      spin 1s steps(1) infinite;\n",
              "  }\n",
              "\n",
              "  @keyframes spin {\n",
              "    0% {\n",
              "      border-color: transparent;\n",
              "      border-bottom-color: var(--fill-color);\n",
              "      border-left-color: var(--fill-color);\n",
              "    }\n",
              "    20% {\n",
              "      border-color: transparent;\n",
              "      border-left-color: var(--fill-color);\n",
              "      border-top-color: var(--fill-color);\n",
              "    }\n",
              "    30% {\n",
              "      border-color: transparent;\n",
              "      border-left-color: var(--fill-color);\n",
              "      border-top-color: var(--fill-color);\n",
              "      border-right-color: var(--fill-color);\n",
              "    }\n",
              "    40% {\n",
              "      border-color: transparent;\n",
              "      border-right-color: var(--fill-color);\n",
              "      border-top-color: var(--fill-color);\n",
              "    }\n",
              "    60% {\n",
              "      border-color: transparent;\n",
              "      border-right-color: var(--fill-color);\n",
              "    }\n",
              "    80% {\n",
              "      border-color: transparent;\n",
              "      border-right-color: var(--fill-color);\n",
              "      border-bottom-color: var(--fill-color);\n",
              "    }\n",
              "    90% {\n",
              "      border-color: transparent;\n",
              "      border-bottom-color: var(--fill-color);\n",
              "    }\n",
              "  }\n",
              "</style>\n",
              "\n",
              "  <script>\n",
              "    async function quickchart(key) {\n",
              "      const quickchartButtonEl =\n",
              "        document.querySelector('#' + key + ' button');\n",
              "      quickchartButtonEl.disabled = true;  // To prevent multiple clicks.\n",
              "      quickchartButtonEl.classList.add('colab-df-spinner');\n",
              "      try {\n",
              "        const charts = await google.colab.kernel.invokeFunction(\n",
              "            'suggestCharts', [key], {});\n",
              "      } catch (error) {\n",
              "        console.error('Error during call to suggestCharts:', error);\n",
              "      }\n",
              "      quickchartButtonEl.classList.remove('colab-df-spinner');\n",
              "      quickchartButtonEl.classList.add('colab-df-quickchart-complete');\n",
              "    }\n",
              "    (() => {\n",
              "      let quickchartButtonEl =\n",
              "        document.querySelector('#df-f0252c68-8f0e-44b2-b800-1c0a9ca2d622 button');\n",
              "      quickchartButtonEl.style.display =\n",
              "        google.colab.kernel.accessAllowed ? 'block' : 'none';\n",
              "    })();\n",
              "  </script>\n",
              "</div>\n",
              "\n",
              "  <div id=\"id_1e85b2ea-85ce-43c2-ac03-c399f9558792\">\n",
              "    <style>\n",
              "      .colab-df-generate {\n",
              "        background-color: #E8F0FE;\n",
              "        border: none;\n",
              "        border-radius: 50%;\n",
              "        cursor: pointer;\n",
              "        display: none;\n",
              "        fill: #1967D2;\n",
              "        height: 32px;\n",
              "        padding: 0 0 0 0;\n",
              "        width: 32px;\n",
              "      }\n",
              "\n",
              "      .colab-df-generate:hover {\n",
              "        background-color: #E2EBFA;\n",
              "        box-shadow: 0px 1px 2px rgba(60, 64, 67, 0.3), 0px 1px 3px 1px rgba(60, 64, 67, 0.15);\n",
              "        fill: #174EA6;\n",
              "      }\n",
              "\n",
              "      [theme=dark] .colab-df-generate {\n",
              "        background-color: #3B4455;\n",
              "        fill: #D2E3FC;\n",
              "      }\n",
              "\n",
              "      [theme=dark] .colab-df-generate:hover {\n",
              "        background-color: #434B5C;\n",
              "        box-shadow: 0px 1px 3px 1px rgba(0, 0, 0, 0.15);\n",
              "        filter: drop-shadow(0px 1px 2px rgba(0, 0, 0, 0.3));\n",
              "        fill: #FFFFFF;\n",
              "      }\n",
              "    </style>\n",
              "    <button class=\"colab-df-generate\" onclick=\"generateWithVariable('df')\"\n",
              "            title=\"Generate code using this dataframe.\"\n",
              "            style=\"display:none;\">\n",
              "\n",
              "  <svg xmlns=\"http://www.w3.org/2000/svg\" height=\"24px\"viewBox=\"0 0 24 24\"\n",
              "       width=\"24px\">\n",
              "    <path d=\"M7,19H8.4L18.45,9,17,7.55,7,17.6ZM5,21V16.75L18.45,3.32a2,2,0,0,1,2.83,0l1.4,1.43a1.91,1.91,0,0,1,.58,1.4,1.91,1.91,0,0,1-.58,1.4L9.25,21ZM18.45,9,17,7.55Zm-12,3A5.31,5.31,0,0,0,4.9,8.1,5.31,5.31,0,0,0,1,6.5,5.31,5.31,0,0,0,4.9,4.9,5.31,5.31,0,0,0,6.5,1,5.31,5.31,0,0,0,8.1,4.9,5.31,5.31,0,0,0,12,6.5,5.46,5.46,0,0,0,6.5,12Z\"/>\n",
              "  </svg>\n",
              "    </button>\n",
              "    <script>\n",
              "      (() => {\n",
              "      const buttonEl =\n",
              "        document.querySelector('#id_1e85b2ea-85ce-43c2-ac03-c399f9558792 button.colab-df-generate');\n",
              "      buttonEl.style.display =\n",
              "        google.colab.kernel.accessAllowed ? 'block' : 'none';\n",
              "\n",
              "      buttonEl.onclick = () => {\n",
              "        google.colab.notebook.generateWithVariable('df');\n",
              "      }\n",
              "      })();\n",
              "    </script>\n",
              "  </div>\n",
              "\n",
              "    </div>\n",
              "  </div>\n"
            ],
            "application/vnd.google.colaboratory.intrinsic+json": {
              "type": "dataframe",
              "variable_name": "df",
              "summary": "{\n  \"name\": \"df\",\n  \"rows\": 1053,\n  \"fields\": [\n    {\n      \"column\": \"passport_id\",\n      \"properties\": {\n        \"dtype\": \"number\",\n        \"std\": 7268961,\n        \"min\": 123463046,\n        \"max\": 144423352,\n        \"num_unique_values\": 1053,\n        \"samples\": [\n          143240026,\n          129363033,\n          130772117\n        ],\n        \"semantic_type\": \"\",\n        \"description\": \"\"\n      }\n    },\n    {\n      \"column\": \"revenue\",\n      \"properties\": {\n        \"dtype\": \"number\",\n        \"std\": 1596,\n        \"min\": 785,\n        \"max\": 31100,\n        \"num_unique_values\": 36,\n        \"samples\": [\n          8800,\n          1570,\n          5020\n        ],\n        \"semantic_type\": \"\",\n        \"description\": \"\"\n      }\n    }\n  ]\n}"
            }
          },
          "metadata": {},
          "execution_count": 6
        }
      ]
    },
    {
      "cell_type": "markdown",
      "source": [
        "### Задание 2 ###\n",
        "В продукте планируется внедрение нового функционала с целью улучшить привлекательность услуги \"premium\". Менеджеры предполагают, что это позволит увеличить среднюю выручку на 8% (поле amount).\n",
        "\n",
        "Вам необходимо определить минимально необходимый размер выборки, чтобы статистически значимо задетектить эффект при увеличении выручки на 8% с учетом мощности теста в 80% и установленного уровня значимости alpha = 0.05.\n",
        "\n",
        "Давайте решать эту задачу по шагам. В первую очередь, нам необходимо определить среднюю выручку и стандартное отклонение. И найти ожидаемую менеджером среднюю выручку (ARPPU) с учетом ее увеличения на 8%."
      ],
      "metadata": {
        "id": "rdMQsfsqtaLB"
      }
    },
    {
      "cell_type": "code",
      "source": [
        "ARPPU = round(df.revenue.mean() * 1.08, 2)\n",
        "print(\"Ожидаемая менеджером средняя выручка (ARPPU) с учетом ее увеличения на 8%% составляет %s \" % ARPPU)"
      ],
      "metadata": {
        "colab": {
          "base_uri": "https://localhost:8080/"
        },
        "id": "cv1ZfEuAhv8d",
        "outputId": "b04f912b-fed3-411e-878c-000dca0bba86"
      },
      "execution_count": null,
      "outputs": [
        {
          "output_type": "stream",
          "name": "stdout",
          "text": [
            "Ожидаемая менеджером средняя выручка (ARPPU) с учетом ее увеличения на 8% составляет 1754.88 \n"
          ]
        }
      ]
    },
    {
      "cell_type": "markdown",
      "source": [
        "### Задание 3 ###\n",
        "Найдите значение для стандартизированного эффекта (индекс Коэна)."
      ],
      "metadata": {
        "id": "Te89RlblyBHd"
      }
    },
    {
      "cell_type": "code",
      "source": [
        "cohens_d = (ARPPU - df.revenue.mean()) / df.revenue.std()\n",
        "print(\"Значение для стандартизированного эффекта (индекс Коэна) составляет %s \" % round(cohens_d, 2))"
      ],
      "metadata": {
        "id": "83jruicdUkHj",
        "colab": {
          "base_uri": "https://localhost:8080/"
        },
        "outputId": "893e54f8-405a-40a5-eaf4-ac0a8d6d9b70"
      },
      "execution_count": null,
      "outputs": [
        {
          "output_type": "stream",
          "name": "stdout",
          "text": [
            "Значение для стандартизированного эффекта (индекс Коэна) составляет 0.08 \n"
          ]
        }
      ]
    },
    {
      "cell_type": "markdown",
      "source": [
        "### Задание 4 ###\n",
        "Используя рассчитанные значения, найдите минимально необходимый размер выборки, чтобы статистически значимо задетектить эффект.\n",
        "Рассчитываем минимальный размер выборки, необходимый, чтобы стат.значимо задетектить разницу с вероятностью совершить ошибку II рода ниже 20% при уровне значимости альфа = 0.05:"
      ],
      "metadata": {
        "id": "xejt3-KRzaN9"
      }
    },
    {
      "cell_type": "code",
      "source": [
        "from statsmodels.stats.power import tt_ind_solve_power"
      ],
      "metadata": {
        "id": "BJCEi0nfzcMr"
      },
      "execution_count": null,
      "outputs": []
    },
    {
      "cell_type": "code",
      "source": [
        "sample_size = round(tt_ind_solve_power(effect_size=cohens_d,\n",
        "                                       nobs1=None, # Его мы и ищем\n",
        "                                       alpha=0.05,\n",
        "                                       power=0.8,\n",
        "                                       ratio=1.0,\n",
        "                                       alternative='two-sided'))\n",
        "print('Размер требуемой выборки для каждой группы не менее: %s' % sample_size)"
      ],
      "metadata": {
        "colab": {
          "base_uri": "https://localhost:8080/"
        },
        "id": "NolU6YIq3ol3",
        "outputId": "c58684a4-2391-484a-945e-ac16ab6426c6"
      },
      "execution_count": null,
      "outputs": [
        {
          "output_type": "stream",
          "name": "stdout",
          "text": [
            "Размер требуемой выборки для каждой группы не менее: 2369\n"
          ]
        }
      ]
    },
    {
      "cell_type": "markdown",
      "source": [
        "### Задание 5 ###\n",
        "Размер выборки с новыми параметрами эксперимента.\n",
        "Менеджер предложил снизить ошибку II рода до 10%, при этом относительный эффект, который требуется задетектить, был установлен в 6%. Уровень значимости alpha остался прежним (0.05).\n",
        "Оцените размер выборки, который вам потребуется, чтобы задетектить стат.значимый эффект от нововведения, если он присутствует."
      ],
      "metadata": {
        "id": "suKnCy0X-2tr"
      }
    },
    {
      "cell_type": "code",
      "source": [
        "ARPPU_new = (df.revenue.mean() * 1.06)\n",
        "cohens_d_new = (ARPPU_new - df.revenue.mean()) / df.revenue.std()\n",
        "sample_size = round(tt_ind_solve_power(effect_size=cohens_d_new,\n",
        "                                       nobs1=None, # Его мы и ищем\n",
        "                                       alpha=0.05,\n",
        "                                       power=0.9,\n",
        "                                       ratio=1.0,\n",
        "                                       alternative='two-sided'))\n",
        "print('Размер требуемой выборки для каждой группы не менее: %s' % sample_size)"
      ],
      "metadata": {
        "colab": {
          "base_uri": "https://localhost:8080/"
        },
        "id": "95-vcp2934fH",
        "outputId": "e0a7cdc6-41da-4cb3-fcff-87159f1b5e87"
      },
      "execution_count": null,
      "outputs": [
        {
          "output_type": "stream",
          "name": "stdout",
          "text": [
            "Размер требуемой выборки для каждой группы не менее: 5636\n"
          ]
        }
      ]
    },
    {
      "cell_type": "markdown",
      "source": [
        "### Задание 6 ###\n",
        "Имеется несбалансированная выборка из 100 тыс. пользователей, где соотношение между группами составляет 80:20 (на 20% пользователей распространяется нововведение, а на 80% нет: ratio = n2/n1 = 0.25). Дизайн теста предполагает вероятность в 5% совершить ошибку I рода и допущение в 20% совершить ошибку II рода.\n",
        "\n",
        "Определите размер эффекта, который мы сможем задетектить при заданном дизайне эксперимента."
      ],
      "metadata": {
        "id": "qvkH3GQsDvg6"
      }
    },
    {
      "cell_type": "code",
      "source": [
        "MDE = round(tt_ind_solve_power(effect_size=None, # Его мы и ищем\n",
        "                                       nobs1=80_000,\n",
        "                                       alpha=0.05,\n",
        "                                       power=0.8,\n",
        "                                       ratio=0.25,\n",
        "                                       alternative='two-sided'), 3)\n",
        "print('Минимальный размер стандартизированного эффекта (cohen`s d MDE) который можно зафиксировать при заданном дизайне эксперимента: %s' % MDE)"
      ],
      "metadata": {
        "colab": {
          "base_uri": "https://localhost:8080/"
        },
        "id": "SW-O-kDcAvp-",
        "outputId": "ab7c658b-8c19-4ad0-95cc-d1054f8357b3"
      },
      "execution_count": null,
      "outputs": [
        {
          "output_type": "stream",
          "name": "stdout",
          "text": [
            "Минимальный размер стандартизированного эффекта (cohen`s d MDE) который можно зафиксировать при заданном дизайне эксперимента: 0.022\n"
          ]
        }
      ]
    },
    {
      "cell_type": "markdown",
      "source": [
        "### Задание 7 ###\n",
        "Максимальный размер в двух выборках, доступный вам, равен 100 тыс (суммаа тестовой и контрольной выборок). пользователей. Определите, при каком соотношении между контрольной и тестовой группами (n2/n1) мы сможем задетектить минимальное значение размера эффекта (Cohen's D) при уровне значимости alpha = 0.05 и мощности теста = 80% и стат критерии t-test."
      ],
      "metadata": {
        "id": "o7vwmBP0QKWv"
      }
    },
    {
      "cell_type": "code",
      "source": [
        "import numpy as np\n",
        "\n",
        "max_population = 100000 # размер выборки\n",
        "\n",
        "# подготовим списки из различного числа пользователей, для различных соотношений\n",
        "n1 = np.arange(5000, 95000, 5000)\n",
        "effect_list = []\n",
        "ratio_list = []\n",
        "# определим величину эффекта для всех вариантов соотношений\n",
        "for i in range(len(n1)):\n",
        "    effect_result = power.tt_ind_solve_power(effect_size = None,\n",
        "                            power = 0.8,\n",
        "                            nobs1 = n1[i],\n",
        "                            ratio = (max_population - n1[i]) / n1[i],\n",
        "                            alpha = 0.05)\n",
        "    ratio = (100000 - n1[i]) / n1[i]\n",
        "    ratio_list.append(ratio)\n",
        "    effect_list.append(effect_result)\n",
        "best_ratio = ratio_list[np.argmax(effect_list == np.min(effect_list))]\n",
        "\n",
        "print('Минимальной ratio n2/n1 = {}'.format(best_ratio))\n"
      ],
      "metadata": {
        "colab": {
          "base_uri": "https://localhost:8080/"
        },
        "id": "uUFY2JUnIibb",
        "outputId": "6b51b8b4-ecb9-4d42-f30d-d5f94492c0df"
      },
      "execution_count": null,
      "outputs": [
        {
          "output_type": "stream",
          "name": "stdout",
          "text": [
            "Минимальной ratio n2/n1 = 1.0\n"
          ]
        }
      ]
    },
    {
      "cell_type": "markdown",
      "source": [
        "### Задание 8 ###\n",
        "Чему будет равна величина минимального эффекта - Cohen's D?\n"
      ],
      "metadata": {
        "id": "pcNf1_4fRJT1"
      }
    },
    {
      "cell_type": "code",
      "source": [
        "cohen_d = tt_ind_solve_power(effect_size = None,\n",
        "                            power = 0.8,\n",
        "                            nobs1 = max_population / 2,\n",
        "                            ratio = 1,\n",
        "                            alpha = 0.05)\n",
        "print('Минимальный размер стандартизированного эффекта (cohen`s d MDE) который можно зафиксировать при заданном дизайне эксперимента: %s' % round(cohen_d, 3))"
      ],
      "metadata": {
        "colab": {
          "base_uri": "https://localhost:8080/"
        },
        "id": "1TvQcu25RQPo",
        "outputId": "8e9dd49e-96c2-4eb3-bd07-e21344e5865d"
      },
      "execution_count": null,
      "outputs": [
        {
          "output_type": "stream",
          "name": "stdout",
          "text": [
            "Минимальный размер стандартизированного эффекта (cohen`s d MDE) который можно зафиксировать при заданном дизайне эксперимента: 0.018\n"
          ]
        }
      ]
    }
  ]
}