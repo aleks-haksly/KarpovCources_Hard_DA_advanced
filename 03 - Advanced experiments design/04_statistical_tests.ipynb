{
  "nbformat": 4,
  "nbformat_minor": 0,
  "metadata": {
    "colab": {
      "provenance": [],
      "authorship_tag": "ABX9TyPpaz+VdzTFkFcrfxzuHZgn",
      "include_colab_link": true
    },
    "kernelspec": {
      "name": "python3",
      "display_name": "Python 3"
    },
    "language_info": {
      "name": "python"
    },
    "widgets": {
      "application/vnd.jupyter.widget-state+json": {
        "e43e3ff5c27c4cdf8f46ae969c838064": {
          "model_module": "@jupyter-widgets/controls",
          "model_name": "HBoxModel",
          "model_module_version": "1.5.0",
          "state": {
            "_dom_classes": [],
            "_model_module": "@jupyter-widgets/controls",
            "_model_module_version": "1.5.0",
            "_model_name": "HBoxModel",
            "_view_count": null,
            "_view_module": "@jupyter-widgets/controls",
            "_view_module_version": "1.5.0",
            "_view_name": "HBoxView",
            "box_style": "",
            "children": [
              "IPY_MODEL_280bfa9457b94d3d88af0f07df4398d7",
              "IPY_MODEL_34aab121c99a4332924e4c0036680246",
              "IPY_MODEL_09955529b3e44774bc9fd16363a4658d"
            ],
            "layout": "IPY_MODEL_db9cd6cbce7848bfba5c1fb8d7d4f32d"
          }
        },
        "280bfa9457b94d3d88af0f07df4398d7": {
          "model_module": "@jupyter-widgets/controls",
          "model_name": "HTMLModel",
          "model_module_version": "1.5.0",
          "state": {
            "_dom_classes": [],
            "_model_module": "@jupyter-widgets/controls",
            "_model_module_version": "1.5.0",
            "_model_name": "HTMLModel",
            "_view_count": null,
            "_view_module": "@jupyter-widgets/controls",
            "_view_module_version": "1.5.0",
            "_view_name": "HTMLView",
            "description": "",
            "description_tooltip": null,
            "layout": "IPY_MODEL_9cbf71ae82494cb2be02e1a262932318",
            "placeholder": "​",
            "style": "IPY_MODEL_02d5d0f0f0bb41bd97fac0eb7a657c49",
            "value": "100%"
          }
        },
        "34aab121c99a4332924e4c0036680246": {
          "model_module": "@jupyter-widgets/controls",
          "model_name": "FloatProgressModel",
          "model_module_version": "1.5.0",
          "state": {
            "_dom_classes": [],
            "_model_module": "@jupyter-widgets/controls",
            "_model_module_version": "1.5.0",
            "_model_name": "FloatProgressModel",
            "_view_count": null,
            "_view_module": "@jupyter-widgets/controls",
            "_view_module_version": "1.5.0",
            "_view_name": "ProgressView",
            "bar_style": "success",
            "description": "",
            "description_tooltip": null,
            "layout": "IPY_MODEL_784f1df6420c4e6ab8018065b81d3ead",
            "max": 30,
            "min": 0,
            "orientation": "horizontal",
            "style": "IPY_MODEL_a582d89ee2eb4cb6b8a64fdc0a835386",
            "value": 30
          }
        },
        "09955529b3e44774bc9fd16363a4658d": {
          "model_module": "@jupyter-widgets/controls",
          "model_name": "HTMLModel",
          "model_module_version": "1.5.0",
          "state": {
            "_dom_classes": [],
            "_model_module": "@jupyter-widgets/controls",
            "_model_module_version": "1.5.0",
            "_model_name": "HTMLModel",
            "_view_count": null,
            "_view_module": "@jupyter-widgets/controls",
            "_view_module_version": "1.5.0",
            "_view_name": "HTMLView",
            "description": "",
            "description_tooltip": null,
            "layout": "IPY_MODEL_702077f8b3d347a2b1463aa819aae0d9",
            "placeholder": "​",
            "style": "IPY_MODEL_974b443c7e634237a9536716d8f626d8",
            "value": " 30/30 [00:37&lt;00:00,  1.73s/it]"
          }
        },
        "db9cd6cbce7848bfba5c1fb8d7d4f32d": {
          "model_module": "@jupyter-widgets/base",
          "model_name": "LayoutModel",
          "model_module_version": "1.2.0",
          "state": {
            "_model_module": "@jupyter-widgets/base",
            "_model_module_version": "1.2.0",
            "_model_name": "LayoutModel",
            "_view_count": null,
            "_view_module": "@jupyter-widgets/base",
            "_view_module_version": "1.2.0",
            "_view_name": "LayoutView",
            "align_content": null,
            "align_items": null,
            "align_self": null,
            "border": null,
            "bottom": null,
            "display": null,
            "flex": null,
            "flex_flow": null,
            "grid_area": null,
            "grid_auto_columns": null,
            "grid_auto_flow": null,
            "grid_auto_rows": null,
            "grid_column": null,
            "grid_gap": null,
            "grid_row": null,
            "grid_template_areas": null,
            "grid_template_columns": null,
            "grid_template_rows": null,
            "height": null,
            "justify_content": null,
            "justify_items": null,
            "left": null,
            "margin": null,
            "max_height": null,
            "max_width": null,
            "min_height": null,
            "min_width": null,
            "object_fit": null,
            "object_position": null,
            "order": null,
            "overflow": null,
            "overflow_x": null,
            "overflow_y": null,
            "padding": null,
            "right": null,
            "top": null,
            "visibility": null,
            "width": null
          }
        },
        "9cbf71ae82494cb2be02e1a262932318": {
          "model_module": "@jupyter-widgets/base",
          "model_name": "LayoutModel",
          "model_module_version": "1.2.0",
          "state": {
            "_model_module": "@jupyter-widgets/base",
            "_model_module_version": "1.2.0",
            "_model_name": "LayoutModel",
            "_view_count": null,
            "_view_module": "@jupyter-widgets/base",
            "_view_module_version": "1.2.0",
            "_view_name": "LayoutView",
            "align_content": null,
            "align_items": null,
            "align_self": null,
            "border": null,
            "bottom": null,
            "display": null,
            "flex": null,
            "flex_flow": null,
            "grid_area": null,
            "grid_auto_columns": null,
            "grid_auto_flow": null,
            "grid_auto_rows": null,
            "grid_column": null,
            "grid_gap": null,
            "grid_row": null,
            "grid_template_areas": null,
            "grid_template_columns": null,
            "grid_template_rows": null,
            "height": null,
            "justify_content": null,
            "justify_items": null,
            "left": null,
            "margin": null,
            "max_height": null,
            "max_width": null,
            "min_height": null,
            "min_width": null,
            "object_fit": null,
            "object_position": null,
            "order": null,
            "overflow": null,
            "overflow_x": null,
            "overflow_y": null,
            "padding": null,
            "right": null,
            "top": null,
            "visibility": null,
            "width": null
          }
        },
        "02d5d0f0f0bb41bd97fac0eb7a657c49": {
          "model_module": "@jupyter-widgets/controls",
          "model_name": "DescriptionStyleModel",
          "model_module_version": "1.5.0",
          "state": {
            "_model_module": "@jupyter-widgets/controls",
            "_model_module_version": "1.5.0",
            "_model_name": "DescriptionStyleModel",
            "_view_count": null,
            "_view_module": "@jupyter-widgets/base",
            "_view_module_version": "1.2.0",
            "_view_name": "StyleView",
            "description_width": ""
          }
        },
        "784f1df6420c4e6ab8018065b81d3ead": {
          "model_module": "@jupyter-widgets/base",
          "model_name": "LayoutModel",
          "model_module_version": "1.2.0",
          "state": {
            "_model_module": "@jupyter-widgets/base",
            "_model_module_version": "1.2.0",
            "_model_name": "LayoutModel",
            "_view_count": null,
            "_view_module": "@jupyter-widgets/base",
            "_view_module_version": "1.2.0",
            "_view_name": "LayoutView",
            "align_content": null,
            "align_items": null,
            "align_self": null,
            "border": null,
            "bottom": null,
            "display": null,
            "flex": null,
            "flex_flow": null,
            "grid_area": null,
            "grid_auto_columns": null,
            "grid_auto_flow": null,
            "grid_auto_rows": null,
            "grid_column": null,
            "grid_gap": null,
            "grid_row": null,
            "grid_template_areas": null,
            "grid_template_columns": null,
            "grid_template_rows": null,
            "height": null,
            "justify_content": null,
            "justify_items": null,
            "left": null,
            "margin": null,
            "max_height": null,
            "max_width": null,
            "min_height": null,
            "min_width": null,
            "object_fit": null,
            "object_position": null,
            "order": null,
            "overflow": null,
            "overflow_x": null,
            "overflow_y": null,
            "padding": null,
            "right": null,
            "top": null,
            "visibility": null,
            "width": null
          }
        },
        "a582d89ee2eb4cb6b8a64fdc0a835386": {
          "model_module": "@jupyter-widgets/controls",
          "model_name": "ProgressStyleModel",
          "model_module_version": "1.5.0",
          "state": {
            "_model_module": "@jupyter-widgets/controls",
            "_model_module_version": "1.5.0",
            "_model_name": "ProgressStyleModel",
            "_view_count": null,
            "_view_module": "@jupyter-widgets/base",
            "_view_module_version": "1.2.0",
            "_view_name": "StyleView",
            "bar_color": null,
            "description_width": ""
          }
        },
        "702077f8b3d347a2b1463aa819aae0d9": {
          "model_module": "@jupyter-widgets/base",
          "model_name": "LayoutModel",
          "model_module_version": "1.2.0",
          "state": {
            "_model_module": "@jupyter-widgets/base",
            "_model_module_version": "1.2.0",
            "_model_name": "LayoutModel",
            "_view_count": null,
            "_view_module": "@jupyter-widgets/base",
            "_view_module_version": "1.2.0",
            "_view_name": "LayoutView",
            "align_content": null,
            "align_items": null,
            "align_self": null,
            "border": null,
            "bottom": null,
            "display": null,
            "flex": null,
            "flex_flow": null,
            "grid_area": null,
            "grid_auto_columns": null,
            "grid_auto_flow": null,
            "grid_auto_rows": null,
            "grid_column": null,
            "grid_gap": null,
            "grid_row": null,
            "grid_template_areas": null,
            "grid_template_columns": null,
            "grid_template_rows": null,
            "height": null,
            "justify_content": null,
            "justify_items": null,
            "left": null,
            "margin": null,
            "max_height": null,
            "max_width": null,
            "min_height": null,
            "min_width": null,
            "object_fit": null,
            "object_position": null,
            "order": null,
            "overflow": null,
            "overflow_x": null,
            "overflow_y": null,
            "padding": null,
            "right": null,
            "top": null,
            "visibility": null,
            "width": null
          }
        },
        "974b443c7e634237a9536716d8f626d8": {
          "model_module": "@jupyter-widgets/controls",
          "model_name": "DescriptionStyleModel",
          "model_module_version": "1.5.0",
          "state": {
            "_model_module": "@jupyter-widgets/controls",
            "_model_module_version": "1.5.0",
            "_model_name": "DescriptionStyleModel",
            "_view_count": null,
            "_view_module": "@jupyter-widgets/base",
            "_view_module_version": "1.2.0",
            "_view_name": "StyleView",
            "description_width": ""
          }
        },
        "b9e3aa23a6144d0cb56d153a97d3835a": {
          "model_module": "@jupyter-widgets/controls",
          "model_name": "HBoxModel",
          "model_module_version": "1.5.0",
          "state": {
            "_dom_classes": [],
            "_model_module": "@jupyter-widgets/controls",
            "_model_module_version": "1.5.0",
            "_model_name": "HBoxModel",
            "_view_count": null,
            "_view_module": "@jupyter-widgets/controls",
            "_view_module_version": "1.5.0",
            "_view_name": "HBoxView",
            "box_style": "",
            "children": [
              "IPY_MODEL_0874c408158e4d7abd9151f0fc75cce7",
              "IPY_MODEL_c40f2d342137466b9c453aac51566c4c",
              "IPY_MODEL_868677fa5ade438e835b6db16729bbbe"
            ],
            "layout": "IPY_MODEL_2a5038c025d540a48156c005fb7048dc"
          }
        },
        "0874c408158e4d7abd9151f0fc75cce7": {
          "model_module": "@jupyter-widgets/controls",
          "model_name": "HTMLModel",
          "model_module_version": "1.5.0",
          "state": {
            "_dom_classes": [],
            "_model_module": "@jupyter-widgets/controls",
            "_model_module_version": "1.5.0",
            "_model_name": "HTMLModel",
            "_view_count": null,
            "_view_module": "@jupyter-widgets/controls",
            "_view_module_version": "1.5.0",
            "_view_name": "HTMLView",
            "description": "",
            "description_tooltip": null,
            "layout": "IPY_MODEL_b6bd0db8e6d84ed99c0253a58f84fc3b",
            "placeholder": "​",
            "style": "IPY_MODEL_f7d077ebb547486a85110d193c680d7a",
            "value": "100%"
          }
        },
        "c40f2d342137466b9c453aac51566c4c": {
          "model_module": "@jupyter-widgets/controls",
          "model_name": "FloatProgressModel",
          "model_module_version": "1.5.0",
          "state": {
            "_dom_classes": [],
            "_model_module": "@jupyter-widgets/controls",
            "_model_module_version": "1.5.0",
            "_model_name": "FloatProgressModel",
            "_view_count": null,
            "_view_module": "@jupyter-widgets/controls",
            "_view_module_version": "1.5.0",
            "_view_name": "ProgressView",
            "bar_style": "success",
            "description": "",
            "description_tooltip": null,
            "layout": "IPY_MODEL_00f13d2c6c774133beb86c9529f84ba1",
            "max": 1000,
            "min": 0,
            "orientation": "horizontal",
            "style": "IPY_MODEL_6f99d208c13d40ebbb4464fc4a0a0e83",
            "value": 1000
          }
        },
        "868677fa5ade438e835b6db16729bbbe": {
          "model_module": "@jupyter-widgets/controls",
          "model_name": "HTMLModel",
          "model_module_version": "1.5.0",
          "state": {
            "_dom_classes": [],
            "_model_module": "@jupyter-widgets/controls",
            "_model_module_version": "1.5.0",
            "_model_name": "HTMLModel",
            "_view_count": null,
            "_view_module": "@jupyter-widgets/controls",
            "_view_module_version": "1.5.0",
            "_view_name": "HTMLView",
            "description": "",
            "description_tooltip": null,
            "layout": "IPY_MODEL_1de36a70296a4a8c87417c76254c22e6",
            "placeholder": "​",
            "style": "IPY_MODEL_bd5316000ea44a5396052d98a92f43d4",
            "value": " 1000/1000 [12:39&lt;00:00,  1.42it/s]"
          }
        },
        "2a5038c025d540a48156c005fb7048dc": {
          "model_module": "@jupyter-widgets/base",
          "model_name": "LayoutModel",
          "model_module_version": "1.2.0",
          "state": {
            "_model_module": "@jupyter-widgets/base",
            "_model_module_version": "1.2.0",
            "_model_name": "LayoutModel",
            "_view_count": null,
            "_view_module": "@jupyter-widgets/base",
            "_view_module_version": "1.2.0",
            "_view_name": "LayoutView",
            "align_content": null,
            "align_items": null,
            "align_self": null,
            "border": null,
            "bottom": null,
            "display": null,
            "flex": null,
            "flex_flow": null,
            "grid_area": null,
            "grid_auto_columns": null,
            "grid_auto_flow": null,
            "grid_auto_rows": null,
            "grid_column": null,
            "grid_gap": null,
            "grid_row": null,
            "grid_template_areas": null,
            "grid_template_columns": null,
            "grid_template_rows": null,
            "height": null,
            "justify_content": null,
            "justify_items": null,
            "left": null,
            "margin": null,
            "max_height": null,
            "max_width": null,
            "min_height": null,
            "min_width": null,
            "object_fit": null,
            "object_position": null,
            "order": null,
            "overflow": null,
            "overflow_x": null,
            "overflow_y": null,
            "padding": null,
            "right": null,
            "top": null,
            "visibility": null,
            "width": null
          }
        },
        "b6bd0db8e6d84ed99c0253a58f84fc3b": {
          "model_module": "@jupyter-widgets/base",
          "model_name": "LayoutModel",
          "model_module_version": "1.2.0",
          "state": {
            "_model_module": "@jupyter-widgets/base",
            "_model_module_version": "1.2.0",
            "_model_name": "LayoutModel",
            "_view_count": null,
            "_view_module": "@jupyter-widgets/base",
            "_view_module_version": "1.2.0",
            "_view_name": "LayoutView",
            "align_content": null,
            "align_items": null,
            "align_self": null,
            "border": null,
            "bottom": null,
            "display": null,
            "flex": null,
            "flex_flow": null,
            "grid_area": null,
            "grid_auto_columns": null,
            "grid_auto_flow": null,
            "grid_auto_rows": null,
            "grid_column": null,
            "grid_gap": null,
            "grid_row": null,
            "grid_template_areas": null,
            "grid_template_columns": null,
            "grid_template_rows": null,
            "height": null,
            "justify_content": null,
            "justify_items": null,
            "left": null,
            "margin": null,
            "max_height": null,
            "max_width": null,
            "min_height": null,
            "min_width": null,
            "object_fit": null,
            "object_position": null,
            "order": null,
            "overflow": null,
            "overflow_x": null,
            "overflow_y": null,
            "padding": null,
            "right": null,
            "top": null,
            "visibility": null,
            "width": null
          }
        },
        "f7d077ebb547486a85110d193c680d7a": {
          "model_module": "@jupyter-widgets/controls",
          "model_name": "DescriptionStyleModel",
          "model_module_version": "1.5.0",
          "state": {
            "_model_module": "@jupyter-widgets/controls",
            "_model_module_version": "1.5.0",
            "_model_name": "DescriptionStyleModel",
            "_view_count": null,
            "_view_module": "@jupyter-widgets/base",
            "_view_module_version": "1.2.0",
            "_view_name": "StyleView",
            "description_width": ""
          }
        },
        "00f13d2c6c774133beb86c9529f84ba1": {
          "model_module": "@jupyter-widgets/base",
          "model_name": "LayoutModel",
          "model_module_version": "1.2.0",
          "state": {
            "_model_module": "@jupyter-widgets/base",
            "_model_module_version": "1.2.0",
            "_model_name": "LayoutModel",
            "_view_count": null,
            "_view_module": "@jupyter-widgets/base",
            "_view_module_version": "1.2.0",
            "_view_name": "LayoutView",
            "align_content": null,
            "align_items": null,
            "align_self": null,
            "border": null,
            "bottom": null,
            "display": null,
            "flex": null,
            "flex_flow": null,
            "grid_area": null,
            "grid_auto_columns": null,
            "grid_auto_flow": null,
            "grid_auto_rows": null,
            "grid_column": null,
            "grid_gap": null,
            "grid_row": null,
            "grid_template_areas": null,
            "grid_template_columns": null,
            "grid_template_rows": null,
            "height": null,
            "justify_content": null,
            "justify_items": null,
            "left": null,
            "margin": null,
            "max_height": null,
            "max_width": null,
            "min_height": null,
            "min_width": null,
            "object_fit": null,
            "object_position": null,
            "order": null,
            "overflow": null,
            "overflow_x": null,
            "overflow_y": null,
            "padding": null,
            "right": null,
            "top": null,
            "visibility": null,
            "width": null
          }
        },
        "6f99d208c13d40ebbb4464fc4a0a0e83": {
          "model_module": "@jupyter-widgets/controls",
          "model_name": "ProgressStyleModel",
          "model_module_version": "1.5.0",
          "state": {
            "_model_module": "@jupyter-widgets/controls",
            "_model_module_version": "1.5.0",
            "_model_name": "ProgressStyleModel",
            "_view_count": null,
            "_view_module": "@jupyter-widgets/base",
            "_view_module_version": "1.2.0",
            "_view_name": "StyleView",
            "bar_color": null,
            "description_width": ""
          }
        },
        "1de36a70296a4a8c87417c76254c22e6": {
          "model_module": "@jupyter-widgets/base",
          "model_name": "LayoutModel",
          "model_module_version": "1.2.0",
          "state": {
            "_model_module": "@jupyter-widgets/base",
            "_model_module_version": "1.2.0",
            "_model_name": "LayoutModel",
            "_view_count": null,
            "_view_module": "@jupyter-widgets/base",
            "_view_module_version": "1.2.0",
            "_view_name": "LayoutView",
            "align_content": null,
            "align_items": null,
            "align_self": null,
            "border": null,
            "bottom": null,
            "display": null,
            "flex": null,
            "flex_flow": null,
            "grid_area": null,
            "grid_auto_columns": null,
            "grid_auto_flow": null,
            "grid_auto_rows": null,
            "grid_column": null,
            "grid_gap": null,
            "grid_row": null,
            "grid_template_areas": null,
            "grid_template_columns": null,
            "grid_template_rows": null,
            "height": null,
            "justify_content": null,
            "justify_items": null,
            "left": null,
            "margin": null,
            "max_height": null,
            "max_width": null,
            "min_height": null,
            "min_width": null,
            "object_fit": null,
            "object_position": null,
            "order": null,
            "overflow": null,
            "overflow_x": null,
            "overflow_y": null,
            "padding": null,
            "right": null,
            "top": null,
            "visibility": null,
            "width": null
          }
        },
        "bd5316000ea44a5396052d98a92f43d4": {
          "model_module": "@jupyter-widgets/controls",
          "model_name": "DescriptionStyleModel",
          "model_module_version": "1.5.0",
          "state": {
            "_model_module": "@jupyter-widgets/controls",
            "_model_module_version": "1.5.0",
            "_model_name": "DescriptionStyleModel",
            "_view_count": null,
            "_view_module": "@jupyter-widgets/base",
            "_view_module_version": "1.2.0",
            "_view_name": "StyleView",
            "description_width": ""
          }
        },
        "ac8a4e3a6a0c4365a477d16a7cdcf055": {
          "model_module": "@jupyter-widgets/controls",
          "model_name": "HBoxModel",
          "model_module_version": "1.5.0",
          "state": {
            "_dom_classes": [],
            "_model_module": "@jupyter-widgets/controls",
            "_model_module_version": "1.5.0",
            "_model_name": "HBoxModel",
            "_view_count": null,
            "_view_module": "@jupyter-widgets/controls",
            "_view_module_version": "1.5.0",
            "_view_name": "HBoxView",
            "box_style": "",
            "children": [
              "IPY_MODEL_be892a04edf043f1930d4feebf9231dc",
              "IPY_MODEL_27380778d53b4db187f243dd7d8ac4f0",
              "IPY_MODEL_aad4cf22a5b546cab090210d9541f499"
            ],
            "layout": "IPY_MODEL_144ec538ae354c749c672c526625ed28"
          }
        },
        "be892a04edf043f1930d4feebf9231dc": {
          "model_module": "@jupyter-widgets/controls",
          "model_name": "HTMLModel",
          "model_module_version": "1.5.0",
          "state": {
            "_dom_classes": [],
            "_model_module": "@jupyter-widgets/controls",
            "_model_module_version": "1.5.0",
            "_model_name": "HTMLModel",
            "_view_count": null,
            "_view_module": "@jupyter-widgets/controls",
            "_view_module_version": "1.5.0",
            "_view_name": "HTMLView",
            "description": "",
            "description_tooltip": null,
            "layout": "IPY_MODEL_93c1d47123df4978ae4dd1f3808d9102",
            "placeholder": "​",
            "style": "IPY_MODEL_d4d6e95fa0254221ab0bdc1a1b52868a",
            "value": "100%"
          }
        },
        "27380778d53b4db187f243dd7d8ac4f0": {
          "model_module": "@jupyter-widgets/controls",
          "model_name": "FloatProgressModel",
          "model_module_version": "1.5.0",
          "state": {
            "_dom_classes": [],
            "_model_module": "@jupyter-widgets/controls",
            "_model_module_version": "1.5.0",
            "_model_name": "FloatProgressModel",
            "_view_count": null,
            "_view_module": "@jupyter-widgets/controls",
            "_view_module_version": "1.5.0",
            "_view_name": "ProgressView",
            "bar_style": "success",
            "description": "",
            "description_tooltip": null,
            "layout": "IPY_MODEL_f496fa6aa85e4bc18faae5243114b00f",
            "max": 1000,
            "min": 0,
            "orientation": "horizontal",
            "style": "IPY_MODEL_dff53f8ba759468a88380ee51f67aeab",
            "value": 1000
          }
        },
        "aad4cf22a5b546cab090210d9541f499": {
          "model_module": "@jupyter-widgets/controls",
          "model_name": "HTMLModel",
          "model_module_version": "1.5.0",
          "state": {
            "_dom_classes": [],
            "_model_module": "@jupyter-widgets/controls",
            "_model_module_version": "1.5.0",
            "_model_name": "HTMLModel",
            "_view_count": null,
            "_view_module": "@jupyter-widgets/controls",
            "_view_module_version": "1.5.0",
            "_view_name": "HTMLView",
            "description": "",
            "description_tooltip": null,
            "layout": "IPY_MODEL_cb9021901a1f4adaad15256c25ee4aae",
            "placeholder": "​",
            "style": "IPY_MODEL_e71b0e5a92024b998acabd54d3128f56",
            "value": " 1000/1000 [00:12&lt;00:00, 93.09it/s]"
          }
        },
        "144ec538ae354c749c672c526625ed28": {
          "model_module": "@jupyter-widgets/base",
          "model_name": "LayoutModel",
          "model_module_version": "1.2.0",
          "state": {
            "_model_module": "@jupyter-widgets/base",
            "_model_module_version": "1.2.0",
            "_model_name": "LayoutModel",
            "_view_count": null,
            "_view_module": "@jupyter-widgets/base",
            "_view_module_version": "1.2.0",
            "_view_name": "LayoutView",
            "align_content": null,
            "align_items": null,
            "align_self": null,
            "border": null,
            "bottom": null,
            "display": null,
            "flex": null,
            "flex_flow": null,
            "grid_area": null,
            "grid_auto_columns": null,
            "grid_auto_flow": null,
            "grid_auto_rows": null,
            "grid_column": null,
            "grid_gap": null,
            "grid_row": null,
            "grid_template_areas": null,
            "grid_template_columns": null,
            "grid_template_rows": null,
            "height": null,
            "justify_content": null,
            "justify_items": null,
            "left": null,
            "margin": null,
            "max_height": null,
            "max_width": null,
            "min_height": null,
            "min_width": null,
            "object_fit": null,
            "object_position": null,
            "order": null,
            "overflow": null,
            "overflow_x": null,
            "overflow_y": null,
            "padding": null,
            "right": null,
            "top": null,
            "visibility": null,
            "width": null
          }
        },
        "93c1d47123df4978ae4dd1f3808d9102": {
          "model_module": "@jupyter-widgets/base",
          "model_name": "LayoutModel",
          "model_module_version": "1.2.0",
          "state": {
            "_model_module": "@jupyter-widgets/base",
            "_model_module_version": "1.2.0",
            "_model_name": "LayoutModel",
            "_view_count": null,
            "_view_module": "@jupyter-widgets/base",
            "_view_module_version": "1.2.0",
            "_view_name": "LayoutView",
            "align_content": null,
            "align_items": null,
            "align_self": null,
            "border": null,
            "bottom": null,
            "display": null,
            "flex": null,
            "flex_flow": null,
            "grid_area": null,
            "grid_auto_columns": null,
            "grid_auto_flow": null,
            "grid_auto_rows": null,
            "grid_column": null,
            "grid_gap": null,
            "grid_row": null,
            "grid_template_areas": null,
            "grid_template_columns": null,
            "grid_template_rows": null,
            "height": null,
            "justify_content": null,
            "justify_items": null,
            "left": null,
            "margin": null,
            "max_height": null,
            "max_width": null,
            "min_height": null,
            "min_width": null,
            "object_fit": null,
            "object_position": null,
            "order": null,
            "overflow": null,
            "overflow_x": null,
            "overflow_y": null,
            "padding": null,
            "right": null,
            "top": null,
            "visibility": null,
            "width": null
          }
        },
        "d4d6e95fa0254221ab0bdc1a1b52868a": {
          "model_module": "@jupyter-widgets/controls",
          "model_name": "DescriptionStyleModel",
          "model_module_version": "1.5.0",
          "state": {
            "_model_module": "@jupyter-widgets/controls",
            "_model_module_version": "1.5.0",
            "_model_name": "DescriptionStyleModel",
            "_view_count": null,
            "_view_module": "@jupyter-widgets/base",
            "_view_module_version": "1.2.0",
            "_view_name": "StyleView",
            "description_width": ""
          }
        },
        "f496fa6aa85e4bc18faae5243114b00f": {
          "model_module": "@jupyter-widgets/base",
          "model_name": "LayoutModel",
          "model_module_version": "1.2.0",
          "state": {
            "_model_module": "@jupyter-widgets/base",
            "_model_module_version": "1.2.0",
            "_model_name": "LayoutModel",
            "_view_count": null,
            "_view_module": "@jupyter-widgets/base",
            "_view_module_version": "1.2.0",
            "_view_name": "LayoutView",
            "align_content": null,
            "align_items": null,
            "align_self": null,
            "border": null,
            "bottom": null,
            "display": null,
            "flex": null,
            "flex_flow": null,
            "grid_area": null,
            "grid_auto_columns": null,
            "grid_auto_flow": null,
            "grid_auto_rows": null,
            "grid_column": null,
            "grid_gap": null,
            "grid_row": null,
            "grid_template_areas": null,
            "grid_template_columns": null,
            "grid_template_rows": null,
            "height": null,
            "justify_content": null,
            "justify_items": null,
            "left": null,
            "margin": null,
            "max_height": null,
            "max_width": null,
            "min_height": null,
            "min_width": null,
            "object_fit": null,
            "object_position": null,
            "order": null,
            "overflow": null,
            "overflow_x": null,
            "overflow_y": null,
            "padding": null,
            "right": null,
            "top": null,
            "visibility": null,
            "width": null
          }
        },
        "dff53f8ba759468a88380ee51f67aeab": {
          "model_module": "@jupyter-widgets/controls",
          "model_name": "ProgressStyleModel",
          "model_module_version": "1.5.0",
          "state": {
            "_model_module": "@jupyter-widgets/controls",
            "_model_module_version": "1.5.0",
            "_model_name": "ProgressStyleModel",
            "_view_count": null,
            "_view_module": "@jupyter-widgets/base",
            "_view_module_version": "1.2.0",
            "_view_name": "StyleView",
            "bar_color": null,
            "description_width": ""
          }
        },
        "cb9021901a1f4adaad15256c25ee4aae": {
          "model_module": "@jupyter-widgets/base",
          "model_name": "LayoutModel",
          "model_module_version": "1.2.0",
          "state": {
            "_model_module": "@jupyter-widgets/base",
            "_model_module_version": "1.2.0",
            "_model_name": "LayoutModel",
            "_view_count": null,
            "_view_module": "@jupyter-widgets/base",
            "_view_module_version": "1.2.0",
            "_view_name": "LayoutView",
            "align_content": null,
            "align_items": null,
            "align_self": null,
            "border": null,
            "bottom": null,
            "display": null,
            "flex": null,
            "flex_flow": null,
            "grid_area": null,
            "grid_auto_columns": null,
            "grid_auto_flow": null,
            "grid_auto_rows": null,
            "grid_column": null,
            "grid_gap": null,
            "grid_row": null,
            "grid_template_areas": null,
            "grid_template_columns": null,
            "grid_template_rows": null,
            "height": null,
            "justify_content": null,
            "justify_items": null,
            "left": null,
            "margin": null,
            "max_height": null,
            "max_width": null,
            "min_height": null,
            "min_width": null,
            "object_fit": null,
            "object_position": null,
            "order": null,
            "overflow": null,
            "overflow_x": null,
            "overflow_y": null,
            "padding": null,
            "right": null,
            "top": null,
            "visibility": null,
            "width": null
          }
        },
        "e71b0e5a92024b998acabd54d3128f56": {
          "model_module": "@jupyter-widgets/controls",
          "model_name": "DescriptionStyleModel",
          "model_module_version": "1.5.0",
          "state": {
            "_model_module": "@jupyter-widgets/controls",
            "_model_module_version": "1.5.0",
            "_model_name": "DescriptionStyleModel",
            "_view_count": null,
            "_view_module": "@jupyter-widgets/base",
            "_view_module_version": "1.2.0",
            "_view_name": "StyleView",
            "description_width": ""
          }
        }
      }
    }
  },
  "cells": [
    {
      "cell_type": "markdown",
      "metadata": {
        "id": "view-in-github",
        "colab_type": "text"
      },
      "source": [
        "<a href=\"https://colab.research.google.com/github/aleks-haksly/KarpovCources_Hard_DA_advanced/blob/main/03%20-%20Advanced%20experiments%20design/04_statistical_tests.ipynb\" target=\"_parent\"><img src=\"https://colab.research.google.com/assets/colab-badge.svg\" alt=\"Open In Colab\"/></a>"
      ]
    },
    {
      "cell_type": "code",
      "execution_count": null,
      "metadata": {
        "id": "5pGR6HrbptQ9"
      },
      "outputs": [],
      "source": [
        "import pandas as pd\n",
        "import numpy as np\n",
        "import math\n",
        "import matplotlib.pyplot as plt\n",
        "import seaborn as sns\n",
        "from tqdm.notebook import tqdm\n",
        "from statsmodels.stats.power import tt_ind_solve_power\n",
        "from scipy.stats import mannwhitneyu\n",
        "from statsmodels.stats.proportion import proportion_confint\n",
        "from scipy.stats import ttest_ind\n",
        "from scipy.stats import median_test"
      ]
    },
    {
      "cell_type": "code",
      "source": [
        "data = pd.read_csv('bootstrap_homework.csv')"
      ],
      "metadata": {
        "id": "0r4LYFwAqRvc"
      },
      "execution_count": null,
      "outputs": []
    },
    {
      "cell_type": "code",
      "source": [
        "# проверка пропусков (нет)\n",
        "data.isna().sum()"
      ],
      "metadata": {
        "colab": {
          "base_uri": "https://localhost:8080/"
        },
        "id": "z2Hr_HKhqdK2",
        "outputId": "2c04b1c2-15dd-4710-e8bc-574252218ae8"
      },
      "execution_count": null,
      "outputs": [
        {
          "output_type": "execute_result",
          "data": {
            "text/plain": [
              "passport_id    0\n",
              "region         0\n",
              "revenue        0\n",
              "group          0\n",
              "dtype: int64"
            ]
          },
          "metadata": {},
          "execution_count": 4
        }
      ]
    },
    {
      "cell_type": "markdown",
      "source": [
        "### Задание 1. Размер эффекта (1/4) ###\n",
        "Для начала попробуем определить размер эффекта. Для этого найдем несколько ключевых значений.\n",
        "\n",
        "Найдите среднее значение revenue для группы 0.\n",
        "\n",
        "Введите ответ в поле ниже с точностью до одного знака в десятичной части."
      ],
      "metadata": {
        "id": "O59gELlMqtFj"
      }
    },
    {
      "cell_type": "code",
      "source": [
        "print(\"среднее значение revenue для группы 0: {:.1f}\".format(data.query('group == 0').revenue.mean()))"
      ],
      "metadata": {
        "colab": {
          "base_uri": "https://localhost:8080/"
        },
        "id": "jToCTgm4qe6J",
        "outputId": "73a2d71c-7699-47d2-a1c5-d565cf9b7034"
      },
      "execution_count": null,
      "outputs": [
        {
          "output_type": "stream",
          "name": "stdout",
          "text": [
            "среднее значение revenue для группы 0: 1534.6\n"
          ]
        }
      ]
    },
    {
      "cell_type": "markdown",
      "source": [
        "## Задание 1. Размер эффекта (2/4) ##\n",
        "Найдите среднее значение revenue для группы 1.\n",
        "\n",
        "Введите ответ в поле ниже с точностью до одного знака в десятичной части."
      ],
      "metadata": {
        "id": "P6gtMMa5rjI9"
      }
    },
    {
      "cell_type": "code",
      "source": [
        "print(\"среднее значение revenue для группы 0: {:.1f}\".format(data.query('group == 1').revenue.mean()))"
      ],
      "metadata": {
        "colab": {
          "base_uri": "https://localhost:8080/"
        },
        "id": "65YykLytq4mF",
        "outputId": "02808cba-b746-4990-b878-daad6fd707fc"
      },
      "execution_count": null,
      "outputs": [
        {
          "output_type": "stream",
          "name": "stdout",
          "text": [
            "среднее значение revenue для группы 0: 1587.8\n"
          ]
        }
      ]
    },
    {
      "cell_type": "markdown",
      "source": [
        "## Задание 1. Размер эффекта (3/4) ##\n",
        "Рассчитайте абсолютный наблюдаемый эффект между двумя группами.\n",
        "\n",
        "Введите ответ в поле ниже с точностью до одного знака в десятичной части."
      ],
      "metadata": {
        "id": "HYYj3911rvJX"
      }
    },
    {
      "cell_type": "code",
      "source": [
        "print(\"абсолютный наблюдаемый эффект между двумя группами: {:.1f}\".format(data.groupby(\"group\").revenue.mean().diff()[1]))"
      ],
      "metadata": {
        "colab": {
          "base_uri": "https://localhost:8080/"
        },
        "id": "kNc4lfMaroa9",
        "outputId": "c526d31a-0a7c-461e-bc4b-a047f5e0eab8"
      },
      "execution_count": null,
      "outputs": [
        {
          "output_type": "stream",
          "name": "stdout",
          "text": [
            "абсолютный наблюдаемый эффект между двумя группами: 53.2\n"
          ]
        }
      ]
    },
    {
      "cell_type": "markdown",
      "source": [
        "## Задание 1. Размер эффекта (4/4) ##\n",
        "Чему равен стандартизированный effect size Cohen D, найденный между группами, если std брать только по группе 0?\n",
        "\n",
        "Введите ответ в поле ниже с точностью до трех знаков после запятой."
      ],
      "metadata": {
        "id": "aaQwZ0Eus64v"
      }
    },
    {
      "cell_type": "code",
      "source": [
        "cohen_d = data.groupby(\"group\").revenue.mean().diff()[1] / data.query('group == 0').revenue.std()"
      ],
      "metadata": {
        "id": "-WHD_uNFr3YA"
      },
      "execution_count": null,
      "outputs": []
    },
    {
      "cell_type": "code",
      "source": [
        "print(\"стандартизированный effect size Cohen D, найденный между группами, если std брать только по группе 0: {:.3f}\".format(cohen_d))"
      ],
      "metadata": {
        "colab": {
          "base_uri": "https://localhost:8080/"
        },
        "id": "9RthaYVXtG3E",
        "outputId": "8955a660-44f3-45ab-e2ef-b79795a50dfc"
      },
      "execution_count": null,
      "outputs": [
        {
          "output_type": "stream",
          "name": "stdout",
          "text": [
            "стандартизированный effect size Cohen D, найденный между группами, если std брать только по группе 0: 0.007\n"
          ]
        }
      ]
    },
    {
      "cell_type": "markdown",
      "source": [
        "## Задание 2. Размер выборки (1/4) ##\n",
        "Определим, какая выборка нам была бы нужна для детекции 5% относительного эффекта в средних между группами.\n",
        "\n",
        "Рассчитайте размер выборки, необходимый для детекции 5% относительных процентов в двустороннем t-test с alpha = 0.05, power = 0.8. За основу для расчета нужных параметров (mean, lift, std) используйте данные по группе 0."
      ],
      "metadata": {
        "id": "APVSMELctk7Y"
      }
    },
    {
      "cell_type": "code",
      "source": [
        "from statsmodels.stats.power import tt_ind_solve_power"
      ],
      "metadata": {
        "id": "wap0MAQjtbIs"
      },
      "execution_count": null,
      "outputs": []
    },
    {
      "cell_type": "code",
      "source": [
        "lift = 0.05\n",
        "alpha = 0.05\n",
        "power = 0.8\n",
        "effect_size = data.query('group == 0').revenue.mean() * lift / data.query('group == 0').revenue.std()"
      ],
      "metadata": {
        "id": "HZQNRaLMtnO3"
      },
      "execution_count": null,
      "outputs": []
    },
    {
      "cell_type": "code",
      "source": [
        "sample_size = tt_ind_solve_power(effect_size=effect_size, alpha=alpha, power=power, nobs1=None, ratio=1, alternative = \"two-sided\")\n",
        "print('Sample size = ', math.ceil(sample_size))"
      ],
      "metadata": {
        "colab": {
          "base_uri": "https://localhost:8080/"
        },
        "id": "PX1-AiLbtW0R",
        "outputId": "8298c2ef-9237-4d85-cc7e-7505952ee8d5"
      },
      "execution_count": null,
      "outputs": [
        {
          "output_type": "stream",
          "name": "stdout",
          "text": [
            "Sample size =  162949\n"
          ]
        }
      ]
    },
    {
      "cell_type": "markdown",
      "source": [
        "## Задание 2. Размер выборки (2/4) ##\n",
        "А какая выборка нам была бы нужна, если бы мы использовали критерий Манна-Уитни?\n",
        "\n",
        "Попробуем рассчитать с помощью симуляции размер выборки, для того чтобы задетектить те же 5%, но с помощью критерия Манна-Уитни.\n",
        "\n",
        "Перед стартом симуляции укажите:\n",
        "\n",
        "* np.random.seed(1)\n",
        "\n",
        "Массив для перебора размера выборок начните с 500 до 5000 с шагом 100:\n",
        "\n"
      ],
      "metadata": {
        "id": "CsVJzTZxxIbF"
      }
    },
    {
      "cell_type": "code",
      "source": [
        "data_mw = data.query('group == 0').revenue"
      ],
      "metadata": {
        "id": "4SSvDkyf-A5A"
      },
      "execution_count": null,
      "outputs": []
    },
    {
      "cell_type": "code",
      "source": [
        "def u_test_power_calc(data, effect_size, sample_size, alpha=0.05, iters=1000, sample_replace=False):\n",
        "  # func calculates Mann–Whitney U test power based on simulation\n",
        "\n",
        "  # data: pandas DataFrame to sample from\n",
        "  # effect_size: relative uplift in %\n",
        "  # sample_size: number of records in sample needed\n",
        "  # alpha: p-value critical level\n",
        "  # sample_replace: sample type\n",
        "  # iters: number of simulations\n",
        "\n",
        "\n",
        "  ab_pvals = list()\n",
        "  aa_pvals = list()\n",
        "  for i in range(iters):\n",
        "      #a_sample = data.sample(sample_size, replace=False)\n",
        "      a_sample = np.random.choice(data, sample_size)\n",
        "      a2_sample = np.random.choice(data, sample_size)\n",
        "      #b_sample = data.sample(sample_size, replace=False) * (1 + effect_size)\n",
        "      b_sample = np.random.choice(data, sample_size) * (1 + effect_size)\n",
        "      ab_pvals.append(mannwhitneyu(a_sample, b_sample)[1])\n",
        "      aa_pvals.append(mannwhitneyu(a_sample, a2_sample)[1])\n",
        "\n",
        "  power = np.array(np.array(ab_pvals) < alpha).mean()\n",
        "  # calculates 95% confidence interval for alpha\n",
        "  alpha_CI_95 = proportion_confint(np.array(np.array(aa_pvals) < alpha).mean(), iters, alpha)\n",
        "  if alpha_CI_95[1] >= alpha:\n",
        "    print(f\"Warning: 95% CI for alpha exceeds desired level {alpha}: {alpha_CI_95}\")\n",
        "  power_CI_95 = proportion_confint(np.array(np.array(ab_pvals) < alpha).sum(), iters, alpha)\n",
        "  return list(power_CI_95)"
      ],
      "metadata": {
        "id": "FoLth1FlxHop"
      },
      "execution_count": null,
      "outputs": []
    },
    {
      "cell_type": "code",
      "source": [
        "# range for power testing\n",
        "test_range = range(1000, 4000, 100)\n",
        "\n",
        "def power_plot(data, effect_size, test_range, seed, **kwargs):\n",
        "  # plots power vs sample size and returns lower limit of 95% confidence interval of sample size for 80% power level\n",
        "  np.random.seed(seed)\n",
        "  power = list()\n",
        "  for i in tqdm(test_range):\n",
        "    power.extend(u_test_power_calc(data, effect_size, i, **kwargs))\n",
        "  graph = sns.lineplot(x=sum([[i]*2 for i in test_range], []) , y=power)\n",
        "  graph.set(xlabel='Sample size', ylabel='Power', title='Mann–Whitney U test: power vs sample size')\n",
        "  xmin, xmax = graph.get_xlim()\n",
        "  ymin, ymax = graph.get_ylim()\n",
        "  graph.hlines(0.8, xmin, xmax, linestyles='dashed', colors='red')\n",
        "  graph.vlines(test_range[np.argmax(np.array(power[::2]) >= 0.8)], ymin, ymax, linestyles='dashed', colors='red')\n",
        "\n",
        "  return test_range[np.argmax(np.array(power[::2]) >= 0.8)]"
      ],
      "metadata": {
        "id": "_XAp-0FPqZ3h"
      },
      "execution_count": null,
      "outputs": []
    },
    {
      "cell_type": "code",
      "source": [
        "power"
      ],
      "metadata": {
        "colab": {
          "base_uri": "https://localhost:8080/"
        },
        "id": "C8jfeeTY28fp",
        "outputId": "77298f9d-d5bd-42e6-9800-bee361400c58"
      },
      "execution_count": null,
      "outputs": [
        {
          "output_type": "execute_result",
          "data": {
            "text/plain": [
              "[]"
            ]
          },
          "metadata": {},
          "execution_count": 152
        }
      ]
    },
    {
      "cell_type": "code",
      "source": [
        "p = power_plot(data_mw, 0.05, test_range, seed=1, iters=100)"
      ],
      "metadata": {
        "colab": {
          "base_uri": "https://localhost:8080/",
          "height": 521,
          "referenced_widgets": [
            "e43e3ff5c27c4cdf8f46ae969c838064",
            "280bfa9457b94d3d88af0f07df4398d7",
            "34aab121c99a4332924e4c0036680246",
            "09955529b3e44774bc9fd16363a4658d",
            "db9cd6cbce7848bfba5c1fb8d7d4f32d",
            "9cbf71ae82494cb2be02e1a262932318",
            "02d5d0f0f0bb41bd97fac0eb7a657c49",
            "784f1df6420c4e6ab8018065b81d3ead",
            "a582d89ee2eb4cb6b8a64fdc0a835386",
            "702077f8b3d347a2b1463aa819aae0d9",
            "974b443c7e634237a9536716d8f626d8"
          ]
        },
        "id": "L29fgnBVrxXz",
        "outputId": "d36f3ae7-0ce9-4fce-a698-5bab48a6b6d2"
      },
      "execution_count": null,
      "outputs": [
        {
          "output_type": "display_data",
          "data": {
            "text/plain": [
              "  0%|          | 0/30 [00:00<?, ?it/s]"
            ],
            "application/vnd.jupyter.widget-view+json": {
              "version_major": 2,
              "version_minor": 0,
              "model_id": "e43e3ff5c27c4cdf8f46ae969c838064"
            }
          },
          "metadata": {}
        },
        {
          "output_type": "stream",
          "name": "stdout",
          "text": [
            "Sample size for 80% power level=2900\n"
          ]
        },
        {
          "output_type": "display_data",
          "data": {
            "text/plain": [
              "<Figure size 640x480 with 1 Axes>"
            ],
            "image/png": "[encoded data removed]"
          },
          "metadata": {}
        }
      ]
    },
    {
      "cell_type": "code",
      "source": [
        "print(f\"Sample size for 80% power level={p}\")"
      ],
      "metadata": {
        "colab": {
          "base_uri": "https://localhost:8080/"
        },
        "id": "4IvldJvoNIba",
        "outputId": "a30896a7-a5d9-4b78-d9d0-3702cf8ef829"
      },
      "execution_count": null,
      "outputs": [
        {
          "output_type": "stream",
          "name": "stdout",
          "text": [
            "Sample size for 80% power level=2900\n"
          ]
        }
      ]
    },
    {
      "cell_type": "markdown",
      "source": [
        "## Задание 2. Размер выборки (3/4) ##\n",
        "Хорошо, мы поняли какая выборка нужна была бы для детекции 5%, но наблюдаемый эффект у нас меньше относительного MDE. Интересно понять, какая выборка нам была бы нужна, чтобы задетектить MDE такого размера.\n",
        "\n",
        "Рассчитайте размер выборки, необходимый для детекции наблюдаемого эффекта, найденного в задании 1, через двусторонний t-test. С альфа = 0.05 и мощностью 0.8. Выборка 50/50. Для определения cohen_D эффекта используйте std только по контрольной группе."
      ],
      "metadata": {
        "id": "WBqEf6zfRAFc"
      }
    },
    {
      "cell_type": "code",
      "source": [
        "cohen_d = data.groupby(\"group\").revenue.mean().diff()[1] / data.query('group == 0').revenue.std()"
      ],
      "metadata": {
        "id": "hO8U8z7fNUct"
      },
      "execution_count": null,
      "outputs": []
    },
    {
      "cell_type": "code",
      "source": [
        "sample_size = tt_ind_solve_power(effect_size = cohen_d,\n",
        "                       alpha = 0.05,\n",
        "                       power = 0.8,\n",
        "                       ratio = 1,\n",
        "                       alternative = \"two-sided\",\n",
        "                       nobs1 = None)\n",
        "\n",
        "\n",
        "print('Required sample size to detect desired relative uplift: %s' % math.ceil(sample_size))"
      ],
      "metadata": {
        "colab": {
          "base_uri": "https://localhost:8080/"
        },
        "id": "yTTGdzulSh4C",
        "outputId": "fe18e2b9-cf4d-4315-b03e-7ccc2ac893b4"
      },
      "execution_count": null,
      "outputs": [
        {
          "output_type": "stream",
          "name": "stdout",
          "text": [
            "Required sample size to detect desired relative uplift: 338943\n"
          ]
        }
      ]
    },
    {
      "cell_type": "markdown",
      "source": [
        "## Задание 2. Размер выборки (4/4) ##\n",
        "Мы поняли, что наблюдаемый эффект меньше желаемого MDE, при этом и выборка у нас меньше нужного размера. Давайте посмотрим, какой MDE мы можем себе позволить на имеющейся выборке при проверке разницы средних через двусторонний t-test. Параметры дизайна теста те же самые.\n",
        "\n",
        "Рассчитайте, какой абсолютный MDE вы можете себе позволить с датасетом имеющегося размера и std равным std в группе 0."
      ],
      "metadata": {
        "id": "L_QEs2UBZFW2"
      }
    },
    {
      "cell_type": "code",
      "source": [
        "MDE_abs = tt_ind_solve_power(effect_size=None, alpha = 0.05,\n",
        "                       power = 0.8,\n",
        "                       ratio = 1,\n",
        "                       alternative = \"two-sided\",\n",
        "                       nobs1 = len(data) / 2) * data.query('group == 0').revenue.std()\n",
        "\n",
        "print('Абсолютный MDE, который вы можете позволить с датасетом имеющегося размера = ', round(MDE_abs, 1))"
      ],
      "metadata": {
        "colab": {
          "base_uri": "https://localhost:8080/"
        },
        "id": "sxqw2JZAZHkI",
        "outputId": "af190041-16bb-4974-d7ee-104bad388d94"
      },
      "execution_count": null,
      "outputs": [
        {
          "output_type": "stream",
          "name": "stdout",
          "text": [
            "Абсолютный MDE, который вы можете позволить с датасетом имеющегося размера =  244.4\n"
          ]
        }
      ]
    },
    {
      "cell_type": "markdown",
      "source": [
        "## Задание 3. Проверка стат.критерия (1/3) ##\n",
        "Мы видим ряд проблем с размером теста, наблюдаемым эффектом и MDE. Но это не остановит нас в использовании стат критерия для проверки. Но перед использованием критерия желательно его проверить на исторических данных.\n",
        "\n",
        "Проверьте, выдерживает ли нужный уровень ошибок (альфа и бета) Манна-Уитни или t-test. Оба теста двусторонние. Для симуляции используйте данные по группе 0. Используйте размер выборки, рассчитанный в задании 2 Размер выборки (1/4). Это размер выборки, нужный для детекции заданного менеджерами MDE. Кол-во симуляций = 1000. При старте симуляции указывайте np.random.seed(1), чтобы результаты были воспроизводимы.\n",
        "\n",
        "Укажите мощность полученную при симуляции Манна Уитни\n",
        "\n",
        "Введите ответ в поле ниже с точностью до одного знака в десятичной части."
      ],
      "metadata": {
        "id": "yhzGbWFIVY3O"
      }
    },
    {
      "cell_type": "code",
      "source": [
        "sample_size = 162949\n",
        "alpha = 0.05\n",
        "beta = 0.2\n",
        "power = 1 - beta\n",
        "historical_data = data.query('group == 0').revenue\n",
        "iters = 1000\n",
        "rel_lift = 0.05"
      ],
      "metadata": {
        "id": "jOo46G7oSowA"
      },
      "execution_count": null,
      "outputs": []
    },
    {
      "cell_type": "code",
      "source": [],
      "metadata": {
        "id": "hInrrpAein3p"
      },
      "execution_count": null,
      "outputs": []
    },
    {
      "cell_type": "code",
      "source": [
        "def power_calc(data, effect_size, sample_size, alpha=0.05, iters=1000, type='tt', sample_replace=True):\n",
        "  # func calculates Mann–Whitney U test power based on simulation\n",
        "\n",
        "  # data: pandas DataFrame to sample from\n",
        "  # effect_size: relative uplift in %\n",
        "  # sample_size: number of records in sample needed\n",
        "  # alpha: p-value critical level\n",
        "  # sample_replace: sample type\n",
        "  # iters: number of simulations\n",
        "\n",
        "\n",
        "  ab_pvals = list()\n",
        "  aa_pvals = list()\n",
        "  np.random.seed(1)\n",
        "  for i in tqdm(range(iters)):\n",
        "      a_sample = np.random.choice(hist_data, size = sample_size)\n",
        "      a2_sample = np.random.choice(data, sample_size)\n",
        "      b_sample = np.random.choice(hist_data, size = sample_size)*(1+rel_lift)\n",
        "\n",
        "      if type == 'tt':\n",
        "        ab_pvals.append(ttest_ind(a_sample, b_sample).pvalue)\n",
        "        aa_pvals.append(ttest_ind(a_sample, a2_sample).pvalue)\n",
        "      elif type == 'mw':\n",
        "        ab_pvals.append(mannwhitneyu(a_sample, b_sample)[1])\n",
        "        aa_pvals.append(mannwhitneyu(a_sample, a2_sample)[1])\n",
        "\n",
        "  power = np.array(np.array(ab_pvals) < alpha).mean()\n",
        "  aa_power = np.array(np.array(aa_pvals) < alpha).mean()\n",
        "  print(f\"Мощность теста: {power}, вероятность ошибки 1 рода: {aa_power}\")\n"
      ],
      "metadata": {
        "id": "cDP-K5d2jDR4"
      },
      "execution_count": null,
      "outputs": []
    },
    {
      "cell_type": "code",
      "source": [
        "power_calc(historical_data, relative_effect_size, sample_size, alpha=alpha, iters=iters, type='mw')"
      ],
      "metadata": {
        "id": "WfWEDyBvkXqY",
        "outputId": "8e851fa0-dd11-4f08-b093-23080e005554",
        "colab": {
          "base_uri": "https://localhost:8080/",
          "height": 66,
          "referenced_widgets": [
            "b9e3aa23a6144d0cb56d153a97d3835a",
            "0874c408158e4d7abd9151f0fc75cce7",
            "c40f2d342137466b9c453aac51566c4c",
            "868677fa5ade438e835b6db16729bbbe",
            "2a5038c025d540a48156c005fb7048dc",
            "b6bd0db8e6d84ed99c0253a58f84fc3b",
            "f7d077ebb547486a85110d193c680d7a",
            "00f13d2c6c774133beb86c9529f84ba1",
            "6f99d208c13d40ebbb4464fc4a0a0e83",
            "1de36a70296a4a8c87417c76254c22e6",
            "bd5316000ea44a5396052d98a92f43d4"
          ]
        }
      },
      "execution_count": null,
      "outputs": [
        {
          "output_type": "display_data",
          "data": {
            "text/plain": [
              "  0%|          | 0/1000 [00:00<?, ?it/s]"
            ],
            "application/vnd.jupyter.widget-view+json": {
              "version_major": 2,
              "version_minor": 0,
              "model_id": "b9e3aa23a6144d0cb56d153a97d3835a"
            }
          },
          "metadata": {}
        },
        {
          "output_type": "stream",
          "name": "stdout",
          "text": [
            "Мощность теста: 1.0, вероятиность ошибки 1 рода: 0.042\n"
          ]
        }
      ]
    },
    {
      "cell_type": "markdown",
      "source": [
        "## Задание 3. Проверка стат.критерия (2/3) ##\n",
        "Укажите мощность, полученную при симуляции t-test."
      ],
      "metadata": {
        "id": "fRHwxbt4btPH"
      }
    },
    {
      "cell_type": "code",
      "source": [
        "power_calc(historical_data, relative_effect_size, sample_size, alpha=alpha, iters=iters, type='tt')"
      ],
      "metadata": {
        "id": "iWfkFDpnkkfV",
        "outputId": "53b78d6f-bb94-49ec-84d1-f84a239621dc",
        "colab": {
          "base_uri": "https://localhost:8080/",
          "height": 66,
          "referenced_widgets": [
            "ac8a4e3a6a0c4365a477d16a7cdcf055",
            "be892a04edf043f1930d4feebf9231dc",
            "27380778d53b4db187f243dd7d8ac4f0",
            "aad4cf22a5b546cab090210d9541f499",
            "144ec538ae354c749c672c526625ed28",
            "93c1d47123df4978ae4dd1f3808d9102",
            "d4d6e95fa0254221ab0bdc1a1b52868a",
            "f496fa6aa85e4bc18faae5243114b00f",
            "dff53f8ba759468a88380ee51f67aeab",
            "cb9021901a1f4adaad15256c25ee4aae",
            "e71b0e5a92024b998acabd54d3128f56"
          ]
        }
      },
      "execution_count": null,
      "outputs": [
        {
          "output_type": "display_data",
          "data": {
            "text/plain": [
              "  0%|          | 0/1000 [00:00<?, ?it/s]"
            ],
            "application/vnd.jupyter.widget-view+json": {
              "version_major": 2,
              "version_minor": 0,
              "model_id": "ac8a4e3a6a0c4365a477d16a7cdcf055"
            }
          },
          "metadata": {}
        },
        {
          "output_type": "stream",
          "name": "stdout",
          "text": [
            "Мощность теста: 0.786, вероятиность ошибки 1 рода: 0.047\n"
          ]
        }
      ]
    },
    {
      "cell_type": "markdown",
      "source": [],
      "metadata": {
        "id": "TUH-srAQo34M"
      }
    },
    {
      "cell_type": "markdown",
      "source": [
        "## Задание 3. Проверка стат.критерия (3/3) ##\n",
        "**Что для нас значит разница в мощности критерия?**\n",
        "\n",
        "Манна-Уитни проверяет не разницу средних. Средние, как мы видели ранее, не сильно отличаются в обеих группах.\n",
        "\n",
        "А t-test честно позволяет проверить именно гипотезу о равенстве средних. Правда для этого ему нужны очень большие выборки. Но мы можем быть уверены в том, что проверим правильные параметры.\n",
        "\n",
        "Сам факт более низкой мощности еще не повод откидывать критерий. Например, можно применить CUPED и другие методы снижения дисперсии и повысить мощность. При этом у t-test есть явные преимущество в интерпретируемости результата.\n",
        "\n",
        "Более высокая мощность при проверке может также говорить о проблеме с критерием. Возможно критерий не заточен под проверку чего-то другого. Желательно проверять.\n",
        "\n",
        "Ответ:\n",
        "\n",
        "* Более высокая мощность у Манна-Уитни возможно вызвана характером распределения данных. Нам необходимо аккуратно применять его для проверки гипотез о центральных тенденциях распределения\n",
        "* T-test имеет более низкую мощность, из-за высокой дисперсии в распределении. Но он честнее позволит найти ответ о разнице средних в рамках заданного MDE и дизайне эксперимента.\n",
        "\n",
        "Неверно:\n",
        "* Нужно однозначно использовать Манна-Уитни. Он позволит нам быстрее проверить гипотезу о разнице средних, т.к. у него мощность выше\n",
        "\n",
        "В статистике нет ничего однозначного) Более высокая можность при проверке может также говорить о проблеме с критерием. Возможно критерий не заточен под проерку чего-то другого. Желательно проверять\n",
        "* T-test не подходит для нашего эксперимента, т.к. у него мощность ниже\n",
        "\n",
        "Сам факт более низкой мощности еще не повод откидывать критерий. например можно применить CUPED и другие методы снижения дисперсии и повысить мощность. При этом у t-test есть явные преимущество в интерпретируемости результата."
      ],
      "metadata": {
        "id": "2KqeHFIOb5sM"
      }
    },
    {
      "cell_type": "markdown",
      "source": [
        "## Задание 4. Проверка гипотезы (1/5) ##\n",
        "Ну и наконец мы добрались до применения стат критериев на наших данных. Проверяя нужный размер выборки и MDE, который мы можем себе позволить, мы уже интуитивно поняли, что в тесте вряд  ли задетектим желаемый MDE. Но все равно прогоним через стат.критерии.\n",
        "\n",
        "Проверьте гипотезу о равенстве средних с помощью двустороннего t-test. Укажите полученное значение p-value."
      ],
      "metadata": {
        "id": "931TN5TecoAd"
      }
    },
    {
      "cell_type": "code",
      "source": [
        "round(ttest_ind(data.query('group == 0').revenue, data.query('group == 1').revenue, alternative='two-sided').pvalue, 2)"
      ],
      "metadata": {
        "colab": {
          "base_uri": "https://localhost:8080/"
        },
        "id": "m4U8htRqTKgI",
        "outputId": "40fa6b2c-36a7-4f66-8fd3-e9c176764f29"
      },
      "execution_count": null,
      "outputs": [
        {
          "output_type": "execute_result",
          "data": {
            "text/plain": [
              "0.54"
            ]
          },
          "metadata": {},
          "execution_count": 36
        }
      ]
    },
    {
      "cell_type": "markdown",
      "source": [
        "## Задание 4. Проверка гипотезы (2/5) ##\n",
        "Проверьте гипотезу о различиях в распределении revenue с помощью критерия Манна-Уитни. Укажите значение U-статистики, полученной в этом тесте."
      ],
      "metadata": {
        "id": "HcabqRJDgKnu"
      }
    },
    {
      "cell_type": "code",
      "source": [
        "mannwhitneyu(data.query('group == 0').revenue, data.query('group == 1').revenue)"
      ],
      "metadata": {
        "id": "VHFyJbRSfO_M",
        "outputId": "2d990bf6-f288-43c4-c1ce-14b1d9e8a975",
        "colab": {
          "base_uri": "https://localhost:8080/"
        }
      },
      "execution_count": null,
      "outputs": [
        {
          "output_type": "execute_result",
          "data": {
            "text/plain": [
              "MannwhitneyuResult(statistic=137332553.5, pvalue=4.0824604776415004e-24)"
            ]
          },
          "metadata": {},
          "execution_count": 37
        }
      ]
    },
    {
      "cell_type": "markdown",
      "source": [
        "## Задание 4. Проверка гипотезы (3/5) ##\n",
        "Проверьте гипотезу о равенстве медиан в распределении с помощью Mood's median test. Укажите значение статистики, полученной в этом тесте."
      ],
      "metadata": {
        "id": "mZD5c0LKgrYq"
      }
    },
    {
      "cell_type": "code",
      "source": [
        "median_test(data.query('group == 0').revenue, data.query('group == 1').revenue)"
      ],
      "metadata": {
        "id": "rp7ibRZXgT7c",
        "outputId": "33a30c48-7a9b-491a-ebb4-f27067f4cb45",
        "colab": {
          "base_uri": "https://localhost:8080/"
        }
      },
      "execution_count": null,
      "outputs": [
        {
          "output_type": "execute_result",
          "data": {
            "text/plain": [
              "MedianTestResult(statistic=108.81948173613007, pvalue=1.7775971068587562e-25, median=480.0, table=array([[8353, 7480],\n",
              "       [7641, 8641]]))"
            ]
          },
          "metadata": {},
          "execution_count": 39
        }
      ]
    },
    {
      "cell_type": "code",
      "source": [],
      "metadata": {
        "id": "zkD311_3hGxF"
      },
      "execution_count": null,
      "outputs": []
    }
  ]
}