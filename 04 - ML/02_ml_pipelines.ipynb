{
  "nbformat": 4,
  "nbformat_minor": 0,
  "metadata": {
    "colab": {
      "provenance": [],
      "include_colab_link": true
    },
    "kernelspec": {
      "name": "python3",
      "display_name": "Python 3"
    },
    "language_info": {
      "name": "python"
    }
  },
  "cells": [
    {
      "cell_type": "markdown",
      "metadata": {
        "id": "view-in-github",
        "colab_type": "text"
      },
      "source": [
        "<a href=\"https://colab.research.google.com/github/aleks-haksly/KarpovCources_Hard_DA_advanced/blob/main/04%20-%20ML/02_ml_pipelines.ipynb\" target=\"_parent\"><img src=\"https://colab.research.google.com/assets/colab-badge.svg\" alt=\"Open In Colab\"/></a>"
      ]
    },
    {
      "cell_type": "code",
      "execution_count": null,
      "metadata": {
        "id": "5pGR6HrbptQ9"
      },
      "outputs": [],
      "source": [
        "import pandas as pd\n",
        "import numpy as np\n",
        "import matplotlib.pyplot as plt\n",
        "import seaborn as sns\n",
        "from google.colab import userdata"
      ]
    },
    {
      "cell_type": "markdown",
      "source": [
        "## Задание 1. Спецификация (1/2)\n",
        "\n",
        "\n",
        "Зафиксируйте сумму выручки по месяцу каждого года. Далее мы будем использовать это как внешнюю информацию.\n",
        "\n",
        "По-хорошему, в проде такую информацию стоит обновлять каждый месяц - почти наверняка даже самая простая инфраструктура в компании позволит это сделать с наступлением нового месяца."
      ],
      "metadata": {
        "id": "suI8IvcM-T5b"
      }
    },
    {
      "cell_type": "markdown",
      "source": [
        "Создайте из полученных данных словарь `quasi_external` такого вида, он пригодится нам позже:\n",
        "\n",
        "`{'2021-02': сумма выручки,\n",
        " '2021-03': сумма выручки,\n",
        " '2021-04': сумма выручки,\n",
        " '2021-05': сумма выручки\n",
        "...}`\n",
        "\n",
        "\n",
        "Какая сумма транзакций получилась за июнь 2022 года?"
      ],
      "metadata": {
        "id": "q2RGHmt8-fjX"
      }
    },
    {
      "cell_type": "code",
      "source": [
        "data = pd.read_csv(\"/content/premium_by_passports.csv\", parse_dates=[\"payment_date\", \"created_at\"])"
      ],
      "metadata": {
        "id": "79cRHv__-Y6U"
      },
      "execution_count": null,
      "outputs": []
    },
    {
      "cell_type": "code",
      "source": [
        "data[\"payment_month\"] = data[\"payment_date\"].dt.strftime(\"%Y-%m\")"
      ],
      "metadata": {
        "id": "dCK1TTTmCnTi"
      },
      "execution_count": null,
      "outputs": []
    },
    {
      "cell_type": "code",
      "source": [
        "quasi_external = data.groupby(\"payment_month\").revenue.sum().to_dict()"
      ],
      "metadata": {
        "id": "RFkZBRPWFJhh"
      },
      "execution_count": null,
      "outputs": []
    },
    {
      "cell_type": "code",
      "source": [
        "print(f\"Сумма транзакций за июнь 2022 = {quasi_external.get('2022-06')}\")"
      ],
      "metadata": {
        "colab": {
          "base_uri": "https://localhost:8080/"
        },
        "id": "BP9Rl0L7Fie2",
        "outputId": "1db84fd9-7aa1-4dd0-fcac-4cdad874a1bb"
      },
      "execution_count": null,
      "outputs": [
        {
          "output_type": "stream",
          "name": "stdout",
          "text": [
            "Сумма транзакций за июнь 2022 = 6537800\n"
          ]
        }
      ]
    },
    {
      "cell_type": "markdown",
      "source": [
        "## Задание 1. Спецификация (2/2)\n",
        "\n",
        "\n",
        "Нам необходимо получить табличку, в которой строкой будет пара объект-таргет вида (`passport_id` - сумма платежей через месяц).\n",
        "\n",
        "Во-первых, почистим платежи, которые были совершены клиентом через 30 дней после онбординга.\n",
        "\n",
        "Во-вторых, необходимо сгруппировать оставшиеся платежи в одну сумму - именно эту метрику мы и будем предсказывать.\n",
        "\n",
        "Группировку нужно делать по признакам `'type'`, `'passport_id'`, `'created_at'`\n",
        "\n",
        "P.S. заметьте, что у многих `passport_id` в каких-то платежах пропущена категориальная информация (`user_type_name` и `user_type_cars_name`), а в каких-то нет. Тем не менее, по устройству базы мы понимаем, что эта информация уникальна, и в данной задаче не меняется во времени. Нужно подумать над тем, как обработать категориальные колонки таким образом, чтобы у всех платежей одного клиента там была указана верная информация, если она указана в любом другом его платеже.\n",
        "В pandas можно использовать функцию агрегации first\n",
        "\n",
        "Какое количество строк получилось в таблице?"
      ],
      "metadata": {
        "id": "bMc4DlfRIpT3"
      }
    },
    {
      "cell_type": "code",
      "source": [
        "data_filtered = data[data[\"payment_date\"] <= data[\"created_at\"] + pd.Timedelta(days=31)]\n",
        "#data_filtered = data[(data['payment_date'] - data['created_at']).dt.days <= 30]"
      ],
      "metadata": {
        "id": "86nS9bHFJ3G6"
      },
      "execution_count": null,
      "outputs": []
    },
    {
      "cell_type": "code",
      "source": [
        "df = data_filtered.groupby([\"passport_id\", \"created_at\", \"type\"]).agg({\"user_type_name\": 'first', \"user_type_cars_name\": 'first', \"revenue\": 'sum'})"
      ],
      "metadata": {
        "id": "ynqO5rBXN-Ox"
      },
      "execution_count": null,
      "outputs": []
    },
    {
      "cell_type": "code",
      "source": [
        "print(f\"количество строк в таблице {df.shape[0]}\")"
      ],
      "metadata": {
        "id": "q0TKFUT2eiLh",
        "outputId": "e8b33de8-e28d-45c1-e2ad-15ae103ca93e",
        "colab": {
          "base_uri": "https://localhost:8080/"
        }
      },
      "execution_count": null,
      "outputs": [
        {
          "output_type": "stream",
          "name": "stdout",
          "text": [
            "количество строк в таблице 8770\n"
          ]
        }
      ]
    },
    {
      "cell_type": "markdown",
      "source": [
        "## Задание 2. Обработка данных (2/5) ##\n",
        "\n",
        "\n",
        "Определите значения 2.5 и 97.5 квантилей для таргета. Удалите из данных все записи, значения целевой переменной которых находятся за пределами указанных квантилей.\n",
        "\n",
        "Введите полученные значения через запятую и пробел - сначала значение 2.5 квантиля, после значение 97,5 квантиля для таргетной переменной. Округлите значения до целого."
      ],
      "metadata": {
        "id": "ZtMZ-6asXIdx"
      }
    },
    {
      "cell_type": "code",
      "source": [
        "df_no_outliers = df[(df[\"revenue\"] > df[\"revenue\"].quantile(0.025)) & (df[\"revenue\"] < df[\"revenue\"].quantile(0.975))]"
      ],
      "metadata": {
        "id": "AnlNVN7QW4Qo"
      },
      "execution_count": null,
      "outputs": []
    },
    {
      "cell_type": "code",
      "source": [
        "df[\"revenue\"].quantile(0.025).round(), df[\"revenue\"].quantile(0.975).round()"
      ],
      "metadata": {
        "colab": {
          "base_uri": "https://localhost:8080/"
        },
        "id": "iRdJjBksHwJ-",
        "outputId": "e5d80e6e-9ab5-454c-9453-738095aeecea"
      },
      "execution_count": null,
      "outputs": [
        {
          "output_type": "execute_result",
          "data": {
            "text/plain": [
              "(685.0, 5188.0)"
            ]
          },
          "metadata": {},
          "execution_count": 10
        }
      ]
    },
    {
      "cell_type": "markdown",
      "source": [
        "## Задание 2. Обработка данных (3/5)\n",
        "\n",
        "\n",
        "Изучите, есть ли в данных пропуски. В каких колонках вы их обнаружили?"
      ],
      "metadata": {
        "id": "4za1-KfnJxsY"
      }
    },
    {
      "cell_type": "code",
      "source": [
        "# Пропуски есть в колонках:\n",
        "df_no_outliers.reset_index().isna().sum().where(lambda x : x!=0).dropna().index.tolist()"
      ],
      "metadata": {
        "colab": {
          "base_uri": "https://localhost:8080/"
        },
        "id": "vVRw1FfbI6fi",
        "outputId": "55d9b9d5-79a2-4c31-e41c-4ba47029d038"
      },
      "execution_count": null,
      "outputs": [
        {
          "output_type": "execute_result",
          "data": {
            "text/plain": [
              "['user_type_name', 'user_type_cars_name']"
            ]
          },
          "metadata": {},
          "execution_count": 11
        }
      ]
    },
    {
      "cell_type": "markdown",
      "source": [
        "## Задание 2. Обработка данных (4/5)\n",
        "\n",
        "\n",
        "Есть ли строки, в которых половина или более колонок пустые? Как думаете, такое возможно?"
      ],
      "metadata": {
        "id": "vUg--jKFMy7b"
      }
    },
    {
      "cell_type": "markdown",
      "source": [
        "## Задание 2. Обработка данных (5/5)\n",
        "Напишите кастомный класс `FilteringSelector`, который оставляет только те колонки, в которых не более `t=40%` пропусков. Сделайте это по аналогии с практической частью урока. В этом случае в качестве параметра инициализации можно выбрать порог t, а можно опустить и зашить внутрь кода класса.\n",
        "\n",
        "В уроке мы делали фильтрацию фичей внутри кастомного трансформера, в котором, в том числе, генерили новые признаки. Уже обсуждали, что так лучше на практике не делать, и разные части выносить в разные классы и функции. Фильтрацию данных - в одно место, создание новых фичей - в другое.\n",
        "\n",
        "Не забудьте обернуть `FilteringSelector` в `ColumnTransformer`, как мы это делали в уроке, инициализируя переменную `col_selector`.\n",
        "\n",
        "Вставьте в поле ниже только реализацию класса `FilteringSelector`, переменную `col_selector` сдавать не нужно. Не забудьте добавить импорт pandas"
      ],
      "metadata": {
        "id": "ZsypewRBN3ZB"
      }
    },
    {
      "cell_type": "code",
      "source": [
        "from sklearn.pipeline import Pipeline\n",
        "from sklearn.compose import ColumnTransformer, make_column_transformer\n",
        "from sklearn.compose import make_column_selector as selector\n",
        "from sklearn.impute import SimpleImputer"
      ],
      "metadata": {
        "id": "cLLFJs_L0uBq"
      },
      "execution_count": null,
      "outputs": []
    },
    {
      "cell_type": "code",
      "source": [
        "class FilteringSelector :\n",
        "\n",
        "    def __init__(self, threshold=0.4):\n",
        "        self.threshold = threshold\n",
        "\n",
        "\n",
        "    def __call__(self, df):\n",
        "        if not hasattr(df, \"iloc\"):\n",
        "            raise ValueError(\n",
        "                \"make_column_selector can only be applied to pandas dataframes\"\n",
        "            )\n",
        "\n",
        "        return df.isna().mean().where(lambda x : x < self.threshold).dropna().index.tolist()"
      ],
      "metadata": {
        "id": "rErmBIpKNT3N"
      },
      "execution_count": null,
      "outputs": []
    },
    {
      "cell_type": "code",
      "source": [
        "col_selector = ColumnTransformer(\n",
        "    transformers=[\n",
        "        ('ThresholdFilter', 'passthrough', FilteringSelector())\n",
        "    ],\n",
        "    verbose_feature_names_out=False   # Оставляем оригинальные названия колонок\n",
        ").set_output(transform='pandas')      # Трансформер будет возвращать pandas"
      ],
      "metadata": {
        "id": "reVjWkaQ0KJV"
      },
      "execution_count": null,
      "outputs": []
    },
    {
      "cell_type": "code",
      "source": [
        "X_ = df_no_outliers.reset_index().drop(columns=[\"revenue\", \"type\"])\n",
        "y_ = df_no_outliers.reset_index()[\"revenue\"]"
      ],
      "metadata": {
        "id": "NV7yvExZ10lu"
      },
      "execution_count": null,
      "outputs": []
    },
    {
      "cell_type": "code",
      "source": [
        "col_selector.fit_transform(X_, y_).head()"
      ],
      "metadata": {
        "colab": {
          "base_uri": "https://localhost:8080/",
          "height": 206
        },
        "id": "XYf5dntB1Uae",
        "outputId": "d8bbfe62-5d6a-4482-facc-5676e74b1569"
      },
      "execution_count": null,
      "outputs": [
        {
          "output_type": "execute_result",
          "data": {
            "text/plain": [
              "   passport_id          created_at user_type_name\n",
              "0    140366939 2021-01-04 11:09:27    simple_user\n",
              "1    140386549 2021-01-06 16:54:42    simple_user\n",
              "2    140387667 2021-01-06 19:07:18    simple_user\n",
              "3    140390659 2021-01-07 01:08:09    simple_user\n",
              "4    140391889 2021-01-07 11:29:07    simple_user"
            ],
            "text/html": [
              "\n",
              "  <div id=\"df-1d03a05a-838e-4362-b443-7eb9f3a566a5\" class=\"colab-df-container\">\n",
              "    <div>\n",
              "<style scoped>\n",
              "    .dataframe tbody tr th:only-of-type {\n",
              "        vertical-align: middle;\n",
              "    }\n",
              "\n",
              "    .dataframe tbody tr th {\n",
              "        vertical-align: top;\n",
              "    }\n",
              "\n",
              "    .dataframe thead th {\n",
              "        text-align: right;\n",
              "    }\n",
              "</style>\n",
              "<table border=\"1\" class=\"dataframe\">\n",
              "  <thead>\n",
              "    <tr style=\"text-align: right;\">\n",
              "      <th></th>\n",
              "      <th>passport_id</th>\n",
              "      <th>created_at</th>\n",
              "      <th>user_type_name</th>\n",
              "    </tr>\n",
              "  </thead>\n",
              "  <tbody>\n",
              "    <tr>\n",
              "      <th>0</th>\n",
              "      <td>140366939</td>\n",
              "      <td>2021-01-04 11:09:27</td>\n",
              "      <td>simple_user</td>\n",
              "    </tr>\n",
              "    <tr>\n",
              "      <th>1</th>\n",
              "      <td>140386549</td>\n",
              "      <td>2021-01-06 16:54:42</td>\n",
              "      <td>simple_user</td>\n",
              "    </tr>\n",
              "    <tr>\n",
              "      <th>2</th>\n",
              "      <td>140387667</td>\n",
              "      <td>2021-01-06 19:07:18</td>\n",
              "      <td>simple_user</td>\n",
              "    </tr>\n",
              "    <tr>\n",
              "      <th>3</th>\n",
              "      <td>140390659</td>\n",
              "      <td>2021-01-07 01:08:09</td>\n",
              "      <td>simple_user</td>\n",
              "    </tr>\n",
              "    <tr>\n",
              "      <th>4</th>\n",
              "      <td>140391889</td>\n",
              "      <td>2021-01-07 11:29:07</td>\n",
              "      <td>simple_user</td>\n",
              "    </tr>\n",
              "  </tbody>\n",
              "</table>\n",
              "</div>\n",
              "    <div class=\"colab-df-buttons\">\n",
              "\n",
              "  <div class=\"colab-df-container\">\n",
              "    <button class=\"colab-df-convert\" onclick=\"convertToInteractive('df-1d03a05a-838e-4362-b443-7eb9f3a566a5')\"\n",
              "            title=\"Convert this dataframe to an interactive table.\"\n",
              "            style=\"display:none;\">\n",
              "\n",
              "  <svg xmlns=\"http://www.w3.org/2000/svg\" height=\"24px\" viewBox=\"0 -960 960 960\">\n",
              "    <path d=\"M120-120v-720h720v720H120Zm60-500h600v-160H180v160Zm220 220h160v-160H400v160Zm0 220h160v-160H400v160ZM180-400h160v-160H180v160Zm440 0h160v-160H620v160ZM180-180h160v-160H180v160Zm440 0h160v-160H620v160Z\"/>\n",
              "  </svg>\n",
              "    </button>\n",
              "\n",
              "  <style>\n",
              "    .colab-df-container {\n",
              "      display:flex;\n",
              "      gap: 12px;\n",
              "    }\n",
              "\n",
              "    .colab-df-convert {\n",
              "      background-color: #E8F0FE;\n",
              "      border: none;\n",
              "      border-radius: 50%;\n",
              "      cursor: pointer;\n",
              "      display: none;\n",
              "      fill: #1967D2;\n",
              "      height: 32px;\n",
              "      padding: 0 0 0 0;\n",
              "      width: 32px;\n",
              "    }\n",
              "\n",
              "    .colab-df-convert:hover {\n",
              "      background-color: #E2EBFA;\n",
              "      box-shadow: 0px 1px 2px rgba(60, 64, 67, 0.3), 0px 1px 3px 1px rgba(60, 64, 67, 0.15);\n",
              "      fill: #174EA6;\n",
              "    }\n",
              "\n",
              "    .colab-df-buttons div {\n",
              "      margin-bottom: 4px;\n",
              "    }\n",
              "\n",
              "    [theme=dark] .colab-df-convert {\n",
              "      background-color: #3B4455;\n",
              "      fill: #D2E3FC;\n",
              "    }\n",
              "\n",
              "    [theme=dark] .colab-df-convert:hover {\n",
              "      background-color: #434B5C;\n",
              "      box-shadow: 0px 1px 3px 1px rgba(0, 0, 0, 0.15);\n",
              "      filter: drop-shadow(0px 1px 2px rgba(0, 0, 0, 0.3));\n",
              "      fill: #FFFFFF;\n",
              "    }\n",
              "  </style>\n",
              "\n",
              "    <script>\n",
              "      const buttonEl =\n",
              "        document.querySelector('#df-1d03a05a-838e-4362-b443-7eb9f3a566a5 button.colab-df-convert');\n",
              "      buttonEl.style.display =\n",
              "        google.colab.kernel.accessAllowed ? 'block' : 'none';\n",
              "\n",
              "      async function convertToInteractive(key) {\n",
              "        const element = document.querySelector('#df-1d03a05a-838e-4362-b443-7eb9f3a566a5');\n",
              "        const dataTable =\n",
              "          await google.colab.kernel.invokeFunction('convertToInteractive',\n",
              "                                                    [key], {});\n",
              "        if (!dataTable) return;\n",
              "\n",
              "        const docLinkHtml = 'Like what you see? Visit the ' +\n",
              "          '<a target=\"_blank\" href=https://colab.research.google.com/notebooks/data_table.ipynb>data table notebook</a>'\n",
              "          + ' to learn more about interactive tables.';\n",
              "        element.innerHTML = '';\n",
              "        dataTable['output_type'] = 'display_data';\n",
              "        await google.colab.output.renderOutput(dataTable, element);\n",
              "        const docLink = document.createElement('div');\n",
              "        docLink.innerHTML = docLinkHtml;\n",
              "        element.appendChild(docLink);\n",
              "      }\n",
              "    </script>\n",
              "  </div>\n",
              "\n",
              "\n",
              "<div id=\"df-cc824212-5312-4cc3-9af1-05e7302cc89f\">\n",
              "  <button class=\"colab-df-quickchart\" onclick=\"quickchart('df-cc824212-5312-4cc3-9af1-05e7302cc89f')\"\n",
              "            title=\"Suggest charts\"\n",
              "            style=\"display:none;\">\n",
              "\n",
              "<svg xmlns=\"http://www.w3.org/2000/svg\" height=\"24px\"viewBox=\"0 0 24 24\"\n",
              "     width=\"24px\">\n",
              "    <g>\n",
              "        <path d=\"M19 3H5c-1.1 0-2 .9-2 2v14c0 1.1.9 2 2 2h14c1.1 0 2-.9 2-2V5c0-1.1-.9-2-2-2zM9 17H7v-7h2v7zm4 0h-2V7h2v10zm4 0h-2v-4h2v4z\"/>\n",
              "    </g>\n",
              "</svg>\n",
              "  </button>\n",
              "\n",
              "<style>\n",
              "  .colab-df-quickchart {\n",
              "      --bg-color: #E8F0FE;\n",
              "      --fill-color: #1967D2;\n",
              "      --hover-bg-color: #E2EBFA;\n",
              "      --hover-fill-color: #174EA6;\n",
              "      --disabled-fill-color: #AAA;\n",
              "      --disabled-bg-color: #DDD;\n",
              "  }\n",
              "\n",
              "  [theme=dark] .colab-df-quickchart {\n",
              "      --bg-color: #3B4455;\n",
              "      --fill-color: #D2E3FC;\n",
              "      --hover-bg-color: #434B5C;\n",
              "      --hover-fill-color: #FFFFFF;\n",
              "      --disabled-bg-color: #3B4455;\n",
              "      --disabled-fill-color: #666;\n",
              "  }\n",
              "\n",
              "  .colab-df-quickchart {\n",
              "    background-color: var(--bg-color);\n",
              "    border: none;\n",
              "    border-radius: 50%;\n",
              "    cursor: pointer;\n",
              "    display: none;\n",
              "    fill: var(--fill-color);\n",
              "    height: 32px;\n",
              "    padding: 0;\n",
              "    width: 32px;\n",
              "  }\n",
              "\n",
              "  .colab-df-quickchart:hover {\n",
              "    background-color: var(--hover-bg-color);\n",
              "    box-shadow: 0 1px 2px rgba(60, 64, 67, 0.3), 0 1px 3px 1px rgba(60, 64, 67, 0.15);\n",
              "    fill: var(--button-hover-fill-color);\n",
              "  }\n",
              "\n",
              "  .colab-df-quickchart-complete:disabled,\n",
              "  .colab-df-quickchart-complete:disabled:hover {\n",
              "    background-color: var(--disabled-bg-color);\n",
              "    fill: var(--disabled-fill-color);\n",
              "    box-shadow: none;\n",
              "  }\n",
              "\n",
              "  .colab-df-spinner {\n",
              "    border: 2px solid var(--fill-color);\n",
              "    border-color: transparent;\n",
              "    border-bottom-color: var(--fill-color);\n",
              "    animation:\n",
              "      spin 1s steps(1) infinite;\n",
              "  }\n",
              "\n",
              "  @keyframes spin {\n",
              "    0% {\n",
              "      border-color: transparent;\n",
              "      border-bottom-color: var(--fill-color);\n",
              "      border-left-color: var(--fill-color);\n",
              "    }\n",
              "    20% {\n",
              "      border-color: transparent;\n",
              "      border-left-color: var(--fill-color);\n",
              "      border-top-color: var(--fill-color);\n",
              "    }\n",
              "    30% {\n",
              "      border-color: transparent;\n",
              "      border-left-color: var(--fill-color);\n",
              "      border-top-color: var(--fill-color);\n",
              "      border-right-color: var(--fill-color);\n",
              "    }\n",
              "    40% {\n",
              "      border-color: transparent;\n",
              "      border-right-color: var(--fill-color);\n",
              "      border-top-color: var(--fill-color);\n",
              "    }\n",
              "    60% {\n",
              "      border-color: transparent;\n",
              "      border-right-color: var(--fill-color);\n",
              "    }\n",
              "    80% {\n",
              "      border-color: transparent;\n",
              "      border-right-color: var(--fill-color);\n",
              "      border-bottom-color: var(--fill-color);\n",
              "    }\n",
              "    90% {\n",
              "      border-color: transparent;\n",
              "      border-bottom-color: var(--fill-color);\n",
              "    }\n",
              "  }\n",
              "</style>\n",
              "\n",
              "  <script>\n",
              "    async function quickchart(key) {\n",
              "      const quickchartButtonEl =\n",
              "        document.querySelector('#' + key + ' button');\n",
              "      quickchartButtonEl.disabled = true;  // To prevent multiple clicks.\n",
              "      quickchartButtonEl.classList.add('colab-df-spinner');\n",
              "      try {\n",
              "        const charts = await google.colab.kernel.invokeFunction(\n",
              "            'suggestCharts', [key], {});\n",
              "      } catch (error) {\n",
              "        console.error('Error during call to suggestCharts:', error);\n",
              "      }\n",
              "      quickchartButtonEl.classList.remove('colab-df-spinner');\n",
              "      quickchartButtonEl.classList.add('colab-df-quickchart-complete');\n",
              "    }\n",
              "    (() => {\n",
              "      let quickchartButtonEl =\n",
              "        document.querySelector('#df-cc824212-5312-4cc3-9af1-05e7302cc89f button');\n",
              "      quickchartButtonEl.style.display =\n",
              "        google.colab.kernel.accessAllowed ? 'block' : 'none';\n",
              "    })();\n",
              "  </script>\n",
              "</div>\n",
              "\n",
              "    </div>\n",
              "  </div>\n"
            ],
            "application/vnd.google.colaboratory.intrinsic+json": {
              "type": "dataframe",
              "summary": "{\n  \"name\": \"col_selector\",\n  \"rows\": 5,\n  \"fields\": [\n    {\n      \"column\": \"passport_id\",\n      \"properties\": {\n        \"dtype\": \"number\",\n        \"std\": 10184,\n        \"min\": 140366939,\n        \"max\": 140391889,\n        \"num_unique_values\": 5,\n        \"samples\": [\n          140386549,\n          140391889,\n          140387667\n        ],\n        \"semantic_type\": \"\",\n        \"description\": \"\"\n      }\n    },\n    {\n      \"column\": \"created_at\",\n      \"properties\": {\n        \"dtype\": \"date\",\n        \"min\": \"2021-01-04 11:09:27\",\n        \"max\": \"2021-01-07 11:29:07\",\n        \"num_unique_values\": 5,\n        \"samples\": [\n          \"2021-01-06 16:54:42\",\n          \"2021-01-07 11:29:07\",\n          \"2021-01-06 19:07:18\"\n        ],\n        \"semantic_type\": \"\",\n        \"description\": \"\"\n      }\n    },\n    {\n      \"column\": \"user_type_name\",\n      \"properties\": {\n        \"dtype\": \"category\",\n        \"num_unique_values\": 1,\n        \"samples\": [\n          \"simple_user\"\n        ],\n        \"semantic_type\": \"\",\n        \"description\": \"\"\n      }\n    }\n  ]\n}"
            }
          },
          "metadata": {},
          "execution_count": 16
        }
      ]
    },
    {
      "cell_type": "markdown",
      "source": [
        "## Задание 3. Трансформер\n",
        "  \n",
        "\n",
        "Напишите класс `AddColumnsTransformer`, который делает следующие действия:\n",
        "\n",
        "1) Выделяет из даты создания профиля квартал - колонка `Quarter` в формате `'2023Q3'`\n",
        "\n",
        "2) Из созданного ранее словаря формирует фичу `last_month_pmts`, которая представляет собой сумму транзакций в предыдущем месяце, используя внешние данные. Если данных о платежах за предыдущий месяц нет, то возьмите среднее по всем доступным месяцам\n",
        "\n",
        "3) Удаляет колонки-ключи: passport_id  (названия этой колонки можно захардкодить) и created_at\n",
        "\n",
        "У такого класса должно быть всего два параметра:\n",
        "\n",
        "1) created_at_column, содержащий название колонки с датой создания профиля\n",
        "\n",
        "2) payments_by_month переменная, содержащая словарь с информацией о сумме платежей по месяцам из выборки, который мы создавали ранее\n",
        "\n",
        "Вставьте в поле код класса AddColumnsTransformer, не забудьте необходимые импорты\n",
        "\n",
        "Словарь с суммами выручки по месяцу каждого года уже загружен в LMS в переменную quasi_external"
      ],
      "metadata": {
        "id": "P_BPaAqq214L"
      }
    },
    {
      "cell_type": "code",
      "source": [
        "from sklearn.base import BaseEstimator, TransformerMixin"
      ],
      "metadata": {
        "id": "3T4xxTRQ4I6U"
      },
      "execution_count": null,
      "outputs": []
    },
    {
      "cell_type": "code",
      "source": [
        "class AddColumnsTransformer(BaseEstimator, TransformerMixin):\n",
        "  def __init__(\n",
        "        self,\n",
        "        created_at_column='created_at',\n",
        "        payments_by_month=None\n",
        "    ):\n",
        "        self.created_at_column = created_at_column\n",
        "        self.payments_by_month = payments_by_month\n",
        "  def fit(self, X, y):\n",
        "\n",
        "        if not hasattr(X, \"iloc\"):\n",
        "            raise ValueError(\n",
        "                \"CustomTransformer can only be applied to pandas dataframes in X argument\"\n",
        "            )\n",
        "\n",
        "        self.payments_by_month_mean = np.mean(list(self.payments_by_month.values()))\n",
        "        self.columns_to_drop = ['passport_id', self.created_at_column]\n",
        "\n",
        "        return self\n",
        "\n",
        "  def transform(self, X):\n",
        "        if not hasattr(X, \"iloc\"):\n",
        "            raise ValueError(\n",
        "                \"CustomTransformer can only be applied to pandas dataframes in X argument\"\n",
        "            )\n",
        "        X_copy= X.copy()\n",
        "\n",
        "        # Выделяет из даты создания профиля квартал - колонка Quarter в формате '2023Q3'\n",
        "        X_copy['Quarter'] = X_copy[self.created_at_column].dt.to_period('Q').astype(str)\n",
        "\n",
        "        # Из созданного ранее словаря формирует фичу last_month_pmts, которая представляет собой сумму транзакций в предыдущем месяце, используя внешние данные.\n",
        "        X_copy['last_month_pmts'] = X_copy.created_at.apply(lambda x: self.payments_by_month.get((x - pd.offsets.MonthEnd()).strftime(\"%Y-%m\"), self.payments_by_month_mean))\n",
        "\n",
        "        # Удаляет колонки-ключи: passport_id  (названия этой колонки можно захардкодить) и created_at\n",
        "        X_copy = X_copy.drop(columns=self.columns_to_drop, axis=1)\n",
        "\n",
        "        return X_copy\n"
      ],
      "metadata": {
        "id": "10837rBHGjsO"
      },
      "execution_count": null,
      "outputs": []
    },
    {
      "cell_type": "code",
      "source": [
        "CustomTransformer = AddColumnsTransformer(created_at_column='created_at', payments_by_month=quasi_external)"
      ],
      "metadata": {
        "id": "uVql3gQNcAJv"
      },
      "execution_count": null,
      "outputs": []
    },
    {
      "cell_type": "code",
      "source": [
        "CustomTransformer.fit_transform(X_, y_)"
      ],
      "metadata": {
        "colab": {
          "base_uri": "https://localhost:8080/",
          "height": 424
        },
        "id": "8a1pgjXtcOJb",
        "outputId": "96815cf6-c1c7-4ff2-8e1a-6b7035c64a2e"
      },
      "execution_count": null,
      "outputs": [
        {
          "output_type": "execute_result",
          "data": {
            "text/plain": [
              "     user_type_name user_type_cars_name Quarter  last_month_pmts\n",
              "0       simple_user                None  2021Q1     3.114500e+06\n",
              "1       simple_user                None  2021Q1     3.114500e+06\n",
              "2       simple_user                None  2021Q1     3.114500e+06\n",
              "3       simple_user         cars_simple  2021Q1     3.114500e+06\n",
              "4       simple_user         cars_simple  2021Q1     3.114500e+06\n",
              "...             ...                 ...     ...              ...\n",
              "8099    simple_user                None  2023Q1     4.635815e+06\n",
              "8100          profi                None  2023Q1     4.635815e+06\n",
              "8101    simple_user                None  2023Q1     4.635815e+06\n",
              "8102    simple_user         cars_simple  2023Q1     4.635815e+06\n",
              "8103    simple_user                None  2023Q1     4.635815e+06\n",
              "\n",
              "[8104 rows x 4 columns]"
            ],
            "text/html": [
              "\n",
              "  <div id=\"df-f8d03079-a3fa-4a85-b885-84daf84b9198\" class=\"colab-df-container\">\n",
              "    <div>\n",
              "<style scoped>\n",
              "    .dataframe tbody tr th:only-of-type {\n",
              "        vertical-align: middle;\n",
              "    }\n",
              "\n",
              "    .dataframe tbody tr th {\n",
              "        vertical-align: top;\n",
              "    }\n",
              "\n",
              "    .dataframe thead th {\n",
              "        text-align: right;\n",
              "    }\n",
              "</style>\n",
              "<table border=\"1\" class=\"dataframe\">\n",
              "  <thead>\n",
              "    <tr style=\"text-align: right;\">\n",
              "      <th></th>\n",
              "      <th>user_type_name</th>\n",
              "      <th>user_type_cars_name</th>\n",
              "      <th>Quarter</th>\n",
              "      <th>last_month_pmts</th>\n",
              "    </tr>\n",
              "  </thead>\n",
              "  <tbody>\n",
              "    <tr>\n",
              "      <th>0</th>\n",
              "      <td>simple_user</td>\n",
              "      <td>None</td>\n",
              "      <td>2021Q1</td>\n",
              "      <td>3.114500e+06</td>\n",
              "    </tr>\n",
              "    <tr>\n",
              "      <th>1</th>\n",
              "      <td>simple_user</td>\n",
              "      <td>None</td>\n",
              "      <td>2021Q1</td>\n",
              "      <td>3.114500e+06</td>\n",
              "    </tr>\n",
              "    <tr>\n",
              "      <th>2</th>\n",
              "      <td>simple_user</td>\n",
              "      <td>None</td>\n",
              "      <td>2021Q1</td>\n",
              "      <td>3.114500e+06</td>\n",
              "    </tr>\n",
              "    <tr>\n",
              "      <th>3</th>\n",
              "      <td>simple_user</td>\n",
              "      <td>cars_simple</td>\n",
              "      <td>2021Q1</td>\n",
              "      <td>3.114500e+06</td>\n",
              "    </tr>\n",
              "    <tr>\n",
              "      <th>4</th>\n",
              "      <td>simple_user</td>\n",
              "      <td>cars_simple</td>\n",
              "      <td>2021Q1</td>\n",
              "      <td>3.114500e+06</td>\n",
              "    </tr>\n",
              "    <tr>\n",
              "      <th>...</th>\n",
              "      <td>...</td>\n",
              "      <td>...</td>\n",
              "      <td>...</td>\n",
              "      <td>...</td>\n",
              "    </tr>\n",
              "    <tr>\n",
              "      <th>8099</th>\n",
              "      <td>simple_user</td>\n",
              "      <td>None</td>\n",
              "      <td>2023Q1</td>\n",
              "      <td>4.635815e+06</td>\n",
              "    </tr>\n",
              "    <tr>\n",
              "      <th>8100</th>\n",
              "      <td>profi</td>\n",
              "      <td>None</td>\n",
              "      <td>2023Q1</td>\n",
              "      <td>4.635815e+06</td>\n",
              "    </tr>\n",
              "    <tr>\n",
              "      <th>8101</th>\n",
              "      <td>simple_user</td>\n",
              "      <td>None</td>\n",
              "      <td>2023Q1</td>\n",
              "      <td>4.635815e+06</td>\n",
              "    </tr>\n",
              "    <tr>\n",
              "      <th>8102</th>\n",
              "      <td>simple_user</td>\n",
              "      <td>cars_simple</td>\n",
              "      <td>2023Q1</td>\n",
              "      <td>4.635815e+06</td>\n",
              "    </tr>\n",
              "    <tr>\n",
              "      <th>8103</th>\n",
              "      <td>simple_user</td>\n",
              "      <td>None</td>\n",
              "      <td>2023Q1</td>\n",
              "      <td>4.635815e+06</td>\n",
              "    </tr>\n",
              "  </tbody>\n",
              "</table>\n",
              "<p>8104 rows × 4 columns</p>\n",
              "</div>\n",
              "    <div class=\"colab-df-buttons\">\n",
              "\n",
              "  <div class=\"colab-df-container\">\n",
              "    <button class=\"colab-df-convert\" onclick=\"convertToInteractive('df-f8d03079-a3fa-4a85-b885-84daf84b9198')\"\n",
              "            title=\"Convert this dataframe to an interactive table.\"\n",
              "            style=\"display:none;\">\n",
              "\n",
              "  <svg xmlns=\"http://www.w3.org/2000/svg\" height=\"24px\" viewBox=\"0 -960 960 960\">\n",
              "    <path d=\"M120-120v-720h720v720H120Zm60-500h600v-160H180v160Zm220 220h160v-160H400v160Zm0 220h160v-160H400v160ZM180-400h160v-160H180v160Zm440 0h160v-160H620v160ZM180-180h160v-160H180v160Zm440 0h160v-160H620v160Z\"/>\n",
              "  </svg>\n",
              "    </button>\n",
              "\n",
              "  <style>\n",
              "    .colab-df-container {\n",
              "      display:flex;\n",
              "      gap: 12px;\n",
              "    }\n",
              "\n",
              "    .colab-df-convert {\n",
              "      background-color: #E8F0FE;\n",
              "      border: none;\n",
              "      border-radius: 50%;\n",
              "      cursor: pointer;\n",
              "      display: none;\n",
              "      fill: #1967D2;\n",
              "      height: 32px;\n",
              "      padding: 0 0 0 0;\n",
              "      width: 32px;\n",
              "    }\n",
              "\n",
              "    .colab-df-convert:hover {\n",
              "      background-color: #E2EBFA;\n",
              "      box-shadow: 0px 1px 2px rgba(60, 64, 67, 0.3), 0px 1px 3px 1px rgba(60, 64, 67, 0.15);\n",
              "      fill: #174EA6;\n",
              "    }\n",
              "\n",
              "    .colab-df-buttons div {\n",
              "      margin-bottom: 4px;\n",
              "    }\n",
              "\n",
              "    [theme=dark] .colab-df-convert {\n",
              "      background-color: #3B4455;\n",
              "      fill: #D2E3FC;\n",
              "    }\n",
              "\n",
              "    [theme=dark] .colab-df-convert:hover {\n",
              "      background-color: #434B5C;\n",
              "      box-shadow: 0px 1px 3px 1px rgba(0, 0, 0, 0.15);\n",
              "      filter: drop-shadow(0px 1px 2px rgba(0, 0, 0, 0.3));\n",
              "      fill: #FFFFFF;\n",
              "    }\n",
              "  </style>\n",
              "\n",
              "    <script>\n",
              "      const buttonEl =\n",
              "        document.querySelector('#df-f8d03079-a3fa-4a85-b885-84daf84b9198 button.colab-df-convert');\n",
              "      buttonEl.style.display =\n",
              "        google.colab.kernel.accessAllowed ? 'block' : 'none';\n",
              "\n",
              "      async function convertToInteractive(key) {\n",
              "        const element = document.querySelector('#df-f8d03079-a3fa-4a85-b885-84daf84b9198');\n",
              "        const dataTable =\n",
              "          await google.colab.kernel.invokeFunction('convertToInteractive',\n",
              "                                                    [key], {});\n",
              "        if (!dataTable) return;\n",
              "\n",
              "        const docLinkHtml = 'Like what you see? Visit the ' +\n",
              "          '<a target=\"_blank\" href=https://colab.research.google.com/notebooks/data_table.ipynb>data table notebook</a>'\n",
              "          + ' to learn more about interactive tables.';\n",
              "        element.innerHTML = '';\n",
              "        dataTable['output_type'] = 'display_data';\n",
              "        await google.colab.output.renderOutput(dataTable, element);\n",
              "        const docLink = document.createElement('div');\n",
              "        docLink.innerHTML = docLinkHtml;\n",
              "        element.appendChild(docLink);\n",
              "      }\n",
              "    </script>\n",
              "  </div>\n",
              "\n",
              "\n",
              "<div id=\"df-57e84504-32f1-4616-ba13-3c9c15b34dd5\">\n",
              "  <button class=\"colab-df-quickchart\" onclick=\"quickchart('df-57e84504-32f1-4616-ba13-3c9c15b34dd5')\"\n",
              "            title=\"Suggest charts\"\n",
              "            style=\"display:none;\">\n",
              "\n",
              "<svg xmlns=\"http://www.w3.org/2000/svg\" height=\"24px\"viewBox=\"0 0 24 24\"\n",
              "     width=\"24px\">\n",
              "    <g>\n",
              "        <path d=\"M19 3H5c-1.1 0-2 .9-2 2v14c0 1.1.9 2 2 2h14c1.1 0 2-.9 2-2V5c0-1.1-.9-2-2-2zM9 17H7v-7h2v7zm4 0h-2V7h2v10zm4 0h-2v-4h2v4z\"/>\n",
              "    </g>\n",
              "</svg>\n",
              "  </button>\n",
              "\n",
              "<style>\n",
              "  .colab-df-quickchart {\n",
              "      --bg-color: #E8F0FE;\n",
              "      --fill-color: #1967D2;\n",
              "      --hover-bg-color: #E2EBFA;\n",
              "      --hover-fill-color: #174EA6;\n",
              "      --disabled-fill-color: #AAA;\n",
              "      --disabled-bg-color: #DDD;\n",
              "  }\n",
              "\n",
              "  [theme=dark] .colab-df-quickchart {\n",
              "      --bg-color: #3B4455;\n",
              "      --fill-color: #D2E3FC;\n",
              "      --hover-bg-color: #434B5C;\n",
              "      --hover-fill-color: #FFFFFF;\n",
              "      --disabled-bg-color: #3B4455;\n",
              "      --disabled-fill-color: #666;\n",
              "  }\n",
              "\n",
              "  .colab-df-quickchart {\n",
              "    background-color: var(--bg-color);\n",
              "    border: none;\n",
              "    border-radius: 50%;\n",
              "    cursor: pointer;\n",
              "    display: none;\n",
              "    fill: var(--fill-color);\n",
              "    height: 32px;\n",
              "    padding: 0;\n",
              "    width: 32px;\n",
              "  }\n",
              "\n",
              "  .colab-df-quickchart:hover {\n",
              "    background-color: var(--hover-bg-color);\n",
              "    box-shadow: 0 1px 2px rgba(60, 64, 67, 0.3), 0 1px 3px 1px rgba(60, 64, 67, 0.15);\n",
              "    fill: var(--button-hover-fill-color);\n",
              "  }\n",
              "\n",
              "  .colab-df-quickchart-complete:disabled,\n",
              "  .colab-df-quickchart-complete:disabled:hover {\n",
              "    background-color: var(--disabled-bg-color);\n",
              "    fill: var(--disabled-fill-color);\n",
              "    box-shadow: none;\n",
              "  }\n",
              "\n",
              "  .colab-df-spinner {\n",
              "    border: 2px solid var(--fill-color);\n",
              "    border-color: transparent;\n",
              "    border-bottom-color: var(--fill-color);\n",
              "    animation:\n",
              "      spin 1s steps(1) infinite;\n",
              "  }\n",
              "\n",
              "  @keyframes spin {\n",
              "    0% {\n",
              "      border-color: transparent;\n",
              "      border-bottom-color: var(--fill-color);\n",
              "      border-left-color: var(--fill-color);\n",
              "    }\n",
              "    20% {\n",
              "      border-color: transparent;\n",
              "      border-left-color: var(--fill-color);\n",
              "      border-top-color: var(--fill-color);\n",
              "    }\n",
              "    30% {\n",
              "      border-color: transparent;\n",
              "      border-left-color: var(--fill-color);\n",
              "      border-top-color: var(--fill-color);\n",
              "      border-right-color: var(--fill-color);\n",
              "    }\n",
              "    40% {\n",
              "      border-color: transparent;\n",
              "      border-right-color: var(--fill-color);\n",
              "      border-top-color: var(--fill-color);\n",
              "    }\n",
              "    60% {\n",
              "      border-color: transparent;\n",
              "      border-right-color: var(--fill-color);\n",
              "    }\n",
              "    80% {\n",
              "      border-color: transparent;\n",
              "      border-right-color: var(--fill-color);\n",
              "      border-bottom-color: var(--fill-color);\n",
              "    }\n",
              "    90% {\n",
              "      border-color: transparent;\n",
              "      border-bottom-color: var(--fill-color);\n",
              "    }\n",
              "  }\n",
              "</style>\n",
              "\n",
              "  <script>\n",
              "    async function quickchart(key) {\n",
              "      const quickchartButtonEl =\n",
              "        document.querySelector('#' + key + ' button');\n",
              "      quickchartButtonEl.disabled = true;  // To prevent multiple clicks.\n",
              "      quickchartButtonEl.classList.add('colab-df-spinner');\n",
              "      try {\n",
              "        const charts = await google.colab.kernel.invokeFunction(\n",
              "            'suggestCharts', [key], {});\n",
              "      } catch (error) {\n",
              "        console.error('Error during call to suggestCharts:', error);\n",
              "      }\n",
              "      quickchartButtonEl.classList.remove('colab-df-spinner');\n",
              "      quickchartButtonEl.classList.add('colab-df-quickchart-complete');\n",
              "    }\n",
              "    (() => {\n",
              "      let quickchartButtonEl =\n",
              "        document.querySelector('#df-57e84504-32f1-4616-ba13-3c9c15b34dd5 button');\n",
              "      quickchartButtonEl.style.display =\n",
              "        google.colab.kernel.accessAllowed ? 'block' : 'none';\n",
              "    })();\n",
              "  </script>\n",
              "</div>\n",
              "\n",
              "    </div>\n",
              "  </div>\n"
            ],
            "application/vnd.google.colaboratory.intrinsic+json": {
              "type": "dataframe",
              "summary": "{\n  \"name\": \"CustomTransformer\",\n  \"rows\": 8104,\n  \"fields\": [\n    {\n      \"column\": \"user_type_name\",\n      \"properties\": {\n        \"dtype\": \"category\",\n        \"num_unique_values\": 2,\n        \"samples\": [\n          \"profi\",\n          \"simple_user\"\n        ],\n        \"semantic_type\": \"\",\n        \"description\": \"\"\n      }\n    },\n    {\n      \"column\": \"user_type_cars_name\",\n      \"properties\": {\n        \"dtype\": \"category\",\n        \"num_unique_values\": 3,\n        \"samples\": [\n          \"cars_simple\",\n          \"cars_seller\"\n        ],\n        \"semantic_type\": \"\",\n        \"description\": \"\"\n      }\n    },\n    {\n      \"column\": \"Quarter\",\n      \"properties\": {\n        \"dtype\": \"object\",\n        \"num_unique_values\": 9,\n        \"samples\": [\n          \"2022Q4\",\n          \"2021Q2\"\n        ],\n        \"semantic_type\": \"\",\n        \"description\": \"\"\n      }\n    },\n    {\n      \"column\": \"last_month_pmts\",\n      \"properties\": {\n        \"dtype\": \"number\",\n        \"std\": 1888157.6947644236,\n        \"min\": 378875.0,\n        \"max\": 7116800.0,\n        \"num_unique_values\": 24,\n        \"samples\": [\n          1378065.0,\n          4230780.0\n        ],\n        \"semantic_type\": \"\",\n        \"description\": \"\"\n      }\n    }\n  ]\n}"
            }
          },
          "metadata": {},
          "execution_count": 20
        }
      ]
    },
    {
      "cell_type": "markdown",
      "source": [
        "## Задание 4. Пайплайн обработки данных\n",
        "Подготовьте `final_process_pipe`, который будет состоять из следующих шагов:\n",
        "\n",
        "1) Применение кастомного селектора для автоматического отбора колонок без большого числа пропусков\n",
        "\n",
        "2) Создание новых фичей с помощью кастомного трансформера\n",
        "\n",
        "3) Заполнение пропусков средним/модой у вещественных/категориальных колонок соответственно. Можно взять код как в практике, переменную `col_imputer`\n",
        "\n",
        "4) `MeanTargetEcnoder` для всех категориальных фичей. Можно взять код как в практике и оставить только `MTE` (переменная `col_transformer_with_selector` из ноутбука). Важно: установите параметр `shuffle=False` в `TargetEncoder` для воспроизводимости результатов!\n",
        "\n",
        "5) `StandardScaler` на оставшийся датафрейм - степ `num_scaler` из ноутбука\n",
        "\n",
        "Сохраните получившийся датафрейм в файл `CSV` с параметром `index=False`"
      ],
      "metadata": {
        "id": "19-fgnF1HK8f"
      }
    },
    {
      "cell_type": "code",
      "source": [
        "from sklearn.preprocessing import OneHotEncoder\n",
        "from sklearn.preprocessing import TargetEncoder\n",
        "from sklearn.preprocessing import StandardScaler"
      ],
      "metadata": {
        "id": "E_cbaLLFt46A"
      },
      "execution_count": null,
      "outputs": []
    },
    {
      "cell_type": "code",
      "source": [
        "X_ = df_no_outliers.reset_index().drop(columns=[\"revenue\", \"type\"])\n",
        "y_ = df_no_outliers.reset_index()[\"revenue\"]"
      ],
      "metadata": {
        "id": "kjn0W3Ql0fHP"
      },
      "execution_count": null,
      "outputs": []
    },
    {
      "cell_type": "code",
      "source": [
        "### Заполнение пропусков средним у numeric columns\n",
        "### Заполнение пропусков модой у categorical columns\n",
        "col_imputer = ColumnTransformer(\n",
        "    transformers=[\n",
        "        ('impute_num', SimpleImputer(strategy='mean'), selector(dtype_include=\"number\")),\n",
        "        ('impute_cat', SimpleImputer(strategy='most_frequent'), selector(dtype_exclude=\"number\")) #missing_values = None\n",
        "    ],\n",
        "    verbose_feature_names_out=False   # Оставляем оригинальные названия колонок\n",
        ").set_output(transform='pandas')      # Трансформер будет возвращать pandas"
      ],
      "metadata": {
        "id": "ItIiFZZ-s-gW"
      },
      "execution_count": null,
      "outputs": []
    },
    {
      "cell_type": "code",
      "source": [
        "col_transformer_with_selector = ColumnTransformer(\n",
        "    transformers=[\n",
        "        ('MeanTargetEncoder', TargetEncoder(target_type=\"continuous\", shuffle=False), selector(dtype_exclude=\"number\"))\n",
        "    ],\n",
        "    remainder='passthrough',          # Это чтобы не дропнуть колонки, которых трансформер не касается\n",
        "    verbose_feature_names_out=False   # Оставляем оригинальные названия колонок\n",
        ").set_output(transform='pandas')      # Трансформер будет возвращать pandas"
      ],
      "metadata": {
        "id": "O40h9Tr8ts0V"
      },
      "execution_count": null,
      "outputs": []
    },
    {
      "cell_type": "code",
      "source": [
        "num_scaler = ColumnTransformer(\n",
        "    transformers=[\n",
        "        ('StandardScaler', StandardScaler(), selector(dtype_include='number'))\n",
        "    ],\n",
        "    verbose_feature_names_out=False\n",
        ").set_output(transform='pandas')"
      ],
      "metadata": {
        "id": "TLjHMxpG1Cux"
      },
      "execution_count": null,
      "outputs": []
    },
    {
      "cell_type": "code",
      "source": [
        "final_process_pipe = Pipeline(\n",
        "    steps=[\n",
        "        ('col_selector', col_selector),\n",
        "        ('CustomTransformer', CustomTransformer),\n",
        "        ('col_imputer', col_imputer),\n",
        "        ('col_transformer_with_selector', col_transformer_with_selector),\n",
        "        (\"num_scaler\", num_scaler)\n",
        "\n",
        "    ]\n",
        ")"
      ],
      "metadata": {
        "id": "l83LkuEgrIc8"
      },
      "execution_count": null,
      "outputs": []
    },
    {
      "cell_type": "code",
      "source": [
        "output = final_process_pipe.fit_transform(X_, y_)"
      ],
      "metadata": {
        "id": "UB5lYYCKviXx"
      },
      "execution_count": null,
      "outputs": []
    },
    {
      "cell_type": "code",
      "source": [
        "output.isna().sum()"
      ],
      "metadata": {
        "id": "HVK6iROHwlF3",
        "outputId": "18ebc356-dfa7-4e54-af4f-80a811d04732",
        "colab": {
          "base_uri": "https://localhost:8080/"
        }
      },
      "execution_count": null,
      "outputs": [
        {
          "output_type": "execute_result",
          "data": {
            "text/plain": [
              "user_type_name     0\n",
              "Quarter            0\n",
              "last_month_pmts    0\n",
              "dtype: int64"
            ]
          },
          "metadata": {},
          "execution_count": 28
        }
      ]
    },
    {
      "cell_type": "code",
      "source": [
        "output.to_csv(\"output.csv\", index=False)"
      ],
      "metadata": {
        "id": "lURf5CsGvkkn"
      },
      "execution_count": null,
      "outputs": []
    },
    {
      "cell_type": "markdown",
      "source": [
        "## Задание 5. Валидация\n",
        "\n",
        "\n",
        "Подготовим `splitter` для валидации данных\n",
        "\n",
        "Воспользуйтесь стратегией `TimeSeriesSplit`. Не забудьте отсортировать датасет по колонке `created_at`, если это еще не сделано.\n",
        "\n",
        "Установите `n_splits=4`, остальные параметры оставьте по дефолту.\n",
        "\n",
        "Вставьте код переменной `splitter` ниже"
      ],
      "metadata": {
        "id": "wIUAevEB3A0l"
      }
    },
    {
      "cell_type": "code",
      "source": [
        "from sklearn.model_selection import TimeSeriesSplit"
      ],
      "metadata": {
        "id": "whNnjTqW3VMV"
      },
      "execution_count": null,
      "outputs": []
    },
    {
      "cell_type": "code",
      "source": [
        "splitter = TimeSeriesSplit(\n",
        "    n_splits=4,\n",
        "    max_train_size=None, # <--- Максимальный размер трейна, можно ограничить\n",
        "    test_size=None,      # <--- По дефолту, максимально доступный размер теста\n",
        "    gap=0                # <--- Отступ от конца train части\n",
        ")"
      ],
      "metadata": {
        "id": "YnTr86vjsEvf"
      },
      "execution_count": null,
      "outputs": []
    },
    {
      "cell_type": "code",
      "source": [
        "X_sorted = X_.sort_values(by=\"created_at\")"
      ],
      "metadata": {
        "id": "NK-D6j6p3rOn"
      },
      "execution_count": null,
      "outputs": []
    },
    {
      "cell_type": "code",
      "source": [
        "print(splitter)\n",
        "print(splitter.split(X_sorted))"
      ],
      "metadata": {
        "colab": {
          "base_uri": "https://localhost:8080/"
        },
        "id": "ZAcgZi_r3rse",
        "outputId": "0f26f151-c487-4aeb-8dd8-c3148f863e6a"
      },
      "execution_count": null,
      "outputs": [
        {
          "output_type": "stream",
          "name": "stdout",
          "text": [
            "TimeSeriesSplit(gap=0, max_train_size=None, n_splits=4, test_size=None)\n",
            "<generator object TimeSeriesSplit.split at 0x7f45cc755d90>\n"
          ]
        }
      ]
    },
    {
      "cell_type": "markdown",
      "source": [
        "## Задание 6. Обучение и выбор модели (1/5)\n",
        "\n",
        "\n",
        "Для классической LR попробуем модель без и с свободным коэффициентом β. Ключевая метрика - MAE.\n",
        "\n",
        "Выберите из этих этих двух моделей ту, которая дает лучшее качество.\n",
        "\n",
        "Введите среднее качество на валидации лучшей модели на тестовой выборке, округленное до целых:"
      ],
      "metadata": {
        "id": "0Z5QzCYb7Iqg"
      }
    },
    {
      "cell_type": "code",
      "source": [
        "from sklearn.linear_model import LinearRegression\n",
        "from sklearn.model_selection import cross_validate"
      ],
      "metadata": {
        "id": "PA5oW57gAliV"
      },
      "execution_count": null,
      "outputs": []
    },
    {
      "cell_type": "code",
      "source": [
        "# сортируем первоначальный dataframe по датам\n",
        "df_no_outliers_sorted = df_no_outliers.sort_values(by=\"created_at\").copy()"
      ],
      "metadata": {
        "id": "0Uq3aV033yl8"
      },
      "execution_count": null,
      "outputs": []
    },
    {
      "cell_type": "code",
      "source": [
        "# выделяем в нем X и y\n",
        "X = df_no_outliers_sorted.reset_index().drop(columns=[\"revenue\", \"type\"], axis=1)\n",
        "y = df_no_outliers_sorted.reset_index()[\"revenue\"]"
      ],
      "metadata": {
        "id": "83XBVvp57Zaq"
      },
      "execution_count": null,
      "outputs": []
    },
    {
      "cell_type": "code",
      "source": [
        "# формируем окончательный pipeline с добавлением регрессии без подбора свободного члена (intercept)\n",
        "final_process_pipe_model = Pipeline(\n",
        "    steps=[\n",
        "        ('col_selector', col_selector),\n",
        "        ('CustomTransformer', CustomTransformer),\n",
        "        ('col_imputer', col_imputer),\n",
        "        ('col_transformer_with_selector', col_transformer_with_selector),\n",
        "        (\"num_scaler\", num_scaler),\n",
        "        ('simple_model', LinearRegression(fit_intercept=False))\n",
        "\n",
        "    ]\n",
        ")"
      ],
      "metadata": {
        "id": "edKruZjb8iL_"
      },
      "execution_count": null,
      "outputs": []
    },
    {
      "cell_type": "code",
      "source": [
        "# делаем кросс валидацию\n",
        "cv_result = cross_validate(final_process_pipe_model,\n",
        "                           X, y,\n",
        "                           scoring='neg_mean_absolute_error',\n",
        "                           cv=splitter, return_train_score=True)\n",
        "\n",
        "cv_result"
      ],
      "metadata": {
        "colab": {
          "base_uri": "https://localhost:8080/"
        },
        "id": "E1bDPowAAtEH",
        "outputId": "52f934a1-b54b-4d72-ef42-f096df31fd6e"
      },
      "execution_count": null,
      "outputs": [
        {
          "output_type": "execute_result",
          "data": {
            "text/plain": [
              "{'fit_time': array([0.11757064, 0.15087748, 0.19764638, 0.30150151]),\n",
              " 'score_time': array([0.08037043, 0.07270646, 0.1110034 , 0.08625817]),\n",
              " 'test_score': array([-1339.83240433, -1447.9918129 , -1350.41510398, -1481.99800209]),\n",
              " 'train_score': array([-1422.36607896, -1364.31673965, -1367.56412147, -1368.5304439 ])}"
            ]
          },
          "metadata": {},
          "execution_count": 38
        }
      ]
    },
    {
      "cell_type": "code",
      "source": [
        "print(f\"средняя MAE для регрессии без свободного коэффициента = {-cv_result['test_score'].mean():.0f}\")"
      ],
      "metadata": {
        "colab": {
          "base_uri": "https://localhost:8080/"
        },
        "id": "m2OHYox5BB5G",
        "outputId": "8f63bc75-6a9f-4a7a-990f-bc99773227c2"
      },
      "execution_count": null,
      "outputs": [
        {
          "output_type": "stream",
          "name": "stdout",
          "text": [
            "средняя MAE для регрессии без свободного коэффициента = 1405\n"
          ]
        }
      ]
    },
    {
      "cell_type": "code",
      "source": [
        "final_process_pipe_model_intercept = Pipeline(\n",
        "    steps=[\n",
        "        ('col_selector', col_selector),\n",
        "        ('CustomTransformer', CustomTransformer),\n",
        "        ('col_imputer', col_imputer),\n",
        "        ('col_transformer_with_selector', col_transformer_with_selector),\n",
        "        (\"num_scaler\", num_scaler),\n",
        "        ('simple_model', LinearRegression(fit_intercept=True))\n",
        "\n",
        "    ]\n",
        ")"
      ],
      "metadata": {
        "id": "6jpoBTMFBdQ9"
      },
      "execution_count": null,
      "outputs": []
    },
    {
      "cell_type": "code",
      "source": [
        "cv_result_intercept = cross_validate(final_process_pipe_model_intercept,\n",
        "                           X, y,\n",
        "                           scoring='neg_mean_absolute_error',\n",
        "                           cv=splitter, return_train_score=True)\n",
        "\n",
        "cv_result_intercept"
      ],
      "metadata": {
        "colab": {
          "base_uri": "https://localhost:8080/"
        },
        "id": "36deC1T3Boan",
        "outputId": "60ecb4e1-45e2-45cf-d69d-3b8e5edd7d71"
      },
      "execution_count": null,
      "outputs": [
        {
          "output_type": "execute_result",
          "data": {
            "text/plain": [
              "{'fit_time': array([0.1301198 , 0.16861081, 0.46086788, 0.30317354]),\n",
              " 'score_time': array([0.09326887, 0.07266998, 0.09322166, 0.07309675]),\n",
              " 'test_score': array([-608.93567918, -626.394523  , -617.9545887 , -644.73160992]),\n",
              " 'train_score': array([-597.47556785, -594.86672221, -611.95353918, -612.86584067])}"
            ]
          },
          "metadata": {},
          "execution_count": 41
        }
      ]
    },
    {
      "cell_type": "code",
      "source": [
        "print(f\"средняя MAE для регрессии со свободным коэффициентом = {-cv_result_intercept['test_score'].mean():.0f}\")"
      ],
      "metadata": {
        "colab": {
          "base_uri": "https://localhost:8080/"
        },
        "id": "oHM5crNrBuMg",
        "outputId": "f1cbbfc7-2ac9-4120-8a0f-4c84cc9c7114"
      },
      "execution_count": null,
      "outputs": [
        {
          "output_type": "stream",
          "name": "stdout",
          "text": [
            "средняя MAE для регрессии со свободным коэффициентом = 625\n"
          ]
        }
      ]
    },
    {
      "cell_type": "markdown",
      "source": [
        "##  Наглядный способ"
      ],
      "metadata": {
        "id": "9bFVn8rGGEd3"
      }
    },
    {
      "cell_type": "code",
      "source": [
        "for fold in splitter.split(X):\n",
        "  print(fold[0], fold[1])"
      ],
      "metadata": {
        "colab": {
          "base_uri": "https://localhost:8080/"
        },
        "id": "GZq4_o4EGCfo",
        "outputId": "4215fe14-0529-477e-f83a-0ca3e1dcd728"
      },
      "execution_count": null,
      "outputs": [
        {
          "output_type": "stream",
          "name": "stdout",
          "text": [
            "[   0    1    2 ... 1621 1622 1623] [1624 1625 1626 ... 3241 3242 3243]\n",
            "[   0    1    2 ... 3241 3242 3243] [3244 3245 3246 ... 4861 4862 4863]\n",
            "[   0    1    2 ... 4861 4862 4863] [4864 4865 4866 ... 6481 6482 6483]\n",
            "[   0    1    2 ... 6481 6482 6483] [6484 6485 6486 ... 8101 8102 8103]\n"
          ]
        }
      ]
    },
    {
      "cell_type": "code",
      "source": [
        "for fold in splitter.split(X):\n",
        "    train_index, val_index = fold[0], fold[1]\n",
        "\n",
        "    X_to_train = X[X.index.isin(train_index)]\n",
        "    X_to_val = X[X.index.isin(val_index)]\n",
        "\n",
        "    y_to_train = y[y.index.isin(train_index)]\n",
        "    y_to_val = y[y.index.isin(val_index)]\n",
        "\n",
        "    eval_instance = final_process_pipe_model_intercept\n",
        "    eval_instance.fit(X_to_train, y_to_train)\n",
        "\n",
        "    pred = eval_instance.predict(X_to_val)\n",
        "    error = (np.abs(pred - y_to_val)).mean()\n",
        "\n",
        "    print(error)"
      ],
      "metadata": {
        "colab": {
          "base_uri": "https://localhost:8080/"
        },
        "id": "lsRESUsTBw5d",
        "outputId": "1b766f93-18a0-4eef-9a03-2c9302fb2359"
      },
      "execution_count": null,
      "outputs": [
        {
          "output_type": "stream",
          "name": "stdout",
          "text": [
            "608.9356791844457\n",
            "626.3945230005204\n",
            "617.954588704101\n",
            "644.7316099219511\n"
          ]
        }
      ]
    },
    {
      "cell_type": "markdown",
      "source": [
        "## Задание 6. Обучение и выбор модели (2/5)\n",
        "\n",
        "\n",
        "Для `Lasso` и `Ridge` сетка по параметрам `alpha` и `max_iter` в массивах np.`linspace(start=0.1, stop=10000, num=20)` и `(100, 1000)`, соответственно.\n",
        "\n",
        "Найдите набор параметров, который оказался наилучшим для `Lasso-регрессии`.\n",
        "\n",
        "Введите значение `alpha`, округленное до одного знака после запятой:"
      ],
      "metadata": {
        "id": "M0OyK5zTI_j3"
      }
    },
    {
      "cell_type": "code",
      "source": [
        "inal_process_pipe = Pipeline(\n",
        "    [\n",
        "        ('col_selector', col_selector),\n",
        "        ('CustomTransformer', CustomTransformer),\n",
        "        ('col_imputer', col_imputer),\n",
        "        ('col_transformer_with_selector', col_transformer_with_selector),\n",
        "        (\"num_scaler\", num_scaler)\n",
        "    ]\n",
        ")"
      ],
      "metadata": {
        "id": "483dRm1Z6OyW"
      },
      "execution_count": null,
      "outputs": []
    },
    {
      "cell_type": "code",
      "source": [
        "from sklearn.linear_model import Lasso, Ridge\n",
        "from sklearn.model_selection import GridSearchCV"
      ],
      "metadata": {
        "id": "-JnrUfk-7LZR"
      },
      "execution_count": null,
      "outputs": []
    },
    {
      "cell_type": "code",
      "source": [
        "### Сгенерируем Pipeline'ы с Lasso, Ridge Estimators\n",
        "\n",
        "lasso_pipe = Pipeline(\n",
        "    [\n",
        "        ('all_preprocess', final_process_pipe),\n",
        "        ('simple_model', Lasso())\n",
        "    ]\n",
        ")\n",
        "\n",
        "ridge_pipe = Pipeline(\n",
        "    [\n",
        "        ('all_preprocess', final_process_pipe),\n",
        "        ('simple_model', Ridge())\n",
        "    ]\n",
        ")"
      ],
      "metadata": {
        "id": "G3Qw8TUhFT_1"
      },
      "execution_count": null,
      "outputs": []
    },
    {
      "cell_type": "code",
      "source": [
        "param_grid = {\n",
        "    \"simple_model__alpha\": np.linspace(start=0.1, stop=10000, num=20),\n",
        "    \"simple_model__max_iter\": [100, 1000]\n",
        "}"
      ],
      "metadata": {
        "id": "K30HpUTY6Ypb"
      },
      "execution_count": null,
      "outputs": []
    },
    {
      "cell_type": "code",
      "source": [
        "for model in [ridge_pipe, lasso_pipe]:\n",
        "    ### Передадим в GridSearchCV\n",
        "    search = GridSearchCV(model, param_grid,\n",
        "                          cv=splitter, scoring='neg_mean_absolute_error')\n",
        "\n",
        "    search.fit(X, y)\n",
        "\n",
        "    print(f\"Best parameter (CV score={search.best_score_:.5f}):\")\n",
        "    print(search.best_params_)"
      ],
      "metadata": {
        "colab": {
          "base_uri": "https://localhost:8080/"
        },
        "id": "IZRbFJ0C67gt",
        "outputId": "f6ec8215-5b25-4695-daf5-fdd2831b8252"
      },
      "execution_count": null,
      "outputs": [
        {
          "output_type": "stream",
          "name": "stdout",
          "text": [
            "Best parameter (CV score=-624.50444):\n",
            "{'simple_model__alpha': 0.1, 'simple_model__max_iter': 100}\n",
            "Best parameter (CV score=-624.50445):\n",
            "{'simple_model__alpha': 0.1, 'simple_model__max_iter': 100}\n"
          ]
        }
      ]
    },
    {
      "cell_type": "code",
      "source": [
        "print(f\"для Lasso-регрессии лучшая alpha = {search.best_params_['simple_model__alpha']}\")"
      ],
      "metadata": {
        "colab": {
          "base_uri": "https://localhost:8080/"
        },
        "id": "8M1NDPrk7awz",
        "outputId": "d89c54ed-6860-478c-b61f-4108aab3048f"
      },
      "execution_count": null,
      "outputs": [
        {
          "output_type": "stream",
          "name": "stdout",
          "text": [
            "для Lasso-регрессии лучшая alpha = 0.1\n"
          ]
        }
      ]
    },
    {
      "cell_type": "code",
      "source": [],
      "metadata": {
        "id": "eh2ZDUV4-N10"
      },
      "execution_count": null,
      "outputs": []
    }
  ]
}