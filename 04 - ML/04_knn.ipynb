{
  "nbformat": 4,
  "nbformat_minor": 0,
  "metadata": {
    "colab": {
      "provenance": [],
      "authorship_tag": "ABX9TyMyVcvDiH34tWaKZt03BBRi",
      "include_colab_link": true
    },
    "kernelspec": {
      "name": "python3",
      "display_name": "Python 3"
    },
    "language_info": {
      "name": "python"
    }
  },
  "cells": [
    {
      "cell_type": "markdown",
      "metadata": {
        "id": "view-in-github",
        "colab_type": "text"
      },
      "source": [
        "<a href=\"https://colab.research.google.com/github/aleks-haksly/KarpovCources_Hard_DA_advanced/blob/main/04%20-%20ML/04_knn.ipynb\" target=\"_parent\"><img src=\"https://colab.research.google.com/assets/colab-badge.svg\" alt=\"Open In Colab\"/></a>"
      ]
    },
    {
      "cell_type": "markdown",
      "source": [
        "Представим, что сегодня 31 января 2023 года, и мы хотим помочь определить рыночную цену продавцам, которые собираются сегодня разместить свои объявления. Рынок автомобилей меняется довольно быстро, поэтому в этом кейсе будем обучать нашу модель только на объявлениях, которые были размещены вчера. Будем считать, что такие объявления лучше всего отражают текущую ситуацию на рынке.\n",
        "\n",
        "Напишите запрос, чтобы выгрузить данные об объявлениях, опубликованных за 30 января 2023 года. Помимо объявлений нам понадобится признак пользователей `user_type_cars_name` из таблицы `user_passports` - присоедините его к таблице `live_adverts`.\n",
        "\n",
        "Данные нужно получить из доступных в Clickhouse таблиц `live_adverts` и `user_passports`. Джойнить будем по равенству поля `user_id` из `live_adverts` и поля `global_id` из `user_passports`.\n",
        "\n",
        "Сколько строк у вас получилось в датасете?"
      ],
      "metadata": {
        "id": "4JwVoecLPIw_"
      }
    },
    {
      "cell_type": "code",
      "source": [
        "import pandas as pd\n",
        "import numpy as np\n",
        "import matplotlib.pyplot as plt\n",
        "import seaborn as sns\n",
        "!pip install clickhouse-driver --q\n",
        "from clickhouse_driver import Client\n",
        "from google.colab import userdata"
      ],
      "metadata": {
        "id": "Rg1UrPJ7LZ1B",
        "colab": {
          "base_uri": "https://localhost:8080/"
        },
        "outputId": "30bad39c-f82b-45f1-c489-385c38942057"
      },
      "execution_count": null,
      "outputs": [
        {
          "output_type": "stream",
          "name": "stdout",
          "text": [
            "\u001b[?25l   \u001b[90m━━━━━━━━━━━━━━━━━━━━━━━━━━━━━━━━━━━━━━━━\u001b[0m \u001b[32m0.0/935.7 kB\u001b[0m \u001b[31m?\u001b[0m eta \u001b[36m-:--:--\u001b[0m\r\u001b[2K   \u001b[91m━━━━━━━━━━━━━━━━━━━━━━━\u001b[0m\u001b[90m╺\u001b[0m\u001b[90m━━━━━━━━━━━━━━━━\u001b[0m \u001b[32m542.7/935.7 kB\u001b[0m \u001b[31m14.0 MB/s\u001b[0m eta \u001b[36m0:00:01\u001b[0m\r\u001b[2K   \u001b[90m━━━━━━━━━━━━━━━━━━━━━━━━━━━━━━━━━━━━━━━━\u001b[0m \u001b[32m935.7/935.7 kB\u001b[0m \u001b[31m12.1 MB/s\u001b[0m eta \u001b[36m0:00:00\u001b[0m\n",
            "\u001b[?25h"
          ]
        }
      ]
    },
    {
      "cell_type": "code",
      "source": [
        "import warnings\n",
        "warnings.filterwarnings('ignore')"
      ],
      "metadata": {
        "id": "2HTsHy7BTQhH"
      },
      "execution_count": null,
      "outputs": []
    },
    {
      "cell_type": "code",
      "source": [
        "# Реквизиты для подключения к БД\n",
        "user = 'hardda_student_alekse-fomin'\n",
        "password = userdata.get('HA[hardda_student_alekse-fomin]')\n",
        "\n",
        "host='clickhouse.lab.karpov.courses'\n",
        "port=9000\n",
        "database_r='hardda' # БД с правами только на чтение"
      ],
      "metadata": {
        "id": "kYnpOdbATfT2"
      },
      "execution_count": null,
      "outputs": []
    },
    {
      "cell_type": "code",
      "source": [
        "# Создаем соединение с БД ClickHouse\n",
        "client_r = Client(host=host, port=port, user=user,\n",
        "                password=password, database=database_r)"
      ],
      "metadata": {
        "id": "Kwtke41ETS40"
      },
      "execution_count": null,
      "outputs": []
    },
    {
      "cell_type": "code",
      "source": [
        "#\n",
        "sql = \"\"\"\n",
        "SELECT\n",
        "  la.*,\n",
        "  up.user_type_cars_name\n",
        "FROM\n",
        "  dp_live_adverts la\n",
        "LEFT JOIN user_passports up on la.user_id = up.global_id\n",
        "WHERE\n",
        "  la.created_at::date = '2023-01-30'\n",
        "\n",
        "\"\"\"\n",
        "result, columns = client_r.execute(sql, with_column_types=True)\n",
        "data = pd.DataFrame(result, columns=[tuple[0] for tuple in columns])"
      ],
      "metadata": {
        "id": "2mFyUoLBTUYf"
      },
      "execution_count": null,
      "outputs": []
    },
    {
      "cell_type": "code",
      "source": [
        "print(f\"в датасете {data.shape[0]} записей\")"
      ],
      "metadata": {
        "colab": {
          "base_uri": "https://localhost:8080/"
        },
        "id": "FTvqIZxwTkJ1",
        "outputId": "b2816c3f-a457-425a-b24b-9c19c0f26c26"
      },
      "execution_count": null,
      "outputs": [
        {
          "output_type": "stream",
          "name": "stdout",
          "text": [
            "в датасете 36043 записей\n"
          ]
        }
      ]
    },
    {
      "cell_type": "markdown",
      "source": [
        "## Задача 1. Предобработка данных (1/6)\n",
        "\n",
        "В первую очередь обратим внимание на типы полей, а конкретно на поле “год выпуска машины”? Будет ли нам удобно анализировать его в таком виде? Если нет, то поменяйте тип поля.\n",
        "\n",
        "В поле ниже укажите текущий тип поля или новый, если тип поля следует изменить. Тип в ответе пишите строчными (маленькими) буквами."
      ],
      "metadata": {
        "id": "1akKEDFsU5lu"
      }
    },
    {
      "cell_type": "code",
      "source": [
        "data.year = data.year.astype('int')"
      ],
      "metadata": {
        "id": "AAHYQlikU-wS"
      },
      "execution_count": null,
      "outputs": []
    },
    {
      "cell_type": "code",
      "source": [
        "data.year.dtype"
      ],
      "metadata": {
        "colab": {
          "base_uri": "https://localhost:8080/"
        },
        "id": "bFCJ3RibVPwr",
        "outputId": "f6facef8-3aac-41f9-82cb-dfce4d41f6c9"
      },
      "execution_count": null,
      "outputs": [
        {
          "output_type": "execute_result",
          "data": {
            "text/plain": [
              "dtype('int64')"
            ]
          },
          "metadata": {},
          "execution_count": 8
        }
      ]
    },
    {
      "cell_type": "markdown",
      "source": [
        "## Задача 1. Предобработка данных (2/6) ##\n",
        "\n",
        "\n",
        "Обратим внимание, какое минимальное значение года выпуска автомобиля в нашем датасете? Адекватно ли на ваш взгляд это значение?\n",
        "\n",
        "Мы могли бы заменить это значение на np.nan и работать с ним как с пропуском. Но в данном случае поступим проще: удалим все строки с таким значением года.\n",
        "\n",
        "Какое минимальное значение было у года?"
      ],
      "metadata": {
        "id": "e0iYNh1-V_MX"
      }
    },
    {
      "cell_type": "code",
      "source": [
        "data.year.min()"
      ],
      "metadata": {
        "colab": {
          "base_uri": "https://localhost:8080/"
        },
        "id": "Rt2C5xV1Vvmj",
        "outputId": "b7c39859-3678-461d-f471-691cebe29065"
      },
      "execution_count": null,
      "outputs": [
        {
          "output_type": "execute_result",
          "data": {
            "text/plain": [
              "0"
            ]
          },
          "metadata": {},
          "execution_count": 9
        }
      ]
    },
    {
      "cell_type": "code",
      "source": [
        "data = data[data.year != 0].copy()"
      ],
      "metadata": {
        "id": "zn2Tub8vWIWH"
      },
      "execution_count": null,
      "outputs": []
    },
    {
      "cell_type": "code",
      "source": [
        "data.year.min()"
      ],
      "metadata": {
        "colab": {
          "base_uri": "https://localhost:8080/"
        },
        "id": "jIM_w-PxWTSM",
        "outputId": "4f8136d8-e5ad-4859-9951-55063e187749"
      },
      "execution_count": null,
      "outputs": [
        {
          "output_type": "execute_result",
          "data": {
            "text/plain": [
              "1950"
            ]
          },
          "metadata": {},
          "execution_count": 11
        }
      ]
    },
    {
      "cell_type": "markdown",
      "source": [
        "## Задача 1. Предобработка данных (3/6)\n",
        "Какие поля мы точно не сможем использовать в качестве признаков при построении модели, из-за того, что значения либо уникальные, либо одинаковые для всех объектов?\n",
        "\n",
        "Для воспроизводимости результатов перед удалением этих столбцов отсортируйте датафрейм по ['execution_date', 'advert_id']"
      ],
      "metadata": {
        "id": "E1Q6HWFJWcpk"
      }
    },
    {
      "cell_type": "code",
      "source": [
        "data.sort_values(by=['execution_date', 'advert_id'], inplace=True)"
      ],
      "metadata": {
        "id": "I4BgjC_SWUhx"
      },
      "execution_count": null,
      "outputs": []
    },
    {
      "cell_type": "code",
      "source": [
        "data = data.drop(['execution_date', 'passport_id',\n",
        "                'advert_id', 'user_id', 'created_at'], axis=1).reset_index(drop=True)"
      ],
      "metadata": {
        "id": "ma6zMG_pXUcF"
      },
      "execution_count": null,
      "outputs": []
    },
    {
      "cell_type": "code",
      "source": [
        "data"
      ],
      "metadata": {
        "colab": {
          "base_uri": "https://localhost:8080/",
          "height": 423
        },
        "id": "uz6EiZvkXf_2",
        "outputId": "79c47225-93c6-4cff-fb1d-ef1a8804bd87"
      },
      "execution_count": null,
      "outputs": [
        {
          "output_type": "execute_result",
          "data": {
            "text/plain": [
              "         price          region platform     auto_brand           auto_model  \\\n",
              "0       414000          Самара      ios            ЗАЗ               Chance   \n",
              "1       620000            Сочи      ios      Chevrolet                Cruze   \n",
              "2      4970000          Москва  android         Toyota         Land Cruiser   \n",
              "3       800000          Москва  android         Subaru              Impreza   \n",
              "4       280000           Пермь  android     Mitsubishi                  RVR   \n",
              "...        ...             ...      ...            ...                  ...   \n",
              "33275    10000     Новосибирск  android        Unknown        Unknown model   \n",
              "33276   480000     Новосибирск      ios     ВАЗ (Lada)  Priora 2170 (седан)   \n",
              "33277  1320000     Новосибирск  android      Chevrolet               Cobalt   \n",
              "33278   740000          Москва  desktop  Mercedes-Benz                C 320   \n",
              "33279  1000000  Ростов-на-Дону  android            ГАЗ               ГАЗель   \n",
              "\n",
              "       year  userType user_type_cars_name  \n",
              "0      2014         0         cars_simple  \n",
              "1      2010         0         cars_simple  \n",
              "2      2013         6         cars_seller  \n",
              "3      2006         0         cars_simple  \n",
              "4      1995         0         cars_simple  \n",
              "...     ...       ...                 ...  \n",
              "33275  2007         0         cars_simple  \n",
              "33276  2012         0         cars_simple  \n",
              "33277  2021         0         cars_simple  \n",
              "33278  2002         0         cars_simple  \n",
              "33279  2011         0         cars_simple  \n",
              "\n",
              "[33280 rows x 8 columns]"
            ],
            "text/html": [
              "\n",
              "  <div id=\"df-715fafd6-9314-4b7b-99ac-e68c2b1269a6\" class=\"colab-df-container\">\n",
              "    <div>\n",
              "<style scoped>\n",
              "    .dataframe tbody tr th:only-of-type {\n",
              "        vertical-align: middle;\n",
              "    }\n",
              "\n",
              "    .dataframe tbody tr th {\n",
              "        vertical-align: top;\n",
              "    }\n",
              "\n",
              "    .dataframe thead th {\n",
              "        text-align: right;\n",
              "    }\n",
              "</style>\n",
              "<table border=\"1\" class=\"dataframe\">\n",
              "  <thead>\n",
              "    <tr style=\"text-align: right;\">\n",
              "      <th></th>\n",
              "      <th>price</th>\n",
              "      <th>region</th>\n",
              "      <th>platform</th>\n",
              "      <th>auto_brand</th>\n",
              "      <th>auto_model</th>\n",
              "      <th>year</th>\n",
              "      <th>userType</th>\n",
              "      <th>user_type_cars_name</th>\n",
              "    </tr>\n",
              "  </thead>\n",
              "  <tbody>\n",
              "    <tr>\n",
              "      <th>0</th>\n",
              "      <td>414000</td>\n",
              "      <td>Самара</td>\n",
              "      <td>ios</td>\n",
              "      <td>ЗАЗ</td>\n",
              "      <td>Chance</td>\n",
              "      <td>2014</td>\n",
              "      <td>0</td>\n",
              "      <td>cars_simple</td>\n",
              "    </tr>\n",
              "    <tr>\n",
              "      <th>1</th>\n",
              "      <td>620000</td>\n",
              "      <td>Сочи</td>\n",
              "      <td>ios</td>\n",
              "      <td>Chevrolet</td>\n",
              "      <td>Cruze</td>\n",
              "      <td>2010</td>\n",
              "      <td>0</td>\n",
              "      <td>cars_simple</td>\n",
              "    </tr>\n",
              "    <tr>\n",
              "      <th>2</th>\n",
              "      <td>4970000</td>\n",
              "      <td>Москва</td>\n",
              "      <td>android</td>\n",
              "      <td>Toyota</td>\n",
              "      <td>Land Cruiser</td>\n",
              "      <td>2013</td>\n",
              "      <td>6</td>\n",
              "      <td>cars_seller</td>\n",
              "    </tr>\n",
              "    <tr>\n",
              "      <th>3</th>\n",
              "      <td>800000</td>\n",
              "      <td>Москва</td>\n",
              "      <td>android</td>\n",
              "      <td>Subaru</td>\n",
              "      <td>Impreza</td>\n",
              "      <td>2006</td>\n",
              "      <td>0</td>\n",
              "      <td>cars_simple</td>\n",
              "    </tr>\n",
              "    <tr>\n",
              "      <th>4</th>\n",
              "      <td>280000</td>\n",
              "      <td>Пермь</td>\n",
              "      <td>android</td>\n",
              "      <td>Mitsubishi</td>\n",
              "      <td>RVR</td>\n",
              "      <td>1995</td>\n",
              "      <td>0</td>\n",
              "      <td>cars_simple</td>\n",
              "    </tr>\n",
              "    <tr>\n",
              "      <th>...</th>\n",
              "      <td>...</td>\n",
              "      <td>...</td>\n",
              "      <td>...</td>\n",
              "      <td>...</td>\n",
              "      <td>...</td>\n",
              "      <td>...</td>\n",
              "      <td>...</td>\n",
              "      <td>...</td>\n",
              "    </tr>\n",
              "    <tr>\n",
              "      <th>33275</th>\n",
              "      <td>10000</td>\n",
              "      <td>Новосибирск</td>\n",
              "      <td>android</td>\n",
              "      <td>Unknown</td>\n",
              "      <td>Unknown model</td>\n",
              "      <td>2007</td>\n",
              "      <td>0</td>\n",
              "      <td>cars_simple</td>\n",
              "    </tr>\n",
              "    <tr>\n",
              "      <th>33276</th>\n",
              "      <td>480000</td>\n",
              "      <td>Новосибирск</td>\n",
              "      <td>ios</td>\n",
              "      <td>ВАЗ (Lada)</td>\n",
              "      <td>Priora 2170 (седан)</td>\n",
              "      <td>2012</td>\n",
              "      <td>0</td>\n",
              "      <td>cars_simple</td>\n",
              "    </tr>\n",
              "    <tr>\n",
              "      <th>33277</th>\n",
              "      <td>1320000</td>\n",
              "      <td>Новосибирск</td>\n",
              "      <td>android</td>\n",
              "      <td>Chevrolet</td>\n",
              "      <td>Cobalt</td>\n",
              "      <td>2021</td>\n",
              "      <td>0</td>\n",
              "      <td>cars_simple</td>\n",
              "    </tr>\n",
              "    <tr>\n",
              "      <th>33278</th>\n",
              "      <td>740000</td>\n",
              "      <td>Москва</td>\n",
              "      <td>desktop</td>\n",
              "      <td>Mercedes-Benz</td>\n",
              "      <td>C 320</td>\n",
              "      <td>2002</td>\n",
              "      <td>0</td>\n",
              "      <td>cars_simple</td>\n",
              "    </tr>\n",
              "    <tr>\n",
              "      <th>33279</th>\n",
              "      <td>1000000</td>\n",
              "      <td>Ростов-на-Дону</td>\n",
              "      <td>android</td>\n",
              "      <td>ГАЗ</td>\n",
              "      <td>ГАЗель</td>\n",
              "      <td>2011</td>\n",
              "      <td>0</td>\n",
              "      <td>cars_simple</td>\n",
              "    </tr>\n",
              "  </tbody>\n",
              "</table>\n",
              "<p>33280 rows × 8 columns</p>\n",
              "</div>\n",
              "    <div class=\"colab-df-buttons\">\n",
              "\n",
              "  <div class=\"colab-df-container\">\n",
              "    <button class=\"colab-df-convert\" onclick=\"convertToInteractive('df-715fafd6-9314-4b7b-99ac-e68c2b1269a6')\"\n",
              "            title=\"Convert this dataframe to an interactive table.\"\n",
              "            style=\"display:none;\">\n",
              "\n",
              "  <svg xmlns=\"http://www.w3.org/2000/svg\" height=\"24px\" viewBox=\"0 -960 960 960\">\n",
              "    <path d=\"M120-120v-720h720v720H120Zm60-500h600v-160H180v160Zm220 220h160v-160H400v160Zm0 220h160v-160H400v160ZM180-400h160v-160H180v160Zm440 0h160v-160H620v160ZM180-180h160v-160H180v160Zm440 0h160v-160H620v160Z\"/>\n",
              "  </svg>\n",
              "    </button>\n",
              "\n",
              "  <style>\n",
              "    .colab-df-container {\n",
              "      display:flex;\n",
              "      gap: 12px;\n",
              "    }\n",
              "\n",
              "    .colab-df-convert {\n",
              "      background-color: #E8F0FE;\n",
              "      border: none;\n",
              "      border-radius: 50%;\n",
              "      cursor: pointer;\n",
              "      display: none;\n",
              "      fill: #1967D2;\n",
              "      height: 32px;\n",
              "      padding: 0 0 0 0;\n",
              "      width: 32px;\n",
              "    }\n",
              "\n",
              "    .colab-df-convert:hover {\n",
              "      background-color: #E2EBFA;\n",
              "      box-shadow: 0px 1px 2px rgba(60, 64, 67, 0.3), 0px 1px 3px 1px rgba(60, 64, 67, 0.15);\n",
              "      fill: #174EA6;\n",
              "    }\n",
              "\n",
              "    .colab-df-buttons div {\n",
              "      margin-bottom: 4px;\n",
              "    }\n",
              "\n",
              "    [theme=dark] .colab-df-convert {\n",
              "      background-color: #3B4455;\n",
              "      fill: #D2E3FC;\n",
              "    }\n",
              "\n",
              "    [theme=dark] .colab-df-convert:hover {\n",
              "      background-color: #434B5C;\n",
              "      box-shadow: 0px 1px 3px 1px rgba(0, 0, 0, 0.15);\n",
              "      filter: drop-shadow(0px 1px 2px rgba(0, 0, 0, 0.3));\n",
              "      fill: #FFFFFF;\n",
              "    }\n",
              "  </style>\n",
              "\n",
              "    <script>\n",
              "      const buttonEl =\n",
              "        document.querySelector('#df-715fafd6-9314-4b7b-99ac-e68c2b1269a6 button.colab-df-convert');\n",
              "      buttonEl.style.display =\n",
              "        google.colab.kernel.accessAllowed ? 'block' : 'none';\n",
              "\n",
              "      async function convertToInteractive(key) {\n",
              "        const element = document.querySelector('#df-715fafd6-9314-4b7b-99ac-e68c2b1269a6');\n",
              "        const dataTable =\n",
              "          await google.colab.kernel.invokeFunction('convertToInteractive',\n",
              "                                                    [key], {});\n",
              "        if (!dataTable) return;\n",
              "\n",
              "        const docLinkHtml = 'Like what you see? Visit the ' +\n",
              "          '<a target=\"_blank\" href=https://colab.research.google.com/notebooks/data_table.ipynb>data table notebook</a>'\n",
              "          + ' to learn more about interactive tables.';\n",
              "        element.innerHTML = '';\n",
              "        dataTable['output_type'] = 'display_data';\n",
              "        await google.colab.output.renderOutput(dataTable, element);\n",
              "        const docLink = document.createElement('div');\n",
              "        docLink.innerHTML = docLinkHtml;\n",
              "        element.appendChild(docLink);\n",
              "      }\n",
              "    </script>\n",
              "  </div>\n",
              "\n",
              "\n",
              "<div id=\"df-a092e1aa-3be3-440d-bf4a-dace03e1e654\">\n",
              "  <button class=\"colab-df-quickchart\" onclick=\"quickchart('df-a092e1aa-3be3-440d-bf4a-dace03e1e654')\"\n",
              "            title=\"Suggest charts\"\n",
              "            style=\"display:none;\">\n",
              "\n",
              "<svg xmlns=\"http://www.w3.org/2000/svg\" height=\"24px\"viewBox=\"0 0 24 24\"\n",
              "     width=\"24px\">\n",
              "    <g>\n",
              "        <path d=\"M19 3H5c-1.1 0-2 .9-2 2v14c0 1.1.9 2 2 2h14c1.1 0 2-.9 2-2V5c0-1.1-.9-2-2-2zM9 17H7v-7h2v7zm4 0h-2V7h2v10zm4 0h-2v-4h2v4z\"/>\n",
              "    </g>\n",
              "</svg>\n",
              "  </button>\n",
              "\n",
              "<style>\n",
              "  .colab-df-quickchart {\n",
              "      --bg-color: #E8F0FE;\n",
              "      --fill-color: #1967D2;\n",
              "      --hover-bg-color: #E2EBFA;\n",
              "      --hover-fill-color: #174EA6;\n",
              "      --disabled-fill-color: #AAA;\n",
              "      --disabled-bg-color: #DDD;\n",
              "  }\n",
              "\n",
              "  [theme=dark] .colab-df-quickchart {\n",
              "      --bg-color: #3B4455;\n",
              "      --fill-color: #D2E3FC;\n",
              "      --hover-bg-color: #434B5C;\n",
              "      --hover-fill-color: #FFFFFF;\n",
              "      --disabled-bg-color: #3B4455;\n",
              "      --disabled-fill-color: #666;\n",
              "  }\n",
              "\n",
              "  .colab-df-quickchart {\n",
              "    background-color: var(--bg-color);\n",
              "    border: none;\n",
              "    border-radius: 50%;\n",
              "    cursor: pointer;\n",
              "    display: none;\n",
              "    fill: var(--fill-color);\n",
              "    height: 32px;\n",
              "    padding: 0;\n",
              "    width: 32px;\n",
              "  }\n",
              "\n",
              "  .colab-df-quickchart:hover {\n",
              "    background-color: var(--hover-bg-color);\n",
              "    box-shadow: 0 1px 2px rgba(60, 64, 67, 0.3), 0 1px 3px 1px rgba(60, 64, 67, 0.15);\n",
              "    fill: var(--button-hover-fill-color);\n",
              "  }\n",
              "\n",
              "  .colab-df-quickchart-complete:disabled,\n",
              "  .colab-df-quickchart-complete:disabled:hover {\n",
              "    background-color: var(--disabled-bg-color);\n",
              "    fill: var(--disabled-fill-color);\n",
              "    box-shadow: none;\n",
              "  }\n",
              "\n",
              "  .colab-df-spinner {\n",
              "    border: 2px solid var(--fill-color);\n",
              "    border-color: transparent;\n",
              "    border-bottom-color: var(--fill-color);\n",
              "    animation:\n",
              "      spin 1s steps(1) infinite;\n",
              "  }\n",
              "\n",
              "  @keyframes spin {\n",
              "    0% {\n",
              "      border-color: transparent;\n",
              "      border-bottom-color: var(--fill-color);\n",
              "      border-left-color: var(--fill-color);\n",
              "    }\n",
              "    20% {\n",
              "      border-color: transparent;\n",
              "      border-left-color: var(--fill-color);\n",
              "      border-top-color: var(--fill-color);\n",
              "    }\n",
              "    30% {\n",
              "      border-color: transparent;\n",
              "      border-left-color: var(--fill-color);\n",
              "      border-top-color: var(--fill-color);\n",
              "      border-right-color: var(--fill-color);\n",
              "    }\n",
              "    40% {\n",
              "      border-color: transparent;\n",
              "      border-right-color: var(--fill-color);\n",
              "      border-top-color: var(--fill-color);\n",
              "    }\n",
              "    60% {\n",
              "      border-color: transparent;\n",
              "      border-right-color: var(--fill-color);\n",
              "    }\n",
              "    80% {\n",
              "      border-color: transparent;\n",
              "      border-right-color: var(--fill-color);\n",
              "      border-bottom-color: var(--fill-color);\n",
              "    }\n",
              "    90% {\n",
              "      border-color: transparent;\n",
              "      border-bottom-color: var(--fill-color);\n",
              "    }\n",
              "  }\n",
              "</style>\n",
              "\n",
              "  <script>\n",
              "    async function quickchart(key) {\n",
              "      const quickchartButtonEl =\n",
              "        document.querySelector('#' + key + ' button');\n",
              "      quickchartButtonEl.disabled = true;  // To prevent multiple clicks.\n",
              "      quickchartButtonEl.classList.add('colab-df-spinner');\n",
              "      try {\n",
              "        const charts = await google.colab.kernel.invokeFunction(\n",
              "            'suggestCharts', [key], {});\n",
              "      } catch (error) {\n",
              "        console.error('Error during call to suggestCharts:', error);\n",
              "      }\n",
              "      quickchartButtonEl.classList.remove('colab-df-spinner');\n",
              "      quickchartButtonEl.classList.add('colab-df-quickchart-complete');\n",
              "    }\n",
              "    (() => {\n",
              "      let quickchartButtonEl =\n",
              "        document.querySelector('#df-a092e1aa-3be3-440d-bf4a-dace03e1e654 button');\n",
              "      quickchartButtonEl.style.display =\n",
              "        google.colab.kernel.accessAllowed ? 'block' : 'none';\n",
              "    })();\n",
              "  </script>\n",
              "</div>\n",
              "\n",
              "  <div id=\"id_1e1c6777-8c66-4bfd-a96c-6f73849e0b05\">\n",
              "    <style>\n",
              "      .colab-df-generate {\n",
              "        background-color: #E8F0FE;\n",
              "        border: none;\n",
              "        border-radius: 50%;\n",
              "        cursor: pointer;\n",
              "        display: none;\n",
              "        fill: #1967D2;\n",
              "        height: 32px;\n",
              "        padding: 0 0 0 0;\n",
              "        width: 32px;\n",
              "      }\n",
              "\n",
              "      .colab-df-generate:hover {\n",
              "        background-color: #E2EBFA;\n",
              "        box-shadow: 0px 1px 2px rgba(60, 64, 67, 0.3), 0px 1px 3px 1px rgba(60, 64, 67, 0.15);\n",
              "        fill: #174EA6;\n",
              "      }\n",
              "\n",
              "      [theme=dark] .colab-df-generate {\n",
              "        background-color: #3B4455;\n",
              "        fill: #D2E3FC;\n",
              "      }\n",
              "\n",
              "      [theme=dark] .colab-df-generate:hover {\n",
              "        background-color: #434B5C;\n",
              "        box-shadow: 0px 1px 3px 1px rgba(0, 0, 0, 0.15);\n",
              "        filter: drop-shadow(0px 1px 2px rgba(0, 0, 0, 0.3));\n",
              "        fill: #FFFFFF;\n",
              "      }\n",
              "    </style>\n",
              "    <button class=\"colab-df-generate\" onclick=\"generateWithVariable('data')\"\n",
              "            title=\"Generate code using this dataframe.\"\n",
              "            style=\"display:none;\">\n",
              "\n",
              "  <svg xmlns=\"http://www.w3.org/2000/svg\" height=\"24px\"viewBox=\"0 0 24 24\"\n",
              "       width=\"24px\">\n",
              "    <path d=\"M7,19H8.4L18.45,9,17,7.55,7,17.6ZM5,21V16.75L18.45,3.32a2,2,0,0,1,2.83,0l1.4,1.43a1.91,1.91,0,0,1,.58,1.4,1.91,1.91,0,0,1-.58,1.4L9.25,21ZM18.45,9,17,7.55Zm-12,3A5.31,5.31,0,0,0,4.9,8.1,5.31,5.31,0,0,0,1,6.5,5.31,5.31,0,0,0,4.9,4.9,5.31,5.31,0,0,0,6.5,1,5.31,5.31,0,0,0,8.1,4.9,5.31,5.31,0,0,0,12,6.5,5.46,5.46,0,0,0,6.5,12Z\"/>\n",
              "  </svg>\n",
              "    </button>\n",
              "    <script>\n",
              "      (() => {\n",
              "      const buttonEl =\n",
              "        document.querySelector('#id_1e1c6777-8c66-4bfd-a96c-6f73849e0b05 button.colab-df-generate');\n",
              "      buttonEl.style.display =\n",
              "        google.colab.kernel.accessAllowed ? 'block' : 'none';\n",
              "\n",
              "      buttonEl.onclick = () => {\n",
              "        google.colab.notebook.generateWithVariable('data');\n",
              "      }\n",
              "      })();\n",
              "    </script>\n",
              "  </div>\n",
              "\n",
              "    </div>\n",
              "  </div>\n"
            ],
            "application/vnd.google.colaboratory.intrinsic+json": {
              "type": "dataframe",
              "variable_name": "data",
              "summary": "{\n  \"name\": \"data\",\n  \"rows\": 33280,\n  \"fields\": [\n    {\n      \"column\": \"price\",\n      \"properties\": {\n        \"dtype\": \"number\",\n        \"std\": 2088349,\n        \"min\": 0,\n        \"max\": 133333333,\n        \"num_unique_values\": 1177,\n        \"samples\": [\n          10139000,\n          499282,\n          1380000\n        ],\n        \"semantic_type\": \"\",\n        \"description\": \"\"\n      }\n    },\n    {\n      \"column\": \"region\",\n      \"properties\": {\n        \"dtype\": \"category\",\n        \"num_unique_values\": 21,\n        \"samples\": [\n          \"\\u0421\\u0430\\u043c\\u0430\\u0440\\u0430\",\n          \"\\u0412\\u043e\\u043b\\u0433\\u043e\\u0433\\u0440\\u0430\\u0434\",\n          \"\\u0423\\u0444\\u0430\"\n        ],\n        \"semantic_type\": \"\",\n        \"description\": \"\"\n      }\n    },\n    {\n      \"column\": \"platform\",\n      \"properties\": {\n        \"dtype\": \"category\",\n        \"num_unique_values\": 4,\n        \"samples\": [\n          \"android\",\n          \"mobile\",\n          \"ios\"\n        ],\n        \"semantic_type\": \"\",\n        \"description\": \"\"\n      }\n    },\n    {\n      \"column\": \"auto_brand\",\n      \"properties\": {\n        \"dtype\": \"category\",\n        \"num_unique_values\": 85,\n        \"samples\": [\n          \"Brilliance\",\n          \"\\u0417\\u0410\\u0417\",\n          \"BYD\"\n        ],\n        \"semantic_type\": \"\",\n        \"description\": \"\"\n      }\n    },\n    {\n      \"column\": \"auto_model\",\n      \"properties\": {\n        \"dtype\": \"category\",\n        \"num_unique_values\": 829,\n        \"samples\": [\n          \"Mustang\",\n          \"Ram Van\",\n          \"SX4\"\n        ],\n        \"semantic_type\": \"\",\n        \"description\": \"\"\n      }\n    },\n    {\n      \"column\": \"year\",\n      \"properties\": {\n        \"dtype\": \"number\",\n        \"std\": 10,\n        \"min\": 1950,\n        \"max\": 2023,\n        \"num_unique_values\": 62,\n        \"samples\": [\n          1950,\n          1977,\n          2014\n        ],\n        \"semantic_type\": \"\",\n        \"description\": \"\"\n      }\n    },\n    {\n      \"column\": \"userType\",\n      \"properties\": {\n        \"dtype\": \"number\",\n        \"std\": 1,\n        \"min\": 0,\n        \"max\": 7,\n        \"num_unique_values\": 4,\n        \"samples\": [\n          6,\n          4,\n          0\n        ],\n        \"semantic_type\": \"\",\n        \"description\": \"\"\n      }\n    },\n    {\n      \"column\": \"user_type_cars_name\",\n      \"properties\": {\n        \"dtype\": \"category\",\n        \"num_unique_values\": 4,\n        \"samples\": [\n          \"cars_seller\",\n          \"cars_dealer\",\n          \"cars_simple\"\n        ],\n        \"semantic_type\": \"\",\n        \"description\": \"\"\n      }\n    }\n  ]\n}"
            }
          },
          "metadata": {},
          "execution_count": 14
        }
      ]
    },
    {
      "cell_type": "markdown",
      "source": [
        "## Задача 1. Предобработка данных (4/6)\n",
        "\n",
        "\n",
        "Один из оставшихся категориальных признаков содержит большое количество уникальных значений, что приведет к слишком разреженному датасету при применении one hot encoding и будет только ухудшать качество модели. Поэтому его нужно удалить.\n",
        "\n",
        "Что это за признак?"
      ],
      "metadata": {
        "id": "xCo4b7zxZNav"
      }
    },
    {
      "cell_type": "code",
      "source": [
        "data.nunique().sort_values()[:-1].idxmax()"
      ],
      "metadata": {
        "colab": {
          "base_uri": "https://localhost:8080/",
          "height": 36
        },
        "id": "EEDtsNo9Ycos",
        "outputId": "9b55f01e-6305-4e75-bb28-b59c8bd438aa"
      },
      "execution_count": null,
      "outputs": [
        {
          "output_type": "execute_result",
          "data": {
            "text/plain": [
              "'auto_model'"
            ],
            "application/vnd.google.colaboratory.intrinsic+json": {
              "type": "string"
            }
          },
          "metadata": {},
          "execution_count": 15
        }
      ]
    },
    {
      "cell_type": "code",
      "source": [
        "data.drop(data.nunique().sort_values()[:-1].idxmax(), axis=1, inplace=True)"
      ],
      "metadata": {
        "id": "nmFsjS9OZ8Gf"
      },
      "execution_count": null,
      "outputs": []
    },
    {
      "cell_type": "code",
      "source": [
        "data.head()"
      ],
      "metadata": {
        "colab": {
          "base_uri": "https://localhost:8080/",
          "height": 206
        },
        "id": "y7sPZhMaaCFZ",
        "outputId": "aee2be83-2414-4ce6-9e7e-e8395727a048"
      },
      "execution_count": null,
      "outputs": [
        {
          "output_type": "execute_result",
          "data": {
            "text/plain": [
              "     price  region platform  auto_brand  year  userType user_type_cars_name\n",
              "0   414000  Самара      ios         ЗАЗ  2014         0         cars_simple\n",
              "1   620000    Сочи      ios   Chevrolet  2010         0         cars_simple\n",
              "2  4970000  Москва  android      Toyota  2013         6         cars_seller\n",
              "3   800000  Москва  android      Subaru  2006         0         cars_simple\n",
              "4   280000   Пермь  android  Mitsubishi  1995         0         cars_simple"
            ],
            "text/html": [
              "\n",
              "  <div id=\"df-12078f60-3e36-4ee0-8b7d-43eaa8ea1f44\" class=\"colab-df-container\">\n",
              "    <div>\n",
              "<style scoped>\n",
              "    .dataframe tbody tr th:only-of-type {\n",
              "        vertical-align: middle;\n",
              "    }\n",
              "\n",
              "    .dataframe tbody tr th {\n",
              "        vertical-align: top;\n",
              "    }\n",
              "\n",
              "    .dataframe thead th {\n",
              "        text-align: right;\n",
              "    }\n",
              "</style>\n",
              "<table border=\"1\" class=\"dataframe\">\n",
              "  <thead>\n",
              "    <tr style=\"text-align: right;\">\n",
              "      <th></th>\n",
              "      <th>price</th>\n",
              "      <th>region</th>\n",
              "      <th>platform</th>\n",
              "      <th>auto_brand</th>\n",
              "      <th>year</th>\n",
              "      <th>userType</th>\n",
              "      <th>user_type_cars_name</th>\n",
              "    </tr>\n",
              "  </thead>\n",
              "  <tbody>\n",
              "    <tr>\n",
              "      <th>0</th>\n",
              "      <td>414000</td>\n",
              "      <td>Самара</td>\n",
              "      <td>ios</td>\n",
              "      <td>ЗАЗ</td>\n",
              "      <td>2014</td>\n",
              "      <td>0</td>\n",
              "      <td>cars_simple</td>\n",
              "    </tr>\n",
              "    <tr>\n",
              "      <th>1</th>\n",
              "      <td>620000</td>\n",
              "      <td>Сочи</td>\n",
              "      <td>ios</td>\n",
              "      <td>Chevrolet</td>\n",
              "      <td>2010</td>\n",
              "      <td>0</td>\n",
              "      <td>cars_simple</td>\n",
              "    </tr>\n",
              "    <tr>\n",
              "      <th>2</th>\n",
              "      <td>4970000</td>\n",
              "      <td>Москва</td>\n",
              "      <td>android</td>\n",
              "      <td>Toyota</td>\n",
              "      <td>2013</td>\n",
              "      <td>6</td>\n",
              "      <td>cars_seller</td>\n",
              "    </tr>\n",
              "    <tr>\n",
              "      <th>3</th>\n",
              "      <td>800000</td>\n",
              "      <td>Москва</td>\n",
              "      <td>android</td>\n",
              "      <td>Subaru</td>\n",
              "      <td>2006</td>\n",
              "      <td>0</td>\n",
              "      <td>cars_simple</td>\n",
              "    </tr>\n",
              "    <tr>\n",
              "      <th>4</th>\n",
              "      <td>280000</td>\n",
              "      <td>Пермь</td>\n",
              "      <td>android</td>\n",
              "      <td>Mitsubishi</td>\n",
              "      <td>1995</td>\n",
              "      <td>0</td>\n",
              "      <td>cars_simple</td>\n",
              "    </tr>\n",
              "  </tbody>\n",
              "</table>\n",
              "</div>\n",
              "    <div class=\"colab-df-buttons\">\n",
              "\n",
              "  <div class=\"colab-df-container\">\n",
              "    <button class=\"colab-df-convert\" onclick=\"convertToInteractive('df-12078f60-3e36-4ee0-8b7d-43eaa8ea1f44')\"\n",
              "            title=\"Convert this dataframe to an interactive table.\"\n",
              "            style=\"display:none;\">\n",
              "\n",
              "  <svg xmlns=\"http://www.w3.org/2000/svg\" height=\"24px\" viewBox=\"0 -960 960 960\">\n",
              "    <path d=\"M120-120v-720h720v720H120Zm60-500h600v-160H180v160Zm220 220h160v-160H400v160Zm0 220h160v-160H400v160ZM180-400h160v-160H180v160Zm440 0h160v-160H620v160ZM180-180h160v-160H180v160Zm440 0h160v-160H620v160Z\"/>\n",
              "  </svg>\n",
              "    </button>\n",
              "\n",
              "  <style>\n",
              "    .colab-df-container {\n",
              "      display:flex;\n",
              "      gap: 12px;\n",
              "    }\n",
              "\n",
              "    .colab-df-convert {\n",
              "      background-color: #E8F0FE;\n",
              "      border: none;\n",
              "      border-radius: 50%;\n",
              "      cursor: pointer;\n",
              "      display: none;\n",
              "      fill: #1967D2;\n",
              "      height: 32px;\n",
              "      padding: 0 0 0 0;\n",
              "      width: 32px;\n",
              "    }\n",
              "\n",
              "    .colab-df-convert:hover {\n",
              "      background-color: #E2EBFA;\n",
              "      box-shadow: 0px 1px 2px rgba(60, 64, 67, 0.3), 0px 1px 3px 1px rgba(60, 64, 67, 0.15);\n",
              "      fill: #174EA6;\n",
              "    }\n",
              "\n",
              "    .colab-df-buttons div {\n",
              "      margin-bottom: 4px;\n",
              "    }\n",
              "\n",
              "    [theme=dark] .colab-df-convert {\n",
              "      background-color: #3B4455;\n",
              "      fill: #D2E3FC;\n",
              "    }\n",
              "\n",
              "    [theme=dark] .colab-df-convert:hover {\n",
              "      background-color: #434B5C;\n",
              "      box-shadow: 0px 1px 3px 1px rgba(0, 0, 0, 0.15);\n",
              "      filter: drop-shadow(0px 1px 2px rgba(0, 0, 0, 0.3));\n",
              "      fill: #FFFFFF;\n",
              "    }\n",
              "  </style>\n",
              "\n",
              "    <script>\n",
              "      const buttonEl =\n",
              "        document.querySelector('#df-12078f60-3e36-4ee0-8b7d-43eaa8ea1f44 button.colab-df-convert');\n",
              "      buttonEl.style.display =\n",
              "        google.colab.kernel.accessAllowed ? 'block' : 'none';\n",
              "\n",
              "      async function convertToInteractive(key) {\n",
              "        const element = document.querySelector('#df-12078f60-3e36-4ee0-8b7d-43eaa8ea1f44');\n",
              "        const dataTable =\n",
              "          await google.colab.kernel.invokeFunction('convertToInteractive',\n",
              "                                                    [key], {});\n",
              "        if (!dataTable) return;\n",
              "\n",
              "        const docLinkHtml = 'Like what you see? Visit the ' +\n",
              "          '<a target=\"_blank\" href=https://colab.research.google.com/notebooks/data_table.ipynb>data table notebook</a>'\n",
              "          + ' to learn more about interactive tables.';\n",
              "        element.innerHTML = '';\n",
              "        dataTable['output_type'] = 'display_data';\n",
              "        await google.colab.output.renderOutput(dataTable, element);\n",
              "        const docLink = document.createElement('div');\n",
              "        docLink.innerHTML = docLinkHtml;\n",
              "        element.appendChild(docLink);\n",
              "      }\n",
              "    </script>\n",
              "  </div>\n",
              "\n",
              "\n",
              "<div id=\"df-387e5ce4-0c50-4a77-a563-0f01b9fa4af6\">\n",
              "  <button class=\"colab-df-quickchart\" onclick=\"quickchart('df-387e5ce4-0c50-4a77-a563-0f01b9fa4af6')\"\n",
              "            title=\"Suggest charts\"\n",
              "            style=\"display:none;\">\n",
              "\n",
              "<svg xmlns=\"http://www.w3.org/2000/svg\" height=\"24px\"viewBox=\"0 0 24 24\"\n",
              "     width=\"24px\">\n",
              "    <g>\n",
              "        <path d=\"M19 3H5c-1.1 0-2 .9-2 2v14c0 1.1.9 2 2 2h14c1.1 0 2-.9 2-2V5c0-1.1-.9-2-2-2zM9 17H7v-7h2v7zm4 0h-2V7h2v10zm4 0h-2v-4h2v4z\"/>\n",
              "    </g>\n",
              "</svg>\n",
              "  </button>\n",
              "\n",
              "<style>\n",
              "  .colab-df-quickchart {\n",
              "      --bg-color: #E8F0FE;\n",
              "      --fill-color: #1967D2;\n",
              "      --hover-bg-color: #E2EBFA;\n",
              "      --hover-fill-color: #174EA6;\n",
              "      --disabled-fill-color: #AAA;\n",
              "      --disabled-bg-color: #DDD;\n",
              "  }\n",
              "\n",
              "  [theme=dark] .colab-df-quickchart {\n",
              "      --bg-color: #3B4455;\n",
              "      --fill-color: #D2E3FC;\n",
              "      --hover-bg-color: #434B5C;\n",
              "      --hover-fill-color: #FFFFFF;\n",
              "      --disabled-bg-color: #3B4455;\n",
              "      --disabled-fill-color: #666;\n",
              "  }\n",
              "\n",
              "  .colab-df-quickchart {\n",
              "    background-color: var(--bg-color);\n",
              "    border: none;\n",
              "    border-radius: 50%;\n",
              "    cursor: pointer;\n",
              "    display: none;\n",
              "    fill: var(--fill-color);\n",
              "    height: 32px;\n",
              "    padding: 0;\n",
              "    width: 32px;\n",
              "  }\n",
              "\n",
              "  .colab-df-quickchart:hover {\n",
              "    background-color: var(--hover-bg-color);\n",
              "    box-shadow: 0 1px 2px rgba(60, 64, 67, 0.3), 0 1px 3px 1px rgba(60, 64, 67, 0.15);\n",
              "    fill: var(--button-hover-fill-color);\n",
              "  }\n",
              "\n",
              "  .colab-df-quickchart-complete:disabled,\n",
              "  .colab-df-quickchart-complete:disabled:hover {\n",
              "    background-color: var(--disabled-bg-color);\n",
              "    fill: var(--disabled-fill-color);\n",
              "    box-shadow: none;\n",
              "  }\n",
              "\n",
              "  .colab-df-spinner {\n",
              "    border: 2px solid var(--fill-color);\n",
              "    border-color: transparent;\n",
              "    border-bottom-color: var(--fill-color);\n",
              "    animation:\n",
              "      spin 1s steps(1) infinite;\n",
              "  }\n",
              "\n",
              "  @keyframes spin {\n",
              "    0% {\n",
              "      border-color: transparent;\n",
              "      border-bottom-color: var(--fill-color);\n",
              "      border-left-color: var(--fill-color);\n",
              "    }\n",
              "    20% {\n",
              "      border-color: transparent;\n",
              "      border-left-color: var(--fill-color);\n",
              "      border-top-color: var(--fill-color);\n",
              "    }\n",
              "    30% {\n",
              "      border-color: transparent;\n",
              "      border-left-color: var(--fill-color);\n",
              "      border-top-color: var(--fill-color);\n",
              "      border-right-color: var(--fill-color);\n",
              "    }\n",
              "    40% {\n",
              "      border-color: transparent;\n",
              "      border-right-color: var(--fill-color);\n",
              "      border-top-color: var(--fill-color);\n",
              "    }\n",
              "    60% {\n",
              "      border-color: transparent;\n",
              "      border-right-color: var(--fill-color);\n",
              "    }\n",
              "    80% {\n",
              "      border-color: transparent;\n",
              "      border-right-color: var(--fill-color);\n",
              "      border-bottom-color: var(--fill-color);\n",
              "    }\n",
              "    90% {\n",
              "      border-color: transparent;\n",
              "      border-bottom-color: var(--fill-color);\n",
              "    }\n",
              "  }\n",
              "</style>\n",
              "\n",
              "  <script>\n",
              "    async function quickchart(key) {\n",
              "      const quickchartButtonEl =\n",
              "        document.querySelector('#' + key + ' button');\n",
              "      quickchartButtonEl.disabled = true;  // To prevent multiple clicks.\n",
              "      quickchartButtonEl.classList.add('colab-df-spinner');\n",
              "      try {\n",
              "        const charts = await google.colab.kernel.invokeFunction(\n",
              "            'suggestCharts', [key], {});\n",
              "      } catch (error) {\n",
              "        console.error('Error during call to suggestCharts:', error);\n",
              "      }\n",
              "      quickchartButtonEl.classList.remove('colab-df-spinner');\n",
              "      quickchartButtonEl.classList.add('colab-df-quickchart-complete');\n",
              "    }\n",
              "    (() => {\n",
              "      let quickchartButtonEl =\n",
              "        document.querySelector('#df-387e5ce4-0c50-4a77-a563-0f01b9fa4af6 button');\n",
              "      quickchartButtonEl.style.display =\n",
              "        google.colab.kernel.accessAllowed ? 'block' : 'none';\n",
              "    })();\n",
              "  </script>\n",
              "</div>\n",
              "\n",
              "    </div>\n",
              "  </div>\n"
            ],
            "application/vnd.google.colaboratory.intrinsic+json": {
              "type": "dataframe",
              "variable_name": "data",
              "summary": "{\n  \"name\": \"data\",\n  \"rows\": 33280,\n  \"fields\": [\n    {\n      \"column\": \"price\",\n      \"properties\": {\n        \"dtype\": \"number\",\n        \"std\": 2088349,\n        \"min\": 0,\n        \"max\": 133333333,\n        \"num_unique_values\": 1177,\n        \"samples\": [\n          10139000,\n          499282,\n          1380000\n        ],\n        \"semantic_type\": \"\",\n        \"description\": \"\"\n      }\n    },\n    {\n      \"column\": \"region\",\n      \"properties\": {\n        \"dtype\": \"category\",\n        \"num_unique_values\": 21,\n        \"samples\": [\n          \"\\u0421\\u0430\\u043c\\u0430\\u0440\\u0430\",\n          \"\\u0412\\u043e\\u043b\\u0433\\u043e\\u0433\\u0440\\u0430\\u0434\",\n          \"\\u0423\\u0444\\u0430\"\n        ],\n        \"semantic_type\": \"\",\n        \"description\": \"\"\n      }\n    },\n    {\n      \"column\": \"platform\",\n      \"properties\": {\n        \"dtype\": \"category\",\n        \"num_unique_values\": 4,\n        \"samples\": [\n          \"android\",\n          \"mobile\",\n          \"ios\"\n        ],\n        \"semantic_type\": \"\",\n        \"description\": \"\"\n      }\n    },\n    {\n      \"column\": \"auto_brand\",\n      \"properties\": {\n        \"dtype\": \"category\",\n        \"num_unique_values\": 85,\n        \"samples\": [\n          \"Brilliance\",\n          \"\\u0417\\u0410\\u0417\",\n          \"BYD\"\n        ],\n        \"semantic_type\": \"\",\n        \"description\": \"\"\n      }\n    },\n    {\n      \"column\": \"year\",\n      \"properties\": {\n        \"dtype\": \"number\",\n        \"std\": 10,\n        \"min\": 1950,\n        \"max\": 2023,\n        \"num_unique_values\": 62,\n        \"samples\": [\n          1950,\n          1977,\n          2014\n        ],\n        \"semantic_type\": \"\",\n        \"description\": \"\"\n      }\n    },\n    {\n      \"column\": \"userType\",\n      \"properties\": {\n        \"dtype\": \"number\",\n        \"std\": 1,\n        \"min\": 0,\n        \"max\": 7,\n        \"num_unique_values\": 4,\n        \"samples\": [\n          6,\n          4,\n          0\n        ],\n        \"semantic_type\": \"\",\n        \"description\": \"\"\n      }\n    },\n    {\n      \"column\": \"user_type_cars_name\",\n      \"properties\": {\n        \"dtype\": \"category\",\n        \"num_unique_values\": 4,\n        \"samples\": [\n          \"cars_seller\",\n          \"cars_dealer\",\n          \"cars_simple\"\n        ],\n        \"semantic_type\": \"\",\n        \"description\": \"\"\n      }\n    }\n  ]\n}"
            }
          },
          "metadata": {},
          "execution_count": 17
        }
      ]
    },
    {
      "cell_type": "markdown",
      "source": [
        "## Задача 1. Предобработка данных (5/6)\n",
        "\n",
        "\n",
        "Есть и ещё одна колонка, которую можно не брать в качестве признака. Какая?"
      ],
      "metadata": {
        "id": "TKkwWecvZ4Zx"
      }
    },
    {
      "cell_type": "code",
      "source": [
        "data = data.drop(['userType'], axis=1)"
      ],
      "metadata": {
        "id": "E1fQazCYZQ1e"
      },
      "execution_count": null,
      "outputs": []
    },
    {
      "cell_type": "markdown",
      "source": [
        "## Задача 1. Предобработка данных (6/6)\n",
        "\n",
        "\n",
        "Если вы построите распределение цены автомобилей (это можно сделать с помощью `sns.histplot`), то увидите, что распределение далеко не нормальное. Это плохо, потому что наша модель будет стараться подстроиться под аномальные значения, и в итоге потеряет свою обобщающую способность.\n",
        "\n",
        "Попробуем сделать распределение более симметричными с помощью удаления выбросов. Давайте будем считать, что цена на автомобиль меньше 1000 – это аномально низкое значение.\n",
        "\n",
        "Можно заметить, что даже после удаления аномально низких значений распределение не стало сильно лучше. В таком случае часто применяется логарифмирование. С помощью применения функции логарифма `np.log` к таргету мы сможем добиться распределения, близкого к нормальному. Это допустимое действие, поскольку логарифмирование – это монотонное преобразование, то есть мы просто переводим наш таргет в другую шкалу – логарифмическую. Создайте признак `log_price`\n",
        "\n",
        "Постройте гистограмму нового распределения цены.\n",
        "\n",
        "И прежде чем переходить к созданию пайплайна и обучению модели, давайте убедимся, что наши датасеты совпадают.\n",
        "\n",
        "Сколько строк осталось в датасете после очистки от выбросов?"
      ],
      "metadata": {
        "id": "6_P7F6aGfDMP"
      }
    },
    {
      "cell_type": "code",
      "source": [
        "data = data[data.price >= 1000].copy()"
      ],
      "metadata": {
        "id": "iJe_StwZh9Uu"
      },
      "execution_count": null,
      "outputs": []
    },
    {
      "cell_type": "code",
      "source": [
        "fig, axes = plt.subplots(1, 2, figsize=(15, 5))\n",
        "sns.histplot(data.price, ax=axes[0]).set_title('Распределение цены')\n",
        "sns.histplot(np.log(data.price), ax=axes[1]).set_title(\"Распределение логарифма цены\");"
      ],
      "metadata": {
        "colab": {
          "base_uri": "https://localhost:8080/",
          "height": 487
        },
        "id": "7p0ntkHTfXbP",
        "outputId": "7a777b7d-63ef-498b-834c-187c506e57a5"
      },
      "execution_count": null,
      "outputs": [
        {
          "output_type": "display_data",
          "data": {
            "text/plain": [
              "<Figure size 1500x500 with 2 Axes>"
            ],
            "image/png": "[encoded data removed]"
          },
          "metadata": {}
        }
      ]
    },
    {
      "cell_type": "code",
      "source": [
        "print(f\"осталось {data.shape[0]} строк\")"
      ],
      "metadata": {
        "colab": {
          "base_uri": "https://localhost:8080/"
        },
        "id": "Wqavu96aiG-d",
        "outputId": "fe9e8ae2-7590-4373-dc6a-416a7a87e93c"
      },
      "execution_count": null,
      "outputs": [
        {
          "output_type": "stream",
          "name": "stdout",
          "text": [
            "осталось 33070 строк\n"
          ]
        }
      ]
    },
    {
      "cell_type": "code",
      "source": [
        "data['log_price'] = data.price.apply(np.log)\n",
        "data.drop('price', axis=1, inplace=True)"
      ],
      "metadata": {
        "id": "4y7RmTZOimM0"
      },
      "execution_count": null,
      "outputs": []
    },
    {
      "cell_type": "markdown",
      "source": [
        "## Задача 2. Автоматическая обработка данных\n",
        "\n",
        "\n",
        "Разделим признаки на категориальные и числовые и определим X и y. Причём помним, что в качестве таргета y мы используем логарифм цены.\n",
        "\n",
        "Затем вам нужно будет разделить данные на обучающую и валидационную выборку.  Используйте `train_test_split`, тренировочная и тестовая выборка в соотношении 80% и 20%, `random_state=42` для воспроизводимости результата.\n",
        "\n",
        "В этом задании мы будем использовать самый простой вариант: OneHotEncoder для всех категориальных признаков и `StandardScaler` для всех числовых. Для решения задания используйте такой вариант. В качестве дополнительного упражнения можете попробовать более сложные подходы, например `TargetEncoder` или автоматический выбор между `OneHotEncoder` и `TargetEncoder`, как мы делали в уроке 2.\n",
        "\n",
        "Создайте `ColumnTransformer`, преобразующий все признаки в соответствии с их типом.\n",
        "\n",
        "Создайте `Pipeline` с `ColumnTransformer`-ом и `KNeighborsRegresso`r с дефолтными параметрами. Установите `n_jobs=1` для воспроизводимости результатов."
      ],
      "metadata": {
        "id": "Uj5Wd-muazbO"
      }
    },
    {
      "cell_type": "code",
      "source": [
        "from sklearn.preprocessing import OneHotEncoder, StandardScaler\n",
        "from sklearn.compose import ColumnTransformer\n",
        "from sklearn.pipeline import Pipeline\n",
        "from sklearn.model_selection import train_test_split\n",
        "from sklearn.neighbors import KNeighborsRegressor\n",
        "from sklearn.compose import make_column_selector as selector\n",
        "from sklearn.neighbors import KNeighborsClassifier\n",
        "from sklearn.model_selection import cross_validate\n",
        "from sklearn.metrics import r2_score, mean_absolute_error\n",
        "from sklearn.model_selection import GridSearchCV"
      ],
      "metadata": {
        "id": "003LUviTarrv"
      },
      "execution_count": null,
      "outputs": []
    },
    {
      "cell_type": "code",
      "source": [
        "ohe = OneHotEncoder(handle_unknown='ignore', drop='first', sparse_output=False)\n",
        "std_sc = StandardScaler()"
      ],
      "metadata": {
        "id": "abpO0gtQivXm"
      },
      "execution_count": null,
      "outputs": []
    },
    {
      "cell_type": "code",
      "source": [
        "col_transformer = ColumnTransformer(\n",
        "    transformers=[(\"OneHotEncoder\", ohe, selector(dtype_exclude=\"number\")),\n",
        "                  (\"StandardScaler\", std_sc, selector(dtype_include=\"number\"))],\n",
        "    verbose_feature_names_out=False,\n",
        "\n",
        ").set_output(transform='pandas')\n",
        "\n"
      ],
      "metadata": {
        "id": "tYCQcdaDApqC"
      },
      "execution_count": null,
      "outputs": []
    },
    {
      "cell_type": "code",
      "source": [
        "col_transformer.fit_transform(data.drop('log_price', axis=1))"
      ],
      "metadata": {
        "colab": {
          "base_uri": "https://localhost:8080/",
          "height": 461
        },
        "id": "0g3Y9mhJCQQw",
        "outputId": "924407bc-7740-4ea8-bc82-70ad2ec0acb1"
      },
      "execution_count": null,
      "outputs": [
        {
          "output_type": "execute_result",
          "data": {
            "text/plain": [
              "       region_Воронеж  region_Екатеринбург  region_Ижевск  region_Казань  \\\n",
              "0                 0.0                  0.0            0.0            0.0   \n",
              "1                 0.0                  0.0            0.0            0.0   \n",
              "2                 0.0                  0.0            0.0            0.0   \n",
              "3                 0.0                  0.0            0.0            0.0   \n",
              "4                 0.0                  0.0            0.0            0.0   \n",
              "...               ...                  ...            ...            ...   \n",
              "33275             0.0                  0.0            0.0            0.0   \n",
              "33276             0.0                  0.0            0.0            0.0   \n",
              "33277             0.0                  0.0            0.0            0.0   \n",
              "33278             0.0                  0.0            0.0            0.0   \n",
              "33279             0.0                  0.0            0.0            0.0   \n",
              "\n",
              "       region_Калининград  region_Краснодар  region_Красноярск  region_Москва  \\\n",
              "0                     0.0               0.0                0.0            0.0   \n",
              "1                     0.0               0.0                0.0            0.0   \n",
              "2                     0.0               0.0                0.0            1.0   \n",
              "3                     0.0               0.0                0.0            1.0   \n",
              "4                     0.0               0.0                0.0            0.0   \n",
              "...                   ...               ...                ...            ...   \n",
              "33275                 0.0               0.0                0.0            0.0   \n",
              "33276                 0.0               0.0                0.0            0.0   \n",
              "33277                 0.0               0.0                0.0            0.0   \n",
              "33278                 0.0               0.0                0.0            1.0   \n",
              "33279                 0.0               0.0                0.0            0.0   \n",
              "\n",
              "       region_Нижний Новгород  region_Новосибирск  ...  auto_brand_ИЖ  \\\n",
              "0                         0.0                 0.0  ...            0.0   \n",
              "1                         0.0                 0.0  ...            0.0   \n",
              "2                         0.0                 0.0  ...            0.0   \n",
              "3                         0.0                 0.0  ...            0.0   \n",
              "4                         0.0                 0.0  ...            0.0   \n",
              "...                       ...                 ...  ...            ...   \n",
              "33275                     0.0                 1.0  ...            0.0   \n",
              "33276                     0.0                 1.0  ...            0.0   \n",
              "33277                     0.0                 1.0  ...            0.0   \n",
              "33278                     0.0                 0.0  ...            0.0   \n",
              "33279                     0.0                 0.0  ...            0.0   \n",
              "\n",
              "       auto_brand_ЛуАЗ  auto_brand_Москвич  auto_brand_Ретро-автомобили  \\\n",
              "0                  0.0                 0.0                          0.0   \n",
              "1                  0.0                 0.0                          0.0   \n",
              "2                  0.0                 0.0                          0.0   \n",
              "3                  0.0                 0.0                          0.0   \n",
              "4                  0.0                 0.0                          0.0   \n",
              "...                ...                 ...                          ...   \n",
              "33275              0.0                 0.0                          0.0   \n",
              "33276              0.0                 0.0                          0.0   \n",
              "33277              0.0                 0.0                          0.0   \n",
              "33278              0.0                 0.0                          0.0   \n",
              "33279              0.0                 0.0                          0.0   \n",
              "\n",
              "       auto_brand_ТагАЗ  auto_brand_УАЗ  user_type_cars_name_cars_dealer  \\\n",
              "0                   0.0             0.0                              0.0   \n",
              "1                   0.0             0.0                              0.0   \n",
              "2                   0.0             0.0                              0.0   \n",
              "3                   0.0             0.0                              0.0   \n",
              "4                   0.0             0.0                              0.0   \n",
              "...                 ...             ...                              ...   \n",
              "33275               0.0             0.0                              0.0   \n",
              "33276               0.0             0.0                              0.0   \n",
              "33277               0.0             0.0                              0.0   \n",
              "33278               0.0             0.0                              0.0   \n",
              "33279               0.0             0.0                              0.0   \n",
              "\n",
              "       user_type_cars_name_cars_seller  user_type_cars_name_cars_simple  \\\n",
              "0                                  0.0                              1.0   \n",
              "1                                  0.0                              1.0   \n",
              "2                                  1.0                              0.0   \n",
              "3                                  0.0                              1.0   \n",
              "4                                  0.0                              1.0   \n",
              "...                                ...                              ...   \n",
              "33275                              0.0                              1.0   \n",
              "33276                              0.0                              1.0   \n",
              "33277                              0.0                              1.0   \n",
              "33278                              0.0                              1.0   \n",
              "33279                              0.0                              1.0   \n",
              "\n",
              "           year  \n",
              "0      0.909204  \n",
              "1      0.511826  \n",
              "2      0.809860  \n",
              "3      0.114449  \n",
              "4     -0.978340  \n",
              "...         ...  \n",
              "33275  0.213793  \n",
              "33276  0.710515  \n",
              "33277  1.604615  \n",
              "33278 -0.282929  \n",
              "33279  0.611171  \n",
              "\n",
              "[33070 rows x 111 columns]"
            ],
            "text/html": [
              "\n",
              "  <div id=\"df-b6b750c5-f948-49a5-baea-05e16d9b3471\" class=\"colab-df-container\">\n",
              "    <div>\n",
              "<style scoped>\n",
              "    .dataframe tbody tr th:only-of-type {\n",
              "        vertical-align: middle;\n",
              "    }\n",
              "\n",
              "    .dataframe tbody tr th {\n",
              "        vertical-align: top;\n",
              "    }\n",
              "\n",
              "    .dataframe thead th {\n",
              "        text-align: right;\n",
              "    }\n",
              "</style>\n",
              "<table border=\"1\" class=\"dataframe\">\n",
              "  <thead>\n",
              "    <tr style=\"text-align: right;\">\n",
              "      <th></th>\n",
              "      <th>region_Воронеж</th>\n",
              "      <th>region_Екатеринбург</th>\n",
              "      <th>region_Ижевск</th>\n",
              "      <th>region_Казань</th>\n",
              "      <th>region_Калининград</th>\n",
              "      <th>region_Краснодар</th>\n",
              "      <th>region_Красноярск</th>\n",
              "      <th>region_Москва</th>\n",
              "      <th>region_Нижний Новгород</th>\n",
              "      <th>region_Новосибирск</th>\n",
              "      <th>...</th>\n",
              "      <th>auto_brand_ИЖ</th>\n",
              "      <th>auto_brand_ЛуАЗ</th>\n",
              "      <th>auto_brand_Москвич</th>\n",
              "      <th>auto_brand_Ретро-автомобили</th>\n",
              "      <th>auto_brand_ТагАЗ</th>\n",
              "      <th>auto_brand_УАЗ</th>\n",
              "      <th>user_type_cars_name_cars_dealer</th>\n",
              "      <th>user_type_cars_name_cars_seller</th>\n",
              "      <th>user_type_cars_name_cars_simple</th>\n",
              "      <th>year</th>\n",
              "    </tr>\n",
              "  </thead>\n",
              "  <tbody>\n",
              "    <tr>\n",
              "      <th>0</th>\n",
              "      <td>0.0</td>\n",
              "      <td>0.0</td>\n",
              "      <td>0.0</td>\n",
              "      <td>0.0</td>\n",
              "      <td>0.0</td>\n",
              "      <td>0.0</td>\n",
              "      <td>0.0</td>\n",
              "      <td>0.0</td>\n",
              "      <td>0.0</td>\n",
              "      <td>0.0</td>\n",
              "      <td>...</td>\n",
              "      <td>0.0</td>\n",
              "      <td>0.0</td>\n",
              "      <td>0.0</td>\n",
              "      <td>0.0</td>\n",
              "      <td>0.0</td>\n",
              "      <td>0.0</td>\n",
              "      <td>0.0</td>\n",
              "      <td>0.0</td>\n",
              "      <td>1.0</td>\n",
              "      <td>0.909204</td>\n",
              "    </tr>\n",
              "    <tr>\n",
              "      <th>1</th>\n",
              "      <td>0.0</td>\n",
              "      <td>0.0</td>\n",
              "      <td>0.0</td>\n",
              "      <td>0.0</td>\n",
              "      <td>0.0</td>\n",
              "      <td>0.0</td>\n",
              "      <td>0.0</td>\n",
              "      <td>0.0</td>\n",
              "      <td>0.0</td>\n",
              "      <td>0.0</td>\n",
              "      <td>...</td>\n",
              "      <td>0.0</td>\n",
              "      <td>0.0</td>\n",
              "      <td>0.0</td>\n",
              "      <td>0.0</td>\n",
              "      <td>0.0</td>\n",
              "      <td>0.0</td>\n",
              "      <td>0.0</td>\n",
              "      <td>0.0</td>\n",
              "      <td>1.0</td>\n",
              "      <td>0.511826</td>\n",
              "    </tr>\n",
              "    <tr>\n",
              "      <th>2</th>\n",
              "      <td>0.0</td>\n",
              "      <td>0.0</td>\n",
              "      <td>0.0</td>\n",
              "      <td>0.0</td>\n",
              "      <td>0.0</td>\n",
              "      <td>0.0</td>\n",
              "      <td>0.0</td>\n",
              "      <td>1.0</td>\n",
              "      <td>0.0</td>\n",
              "      <td>0.0</td>\n",
              "      <td>...</td>\n",
              "      <td>0.0</td>\n",
              "      <td>0.0</td>\n",
              "      <td>0.0</td>\n",
              "      <td>0.0</td>\n",
              "      <td>0.0</td>\n",
              "      <td>0.0</td>\n",
              "      <td>0.0</td>\n",
              "      <td>1.0</td>\n",
              "      <td>0.0</td>\n",
              "      <td>0.809860</td>\n",
              "    </tr>\n",
              "    <tr>\n",
              "      <th>3</th>\n",
              "      <td>0.0</td>\n",
              "      <td>0.0</td>\n",
              "      <td>0.0</td>\n",
              "      <td>0.0</td>\n",
              "      <td>0.0</td>\n",
              "      <td>0.0</td>\n",
              "      <td>0.0</td>\n",
              "      <td>1.0</td>\n",
              "      <td>0.0</td>\n",
              "      <td>0.0</td>\n",
              "      <td>...</td>\n",
              "      <td>0.0</td>\n",
              "      <td>0.0</td>\n",
              "      <td>0.0</td>\n",
              "      <td>0.0</td>\n",
              "      <td>0.0</td>\n",
              "      <td>0.0</td>\n",
              "      <td>0.0</td>\n",
              "      <td>0.0</td>\n",
              "      <td>1.0</td>\n",
              "      <td>0.114449</td>\n",
              "    </tr>\n",
              "    <tr>\n",
              "      <th>4</th>\n",
              "      <td>0.0</td>\n",
              "      <td>0.0</td>\n",
              "      <td>0.0</td>\n",
              "      <td>0.0</td>\n",
              "      <td>0.0</td>\n",
              "      <td>0.0</td>\n",
              "      <td>0.0</td>\n",
              "      <td>0.0</td>\n",
              "      <td>0.0</td>\n",
              "      <td>0.0</td>\n",
              "      <td>...</td>\n",
              "      <td>0.0</td>\n",
              "      <td>0.0</td>\n",
              "      <td>0.0</td>\n",
              "      <td>0.0</td>\n",
              "      <td>0.0</td>\n",
              "      <td>0.0</td>\n",
              "      <td>0.0</td>\n",
              "      <td>0.0</td>\n",
              "      <td>1.0</td>\n",
              "      <td>-0.978340</td>\n",
              "    </tr>\n",
              "    <tr>\n",
              "      <th>...</th>\n",
              "      <td>...</td>\n",
              "      <td>...</td>\n",
              "      <td>...</td>\n",
              "      <td>...</td>\n",
              "      <td>...</td>\n",
              "      <td>...</td>\n",
              "      <td>...</td>\n",
              "      <td>...</td>\n",
              "      <td>...</td>\n",
              "      <td>...</td>\n",
              "      <td>...</td>\n",
              "      <td>...</td>\n",
              "      <td>...</td>\n",
              "      <td>...</td>\n",
              "      <td>...</td>\n",
              "      <td>...</td>\n",
              "      <td>...</td>\n",
              "      <td>...</td>\n",
              "      <td>...</td>\n",
              "      <td>...</td>\n",
              "      <td>...</td>\n",
              "    </tr>\n",
              "    <tr>\n",
              "      <th>33275</th>\n",
              "      <td>0.0</td>\n",
              "      <td>0.0</td>\n",
              "      <td>0.0</td>\n",
              "      <td>0.0</td>\n",
              "      <td>0.0</td>\n",
              "      <td>0.0</td>\n",
              "      <td>0.0</td>\n",
              "      <td>0.0</td>\n",
              "      <td>0.0</td>\n",
              "      <td>1.0</td>\n",
              "      <td>...</td>\n",
              "      <td>0.0</td>\n",
              "      <td>0.0</td>\n",
              "      <td>0.0</td>\n",
              "      <td>0.0</td>\n",
              "      <td>0.0</td>\n",
              "      <td>0.0</td>\n",
              "      <td>0.0</td>\n",
              "      <td>0.0</td>\n",
              "      <td>1.0</td>\n",
              "      <td>0.213793</td>\n",
              "    </tr>\n",
              "    <tr>\n",
              "      <th>33276</th>\n",
              "      <td>0.0</td>\n",
              "      <td>0.0</td>\n",
              "      <td>0.0</td>\n",
              "      <td>0.0</td>\n",
              "      <td>0.0</td>\n",
              "      <td>0.0</td>\n",
              "      <td>0.0</td>\n",
              "      <td>0.0</td>\n",
              "      <td>0.0</td>\n",
              "      <td>1.0</td>\n",
              "      <td>...</td>\n",
              "      <td>0.0</td>\n",
              "      <td>0.0</td>\n",
              "      <td>0.0</td>\n",
              "      <td>0.0</td>\n",
              "      <td>0.0</td>\n",
              "      <td>0.0</td>\n",
              "      <td>0.0</td>\n",
              "      <td>0.0</td>\n",
              "      <td>1.0</td>\n",
              "      <td>0.710515</td>\n",
              "    </tr>\n",
              "    <tr>\n",
              "      <th>33277</th>\n",
              "      <td>0.0</td>\n",
              "      <td>0.0</td>\n",
              "      <td>0.0</td>\n",
              "      <td>0.0</td>\n",
              "      <td>0.0</td>\n",
              "      <td>0.0</td>\n",
              "      <td>0.0</td>\n",
              "      <td>0.0</td>\n",
              "      <td>0.0</td>\n",
              "      <td>1.0</td>\n",
              "      <td>...</td>\n",
              "      <td>0.0</td>\n",
              "      <td>0.0</td>\n",
              "      <td>0.0</td>\n",
              "      <td>0.0</td>\n",
              "      <td>0.0</td>\n",
              "      <td>0.0</td>\n",
              "      <td>0.0</td>\n",
              "      <td>0.0</td>\n",
              "      <td>1.0</td>\n",
              "      <td>1.604615</td>\n",
              "    </tr>\n",
              "    <tr>\n",
              "      <th>33278</th>\n",
              "      <td>0.0</td>\n",
              "      <td>0.0</td>\n",
              "      <td>0.0</td>\n",
              "      <td>0.0</td>\n",
              "      <td>0.0</td>\n",
              "      <td>0.0</td>\n",
              "      <td>0.0</td>\n",
              "      <td>1.0</td>\n",
              "      <td>0.0</td>\n",
              "      <td>0.0</td>\n",
              "      <td>...</td>\n",
              "      <td>0.0</td>\n",
              "      <td>0.0</td>\n",
              "      <td>0.0</td>\n",
              "      <td>0.0</td>\n",
              "      <td>0.0</td>\n",
              "      <td>0.0</td>\n",
              "      <td>0.0</td>\n",
              "      <td>0.0</td>\n",
              "      <td>1.0</td>\n",
              "      <td>-0.282929</td>\n",
              "    </tr>\n",
              "    <tr>\n",
              "      <th>33279</th>\n",
              "      <td>0.0</td>\n",
              "      <td>0.0</td>\n",
              "      <td>0.0</td>\n",
              "      <td>0.0</td>\n",
              "      <td>0.0</td>\n",
              "      <td>0.0</td>\n",
              "      <td>0.0</td>\n",
              "      <td>0.0</td>\n",
              "      <td>0.0</td>\n",
              "      <td>0.0</td>\n",
              "      <td>...</td>\n",
              "      <td>0.0</td>\n",
              "      <td>0.0</td>\n",
              "      <td>0.0</td>\n",
              "      <td>0.0</td>\n",
              "      <td>0.0</td>\n",
              "      <td>0.0</td>\n",
              "      <td>0.0</td>\n",
              "      <td>0.0</td>\n",
              "      <td>1.0</td>\n",
              "      <td>0.611171</td>\n",
              "    </tr>\n",
              "  </tbody>\n",
              "</table>\n",
              "<p>33070 rows × 111 columns</p>\n",
              "</div>\n",
              "    <div class=\"colab-df-buttons\">\n",
              "\n",
              "  <div class=\"colab-df-container\">\n",
              "    <button class=\"colab-df-convert\" onclick=\"convertToInteractive('df-b6b750c5-f948-49a5-baea-05e16d9b3471')\"\n",
              "            title=\"Convert this dataframe to an interactive table.\"\n",
              "            style=\"display:none;\">\n",
              "\n",
              "  <svg xmlns=\"http://www.w3.org/2000/svg\" height=\"24px\" viewBox=\"0 -960 960 960\">\n",
              "    <path d=\"M120-120v-720h720v720H120Zm60-500h600v-160H180v160Zm220 220h160v-160H400v160Zm0 220h160v-160H400v160ZM180-400h160v-160H180v160Zm440 0h160v-160H620v160ZM180-180h160v-160H180v160Zm440 0h160v-160H620v160Z\"/>\n",
              "  </svg>\n",
              "    </button>\n",
              "\n",
              "  <style>\n",
              "    .colab-df-container {\n",
              "      display:flex;\n",
              "      gap: 12px;\n",
              "    }\n",
              "\n",
              "    .colab-df-convert {\n",
              "      background-color: #E8F0FE;\n",
              "      border: none;\n",
              "      border-radius: 50%;\n",
              "      cursor: pointer;\n",
              "      display: none;\n",
              "      fill: #1967D2;\n",
              "      height: 32px;\n",
              "      padding: 0 0 0 0;\n",
              "      width: 32px;\n",
              "    }\n",
              "\n",
              "    .colab-df-convert:hover {\n",
              "      background-color: #E2EBFA;\n",
              "      box-shadow: 0px 1px 2px rgba(60, 64, 67, 0.3), 0px 1px 3px 1px rgba(60, 64, 67, 0.15);\n",
              "      fill: #174EA6;\n",
              "    }\n",
              "\n",
              "    .colab-df-buttons div {\n",
              "      margin-bottom: 4px;\n",
              "    }\n",
              "\n",
              "    [theme=dark] .colab-df-convert {\n",
              "      background-color: #3B4455;\n",
              "      fill: #D2E3FC;\n",
              "    }\n",
              "\n",
              "    [theme=dark] .colab-df-convert:hover {\n",
              "      background-color: #434B5C;\n",
              "      box-shadow: 0px 1px 3px 1px rgba(0, 0, 0, 0.15);\n",
              "      filter: drop-shadow(0px 1px 2px rgba(0, 0, 0, 0.3));\n",
              "      fill: #FFFFFF;\n",
              "    }\n",
              "  </style>\n",
              "\n",
              "    <script>\n",
              "      const buttonEl =\n",
              "        document.querySelector('#df-b6b750c5-f948-49a5-baea-05e16d9b3471 button.colab-df-convert');\n",
              "      buttonEl.style.display =\n",
              "        google.colab.kernel.accessAllowed ? 'block' : 'none';\n",
              "\n",
              "      async function convertToInteractive(key) {\n",
              "        const element = document.querySelector('#df-b6b750c5-f948-49a5-baea-05e16d9b3471');\n",
              "        const dataTable =\n",
              "          await google.colab.kernel.invokeFunction('convertToInteractive',\n",
              "                                                    [key], {});\n",
              "        if (!dataTable) return;\n",
              "\n",
              "        const docLinkHtml = 'Like what you see? Visit the ' +\n",
              "          '<a target=\"_blank\" href=https://colab.research.google.com/notebooks/data_table.ipynb>data table notebook</a>'\n",
              "          + ' to learn more about interactive tables.';\n",
              "        element.innerHTML = '';\n",
              "        dataTable['output_type'] = 'display_data';\n",
              "        await google.colab.output.renderOutput(dataTable, element);\n",
              "        const docLink = document.createElement('div');\n",
              "        docLink.innerHTML = docLinkHtml;\n",
              "        element.appendChild(docLink);\n",
              "      }\n",
              "    </script>\n",
              "  </div>\n",
              "\n",
              "\n",
              "<div id=\"df-8d6003a7-d64d-413e-b67a-76b1c9dbd1c4\">\n",
              "  <button class=\"colab-df-quickchart\" onclick=\"quickchart('df-8d6003a7-d64d-413e-b67a-76b1c9dbd1c4')\"\n",
              "            title=\"Suggest charts\"\n",
              "            style=\"display:none;\">\n",
              "\n",
              "<svg xmlns=\"http://www.w3.org/2000/svg\" height=\"24px\"viewBox=\"0 0 24 24\"\n",
              "     width=\"24px\">\n",
              "    <g>\n",
              "        <path d=\"M19 3H5c-1.1 0-2 .9-2 2v14c0 1.1.9 2 2 2h14c1.1 0 2-.9 2-2V5c0-1.1-.9-2-2-2zM9 17H7v-7h2v7zm4 0h-2V7h2v10zm4 0h-2v-4h2v4z\"/>\n",
              "    </g>\n",
              "</svg>\n",
              "  </button>\n",
              "\n",
              "<style>\n",
              "  .colab-df-quickchart {\n",
              "      --bg-color: #E8F0FE;\n",
              "      --fill-color: #1967D2;\n",
              "      --hover-bg-color: #E2EBFA;\n",
              "      --hover-fill-color: #174EA6;\n",
              "      --disabled-fill-color: #AAA;\n",
              "      --disabled-bg-color: #DDD;\n",
              "  }\n",
              "\n",
              "  [theme=dark] .colab-df-quickchart {\n",
              "      --bg-color: #3B4455;\n",
              "      --fill-color: #D2E3FC;\n",
              "      --hover-bg-color: #434B5C;\n",
              "      --hover-fill-color: #FFFFFF;\n",
              "      --disabled-bg-color: #3B4455;\n",
              "      --disabled-fill-color: #666;\n",
              "  }\n",
              "\n",
              "  .colab-df-quickchart {\n",
              "    background-color: var(--bg-color);\n",
              "    border: none;\n",
              "    border-radius: 50%;\n",
              "    cursor: pointer;\n",
              "    display: none;\n",
              "    fill: var(--fill-color);\n",
              "    height: 32px;\n",
              "    padding: 0;\n",
              "    width: 32px;\n",
              "  }\n",
              "\n",
              "  .colab-df-quickchart:hover {\n",
              "    background-color: var(--hover-bg-color);\n",
              "    box-shadow: 0 1px 2px rgba(60, 64, 67, 0.3), 0 1px 3px 1px rgba(60, 64, 67, 0.15);\n",
              "    fill: var(--button-hover-fill-color);\n",
              "  }\n",
              "\n",
              "  .colab-df-quickchart-complete:disabled,\n",
              "  .colab-df-quickchart-complete:disabled:hover {\n",
              "    background-color: var(--disabled-bg-color);\n",
              "    fill: var(--disabled-fill-color);\n",
              "    box-shadow: none;\n",
              "  }\n",
              "\n",
              "  .colab-df-spinner {\n",
              "    border: 2px solid var(--fill-color);\n",
              "    border-color: transparent;\n",
              "    border-bottom-color: var(--fill-color);\n",
              "    animation:\n",
              "      spin 1s steps(1) infinite;\n",
              "  }\n",
              "\n",
              "  @keyframes spin {\n",
              "    0% {\n",
              "      border-color: transparent;\n",
              "      border-bottom-color: var(--fill-color);\n",
              "      border-left-color: var(--fill-color);\n",
              "    }\n",
              "    20% {\n",
              "      border-color: transparent;\n",
              "      border-left-color: var(--fill-color);\n",
              "      border-top-color: var(--fill-color);\n",
              "    }\n",
              "    30% {\n",
              "      border-color: transparent;\n",
              "      border-left-color: var(--fill-color);\n",
              "      border-top-color: var(--fill-color);\n",
              "      border-right-color: var(--fill-color);\n",
              "    }\n",
              "    40% {\n",
              "      border-color: transparent;\n",
              "      border-right-color: var(--fill-color);\n",
              "      border-top-color: var(--fill-color);\n",
              "    }\n",
              "    60% {\n",
              "      border-color: transparent;\n",
              "      border-right-color: var(--fill-color);\n",
              "    }\n",
              "    80% {\n",
              "      border-color: transparent;\n",
              "      border-right-color: var(--fill-color);\n",
              "      border-bottom-color: var(--fill-color);\n",
              "    }\n",
              "    90% {\n",
              "      border-color: transparent;\n",
              "      border-bottom-color: var(--fill-color);\n",
              "    }\n",
              "  }\n",
              "</style>\n",
              "\n",
              "  <script>\n",
              "    async function quickchart(key) {\n",
              "      const quickchartButtonEl =\n",
              "        document.querySelector('#' + key + ' button');\n",
              "      quickchartButtonEl.disabled = true;  // To prevent multiple clicks.\n",
              "      quickchartButtonEl.classList.add('colab-df-spinner');\n",
              "      try {\n",
              "        const charts = await google.colab.kernel.invokeFunction(\n",
              "            'suggestCharts', [key], {});\n",
              "      } catch (error) {\n",
              "        console.error('Error during call to suggestCharts:', error);\n",
              "      }\n",
              "      quickchartButtonEl.classList.remove('colab-df-spinner');\n",
              "      quickchartButtonEl.classList.add('colab-df-quickchart-complete');\n",
              "    }\n",
              "    (() => {\n",
              "      let quickchartButtonEl =\n",
              "        document.querySelector('#df-8d6003a7-d64d-413e-b67a-76b1c9dbd1c4 button');\n",
              "      quickchartButtonEl.style.display =\n",
              "        google.colab.kernel.accessAllowed ? 'block' : 'none';\n",
              "    })();\n",
              "  </script>\n",
              "</div>\n",
              "\n",
              "    </div>\n",
              "  </div>\n"
            ],
            "application/vnd.google.colaboratory.intrinsic+json": {
              "type": "dataframe"
            }
          },
          "metadata": {},
          "execution_count": 26
        }
      ]
    },
    {
      "cell_type": "code",
      "source": [
        "pipe_knn = Pipeline(\n",
        "    [\n",
        "        (\"col_transformer\", col_transformer),\n",
        "        (\"KNeighborsRegressor\", KNeighborsRegressor(n_jobs=1))\n",
        "    ]\n",
        ")"
      ],
      "metadata": {
        "id": "-IWN76XrDDvu"
      },
      "execution_count": null,
      "outputs": []
    },
    {
      "cell_type": "code",
      "source": [
        "X = data.drop('log_price', axis=1)\n",
        "y = data.log_price\n",
        "X_train, X_test, y_train, y_test = train_test_split(\n",
        "    X,\n",
        "    y,\n",
        "    test_size=0.2,\n",
        "    random_state=42\n",
        ")"
      ],
      "metadata": {
        "id": "Ruw-fm5zEa_g"
      },
      "execution_count": null,
      "outputs": []
    },
    {
      "cell_type": "markdown",
      "source": [
        "## Задача 3. Выбор метрик (1/2)\n",
        "\n",
        "\n",
        "Для измерения качества модели будем использовать следующие метрики:\n",
        "\n",
        "`r2_score` - метрика со значением от 0 до 1. Показывает долю дисперсии целевой переменной, которую объясняет наша модель. Чем она выше, тем лучше. Может быть отрицательной, если наша модель работает хуже наивного прогноза.\n",
        "`mean_absolute_error`\n",
        "\n",
        "Таким образом, чем ниже значение `MAE`, тем лучше.\n",
        "\n",
        "Запустите пайплайн на обучающей выборке и измерьте качество предсказания на валидационной выборке с помощью выбранных нами метрик.\n",
        "\n",
        "В поле ниже укажите значение метрики `R2`, округленное до сотых. Используйте точку в качестве разделителя целой и десятичной части.\n",
        "\n"
      ],
      "metadata": {
        "id": "8KursFHeZ2cw"
      }
    },
    {
      "cell_type": "code",
      "source": [
        "R2 = r2_score(y_test, pipe_knn.fit(X_train, y_train).predict(X_test))\n",
        "print(f\"R-squared score: {R2:.2f}\")"
      ],
      "metadata": {
        "colab": {
          "base_uri": "https://localhost:8080/"
        },
        "id": "siItGnFqH6se",
        "outputId": "bb02482f-1e04-4964-a9e4-a18dbec4b97c"
      },
      "execution_count": null,
      "outputs": [
        {
          "output_type": "stream",
          "name": "stdout",
          "text": [
            "R-squared score: 0.72\n"
          ]
        }
      ]
    },
    {
      "cell_type": "markdown",
      "source": [
        "## Задача 3. Выбор метрик (2/2)\n",
        "\n",
        "\n",
        "В поле ниже укажите значение метрики `MAE`, округленное до сотых. Используйте точку в качестве разделителя целой и десятичной части.\n",
        "\n"
      ],
      "metadata": {
        "id": "YOvZrX-Gb8wb"
      }
    },
    {
      "cell_type": "code",
      "source": [
        "MAE = mean_absolute_error(y_test, pipe_knn.fit(X_train, y_train).predict(X_test))\n",
        "print(f\"Mean absolute error: {MAE:.2f}\")"
      ],
      "metadata": {
        "colab": {
          "base_uri": "https://localhost:8080/"
        },
        "id": "c9nEKiEfMrv4",
        "outputId": "cca7b105-1a01-4cf1-8fb2-d73b6d43df19"
      },
      "execution_count": null,
      "outputs": [
        {
          "output_type": "stream",
          "name": "stdout",
          "text": [
            "Mean absolute error: 0.39\n"
          ]
        }
      ]
    },
    {
      "cell_type": "code",
      "source": [
        "np.corrcoef(y_test, pipe_knn.fit(X_train, y_train).predict(X_test))\n",
        "#"
      ],
      "metadata": {
        "colab": {
          "base_uri": "https://localhost:8080/"
        },
        "id": "8wAIlYkOb0sE",
        "outputId": "4a3ddcf5-0353-4dc0-8c1d-8ba55c026354"
      },
      "execution_count": null,
      "outputs": [
        {
          "output_type": "execute_result",
          "data": {
            "text/plain": [
              "array([[1.        , 0.84798811],\n",
              "       [0.84798811, 1.        ]])"
            ]
          },
          "metadata": {},
          "execution_count": 31
        }
      ]
    },
    {
      "cell_type": "markdown",
      "source": [
        "## Задача 4. Подбор гиперпараметров для kNN (1/2)\n",
        "\n",
        "\n",
        "Воспользуемся метрикой и подберем гиперпараметры для модели с помощью знакомого нам GridSearchCV.\n",
        "\n",
        "Будем подбирать количество соседей, тип весов и параметр p – степень в метрике расстояния Минковского.\n",
        "\n",
        "* для количества соседей используйте варианты из `np.linspace(1, 30, 5, dtype=int)`.\n",
        "* для типов весов - варианты `'uniform'` и `'distance'`.\n",
        "* для `p: 1, 2`.\n",
        "* в качестве данных для `GridSearchCV` используйте обучающую выборку.\n",
        "* в качестве метрики будем использовать `R2`."
      ],
      "metadata": {
        "id": "XdmdOE7Je4fu"
      }
    },
    {
      "cell_type": "code",
      "source": [
        "### Сделаем сетку с параметрами\n",
        "knn_grid = {\n",
        "    'KNeighborsRegressor__n_neighbors': np.linspace(1, 30, 5, dtype=int),\n",
        "    'KNeighborsRegressor__weights': ['uniform', 'distance'],\n",
        "    'KNeighborsRegressor__p': [1, 2]\n",
        "}"
      ],
      "metadata": {
        "id": "f4YVsC0RcKkL"
      },
      "execution_count": null,
      "outputs": []
    },
    {
      "cell_type": "code",
      "source": [
        "### KNN\n",
        "print(\"Поиск лучших параметров KNN:\")\n",
        "search_knn = GridSearchCV(pipe_knn, knn_grid,\n",
        "                         cv=None, scoring='r2', return_train_score=True)\n",
        "\n",
        "search_knn.fit(X_train, y_train)\n",
        "\n",
        "print(f\"Best parameter (CV score={search_knn.best_score_:.5f}):\")\n",
        "print(search_knn.best_params_)"
      ],
      "metadata": {
        "colab": {
          "base_uri": "https://localhost:8080/"
        },
        "id": "0RU7nDMyEiEB",
        "outputId": "4f5d310c-37f0-421f-f7d0-68dafc6ed757"
      },
      "execution_count": null,
      "outputs": [
        {
          "output_type": "stream",
          "name": "stdout",
          "text": [
            "Поиск лучших параметров KNN:\n",
            "Best parameter (CV score=0.79443):\n",
            "{'KNeighborsRegressor__n_neighbors': 30, 'KNeighborsRegressor__p': 2, 'KNeighborsRegressor__weights': 'distance'}\n"
          ]
        }
      ]
    },
    {
      "cell_type": "markdown",
      "source": [
        "Best parameter (CV score=0.79443):\n",
        "{'KNeighborsRegressor__n_neighbors': 30, 'KNeighborsRegressor__p': 2, 'KNeighborsRegressor__weights': 'distance'}"
      ],
      "metadata": {
        "id": "V6dUhxdDaJ3E"
      }
    },
    {
      "cell_type": "markdown",
      "source": [
        "## Задача 4. Подбор гиперпараметров для kNN (2/2)\n",
        "\n",
        "\n",
        "Обучите модель с найденными гиперпараметрами на обучающей выборке. Проверьте качество на тестовой выборке. Сравните с тем, что у нас получалось без указания гиперпараметров в степе 10.\n",
        "\n",
        "На сколько процентов улучшилась метрика R-square?\n",
        "\n",
        "Введите значение, округленное до целого числа, без знака % в поле ниже."
      ],
      "metadata": {
        "id": "BrlAFHHqbder"
      }
    },
    {
      "cell_type": "code",
      "source": [
        "pipe_knn.set_params(**search_knn.best_params_)"
      ],
      "metadata": {
        "colab": {
          "base_uri": "https://localhost:8080/",
          "height": 193
        },
        "id": "wn-iNMtHFRpP",
        "outputId": "53b72af5-b0e0-4255-c85e-c376e4a90e2e"
      },
      "execution_count": null,
      "outputs": [
        {
          "output_type": "execute_result",
          "data": {
            "text/plain": [
              "Pipeline(steps=[('col_transformer',\n",
              "                 ColumnTransformer(transformers=[('OneHotEncoder',\n",
              "                                                  OneHotEncoder(drop='first',\n",
              "                                                                handle_unknown='ignore',\n",
              "                                                                sparse_output=False),\n",
              "                                                  <sklearn.compose._column_transformer.make_column_selector object at 0x7f917ade3b80>),\n",
              "                                                 ('StandardScaler',\n",
              "                                                  StandardScaler(),\n",
              "                                                  <sklearn.compose._column_transformer.make_column_selector object at 0x7f9176605420>)],\n",
              "                                   verbose_feature_names_out=False)),\n",
              "                ('KNeighborsRegressor',\n",
              "                 KNeighborsRegressor(n_jobs=1, n_neighbors=30,\n",
              "                                     weights='distance'))])"
            ],
            "text/html": [
              "<style>#sk-container-id-1 {color: black;}#sk-container-id-1 pre{padding: 0;}#sk-container-id-1 div.sk-toggleable {background-color: white;}#sk-container-id-1 label.sk-toggleable__label {cursor: pointer;display: block;width: 100%;margin-bottom: 0;padding: 0.3em;box-sizing: border-box;text-align: center;}#sk-container-id-1 label.sk-toggleable__label-arrow:before {content: \"▸\";float: left;margin-right: 0.25em;color: #696969;}#sk-container-id-1 label.sk-toggleable__label-arrow:hover:before {color: black;}#sk-container-id-1 div.sk-estimator:hover label.sk-toggleable__label-arrow:before {color: black;}#sk-container-id-1 div.sk-toggleable__content {max-height: 0;max-width: 0;overflow: hidden;text-align: left;background-color: #f0f8ff;}#sk-container-id-1 div.sk-toggleable__content pre {margin: 0.2em;color: black;border-radius: 0.25em;background-color: #f0f8ff;}#sk-container-id-1 input.sk-toggleable__control:checked~div.sk-toggleable__content {max-height: 200px;max-width: 100%;overflow: auto;}#sk-container-id-1 input.sk-toggleable__control:checked~label.sk-toggleable__label-arrow:before {content: \"▾\";}#sk-container-id-1 div.sk-estimator input.sk-toggleable__control:checked~label.sk-toggleable__label {background-color: #d4ebff;}#sk-container-id-1 div.sk-label input.sk-toggleable__control:checked~label.sk-toggleable__label {background-color: #d4ebff;}#sk-container-id-1 input.sk-hidden--visually {border: 0;clip: rect(1px 1px 1px 1px);clip: rect(1px, 1px, 1px, 1px);height: 1px;margin: -1px;overflow: hidden;padding: 0;position: absolute;width: 1px;}#sk-container-id-1 div.sk-estimator {font-family: monospace;background-color: #f0f8ff;border: 1px dotted black;border-radius: 0.25em;box-sizing: border-box;margin-bottom: 0.5em;}#sk-container-id-1 div.sk-estimator:hover {background-color: #d4ebff;}#sk-container-id-1 div.sk-parallel-item::after {content: \"\";width: 100%;border-bottom: 1px solid gray;flex-grow: 1;}#sk-container-id-1 div.sk-label:hover label.sk-toggleable__label {background-color: #d4ebff;}#sk-container-id-1 div.sk-serial::before {content: \"\";position: absolute;border-left: 1px solid gray;box-sizing: border-box;top: 0;bottom: 0;left: 50%;z-index: 0;}#sk-container-id-1 div.sk-serial {display: flex;flex-direction: column;align-items: center;background-color: white;padding-right: 0.2em;padding-left: 0.2em;position: relative;}#sk-container-id-1 div.sk-item {position: relative;z-index: 1;}#sk-container-id-1 div.sk-parallel {display: flex;align-items: stretch;justify-content: center;background-color: white;position: relative;}#sk-container-id-1 div.sk-item::before, #sk-container-id-1 div.sk-parallel-item::before {content: \"\";position: absolute;border-left: 1px solid gray;box-sizing: border-box;top: 0;bottom: 0;left: 50%;z-index: -1;}#sk-container-id-1 div.sk-parallel-item {display: flex;flex-direction: column;z-index: 1;position: relative;background-color: white;}#sk-container-id-1 div.sk-parallel-item:first-child::after {align-self: flex-end;width: 50%;}#sk-container-id-1 div.sk-parallel-item:last-child::after {align-self: flex-start;width: 50%;}#sk-container-id-1 div.sk-parallel-item:only-child::after {width: 0;}#sk-container-id-1 div.sk-dashed-wrapped {border: 1px dashed gray;margin: 0 0.4em 0.5em 0.4em;box-sizing: border-box;padding-bottom: 0.4em;background-color: white;}#sk-container-id-1 div.sk-label label {font-family: monospace;font-weight: bold;display: inline-block;line-height: 1.2em;}#sk-container-id-1 div.sk-label-container {text-align: center;}#sk-container-id-1 div.sk-container {/* jupyter's `normalize.less` sets `[hidden] { display: none; }` but bootstrap.min.css set `[hidden] { display: none !important; }` so we also need the `!important` here to be able to override the default hidden behavior on the sphinx rendered scikit-learn.org. See: https://github.com/scikit-learn/scikit-learn/issues/21755 */display: inline-block !important;position: relative;}#sk-container-id-1 div.sk-text-repr-fallback {display: none;}</style><div id=\"sk-container-id-1\" class=\"sk-top-container\"><div class=\"sk-text-repr-fallback\"><pre>Pipeline(steps=[(&#x27;col_transformer&#x27;,\n",
              "                 ColumnTransformer(transformers=[(&#x27;OneHotEncoder&#x27;,\n",
              "                                                  OneHotEncoder(drop=&#x27;first&#x27;,\n",
              "                                                                handle_unknown=&#x27;ignore&#x27;,\n",
              "                                                                sparse_output=False),\n",
              "                                                  &lt;sklearn.compose._column_transformer.make_column_selector object at 0x7f917ade3b80&gt;),\n",
              "                                                 (&#x27;StandardScaler&#x27;,\n",
              "                                                  StandardScaler(),\n",
              "                                                  &lt;sklearn.compose._column_transformer.make_column_selector object at 0x7f9176605420&gt;)],\n",
              "                                   verbose_feature_names_out=False)),\n",
              "                (&#x27;KNeighborsRegressor&#x27;,\n",
              "                 KNeighborsRegressor(n_jobs=1, n_neighbors=30,\n",
              "                                     weights=&#x27;distance&#x27;))])</pre><b>In a Jupyter environment, please rerun this cell to show the HTML representation or trust the notebook. <br />On GitHub, the HTML representation is unable to render, please try loading this page with nbviewer.org.</b></div><div class=\"sk-container\" hidden><div class=\"sk-item sk-dashed-wrapped\"><div class=\"sk-label-container\"><div class=\"sk-label sk-toggleable\"><input class=\"sk-toggleable__control sk-hidden--visually\" id=\"sk-estimator-id-1\" type=\"checkbox\" ><label for=\"sk-estimator-id-1\" class=\"sk-toggleable__label sk-toggleable__label-arrow\">Pipeline</label><div class=\"sk-toggleable__content\"><pre>Pipeline(steps=[(&#x27;col_transformer&#x27;,\n",
              "                 ColumnTransformer(transformers=[(&#x27;OneHotEncoder&#x27;,\n",
              "                                                  OneHotEncoder(drop=&#x27;first&#x27;,\n",
              "                                                                handle_unknown=&#x27;ignore&#x27;,\n",
              "                                                                sparse_output=False),\n",
              "                                                  &lt;sklearn.compose._column_transformer.make_column_selector object at 0x7f917ade3b80&gt;),\n",
              "                                                 (&#x27;StandardScaler&#x27;,\n",
              "                                                  StandardScaler(),\n",
              "                                                  &lt;sklearn.compose._column_transformer.make_column_selector object at 0x7f9176605420&gt;)],\n",
              "                                   verbose_feature_names_out=False)),\n",
              "                (&#x27;KNeighborsRegressor&#x27;,\n",
              "                 KNeighborsRegressor(n_jobs=1, n_neighbors=30,\n",
              "                                     weights=&#x27;distance&#x27;))])</pre></div></div></div><div class=\"sk-serial\"><div class=\"sk-item sk-dashed-wrapped\"><div class=\"sk-label-container\"><div class=\"sk-label sk-toggleable\"><input class=\"sk-toggleable__control sk-hidden--visually\" id=\"sk-estimator-id-2\" type=\"checkbox\" ><label for=\"sk-estimator-id-2\" class=\"sk-toggleable__label sk-toggleable__label-arrow\">col_transformer: ColumnTransformer</label><div class=\"sk-toggleable__content\"><pre>ColumnTransformer(transformers=[(&#x27;OneHotEncoder&#x27;,\n",
              "                                 OneHotEncoder(drop=&#x27;first&#x27;,\n",
              "                                               handle_unknown=&#x27;ignore&#x27;,\n",
              "                                               sparse_output=False),\n",
              "                                 &lt;sklearn.compose._column_transformer.make_column_selector object at 0x7f917ade3b80&gt;),\n",
              "                                (&#x27;StandardScaler&#x27;, StandardScaler(),\n",
              "                                 &lt;sklearn.compose._column_transformer.make_column_selector object at 0x7f9176605420&gt;)],\n",
              "                  verbose_feature_names_out=False)</pre></div></div></div><div class=\"sk-parallel\"><div class=\"sk-parallel-item\"><div class=\"sk-item\"><div class=\"sk-label-container\"><div class=\"sk-label sk-toggleable\"><input class=\"sk-toggleable__control sk-hidden--visually\" id=\"sk-estimator-id-3\" type=\"checkbox\" ><label for=\"sk-estimator-id-3\" class=\"sk-toggleable__label sk-toggleable__label-arrow\">OneHotEncoder</label><div class=\"sk-toggleable__content\"><pre>&lt;sklearn.compose._column_transformer.make_column_selector object at 0x7f917ade3b80&gt;</pre></div></div></div><div class=\"sk-serial\"><div class=\"sk-item\"><div class=\"sk-estimator sk-toggleable\"><input class=\"sk-toggleable__control sk-hidden--visually\" id=\"sk-estimator-id-4\" type=\"checkbox\" ><label for=\"sk-estimator-id-4\" class=\"sk-toggleable__label sk-toggleable__label-arrow\">OneHotEncoder</label><div class=\"sk-toggleable__content\"><pre>OneHotEncoder(drop=&#x27;first&#x27;, handle_unknown=&#x27;ignore&#x27;, sparse_output=False)</pre></div></div></div></div></div></div><div class=\"sk-parallel-item\"><div class=\"sk-item\"><div class=\"sk-label-container\"><div class=\"sk-label sk-toggleable\"><input class=\"sk-toggleable__control sk-hidden--visually\" id=\"sk-estimator-id-5\" type=\"checkbox\" ><label for=\"sk-estimator-id-5\" class=\"sk-toggleable__label sk-toggleable__label-arrow\">StandardScaler</label><div class=\"sk-toggleable__content\"><pre>&lt;sklearn.compose._column_transformer.make_column_selector object at 0x7f9176605420&gt;</pre></div></div></div><div class=\"sk-serial\"><div class=\"sk-item\"><div class=\"sk-estimator sk-toggleable\"><input class=\"sk-toggleable__control sk-hidden--visually\" id=\"sk-estimator-id-6\" type=\"checkbox\" ><label for=\"sk-estimator-id-6\" class=\"sk-toggleable__label sk-toggleable__label-arrow\">StandardScaler</label><div class=\"sk-toggleable__content\"><pre>StandardScaler()</pre></div></div></div></div></div></div></div></div><div class=\"sk-item\"><div class=\"sk-estimator sk-toggleable\"><input class=\"sk-toggleable__control sk-hidden--visually\" id=\"sk-estimator-id-7\" type=\"checkbox\" ><label for=\"sk-estimator-id-7\" class=\"sk-toggleable__label sk-toggleable__label-arrow\">KNeighborsRegressor</label><div class=\"sk-toggleable__content\"><pre>KNeighborsRegressor(n_jobs=1, n_neighbors=30, weights=&#x27;distance&#x27;)</pre></div></div></div></div></div></div></div>"
            ]
          },
          "metadata": {},
          "execution_count": 38
        }
      ]
    },
    {
      "cell_type": "code",
      "source": [
        "y_ = pipe_knn.fit(X_train, y_train).predict(X_test)"
      ],
      "metadata": {
        "id": "UdrsXn7sco6f"
      },
      "execution_count": null,
      "outputs": []
    },
    {
      "cell_type": "code",
      "source": [
        "r2_new = r2_score(y_test, y_)"
      ],
      "metadata": {
        "id": "6C2zluLhc5kN"
      },
      "execution_count": null,
      "outputs": []
    },
    {
      "cell_type": "code",
      "source": [
        "print(f'R-squared score: {r2_new:.2f}')"
      ],
      "metadata": {
        "id": "jx-9sIDydM0V",
        "outputId": "2b31d740-e787-4f52-9c62-035d2b2c5d38",
        "colab": {
          "base_uri": "https://localhost:8080/"
        }
      },
      "execution_count": null,
      "outputs": [
        {
          "output_type": "stream",
          "name": "stdout",
          "text": [
            "R-squared score: 0.81\n"
          ]
        }
      ]
    },
    {
      "cell_type": "code",
      "source": [
        "print(f\"R-square улучшилась на {(r2_new - R2)/R2:.2%}\")"
      ],
      "metadata": {
        "id": "6iVgHAGGdOLQ",
        "outputId": "b6894b69-0ba4-4d3c-99fc-ba3f9707c980",
        "colab": {
          "base_uri": "https://localhost:8080/"
        }
      },
      "execution_count": null,
      "outputs": [
        {
          "output_type": "stream",
          "name": "stdout",
          "text": [
            "R-square улучшилась на 13.15%\n"
          ]
        }
      ]
    },
    {
      "cell_type": "code",
      "source": [],
      "metadata": {
        "id": "wNlPjV6CdkMR"
      },
      "execution_count": null,
      "outputs": []
    }
  ]
}